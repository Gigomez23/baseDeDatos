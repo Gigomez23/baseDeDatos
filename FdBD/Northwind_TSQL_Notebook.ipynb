{
    "metadata": {
        "kernelspec": {
            "name": "SQL",
            "display_name": "SQL",
            "language": "sql"
        },
        "language_info": {
            "name": "sql",
            "version": ""
        }
    },
    "nbformat_minor": 2,
    "nbformat": 4,
    "cells": [
        {
            "cell_type": "markdown",
            "source": [
                "# Notebook: Consultas T-SQL con Northwind\n",
                "\n",
                "Este notebook está diseñado para practicar **consultas T-SQL** utilizando la base de datos Northwind.\n",
                "Aprenderás SELECT, FROM, WHERE, operadores, BETWEEN, IN, LIKE, ORDER BY, GROUP BY, HAVING, funciones de agregado, y JOINs."
            ],
            "metadata": {
                "azdata_cell_guid": "ffac6171-f189-4e60-9bab-9491c3437a55"
            }
        },
        {
            "cell_type": "markdown",
            "source": [
                "## Ejercicio 1: SELECT básico\n",
                "Mostrar el nombre de todos los productos.\n",
                "-ProductName es el nombre del campo de la tabla Products que contiene el nombre del producto\n",
                "-La clausula FROM indica el nombre de la tabla de origen de los datos de la consulta"
            ],
            "metadata": {
                "azdata_cell_guid": "cf8e1636-efcd-4680-af74-0ed222cdf0f6"
            }
        },
        {
            "cell_type": "code",
            "source": [
                "SELECT ProductName\n",
                "FROM Products;"
            ],
            "metadata": {
                "jupyter": {
                    "is_executing": true
                },
                "azdata_cell_guid": "a24d9506-18be-4f1d-9a39-8ec5816a7378",
                "language": "sql"
            },
            "outputs": [],
            "execution_count": null
        },
        {
            "cell_type": "markdown",
            "source": [
                "## Ejercicio 2: SELECT con múltiples columnas\n",
                "Mostrar nombre y precio unitario de los productos."
            ],
            "metadata": {
                "azdata_cell_guid": "ff37b206-746a-4e0e-8cc0-22188e7ebb6c"
            }
        },
        {
            "cell_type": "code",
            "source": [
                "SELECT ProductName, UnitPrice\n",
                "FROM Products;"
            ],
            "metadata": {
                "azdata_cell_guid": "9acd0779-8651-42d8-8ef8-ab601f2e2972",
                "language": "sql"
            },
            "outputs": [],
            "execution_count": null
        },
        {
            "cell_type": "markdown",
            "source": [
                "## Ejercicio 3: WHERE y operadores relacionales\n",
                "Productos con precio mayor a 50."
            ],
            "metadata": {
                "azdata_cell_guid": "9782e390-89dd-4222-a799-b8987696d8be"
            }
        },
        {
            "cell_type": "code",
            "source": [
                "SELECT ProductName, UnitPrice\n",
                "FROM Products\n",
                "WHERE UnitPrice > 50;"
            ],
            "metadata": {
                "azdata_cell_guid": "7312896b-df27-4fc7-878e-dbf4d8160efc",
                "language": "sql"
            },
            "outputs": [],
            "execution_count": null
        },
        {
            "cell_type": "markdown",
            "source": [
                "## Ejercicio 4: Operadores lógicos\n",
                "Productos con precio > 50 y stock > 20."
            ],
            "metadata": {
                "azdata_cell_guid": "48a55c13-bc31-4d32-9f13-69103db31827"
            }
        },
        {
            "cell_type": "code",
            "source": [
                "SELECT ProductName, UnitPrice, UnitsInStock\n",
                "FROM Products\n",
                "WHERE UnitPrice > 50 AND UnitsInStock > 20;"
            ],
            "metadata": {
                "azdata_cell_guid": "63d3f50b-604b-4e5d-a184-3be8a326d749",
                "language": "sql"
            },
            "outputs": [],
            "execution_count": null
        },
        {
            "cell_type": "markdown",
            "source": [
                "## Ejercicio 5: Operadores aritméticos\n",
                "Precio, descuento 10% y precio final."
            ],
            "metadata": {
                "azdata_cell_guid": "7c73f93e-e9e5-4ff8-897f-371095432f25"
            }
        },
        {
            "cell_type": "code",
            "source": [
                "SELECT ProductName, UnitPrice,\n",
                "       UnitPrice * 0.10 AS Descuento,\n",
                "       UnitPrice - (UnitPrice * 0.10) AS PrecioConDescuento\n",
                "FROM Products;"
            ],
            "metadata": {
                "azdata_cell_guid": "3ef59d9e-a614-4986-bb4a-1dfeb3f9cd72",
                "language": "sql"
            },
            "outputs": [],
            "execution_count": null
        },
        {
            "cell_type": "markdown",
            "source": [
                "## Ejercicio 6: BETWEEN\n",
                "Productos con precio entre 20 y 30."
            ],
            "metadata": {
                "azdata_cell_guid": "4e72c81f-62cd-4558-98e0-60365d8fba98"
            }
        },
        {
            "cell_type": "code",
            "source": [
                "SELECT ProductName, UnitPrice\n",
                "FROM Products\n",
                "WHERE UnitPrice BETWEEN 20 AND 30;"
            ],
            "metadata": {
                "azdata_cell_guid": "0237b3bc-5c7c-43e9-beac-cf02db7fe42a",
                "language": "sql"
            },
            "outputs": [],
            "execution_count": null
        },
        {
            "cell_type": "markdown",
            "source": [
                "## Ejercicio 7: IN\n",
                "Productos de categorías 1, 3 y 5."
            ],
            "metadata": {
                "azdata_cell_guid": "473dcda3-d7dd-4142-bf64-568a660e6fdc"
            }
        },
        {
            "cell_type": "code",
            "source": [
                "SELECT ProductName, CategoryID\n",
                "FROM Products\n",
                "WHERE CategoryID IN (1, 3, 5);"
            ],
            "metadata": {
                "azdata_cell_guid": "9f33ad95-3509-488c-a87b-5a37d499b9d4",
                "language": "sql"
            },
            "outputs": [],
            "execution_count": null
        },
        {
            "cell_type": "markdown",
            "source": [
                "## Ejercicio 8: LIKE\n",
                "Clientes cuyo nombre de compañía empiece con 'A'."
            ],
            "metadata": {
                "azdata_cell_guid": "67b04ecc-75cf-4919-af1e-c7599aeb2f8d"
            }
        },
        {
            "cell_type": "code",
            "source": [
                "SELECT CompanyName, ContactName\n",
                "FROM Customers\n",
                "WHERE CompanyName LIKE 'A%';"
            ],
            "metadata": {
                "azdata_cell_guid": "0a510ea4-593c-436e-b09e-83b6de400d4d",
                "language": "sql"
            },
            "outputs": [],
            "execution_count": null
        },
        {
            "cell_type": "markdown",
            "source": [
                "## Ejercicio 9: ORDER BY\n",
                "Empleados ordenados por apellido ascendente."
            ],
            "metadata": {
                "azdata_cell_guid": "c11e69dd-0a58-4d7b-8292-ee7e2b01fc8c"
            }
        },
        {
            "cell_type": "code",
            "source": [
                "SELECT LastName, FirstName, Title\n",
                "FROM Employees\n",
                "ORDER BY LastName ASC;"
            ],
            "metadata": {
                "azdata_cell_guid": "6aa2c326-01dc-47ed-aecb-420985cfaa90",
                "language": "sql"
            },
            "outputs": [],
            "execution_count": null
        },
        {
            "cell_type": "markdown",
            "source": [
                "## Ejercicio 10: GROUP BY\n",
                "Cantidad de productos por categoría."
            ],
            "metadata": {
                "azdata_cell_guid": "d20c34a9-5e0a-4c4f-89d3-889aabb4add2"
            }
        },
        {
            "cell_type": "code",
            "source": [
                "SELECT CategoryID, COUNT(*) AS TotalProductos\n",
                "FROM Products\n",
                "GROUP BY CategoryID;"
            ],
            "metadata": {
                "azdata_cell_guid": "5750ae20-021a-42c7-9bfc-02871bf0a14e",
                "language": "sql"
            },
            "outputs": [],
            "execution_count": null
        },
        {
            "cell_type": "markdown",
            "source": [
                "## Ejercicio 11: HAVING\n",
                "Categorías con más de 10 productos."
            ],
            "metadata": {
                "azdata_cell_guid": "165adad6-067e-4cd9-a19c-c49ab45fd3d4"
            }
        },
        {
            "cell_type": "code",
            "source": [
                "SELECT CategoryID, COUNT(*) AS TotalProductos\n",
                "FROM Products\n",
                "GROUP BY CategoryID\n",
                "HAVING COUNT(*) > 10;"
            ],
            "metadata": {
                "jupyter": {
                    "is_executing": true
                },
                "azdata_cell_guid": "5db42454-80a7-4c72-b2c8-e5d28c85fa2f",
                "language": "sql"
            },
            "outputs": [],
            "execution_count": null
        },
        {
            "cell_type": "markdown",
            "source": [
                "## Ejercicio 12: JOINs\n",
                "Pedidos con nombre del cliente y empleado."
            ],
            "metadata": {
                "azdata_cell_guid": "0fa95d15-40ce-4503-ac7d-85a6f13e8781"
            }
        },
        {
            "cell_type": "code",
            "source": [
                "-- INNER JOIN\n",
                "SELECT Orders.OrderID, Customers.CompanyName, Employees.LastName\n",
                "FROM Orders\n",
                "INNER JOIN Customers ON Orders.CustomerID = Customers.CustomerID\n",
                "INNER JOIN Employees ON Orders.EmployeeID = Employees.EmployeeID;\n",
                "\n",
                "-- LEFT JOIN\n",
                "SELECT Customers.CompanyName, Orders.OrderID\n",
                "FROM Customers\n",
                "LEFT JOIN Orders ON Customers.CustomerID = Orders.CustomerID;\n",
                "\n",
                "-- RIGHT JOIN\n",
                "SELECT Customers.CompanyName, Orders.OrderID\n",
                "FROM Customers\n",
                "RIGHT JOIN Orders ON Customers.CustomerID = Orders.CustomerID;"
            ],
            "metadata": {
                "azdata_cell_guid": "562cf5f6-4ca1-4f51-9263-17426709968d",
                "language": "sql"
            },
            "outputs": [],
            "execution_count": null
        },
        {
            "cell_type": "markdown",
            "source": [
                "## Ejercicios para resolver\n",
                "A continuación, redacta las consultas desde cero en nuevas celdas de código:\n",
                "1. Listar productos con stock < 10, ordenados por precio descendente.\n",
                "2. Mostrar clientes de México, España o Argentina.\n",
                "3. Listar pedidos de 1997, mostrando ID y fecha.\n",
                "4. Obtener cantidad total de pedidos por cliente, solo los que tienen > 20 pedidos.\n",
                "5. Nombre de productos junto al nombre de su categoría (INNER JOIN).\n",
                "6. Todos los empleados y el número de pedidos que tienen (LEFT JOIN)."
            ],
            "metadata": {
                "azdata_cell_guid": "398c1d5f-963a-4002-827c-ad1e4df6b0b0"
            }
        },
        {
            "cell_type": "markdown",
            "source": [
                "1. Listar Productos con stock < 10, ordenados por precio descendente."
            ],
            "metadata": {
                "azdata_cell_guid": "a7484c56-f67c-489f-bfe5-8a1e911abc43"
            }
        },
        {
            "cell_type": "code",
            "source": [
                "SELECT *\n",
                "FROM Products\n",
                "WHERE UnitsInStock < 10\n",
                "ORDER BY UnitsInStock DESC;"
            ],
            "metadata": {
                "SqlCellData": {
                    "data_source_name": "Northwind@localhost",
                    "variableName$1": "df_sql1"
                },
                "ExecuteTime": {
                    "end_time": "2025-09-17T23:18:17.100990913Z",
                    "start_time": "2025-09-17T23:18:14.465121536Z"
                },
                "azdata_cell_guid": "31d7f950-a73d-450b-b068-f000ba061380",
                "language": "sql"
            },
            "outputs": [
                {
                    "output_type": "display_data",
                    "data": {
                        "text/html": "(12 rows affected)"
                    },
                    "metadata": {}
                },
                {
                    "output_type": "display_data",
                    "data": {
                        "text/html": "Total execution time: 00:00:00.037"
                    },
                    "metadata": {}
                },
                {
                    "output_type": "execute_result",
                    "metadata": {},
                    "execution_count": 5,
                    "data": {
                        "application/vnd.dataresource+json": {
                            "schema": {
                                "fields": [
                                    {
                                        "name": "ProductID"
                                    },
                                    {
                                        "name": "ProductName"
                                    },
                                    {
                                        "name": "SupplierID"
                                    },
                                    {
                                        "name": "CategoryID"
                                    },
                                    {
                                        "name": "QuantityPerUnit"
                                    },
                                    {
                                        "name": "UnitPrice"
                                    },
                                    {
                                        "name": "UnitsInStock"
                                    },
                                    {
                                        "name": "UnitsOnOrder"
                                    },
                                    {
                                        "name": "ReorderLevel"
                                    },
                                    {
                                        "name": "Discontinued"
                                    }
                                ]
                            },
                            "data": [
                                {
                                    "ProductID": "32",
                                    "ProductName": "Mascarpone Fabioli",
                                    "SupplierID": "14",
                                    "CategoryID": "4",
                                    "QuantityPerUnit": "24 - 200 g pkgs.",
                                    "UnitPrice": "32.00",
                                    "UnitsInStock": "9",
                                    "UnitsOnOrder": "40",
                                    "ReorderLevel": "25",
                                    "Discontinued": "0"
                                },
                                {
                                    "ProductID": "8",
                                    "ProductName": "Northwoods Cranberry Sauce",
                                    "SupplierID": "3",
                                    "CategoryID": "2",
                                    "QuantityPerUnit": "12 - 12 oz jars",
                                    "UnitPrice": "40.00",
                                    "UnitsInStock": "6",
                                    "UnitsOnOrder": "0",
                                    "ReorderLevel": "0",
                                    "Discontinued": "0"
                                },
                                {
                                    "ProductID": "68",
                                    "ProductName": "Scottish Longbreads",
                                    "SupplierID": "8",
                                    "CategoryID": "3",
                                    "QuantityPerUnit": "10 boxes x 8 pieces",
                                    "UnitPrice": "12.50",
                                    "UnitsInStock": "6",
                                    "UnitsOnOrder": "10",
                                    "ReorderLevel": "15",
                                    "Discontinued": "0"
                                },
                                {
                                    "ProductID": "45",
                                    "ProductName": "Rogede sild",
                                    "SupplierID": "21",
                                    "CategoryID": "8",
                                    "QuantityPerUnit": "1k pkg.",
                                    "UnitPrice": "9.50",
                                    "UnitsInStock": "5",
                                    "UnitsOnOrder": "70",
                                    "ReorderLevel": "15",
                                    "Discontinued": "0"
                                },
                                {
                                    "ProductID": "66",
                                    "ProductName": "Louisiana Hot Spiced Okra",
                                    "SupplierID": "2",
                                    "CategoryID": "2",
                                    "QuantityPerUnit": "24 - 8 oz jars",
                                    "UnitPrice": "17.00",
                                    "UnitsInStock": "4",
                                    "UnitsOnOrder": "100",
                                    "ReorderLevel": "20",
                                    "Discontinued": "0"
                                },
                                {
                                    "ProductID": "74",
                                    "ProductName": "Longlife Tofu",
                                    "SupplierID": "4",
                                    "CategoryID": "7",
                                    "QuantityPerUnit": "5 kg pkg.",
                                    "UnitPrice": "10.00",
                                    "UnitsInStock": "4",
                                    "UnitsOnOrder": "20",
                                    "ReorderLevel": "5",
                                    "Discontinued": "0"
                                },
                                {
                                    "ProductID": "21",
                                    "ProductName": "Sir Rodney's Scones",
                                    "SupplierID": "8",
                                    "CategoryID": "3",
                                    "QuantityPerUnit": "24 pkgs. x 4 pieces",
                                    "UnitPrice": "10.00",
                                    "UnitsInStock": "3",
                                    "UnitsOnOrder": "40",
                                    "ReorderLevel": "5",
                                    "Discontinued": "0"
                                },
                                {
                                    "ProductID": "29",
                                    "ProductName": "Thüringer Rostbratwurst",
                                    "SupplierID": "12",
                                    "CategoryID": "6",
                                    "QuantityPerUnit": "50 bags x 30 sausgs.",
                                    "UnitPrice": "123.79",
                                    "UnitsInStock": "0",
                                    "UnitsOnOrder": "0",
                                    "ReorderLevel": "0",
                                    "Discontinued": "1"
                                },
                                {
                                    "ProductID": "31",
                                    "ProductName": "Gorgonzola Telino",
                                    "SupplierID": "14",
                                    "CategoryID": "4",
                                    "QuantityPerUnit": "12 - 100 g pkgs",
                                    "UnitPrice": "12.50",
                                    "UnitsInStock": "0",
                                    "UnitsOnOrder": "70",
                                    "ReorderLevel": "20",
                                    "Discontinued": "0"
                                },
                                {
                                    "ProductID": "17",
                                    "ProductName": "Alice Mutton",
                                    "SupplierID": "7",
                                    "CategoryID": "6",
                                    "QuantityPerUnit": "20 - 1 kg tins",
                                    "UnitPrice": "39.00",
                                    "UnitsInStock": "0",
                                    "UnitsOnOrder": "0",
                                    "ReorderLevel": "0",
                                    "Discontinued": "1"
                                },
                                {
                                    "ProductID": "5",
                                    "ProductName": "Chef Anton's Gumbo Mix",
                                    "SupplierID": "2",
                                    "CategoryID": "2",
                                    "QuantityPerUnit": "36 boxes",
                                    "UnitPrice": "21.35",
                                    "UnitsInStock": "0",
                                    "UnitsOnOrder": "0",
                                    "ReorderLevel": "0",
                                    "Discontinued": "1"
                                },
                                {
                                    "ProductID": "53",
                                    "ProductName": "Perth Pasties",
                                    "SupplierID": "24",
                                    "CategoryID": "6",
                                    "QuantityPerUnit": "48 pieces",
                                    "UnitPrice": "32.80",
                                    "UnitsInStock": "0",
                                    "UnitsOnOrder": "0",
                                    "ReorderLevel": "0",
                                    "Discontinued": "1"
                                }
                            ]
                        },
                        "text/html": [
                            "<table>",
                            "<tr><th>ProductID</th><th>ProductName</th><th>SupplierID</th><th>CategoryID</th><th>QuantityPerUnit</th><th>UnitPrice</th><th>UnitsInStock</th><th>UnitsOnOrder</th><th>ReorderLevel</th><th>Discontinued</th></tr>",
                            "<tr><td>32</td><td>Mascarpone Fabioli</td><td>14</td><td>4</td><td>24 - 200 g pkgs.</td><td>32.00</td><td>9</td><td>40</td><td>25</td><td>0</td></tr>",
                            "<tr><td>8</td><td>Northwoods Cranberry Sauce</td><td>3</td><td>2</td><td>12 - 12 oz jars</td><td>40.00</td><td>6</td><td>0</td><td>0</td><td>0</td></tr>",
                            "<tr><td>68</td><td>Scottish Longbreads</td><td>8</td><td>3</td><td>10 boxes x 8 pieces</td><td>12.50</td><td>6</td><td>10</td><td>15</td><td>0</td></tr>",
                            "<tr><td>45</td><td>Rogede sild</td><td>21</td><td>8</td><td>1k pkg.</td><td>9.50</td><td>5</td><td>70</td><td>15</td><td>0</td></tr>",
                            "<tr><td>66</td><td>Louisiana Hot Spiced Okra</td><td>2</td><td>2</td><td>24 - 8 oz jars</td><td>17.00</td><td>4</td><td>100</td><td>20</td><td>0</td></tr>",
                            "<tr><td>74</td><td>Longlife Tofu</td><td>4</td><td>7</td><td>5 kg pkg.</td><td>10.00</td><td>4</td><td>20</td><td>5</td><td>0</td></tr>",
                            "<tr><td>21</td><td>Sir Rodney&#39;s Scones</td><td>8</td><td>3</td><td>24 pkgs. x 4 pieces</td><td>10.00</td><td>3</td><td>40</td><td>5</td><td>0</td></tr>",
                            "<tr><td>29</td><td>Thüringer Rostbratwurst</td><td>12</td><td>6</td><td>50 bags x 30 sausgs.</td><td>123.79</td><td>0</td><td>0</td><td>0</td><td>1</td></tr>",
                            "<tr><td>31</td><td>Gorgonzola Telino</td><td>14</td><td>4</td><td>12 - 100 g pkgs</td><td>12.50</td><td>0</td><td>70</td><td>20</td><td>0</td></tr>",
                            "<tr><td>17</td><td>Alice Mutton</td><td>7</td><td>6</td><td>20 - 1 kg tins</td><td>39.00</td><td>0</td><td>0</td><td>0</td><td>1</td></tr>",
                            "<tr><td>5</td><td>Chef Anton&#39;s Gumbo Mix</td><td>2</td><td>2</td><td>36 boxes</td><td>21.35</td><td>0</td><td>0</td><td>0</td><td>1</td></tr>",
                            "<tr><td>53</td><td>Perth Pasties</td><td>24</td><td>6</td><td>48 pieces</td><td>32.80</td><td>0</td><td>0</td><td>0</td><td>1</td></tr>",
                            "</table>"
                        ]
                    }
                }
            ],
            "execution_count": 5
        },
        {
            "cell_type": "markdown",
            "source": [
                "2. Mostrar Clientes de Mexico, Espana o Argentina"
            ],
            "metadata": {
                "azdata_cell_guid": "9930afb9-8bc3-41e0-8ddb-a7e311b76572"
            }
        },
        {
            "cell_type": "code",
            "source": [
                "SELECT *\n",
                "FROM Customers\n",
                "WHERE Country LIKE 'Argentina' OR Country LIKE 'Spain' OR Country LIKE 'Mexico';"
            ],
            "metadata": {
                "SqlCellData": {
                    "data_source_name": "Northwind@localhost",
                    "variableName$1": "df_sql2"
                },
                "azdata_cell_guid": "0c59d2c8-104d-4a5f-8342-901d94fa472f",
                "language": "sql"
            },
            "outputs": [
                {
                    "output_type": "display_data",
                    "data": {
                        "text/html": "(13 rows affected)"
                    },
                    "metadata": {}
                },
                {
                    "output_type": "display_data",
                    "data": {
                        "text/html": "Total execution time: 00:00:00.036"
                    },
                    "metadata": {}
                },
                {
                    "output_type": "execute_result",
                    "metadata": {},
                    "execution_count": 4,
                    "data": {
                        "application/vnd.dataresource+json": {
                            "schema": {
                                "fields": [
                                    {
                                        "name": "CustomerID"
                                    },
                                    {
                                        "name": "CompanyName"
                                    },
                                    {
                                        "name": "ContactName"
                                    },
                                    {
                                        "name": "ContactTitle"
                                    },
                                    {
                                        "name": "Address"
                                    },
                                    {
                                        "name": "City"
                                    },
                                    {
                                        "name": "Region"
                                    },
                                    {
                                        "name": "PostalCode"
                                    },
                                    {
                                        "name": "Country"
                                    },
                                    {
                                        "name": "Phone"
                                    },
                                    {
                                        "name": "Fax"
                                    }
                                ]
                            },
                            "data": [
                                {
                                    "CustomerID": "ANATR",
                                    "CompanyName": "Ana Trujillo Emparedados y helados",
                                    "ContactName": "Ana Trujillo",
                                    "ContactTitle": "Owner",
                                    "Address": "Avda. de la Constitución 2222",
                                    "City": "México D.F.",
                                    "Region": "NULL",
                                    "PostalCode": "05021",
                                    "Country": "Mexico",
                                    "Phone": "(5) 555-4729",
                                    "Fax": "(5) 555-3745"
                                },
                                {
                                    "CustomerID": "ANTON",
                                    "CompanyName": "Antonio Moreno Taquería",
                                    "ContactName": "Antonio Moreno",
                                    "ContactTitle": "Owner",
                                    "Address": "Mataderos  2312",
                                    "City": "México D.F.",
                                    "Region": "NULL",
                                    "PostalCode": "05023",
                                    "Country": "Mexico",
                                    "Phone": "(5) 555-3932",
                                    "Fax": "NULL"
                                },
                                {
                                    "CustomerID": "BOLID",
                                    "CompanyName": "Bólido Comidas preparadas",
                                    "ContactName": "Martín Sommer",
                                    "ContactTitle": "Owner",
                                    "Address": "C/ Araquil, 67",
                                    "City": "Madrid",
                                    "Region": "NULL",
                                    "PostalCode": "28023",
                                    "Country": "Spain",
                                    "Phone": "(91) 555 22 82",
                                    "Fax": "(91) 555 91 99"
                                },
                                {
                                    "CustomerID": "CACTU",
                                    "CompanyName": "Cactus Comidas para llevar",
                                    "ContactName": "Patricio Simpson",
                                    "ContactTitle": "Sales Agent",
                                    "Address": "Cerrito 333",
                                    "City": "Buenos Aires",
                                    "Region": "NULL",
                                    "PostalCode": "1010",
                                    "Country": "Argentina",
                                    "Phone": "(1) 135-5555",
                                    "Fax": "(1) 135-4892"
                                },
                                {
                                    "CustomerID": "CENTC",
                                    "CompanyName": "Centro comercial Moctezuma",
                                    "ContactName": "Francisco Chang",
                                    "ContactTitle": "Marketing Manager",
                                    "Address": "Sierras de Granada 9993",
                                    "City": "México D.F.",
                                    "Region": "NULL",
                                    "PostalCode": "05022",
                                    "Country": "Mexico",
                                    "Phone": "(5) 555-3392",
                                    "Fax": "(5) 555-7293"
                                },
                                {
                                    "CustomerID": "FISSA",
                                    "CompanyName": "FISSA Fabrica Inter. Salchichas S.A.",
                                    "ContactName": "Diego Roel",
                                    "ContactTitle": "Accounting Manager",
                                    "Address": "C/ Moralzarzal, 86",
                                    "City": "Madrid",
                                    "Region": "NULL",
                                    "PostalCode": "28034",
                                    "Country": "Spain",
                                    "Phone": "(91) 555 94 44",
                                    "Fax": "(91) 555 55 93"
                                },
                                {
                                    "CustomerID": "GALED",
                                    "CompanyName": "Galería del gastrónomo",
                                    "ContactName": "Eduardo Saavedra",
                                    "ContactTitle": "Marketing Manager",
                                    "Address": "Rambla de Cataluña, 23",
                                    "City": "Barcelona",
                                    "Region": "NULL",
                                    "PostalCode": "08022",
                                    "Country": "Spain",
                                    "Phone": "(93) 203 4560",
                                    "Fax": "(93) 203 4561"
                                },
                                {
                                    "CustomerID": "GODOS",
                                    "CompanyName": "Godos Cocina Típica",
                                    "ContactName": "José Pedro Freyre",
                                    "ContactTitle": "Sales Manager",
                                    "Address": "C/ Romero, 33",
                                    "City": "Sevilla",
                                    "Region": "NULL",
                                    "PostalCode": "41101",
                                    "Country": "Spain",
                                    "Phone": "(95) 555 82 82",
                                    "Fax": "NULL"
                                },
                                {
                                    "CustomerID": "OCEAN",
                                    "CompanyName": "Océano Atlántico Ltda.",
                                    "ContactName": "Yvonne Moncada",
                                    "ContactTitle": "Sales Agent",
                                    "Address": "Ing. Gustavo Moncada 8585 Piso 20-A",
                                    "City": "Buenos Aires",
                                    "Region": "NULL",
                                    "PostalCode": "1010",
                                    "Country": "Argentina",
                                    "Phone": "(1) 135-5333",
                                    "Fax": "(1) 135-5535"
                                },
                                {
                                    "CustomerID": "PERIC",
                                    "CompanyName": "Pericles Comidas clásicas",
                                    "ContactName": "Guillermo Fernández",
                                    "ContactTitle": "Sales Representative",
                                    "Address": "Calle Dr. Jorge Cash 321",
                                    "City": "México D.F.",
                                    "Region": "NULL",
                                    "PostalCode": "05033",
                                    "Country": "Mexico",
                                    "Phone": "(5) 552-3745",
                                    "Fax": "(5) 545-3745"
                                },
                                {
                                    "CustomerID": "RANCH",
                                    "CompanyName": "Rancho grande",
                                    "ContactName": "Sergio Gutiérrez",
                                    "ContactTitle": "Sales Representative",
                                    "Address": "Av. del Libertador 900",
                                    "City": "Buenos Aires",
                                    "Region": "NULL",
                                    "PostalCode": "1010",
                                    "Country": "Argentina",
                                    "Phone": "(1) 123-5555",
                                    "Fax": "(1) 123-5556"
                                },
                                {
                                    "CustomerID": "ROMEY",
                                    "CompanyName": "Romero y tomillo",
                                    "ContactName": "Alejandra Camino",
                                    "ContactTitle": "Accounting Manager",
                                    "Address": "Gran Vía, 1",
                                    "City": "Madrid",
                                    "Region": "NULL",
                                    "PostalCode": "28001",
                                    "Country": "Spain",
                                    "Phone": "(91) 745 6200",
                                    "Fax": "(91) 745 6210"
                                },
                                {
                                    "CustomerID": "TORTU",
                                    "CompanyName": "Tortuga Restaurante",
                                    "ContactName": "Miguel Angel Paolino",
                                    "ContactTitle": "Owner",
                                    "Address": "Avda. Azteca 123",
                                    "City": "México D.F.",
                                    "Region": "NULL",
                                    "PostalCode": "05033",
                                    "Country": "Mexico",
                                    "Phone": "(5) 555-2933",
                                    "Fax": "NULL"
                                }
                            ]
                        },
                        "text/html": [
                            "<table>",
                            "<tr><th>CustomerID</th><th>CompanyName</th><th>ContactName</th><th>ContactTitle</th><th>Address</th><th>City</th><th>Region</th><th>PostalCode</th><th>Country</th><th>Phone</th><th>Fax</th></tr>",
                            "<tr><td>ANATR</td><td>Ana Trujillo Emparedados y helados</td><td>Ana Trujillo</td><td>Owner</td><td>Avda. de la Constitución 2222</td><td>México D.F.</td><td>NULL</td><td>05021</td><td>Mexico</td><td>(5) 555-4729</td><td>(5) 555-3745</td></tr>",
                            "<tr><td>ANTON</td><td>Antonio Moreno Taquería</td><td>Antonio Moreno</td><td>Owner</td><td>Mataderos  2312</td><td>México D.F.</td><td>NULL</td><td>05023</td><td>Mexico</td><td>(5) 555-3932</td><td>NULL</td></tr>",
                            "<tr><td>BOLID</td><td>Bólido Comidas preparadas</td><td>Martín Sommer</td><td>Owner</td><td>C/ Araquil, 67</td><td>Madrid</td><td>NULL</td><td>28023</td><td>Spain</td><td>(91) 555 22 82</td><td>(91) 555 91 99</td></tr>",
                            "<tr><td>CACTU</td><td>Cactus Comidas para llevar</td><td>Patricio Simpson</td><td>Sales Agent</td><td>Cerrito 333</td><td>Buenos Aires</td><td>NULL</td><td>1010</td><td>Argentina</td><td>(1) 135-5555</td><td>(1) 135-4892</td></tr>",
                            "<tr><td>CENTC</td><td>Centro comercial Moctezuma</td><td>Francisco Chang</td><td>Marketing Manager</td><td>Sierras de Granada 9993</td><td>México D.F.</td><td>NULL</td><td>05022</td><td>Mexico</td><td>(5) 555-3392</td><td>(5) 555-7293</td></tr>",
                            "<tr><td>FISSA</td><td>FISSA Fabrica Inter. Salchichas S.A.</td><td>Diego Roel</td><td>Accounting Manager</td><td>C/ Moralzarzal, 86</td><td>Madrid</td><td>NULL</td><td>28034</td><td>Spain</td><td>(91) 555 94 44</td><td>(91) 555 55 93</td></tr>",
                            "<tr><td>GALED</td><td>Galería del gastrónomo</td><td>Eduardo Saavedra</td><td>Marketing Manager</td><td>Rambla de Cataluña, 23</td><td>Barcelona</td><td>NULL</td><td>08022</td><td>Spain</td><td>(93) 203 4560</td><td>(93) 203 4561</td></tr>",
                            "<tr><td>GODOS</td><td>Godos Cocina Típica</td><td>José Pedro Freyre</td><td>Sales Manager</td><td>C/ Romero, 33</td><td>Sevilla</td><td>NULL</td><td>41101</td><td>Spain</td><td>(95) 555 82 82</td><td>NULL</td></tr>",
                            "<tr><td>OCEAN</td><td>Océano Atlántico Ltda.</td><td>Yvonne Moncada</td><td>Sales Agent</td><td>Ing. Gustavo Moncada 8585 Piso 20-A</td><td>Buenos Aires</td><td>NULL</td><td>1010</td><td>Argentina</td><td>(1) 135-5333</td><td>(1) 135-5535</td></tr>",
                            "<tr><td>PERIC</td><td>Pericles Comidas clásicas</td><td>Guillermo Fernández</td><td>Sales Representative</td><td>Calle Dr. Jorge Cash 321</td><td>México D.F.</td><td>NULL</td><td>05033</td><td>Mexico</td><td>(5) 552-3745</td><td>(5) 545-3745</td></tr>",
                            "<tr><td>RANCH</td><td>Rancho grande</td><td>Sergio Gutiérrez</td><td>Sales Representative</td><td>Av. del Libertador 900</td><td>Buenos Aires</td><td>NULL</td><td>1010</td><td>Argentina</td><td>(1) 123-5555</td><td>(1) 123-5556</td></tr>",
                            "<tr><td>ROMEY</td><td>Romero y tomillo</td><td>Alejandra Camino</td><td>Accounting Manager</td><td>Gran Vía, 1</td><td>Madrid</td><td>NULL</td><td>28001</td><td>Spain</td><td>(91) 745 6200</td><td>(91) 745 6210</td></tr>",
                            "<tr><td>TORTU</td><td>Tortuga Restaurante</td><td>Miguel Angel Paolino</td><td>Owner</td><td>Avda. Azteca 123</td><td>México D.F.</td><td>NULL</td><td>05033</td><td>Mexico</td><td>(5) 555-2933</td><td>NULL</td></tr>",
                            "</table>"
                        ]
                    }
                }
            ],
            "execution_count": 4
        },
        {
            "cell_type": "markdown",
            "source": [
                "3. Listar Pedidos de 1997. mostrando ID y fecha"
            ],
            "metadata": {
                "azdata_cell_guid": "4e976873-5f27-4002-a7a2-4127c51aecc0"
            }
        },
        {
            "cell_type": "code",
            "source": [
                "SELECT OrderID, OrderDate\n",
                "FROM Orders\n",
                "WHERE YEAR(OrderDate) = 1997;"
            ],
            "metadata": {
                "SqlCellData": {
                    "data_source_name": "Northwind@localhost",
                    "variableName$1": "df_sql3"
                },
                "azdata_cell_guid": "fcb967a5-8fde-4ed6-855b-4d3587b5f2d9",
                "language": "sql"
            },
            "outputs": [
                {
                    "output_type": "display_data",
                    "data": {
                        "text/html": "(408 rows affected)"
                    },
                    "metadata": {}
                },
                {
                    "output_type": "display_data",
                    "data": {
                        "text/html": "Total execution time: 00:00:00.029"
                    },
                    "metadata": {}
                },
                {
                    "output_type": "execute_result",
                    "metadata": {},
                    "execution_count": 3,
                    "data": {
                        "application/vnd.dataresource+json": {
                            "schema": {
                                "fields": [
                                    {
                                        "name": "OrderID"
                                    },
                                    {
                                        "name": "OrderDate"
                                    }
                                ]
                            },
                            "data": [
                                {
                                    "OrderID": "10400",
                                    "OrderDate": "1997-01-01 00:00:00.000"
                                },
                                {
                                    "OrderID": "10401",
                                    "OrderDate": "1997-01-01 00:00:00.000"
                                },
                                {
                                    "OrderID": "10402",
                                    "OrderDate": "1997-01-02 00:00:00.000"
                                },
                                {
                                    "OrderID": "10403",
                                    "OrderDate": "1997-01-03 00:00:00.000"
                                },
                                {
                                    "OrderID": "10404",
                                    "OrderDate": "1997-01-03 00:00:00.000"
                                },
                                {
                                    "OrderID": "10405",
                                    "OrderDate": "1997-01-06 00:00:00.000"
                                },
                                {
                                    "OrderID": "10406",
                                    "OrderDate": "1997-01-07 00:00:00.000"
                                },
                                {
                                    "OrderID": "10407",
                                    "OrderDate": "1997-01-07 00:00:00.000"
                                },
                                {
                                    "OrderID": "10408",
                                    "OrderDate": "1997-01-08 00:00:00.000"
                                },
                                {
                                    "OrderID": "10409",
                                    "OrderDate": "1997-01-09 00:00:00.000"
                                },
                                {
                                    "OrderID": "10410",
                                    "OrderDate": "1997-01-10 00:00:00.000"
                                },
                                {
                                    "OrderID": "10411",
                                    "OrderDate": "1997-01-10 00:00:00.000"
                                },
                                {
                                    "OrderID": "10412",
                                    "OrderDate": "1997-01-13 00:00:00.000"
                                },
                                {
                                    "OrderID": "10413",
                                    "OrderDate": "1997-01-14 00:00:00.000"
                                },
                                {
                                    "OrderID": "10414",
                                    "OrderDate": "1997-01-14 00:00:00.000"
                                },
                                {
                                    "OrderID": "10415",
                                    "OrderDate": "1997-01-15 00:00:00.000"
                                },
                                {
                                    "OrderID": "10416",
                                    "OrderDate": "1997-01-16 00:00:00.000"
                                },
                                {
                                    "OrderID": "10417",
                                    "OrderDate": "1997-01-16 00:00:00.000"
                                },
                                {
                                    "OrderID": "10418",
                                    "OrderDate": "1997-01-17 00:00:00.000"
                                },
                                {
                                    "OrderID": "10419",
                                    "OrderDate": "1997-01-20 00:00:00.000"
                                },
                                {
                                    "OrderID": "10420",
                                    "OrderDate": "1997-01-21 00:00:00.000"
                                },
                                {
                                    "OrderID": "10421",
                                    "OrderDate": "1997-01-21 00:00:00.000"
                                },
                                {
                                    "OrderID": "10422",
                                    "OrderDate": "1997-01-22 00:00:00.000"
                                },
                                {
                                    "OrderID": "10423",
                                    "OrderDate": "1997-01-23 00:00:00.000"
                                },
                                {
                                    "OrderID": "10424",
                                    "OrderDate": "1997-01-23 00:00:00.000"
                                },
                                {
                                    "OrderID": "10425",
                                    "OrderDate": "1997-01-24 00:00:00.000"
                                },
                                {
                                    "OrderID": "10426",
                                    "OrderDate": "1997-01-27 00:00:00.000"
                                },
                                {
                                    "OrderID": "10427",
                                    "OrderDate": "1997-01-27 00:00:00.000"
                                },
                                {
                                    "OrderID": "10428",
                                    "OrderDate": "1997-01-28 00:00:00.000"
                                },
                                {
                                    "OrderID": "10429",
                                    "OrderDate": "1997-01-29 00:00:00.000"
                                },
                                {
                                    "OrderID": "10430",
                                    "OrderDate": "1997-01-30 00:00:00.000"
                                },
                                {
                                    "OrderID": "10431",
                                    "OrderDate": "1997-01-30 00:00:00.000"
                                },
                                {
                                    "OrderID": "10432",
                                    "OrderDate": "1997-01-31 00:00:00.000"
                                },
                                {
                                    "OrderID": "10433",
                                    "OrderDate": "1997-02-03 00:00:00.000"
                                },
                                {
                                    "OrderID": "10434",
                                    "OrderDate": "1997-02-03 00:00:00.000"
                                },
                                {
                                    "OrderID": "10435",
                                    "OrderDate": "1997-02-04 00:00:00.000"
                                },
                                {
                                    "OrderID": "10436",
                                    "OrderDate": "1997-02-05 00:00:00.000"
                                },
                                {
                                    "OrderID": "10437",
                                    "OrderDate": "1997-02-05 00:00:00.000"
                                },
                                {
                                    "OrderID": "10438",
                                    "OrderDate": "1997-02-06 00:00:00.000"
                                },
                                {
                                    "OrderID": "10439",
                                    "OrderDate": "1997-02-07 00:00:00.000"
                                },
                                {
                                    "OrderID": "10440",
                                    "OrderDate": "1997-02-10 00:00:00.000"
                                },
                                {
                                    "OrderID": "10441",
                                    "OrderDate": "1997-02-10 00:00:00.000"
                                },
                                {
                                    "OrderID": "10442",
                                    "OrderDate": "1997-02-11 00:00:00.000"
                                },
                                {
                                    "OrderID": "10443",
                                    "OrderDate": "1997-02-12 00:00:00.000"
                                },
                                {
                                    "OrderID": "10444",
                                    "OrderDate": "1997-02-12 00:00:00.000"
                                },
                                {
                                    "OrderID": "10445",
                                    "OrderDate": "1997-02-13 00:00:00.000"
                                },
                                {
                                    "OrderID": "10446",
                                    "OrderDate": "1997-02-14 00:00:00.000"
                                },
                                {
                                    "OrderID": "10447",
                                    "OrderDate": "1997-02-14 00:00:00.000"
                                },
                                {
                                    "OrderID": "10448",
                                    "OrderDate": "1997-02-17 00:00:00.000"
                                },
                                {
                                    "OrderID": "10449",
                                    "OrderDate": "1997-02-18 00:00:00.000"
                                },
                                {
                                    "OrderID": "10450",
                                    "OrderDate": "1997-02-19 00:00:00.000"
                                },
                                {
                                    "OrderID": "10451",
                                    "OrderDate": "1997-02-19 00:00:00.000"
                                },
                                {
                                    "OrderID": "10452",
                                    "OrderDate": "1997-02-20 00:00:00.000"
                                },
                                {
                                    "OrderID": "10453",
                                    "OrderDate": "1997-02-21 00:00:00.000"
                                },
                                {
                                    "OrderID": "10454",
                                    "OrderDate": "1997-02-21 00:00:00.000"
                                },
                                {
                                    "OrderID": "10455",
                                    "OrderDate": "1997-02-24 00:00:00.000"
                                },
                                {
                                    "OrderID": "10456",
                                    "OrderDate": "1997-02-25 00:00:00.000"
                                },
                                {
                                    "OrderID": "10457",
                                    "OrderDate": "1997-02-25 00:00:00.000"
                                },
                                {
                                    "OrderID": "10458",
                                    "OrderDate": "1997-02-26 00:00:00.000"
                                },
                                {
                                    "OrderID": "10459",
                                    "OrderDate": "1997-02-27 00:00:00.000"
                                },
                                {
                                    "OrderID": "10460",
                                    "OrderDate": "1997-02-28 00:00:00.000"
                                },
                                {
                                    "OrderID": "10461",
                                    "OrderDate": "1997-02-28 00:00:00.000"
                                },
                                {
                                    "OrderID": "10462",
                                    "OrderDate": "1997-03-03 00:00:00.000"
                                },
                                {
                                    "OrderID": "10463",
                                    "OrderDate": "1997-03-04 00:00:00.000"
                                },
                                {
                                    "OrderID": "10464",
                                    "OrderDate": "1997-03-04 00:00:00.000"
                                },
                                {
                                    "OrderID": "10465",
                                    "OrderDate": "1997-03-05 00:00:00.000"
                                },
                                {
                                    "OrderID": "10466",
                                    "OrderDate": "1997-03-06 00:00:00.000"
                                },
                                {
                                    "OrderID": "10467",
                                    "OrderDate": "1997-03-06 00:00:00.000"
                                },
                                {
                                    "OrderID": "10468",
                                    "OrderDate": "1997-03-07 00:00:00.000"
                                },
                                {
                                    "OrderID": "10469",
                                    "OrderDate": "1997-03-10 00:00:00.000"
                                },
                                {
                                    "OrderID": "10470",
                                    "OrderDate": "1997-03-11 00:00:00.000"
                                },
                                {
                                    "OrderID": "10471",
                                    "OrderDate": "1997-03-11 00:00:00.000"
                                },
                                {
                                    "OrderID": "10472",
                                    "OrderDate": "1997-03-12 00:00:00.000"
                                },
                                {
                                    "OrderID": "10473",
                                    "OrderDate": "1997-03-13 00:00:00.000"
                                },
                                {
                                    "OrderID": "10474",
                                    "OrderDate": "1997-03-13 00:00:00.000"
                                },
                                {
                                    "OrderID": "10475",
                                    "OrderDate": "1997-03-14 00:00:00.000"
                                },
                                {
                                    "OrderID": "10476",
                                    "OrderDate": "1997-03-17 00:00:00.000"
                                },
                                {
                                    "OrderID": "10477",
                                    "OrderDate": "1997-03-17 00:00:00.000"
                                },
                                {
                                    "OrderID": "10478",
                                    "OrderDate": "1997-03-18 00:00:00.000"
                                },
                                {
                                    "OrderID": "10479",
                                    "OrderDate": "1997-03-19 00:00:00.000"
                                },
                                {
                                    "OrderID": "10480",
                                    "OrderDate": "1997-03-20 00:00:00.000"
                                },
                                {
                                    "OrderID": "10481",
                                    "OrderDate": "1997-03-20 00:00:00.000"
                                },
                                {
                                    "OrderID": "10482",
                                    "OrderDate": "1997-03-21 00:00:00.000"
                                },
                                {
                                    "OrderID": "10483",
                                    "OrderDate": "1997-03-24 00:00:00.000"
                                },
                                {
                                    "OrderID": "10484",
                                    "OrderDate": "1997-03-24 00:00:00.000"
                                },
                                {
                                    "OrderID": "10485",
                                    "OrderDate": "1997-03-25 00:00:00.000"
                                },
                                {
                                    "OrderID": "10486",
                                    "OrderDate": "1997-03-26 00:00:00.000"
                                },
                                {
                                    "OrderID": "10487",
                                    "OrderDate": "1997-03-26 00:00:00.000"
                                },
                                {
                                    "OrderID": "10488",
                                    "OrderDate": "1997-03-27 00:00:00.000"
                                },
                                {
                                    "OrderID": "10489",
                                    "OrderDate": "1997-03-28 00:00:00.000"
                                },
                                {
                                    "OrderID": "10490",
                                    "OrderDate": "1997-03-31 00:00:00.000"
                                },
                                {
                                    "OrderID": "10491",
                                    "OrderDate": "1997-03-31 00:00:00.000"
                                },
                                {
                                    "OrderID": "10492",
                                    "OrderDate": "1997-04-01 00:00:00.000"
                                },
                                {
                                    "OrderID": "10493",
                                    "OrderDate": "1997-04-02 00:00:00.000"
                                },
                                {
                                    "OrderID": "10494",
                                    "OrderDate": "1997-04-02 00:00:00.000"
                                },
                                {
                                    "OrderID": "10495",
                                    "OrderDate": "1997-04-03 00:00:00.000"
                                },
                                {
                                    "OrderID": "10496",
                                    "OrderDate": "1997-04-04 00:00:00.000"
                                },
                                {
                                    "OrderID": "10497",
                                    "OrderDate": "1997-04-04 00:00:00.000"
                                },
                                {
                                    "OrderID": "10498",
                                    "OrderDate": "1997-04-07 00:00:00.000"
                                },
                                {
                                    "OrderID": "10499",
                                    "OrderDate": "1997-04-08 00:00:00.000"
                                },
                                {
                                    "OrderID": "10500",
                                    "OrderDate": "1997-04-09 00:00:00.000"
                                },
                                {
                                    "OrderID": "10501",
                                    "OrderDate": "1997-04-09 00:00:00.000"
                                },
                                {
                                    "OrderID": "10502",
                                    "OrderDate": "1997-04-10 00:00:00.000"
                                },
                                {
                                    "OrderID": "10503",
                                    "OrderDate": "1997-04-11 00:00:00.000"
                                },
                                {
                                    "OrderID": "10504",
                                    "OrderDate": "1997-04-11 00:00:00.000"
                                },
                                {
                                    "OrderID": "10505",
                                    "OrderDate": "1997-04-14 00:00:00.000"
                                },
                                {
                                    "OrderID": "10506",
                                    "OrderDate": "1997-04-15 00:00:00.000"
                                },
                                {
                                    "OrderID": "10507",
                                    "OrderDate": "1997-04-15 00:00:00.000"
                                },
                                {
                                    "OrderID": "10508",
                                    "OrderDate": "1997-04-16 00:00:00.000"
                                },
                                {
                                    "OrderID": "10509",
                                    "OrderDate": "1997-04-17 00:00:00.000"
                                },
                                {
                                    "OrderID": "10510",
                                    "OrderDate": "1997-04-18 00:00:00.000"
                                },
                                {
                                    "OrderID": "10511",
                                    "OrderDate": "1997-04-18 00:00:00.000"
                                },
                                {
                                    "OrderID": "10512",
                                    "OrderDate": "1997-04-21 00:00:00.000"
                                },
                                {
                                    "OrderID": "10513",
                                    "OrderDate": "1997-04-22 00:00:00.000"
                                },
                                {
                                    "OrderID": "10514",
                                    "OrderDate": "1997-04-22 00:00:00.000"
                                },
                                {
                                    "OrderID": "10515",
                                    "OrderDate": "1997-04-23 00:00:00.000"
                                },
                                {
                                    "OrderID": "10516",
                                    "OrderDate": "1997-04-24 00:00:00.000"
                                },
                                {
                                    "OrderID": "10517",
                                    "OrderDate": "1997-04-24 00:00:00.000"
                                },
                                {
                                    "OrderID": "10518",
                                    "OrderDate": "1997-04-25 00:00:00.000"
                                },
                                {
                                    "OrderID": "10519",
                                    "OrderDate": "1997-04-28 00:00:00.000"
                                },
                                {
                                    "OrderID": "10520",
                                    "OrderDate": "1997-04-29 00:00:00.000"
                                },
                                {
                                    "OrderID": "10521",
                                    "OrderDate": "1997-04-29 00:00:00.000"
                                },
                                {
                                    "OrderID": "10522",
                                    "OrderDate": "1997-04-30 00:00:00.000"
                                },
                                {
                                    "OrderID": "10523",
                                    "OrderDate": "1997-05-01 00:00:00.000"
                                },
                                {
                                    "OrderID": "10524",
                                    "OrderDate": "1997-05-01 00:00:00.000"
                                },
                                {
                                    "OrderID": "10525",
                                    "OrderDate": "1997-05-02 00:00:00.000"
                                },
                                {
                                    "OrderID": "10526",
                                    "OrderDate": "1997-05-05 00:00:00.000"
                                },
                                {
                                    "OrderID": "10527",
                                    "OrderDate": "1997-05-05 00:00:00.000"
                                },
                                {
                                    "OrderID": "10528",
                                    "OrderDate": "1997-05-06 00:00:00.000"
                                },
                                {
                                    "OrderID": "10529",
                                    "OrderDate": "1997-05-07 00:00:00.000"
                                },
                                {
                                    "OrderID": "10530",
                                    "OrderDate": "1997-05-08 00:00:00.000"
                                },
                                {
                                    "OrderID": "10531",
                                    "OrderDate": "1997-05-08 00:00:00.000"
                                },
                                {
                                    "OrderID": "10532",
                                    "OrderDate": "1997-05-09 00:00:00.000"
                                },
                                {
                                    "OrderID": "10533",
                                    "OrderDate": "1997-05-12 00:00:00.000"
                                },
                                {
                                    "OrderID": "10534",
                                    "OrderDate": "1997-05-12 00:00:00.000"
                                },
                                {
                                    "OrderID": "10535",
                                    "OrderDate": "1997-05-13 00:00:00.000"
                                },
                                {
                                    "OrderID": "10536",
                                    "OrderDate": "1997-05-14 00:00:00.000"
                                },
                                {
                                    "OrderID": "10537",
                                    "OrderDate": "1997-05-14 00:00:00.000"
                                },
                                {
                                    "OrderID": "10538",
                                    "OrderDate": "1997-05-15 00:00:00.000"
                                },
                                {
                                    "OrderID": "10539",
                                    "OrderDate": "1997-05-16 00:00:00.000"
                                },
                                {
                                    "OrderID": "10540",
                                    "OrderDate": "1997-05-19 00:00:00.000"
                                },
                                {
                                    "OrderID": "10541",
                                    "OrderDate": "1997-05-19 00:00:00.000"
                                },
                                {
                                    "OrderID": "10542",
                                    "OrderDate": "1997-05-20 00:00:00.000"
                                },
                                {
                                    "OrderID": "10543",
                                    "OrderDate": "1997-05-21 00:00:00.000"
                                },
                                {
                                    "OrderID": "10544",
                                    "OrderDate": "1997-05-21 00:00:00.000"
                                },
                                {
                                    "OrderID": "10545",
                                    "OrderDate": "1997-05-22 00:00:00.000"
                                },
                                {
                                    "OrderID": "10546",
                                    "OrderDate": "1997-05-23 00:00:00.000"
                                },
                                {
                                    "OrderID": "10547",
                                    "OrderDate": "1997-05-23 00:00:00.000"
                                },
                                {
                                    "OrderID": "10548",
                                    "OrderDate": "1997-05-26 00:00:00.000"
                                },
                                {
                                    "OrderID": "10549",
                                    "OrderDate": "1997-05-27 00:00:00.000"
                                },
                                {
                                    "OrderID": "10550",
                                    "OrderDate": "1997-05-28 00:00:00.000"
                                },
                                {
                                    "OrderID": "10551",
                                    "OrderDate": "1997-05-28 00:00:00.000"
                                },
                                {
                                    "OrderID": "10552",
                                    "OrderDate": "1997-05-29 00:00:00.000"
                                },
                                {
                                    "OrderID": "10553",
                                    "OrderDate": "1997-05-30 00:00:00.000"
                                },
                                {
                                    "OrderID": "10554",
                                    "OrderDate": "1997-05-30 00:00:00.000"
                                },
                                {
                                    "OrderID": "10555",
                                    "OrderDate": "1997-06-02 00:00:00.000"
                                },
                                {
                                    "OrderID": "10556",
                                    "OrderDate": "1997-06-03 00:00:00.000"
                                },
                                {
                                    "OrderID": "10557",
                                    "OrderDate": "1997-06-03 00:00:00.000"
                                },
                                {
                                    "OrderID": "10558",
                                    "OrderDate": "1997-06-04 00:00:00.000"
                                },
                                {
                                    "OrderID": "10559",
                                    "OrderDate": "1997-06-05 00:00:00.000"
                                },
                                {
                                    "OrderID": "10560",
                                    "OrderDate": "1997-06-06 00:00:00.000"
                                },
                                {
                                    "OrderID": "10561",
                                    "OrderDate": "1997-06-06 00:00:00.000"
                                },
                                {
                                    "OrderID": "10562",
                                    "OrderDate": "1997-06-09 00:00:00.000"
                                },
                                {
                                    "OrderID": "10563",
                                    "OrderDate": "1997-06-10 00:00:00.000"
                                },
                                {
                                    "OrderID": "10564",
                                    "OrderDate": "1997-06-10 00:00:00.000"
                                },
                                {
                                    "OrderID": "10565",
                                    "OrderDate": "1997-06-11 00:00:00.000"
                                },
                                {
                                    "OrderID": "10566",
                                    "OrderDate": "1997-06-12 00:00:00.000"
                                },
                                {
                                    "OrderID": "10567",
                                    "OrderDate": "1997-06-12 00:00:00.000"
                                },
                                {
                                    "OrderID": "10568",
                                    "OrderDate": "1997-06-13 00:00:00.000"
                                },
                                {
                                    "OrderID": "10569",
                                    "OrderDate": "1997-06-16 00:00:00.000"
                                },
                                {
                                    "OrderID": "10570",
                                    "OrderDate": "1997-06-17 00:00:00.000"
                                },
                                {
                                    "OrderID": "10571",
                                    "OrderDate": "1997-06-17 00:00:00.000"
                                },
                                {
                                    "OrderID": "10572",
                                    "OrderDate": "1997-06-18 00:00:00.000"
                                },
                                {
                                    "OrderID": "10573",
                                    "OrderDate": "1997-06-19 00:00:00.000"
                                },
                                {
                                    "OrderID": "10574",
                                    "OrderDate": "1997-06-19 00:00:00.000"
                                },
                                {
                                    "OrderID": "10575",
                                    "OrderDate": "1997-06-20 00:00:00.000"
                                },
                                {
                                    "OrderID": "10576",
                                    "OrderDate": "1997-06-23 00:00:00.000"
                                },
                                {
                                    "OrderID": "10577",
                                    "OrderDate": "1997-06-23 00:00:00.000"
                                },
                                {
                                    "OrderID": "10578",
                                    "OrderDate": "1997-06-24 00:00:00.000"
                                },
                                {
                                    "OrderID": "10579",
                                    "OrderDate": "1997-06-25 00:00:00.000"
                                },
                                {
                                    "OrderID": "10580",
                                    "OrderDate": "1997-06-26 00:00:00.000"
                                },
                                {
                                    "OrderID": "10581",
                                    "OrderDate": "1997-06-26 00:00:00.000"
                                },
                                {
                                    "OrderID": "10582",
                                    "OrderDate": "1997-06-27 00:00:00.000"
                                },
                                {
                                    "OrderID": "10583",
                                    "OrderDate": "1997-06-30 00:00:00.000"
                                },
                                {
                                    "OrderID": "10584",
                                    "OrderDate": "1997-06-30 00:00:00.000"
                                },
                                {
                                    "OrderID": "10585",
                                    "OrderDate": "1997-07-01 00:00:00.000"
                                },
                                {
                                    "OrderID": "10586",
                                    "OrderDate": "1997-07-02 00:00:00.000"
                                },
                                {
                                    "OrderID": "10587",
                                    "OrderDate": "1997-07-02 00:00:00.000"
                                },
                                {
                                    "OrderID": "10588",
                                    "OrderDate": "1997-07-03 00:00:00.000"
                                },
                                {
                                    "OrderID": "10589",
                                    "OrderDate": "1997-07-04 00:00:00.000"
                                },
                                {
                                    "OrderID": "10590",
                                    "OrderDate": "1997-07-07 00:00:00.000"
                                },
                                {
                                    "OrderID": "10591",
                                    "OrderDate": "1997-07-07 00:00:00.000"
                                },
                                {
                                    "OrderID": "10592",
                                    "OrderDate": "1997-07-08 00:00:00.000"
                                },
                                {
                                    "OrderID": "10593",
                                    "OrderDate": "1997-07-09 00:00:00.000"
                                },
                                {
                                    "OrderID": "10594",
                                    "OrderDate": "1997-07-09 00:00:00.000"
                                },
                                {
                                    "OrderID": "10595",
                                    "OrderDate": "1997-07-10 00:00:00.000"
                                },
                                {
                                    "OrderID": "10596",
                                    "OrderDate": "1997-07-11 00:00:00.000"
                                },
                                {
                                    "OrderID": "10597",
                                    "OrderDate": "1997-07-11 00:00:00.000"
                                },
                                {
                                    "OrderID": "10598",
                                    "OrderDate": "1997-07-14 00:00:00.000"
                                },
                                {
                                    "OrderID": "10599",
                                    "OrderDate": "1997-07-15 00:00:00.000"
                                },
                                {
                                    "OrderID": "10600",
                                    "OrderDate": "1997-07-16 00:00:00.000"
                                },
                                {
                                    "OrderID": "10601",
                                    "OrderDate": "1997-07-16 00:00:00.000"
                                },
                                {
                                    "OrderID": "10602",
                                    "OrderDate": "1997-07-17 00:00:00.000"
                                },
                                {
                                    "OrderID": "10603",
                                    "OrderDate": "1997-07-18 00:00:00.000"
                                },
                                {
                                    "OrderID": "10604",
                                    "OrderDate": "1997-07-18 00:00:00.000"
                                },
                                {
                                    "OrderID": "10605",
                                    "OrderDate": "1997-07-21 00:00:00.000"
                                },
                                {
                                    "OrderID": "10606",
                                    "OrderDate": "1997-07-22 00:00:00.000"
                                },
                                {
                                    "OrderID": "10607",
                                    "OrderDate": "1997-07-22 00:00:00.000"
                                },
                                {
                                    "OrderID": "10608",
                                    "OrderDate": "1997-07-23 00:00:00.000"
                                },
                                {
                                    "OrderID": "10609",
                                    "OrderDate": "1997-07-24 00:00:00.000"
                                },
                                {
                                    "OrderID": "10610",
                                    "OrderDate": "1997-07-25 00:00:00.000"
                                },
                                {
                                    "OrderID": "10611",
                                    "OrderDate": "1997-07-25 00:00:00.000"
                                },
                                {
                                    "OrderID": "10612",
                                    "OrderDate": "1997-07-28 00:00:00.000"
                                },
                                {
                                    "OrderID": "10613",
                                    "OrderDate": "1997-07-29 00:00:00.000"
                                },
                                {
                                    "OrderID": "10614",
                                    "OrderDate": "1997-07-29 00:00:00.000"
                                },
                                {
                                    "OrderID": "10615",
                                    "OrderDate": "1997-07-30 00:00:00.000"
                                },
                                {
                                    "OrderID": "10616",
                                    "OrderDate": "1997-07-31 00:00:00.000"
                                },
                                {
                                    "OrderID": "10617",
                                    "OrderDate": "1997-07-31 00:00:00.000"
                                },
                                {
                                    "OrderID": "10618",
                                    "OrderDate": "1997-08-01 00:00:00.000"
                                },
                                {
                                    "OrderID": "10619",
                                    "OrderDate": "1997-08-04 00:00:00.000"
                                },
                                {
                                    "OrderID": "10620",
                                    "OrderDate": "1997-08-05 00:00:00.000"
                                },
                                {
                                    "OrderID": "10621",
                                    "OrderDate": "1997-08-05 00:00:00.000"
                                },
                                {
                                    "OrderID": "10622",
                                    "OrderDate": "1997-08-06 00:00:00.000"
                                },
                                {
                                    "OrderID": "10623",
                                    "OrderDate": "1997-08-07 00:00:00.000"
                                },
                                {
                                    "OrderID": "10624",
                                    "OrderDate": "1997-08-07 00:00:00.000"
                                },
                                {
                                    "OrderID": "10625",
                                    "OrderDate": "1997-08-08 00:00:00.000"
                                },
                                {
                                    "OrderID": "10626",
                                    "OrderDate": "1997-08-11 00:00:00.000"
                                },
                                {
                                    "OrderID": "10627",
                                    "OrderDate": "1997-08-11 00:00:00.000"
                                },
                                {
                                    "OrderID": "10628",
                                    "OrderDate": "1997-08-12 00:00:00.000"
                                },
                                {
                                    "OrderID": "10629",
                                    "OrderDate": "1997-08-12 00:00:00.000"
                                },
                                {
                                    "OrderID": "10630",
                                    "OrderDate": "1997-08-13 00:00:00.000"
                                },
                                {
                                    "OrderID": "10631",
                                    "OrderDate": "1997-08-14 00:00:00.000"
                                },
                                {
                                    "OrderID": "10632",
                                    "OrderDate": "1997-08-14 00:00:00.000"
                                },
                                {
                                    "OrderID": "10633",
                                    "OrderDate": "1997-08-15 00:00:00.000"
                                },
                                {
                                    "OrderID": "10634",
                                    "OrderDate": "1997-08-15 00:00:00.000"
                                },
                                {
                                    "OrderID": "10635",
                                    "OrderDate": "1997-08-18 00:00:00.000"
                                },
                                {
                                    "OrderID": "10636",
                                    "OrderDate": "1997-08-19 00:00:00.000"
                                },
                                {
                                    "OrderID": "10637",
                                    "OrderDate": "1997-08-19 00:00:00.000"
                                },
                                {
                                    "OrderID": "10638",
                                    "OrderDate": "1997-08-20 00:00:00.000"
                                },
                                {
                                    "OrderID": "10639",
                                    "OrderDate": "1997-08-20 00:00:00.000"
                                },
                                {
                                    "OrderID": "10640",
                                    "OrderDate": "1997-08-21 00:00:00.000"
                                },
                                {
                                    "OrderID": "10641",
                                    "OrderDate": "1997-08-22 00:00:00.000"
                                },
                                {
                                    "OrderID": "10642",
                                    "OrderDate": "1997-08-22 00:00:00.000"
                                },
                                {
                                    "OrderID": "10643",
                                    "OrderDate": "1997-08-25 00:00:00.000"
                                },
                                {
                                    "OrderID": "10644",
                                    "OrderDate": "1997-08-25 00:00:00.000"
                                },
                                {
                                    "OrderID": "10645",
                                    "OrderDate": "1997-08-26 00:00:00.000"
                                },
                                {
                                    "OrderID": "10646",
                                    "OrderDate": "1997-08-27 00:00:00.000"
                                },
                                {
                                    "OrderID": "10647",
                                    "OrderDate": "1997-08-27 00:00:00.000"
                                },
                                {
                                    "OrderID": "10648",
                                    "OrderDate": "1997-08-28 00:00:00.000"
                                },
                                {
                                    "OrderID": "10649",
                                    "OrderDate": "1997-08-28 00:00:00.000"
                                },
                                {
                                    "OrderID": "10650",
                                    "OrderDate": "1997-08-29 00:00:00.000"
                                },
                                {
                                    "OrderID": "10651",
                                    "OrderDate": "1997-09-01 00:00:00.000"
                                },
                                {
                                    "OrderID": "10652",
                                    "OrderDate": "1997-09-01 00:00:00.000"
                                },
                                {
                                    "OrderID": "10653",
                                    "OrderDate": "1997-09-02 00:00:00.000"
                                },
                                {
                                    "OrderID": "10654",
                                    "OrderDate": "1997-09-02 00:00:00.000"
                                },
                                {
                                    "OrderID": "10655",
                                    "OrderDate": "1997-09-03 00:00:00.000"
                                },
                                {
                                    "OrderID": "10656",
                                    "OrderDate": "1997-09-04 00:00:00.000"
                                },
                                {
                                    "OrderID": "10657",
                                    "OrderDate": "1997-09-04 00:00:00.000"
                                },
                                {
                                    "OrderID": "10658",
                                    "OrderDate": "1997-09-05 00:00:00.000"
                                },
                                {
                                    "OrderID": "10659",
                                    "OrderDate": "1997-09-05 00:00:00.000"
                                },
                                {
                                    "OrderID": "10660",
                                    "OrderDate": "1997-09-08 00:00:00.000"
                                },
                                {
                                    "OrderID": "10661",
                                    "OrderDate": "1997-09-09 00:00:00.000"
                                },
                                {
                                    "OrderID": "10662",
                                    "OrderDate": "1997-09-09 00:00:00.000"
                                },
                                {
                                    "OrderID": "10663",
                                    "OrderDate": "1997-09-10 00:00:00.000"
                                },
                                {
                                    "OrderID": "10664",
                                    "OrderDate": "1997-09-10 00:00:00.000"
                                },
                                {
                                    "OrderID": "10665",
                                    "OrderDate": "1997-09-11 00:00:00.000"
                                },
                                {
                                    "OrderID": "10666",
                                    "OrderDate": "1997-09-12 00:00:00.000"
                                },
                                {
                                    "OrderID": "10667",
                                    "OrderDate": "1997-09-12 00:00:00.000"
                                },
                                {
                                    "OrderID": "10668",
                                    "OrderDate": "1997-09-15 00:00:00.000"
                                },
                                {
                                    "OrderID": "10669",
                                    "OrderDate": "1997-09-15 00:00:00.000"
                                },
                                {
                                    "OrderID": "10670",
                                    "OrderDate": "1997-09-16 00:00:00.000"
                                },
                                {
                                    "OrderID": "10671",
                                    "OrderDate": "1997-09-17 00:00:00.000"
                                },
                                {
                                    "OrderID": "10672",
                                    "OrderDate": "1997-09-17 00:00:00.000"
                                },
                                {
                                    "OrderID": "10673",
                                    "OrderDate": "1997-09-18 00:00:00.000"
                                },
                                {
                                    "OrderID": "10674",
                                    "OrderDate": "1997-09-18 00:00:00.000"
                                },
                                {
                                    "OrderID": "10675",
                                    "OrderDate": "1997-09-19 00:00:00.000"
                                },
                                {
                                    "OrderID": "10676",
                                    "OrderDate": "1997-09-22 00:00:00.000"
                                },
                                {
                                    "OrderID": "10677",
                                    "OrderDate": "1997-09-22 00:00:00.000"
                                },
                                {
                                    "OrderID": "10678",
                                    "OrderDate": "1997-09-23 00:00:00.000"
                                },
                                {
                                    "OrderID": "10679",
                                    "OrderDate": "1997-09-23 00:00:00.000"
                                },
                                {
                                    "OrderID": "10680",
                                    "OrderDate": "1997-09-24 00:00:00.000"
                                },
                                {
                                    "OrderID": "10681",
                                    "OrderDate": "1997-09-25 00:00:00.000"
                                },
                                {
                                    "OrderID": "10682",
                                    "OrderDate": "1997-09-25 00:00:00.000"
                                },
                                {
                                    "OrderID": "10683",
                                    "OrderDate": "1997-09-26 00:00:00.000"
                                },
                                {
                                    "OrderID": "10684",
                                    "OrderDate": "1997-09-26 00:00:00.000"
                                },
                                {
                                    "OrderID": "10685",
                                    "OrderDate": "1997-09-29 00:00:00.000"
                                },
                                {
                                    "OrderID": "10686",
                                    "OrderDate": "1997-09-30 00:00:00.000"
                                },
                                {
                                    "OrderID": "10687",
                                    "OrderDate": "1997-09-30 00:00:00.000"
                                },
                                {
                                    "OrderID": "10688",
                                    "OrderDate": "1997-10-01 00:00:00.000"
                                },
                                {
                                    "OrderID": "10689",
                                    "OrderDate": "1997-10-01 00:00:00.000"
                                },
                                {
                                    "OrderID": "10690",
                                    "OrderDate": "1997-10-02 00:00:00.000"
                                },
                                {
                                    "OrderID": "10691",
                                    "OrderDate": "1997-10-03 00:00:00.000"
                                },
                                {
                                    "OrderID": "10692",
                                    "OrderDate": "1997-10-03 00:00:00.000"
                                },
                                {
                                    "OrderID": "10693",
                                    "OrderDate": "1997-10-06 00:00:00.000"
                                },
                                {
                                    "OrderID": "10694",
                                    "OrderDate": "1997-10-06 00:00:00.000"
                                },
                                {
                                    "OrderID": "10695",
                                    "OrderDate": "1997-10-07 00:00:00.000"
                                },
                                {
                                    "OrderID": "10696",
                                    "OrderDate": "1997-10-08 00:00:00.000"
                                },
                                {
                                    "OrderID": "10697",
                                    "OrderDate": "1997-10-08 00:00:00.000"
                                },
                                {
                                    "OrderID": "10698",
                                    "OrderDate": "1997-10-09 00:00:00.000"
                                },
                                {
                                    "OrderID": "10699",
                                    "OrderDate": "1997-10-09 00:00:00.000"
                                },
                                {
                                    "OrderID": "10700",
                                    "OrderDate": "1997-10-10 00:00:00.000"
                                },
                                {
                                    "OrderID": "10701",
                                    "OrderDate": "1997-10-13 00:00:00.000"
                                },
                                {
                                    "OrderID": "10702",
                                    "OrderDate": "1997-10-13 00:00:00.000"
                                },
                                {
                                    "OrderID": "10703",
                                    "OrderDate": "1997-10-14 00:00:00.000"
                                },
                                {
                                    "OrderID": "10704",
                                    "OrderDate": "1997-10-14 00:00:00.000"
                                },
                                {
                                    "OrderID": "10705",
                                    "OrderDate": "1997-10-15 00:00:00.000"
                                },
                                {
                                    "OrderID": "10706",
                                    "OrderDate": "1997-10-16 00:00:00.000"
                                },
                                {
                                    "OrderID": "10707",
                                    "OrderDate": "1997-10-16 00:00:00.000"
                                },
                                {
                                    "OrderID": "10708",
                                    "OrderDate": "1997-10-17 00:00:00.000"
                                },
                                {
                                    "OrderID": "10709",
                                    "OrderDate": "1997-10-17 00:00:00.000"
                                },
                                {
                                    "OrderID": "10710",
                                    "OrderDate": "1997-10-20 00:00:00.000"
                                },
                                {
                                    "OrderID": "10711",
                                    "OrderDate": "1997-10-21 00:00:00.000"
                                },
                                {
                                    "OrderID": "10712",
                                    "OrderDate": "1997-10-21 00:00:00.000"
                                },
                                {
                                    "OrderID": "10713",
                                    "OrderDate": "1997-10-22 00:00:00.000"
                                },
                                {
                                    "OrderID": "10714",
                                    "OrderDate": "1997-10-22 00:00:00.000"
                                },
                                {
                                    "OrderID": "10715",
                                    "OrderDate": "1997-10-23 00:00:00.000"
                                },
                                {
                                    "OrderID": "10716",
                                    "OrderDate": "1997-10-24 00:00:00.000"
                                },
                                {
                                    "OrderID": "10717",
                                    "OrderDate": "1997-10-24 00:00:00.000"
                                },
                                {
                                    "OrderID": "10718",
                                    "OrderDate": "1997-10-27 00:00:00.000"
                                },
                                {
                                    "OrderID": "10719",
                                    "OrderDate": "1997-10-27 00:00:00.000"
                                },
                                {
                                    "OrderID": "10720",
                                    "OrderDate": "1997-10-28 00:00:00.000"
                                },
                                {
                                    "OrderID": "10721",
                                    "OrderDate": "1997-10-29 00:00:00.000"
                                },
                                {
                                    "OrderID": "10722",
                                    "OrderDate": "1997-10-29 00:00:00.000"
                                },
                                {
                                    "OrderID": "10723",
                                    "OrderDate": "1997-10-30 00:00:00.000"
                                },
                                {
                                    "OrderID": "10724",
                                    "OrderDate": "1997-10-30 00:00:00.000"
                                },
                                {
                                    "OrderID": "10725",
                                    "OrderDate": "1997-10-31 00:00:00.000"
                                },
                                {
                                    "OrderID": "10726",
                                    "OrderDate": "1997-11-03 00:00:00.000"
                                },
                                {
                                    "OrderID": "10727",
                                    "OrderDate": "1997-11-03 00:00:00.000"
                                },
                                {
                                    "OrderID": "10728",
                                    "OrderDate": "1997-11-04 00:00:00.000"
                                },
                                {
                                    "OrderID": "10729",
                                    "OrderDate": "1997-11-04 00:00:00.000"
                                },
                                {
                                    "OrderID": "10730",
                                    "OrderDate": "1997-11-05 00:00:00.000"
                                },
                                {
                                    "OrderID": "10731",
                                    "OrderDate": "1997-11-06 00:00:00.000"
                                },
                                {
                                    "OrderID": "10732",
                                    "OrderDate": "1997-11-06 00:00:00.000"
                                },
                                {
                                    "OrderID": "10733",
                                    "OrderDate": "1997-11-07 00:00:00.000"
                                },
                                {
                                    "OrderID": "10734",
                                    "OrderDate": "1997-11-07 00:00:00.000"
                                },
                                {
                                    "OrderID": "10735",
                                    "OrderDate": "1997-11-10 00:00:00.000"
                                },
                                {
                                    "OrderID": "10736",
                                    "OrderDate": "1997-11-11 00:00:00.000"
                                },
                                {
                                    "OrderID": "10737",
                                    "OrderDate": "1997-11-11 00:00:00.000"
                                },
                                {
                                    "OrderID": "10738",
                                    "OrderDate": "1997-11-12 00:00:00.000"
                                },
                                {
                                    "OrderID": "10739",
                                    "OrderDate": "1997-11-12 00:00:00.000"
                                },
                                {
                                    "OrderID": "10740",
                                    "OrderDate": "1997-11-13 00:00:00.000"
                                },
                                {
                                    "OrderID": "10741",
                                    "OrderDate": "1997-11-14 00:00:00.000"
                                },
                                {
                                    "OrderID": "10742",
                                    "OrderDate": "1997-11-14 00:00:00.000"
                                },
                                {
                                    "OrderID": "10743",
                                    "OrderDate": "1997-11-17 00:00:00.000"
                                },
                                {
                                    "OrderID": "10744",
                                    "OrderDate": "1997-11-17 00:00:00.000"
                                },
                                {
                                    "OrderID": "10745",
                                    "OrderDate": "1997-11-18 00:00:00.000"
                                },
                                {
                                    "OrderID": "10746",
                                    "OrderDate": "1997-11-19 00:00:00.000"
                                },
                                {
                                    "OrderID": "10747",
                                    "OrderDate": "1997-11-19 00:00:00.000"
                                },
                                {
                                    "OrderID": "10748",
                                    "OrderDate": "1997-11-20 00:00:00.000"
                                },
                                {
                                    "OrderID": "10749",
                                    "OrderDate": "1997-11-20 00:00:00.000"
                                },
                                {
                                    "OrderID": "10750",
                                    "OrderDate": "1997-11-21 00:00:00.000"
                                },
                                {
                                    "OrderID": "10751",
                                    "OrderDate": "1997-11-24 00:00:00.000"
                                },
                                {
                                    "OrderID": "10752",
                                    "OrderDate": "1997-11-24 00:00:00.000"
                                },
                                {
                                    "OrderID": "10753",
                                    "OrderDate": "1997-11-25 00:00:00.000"
                                },
                                {
                                    "OrderID": "10754",
                                    "OrderDate": "1997-11-25 00:00:00.000"
                                },
                                {
                                    "OrderID": "10755",
                                    "OrderDate": "1997-11-26 00:00:00.000"
                                },
                                {
                                    "OrderID": "10756",
                                    "OrderDate": "1997-11-27 00:00:00.000"
                                },
                                {
                                    "OrderID": "10757",
                                    "OrderDate": "1997-11-27 00:00:00.000"
                                },
                                {
                                    "OrderID": "10758",
                                    "OrderDate": "1997-11-28 00:00:00.000"
                                },
                                {
                                    "OrderID": "10759",
                                    "OrderDate": "1997-11-28 00:00:00.000"
                                },
                                {
                                    "OrderID": "10760",
                                    "OrderDate": "1997-12-01 00:00:00.000"
                                },
                                {
                                    "OrderID": "10761",
                                    "OrderDate": "1997-12-02 00:00:00.000"
                                },
                                {
                                    "OrderID": "10762",
                                    "OrderDate": "1997-12-02 00:00:00.000"
                                },
                                {
                                    "OrderID": "10763",
                                    "OrderDate": "1997-12-03 00:00:00.000"
                                },
                                {
                                    "OrderID": "10764",
                                    "OrderDate": "1997-12-03 00:00:00.000"
                                },
                                {
                                    "OrderID": "10765",
                                    "OrderDate": "1997-12-04 00:00:00.000"
                                },
                                {
                                    "OrderID": "10766",
                                    "OrderDate": "1997-12-05 00:00:00.000"
                                },
                                {
                                    "OrderID": "10767",
                                    "OrderDate": "1997-12-05 00:00:00.000"
                                },
                                {
                                    "OrderID": "10768",
                                    "OrderDate": "1997-12-08 00:00:00.000"
                                },
                                {
                                    "OrderID": "10769",
                                    "OrderDate": "1997-12-08 00:00:00.000"
                                },
                                {
                                    "OrderID": "10770",
                                    "OrderDate": "1997-12-09 00:00:00.000"
                                },
                                {
                                    "OrderID": "10771",
                                    "OrderDate": "1997-12-10 00:00:00.000"
                                },
                                {
                                    "OrderID": "10772",
                                    "OrderDate": "1997-12-10 00:00:00.000"
                                },
                                {
                                    "OrderID": "10773",
                                    "OrderDate": "1997-12-11 00:00:00.000"
                                },
                                {
                                    "OrderID": "10774",
                                    "OrderDate": "1997-12-11 00:00:00.000"
                                },
                                {
                                    "OrderID": "10775",
                                    "OrderDate": "1997-12-12 00:00:00.000"
                                },
                                {
                                    "OrderID": "10776",
                                    "OrderDate": "1997-12-15 00:00:00.000"
                                },
                                {
                                    "OrderID": "10777",
                                    "OrderDate": "1997-12-15 00:00:00.000"
                                },
                                {
                                    "OrderID": "10778",
                                    "OrderDate": "1997-12-16 00:00:00.000"
                                },
                                {
                                    "OrderID": "10779",
                                    "OrderDate": "1997-12-16 00:00:00.000"
                                },
                                {
                                    "OrderID": "10780",
                                    "OrderDate": "1997-12-16 00:00:00.000"
                                },
                                {
                                    "OrderID": "10781",
                                    "OrderDate": "1997-12-17 00:00:00.000"
                                },
                                {
                                    "OrderID": "10782",
                                    "OrderDate": "1997-12-17 00:00:00.000"
                                },
                                {
                                    "OrderID": "10783",
                                    "OrderDate": "1997-12-18 00:00:00.000"
                                },
                                {
                                    "OrderID": "10784",
                                    "OrderDate": "1997-12-18 00:00:00.000"
                                },
                                {
                                    "OrderID": "10785",
                                    "OrderDate": "1997-12-18 00:00:00.000"
                                },
                                {
                                    "OrderID": "10786",
                                    "OrderDate": "1997-12-19 00:00:00.000"
                                },
                                {
                                    "OrderID": "10787",
                                    "OrderDate": "1997-12-19 00:00:00.000"
                                },
                                {
                                    "OrderID": "10788",
                                    "OrderDate": "1997-12-22 00:00:00.000"
                                },
                                {
                                    "OrderID": "10789",
                                    "OrderDate": "1997-12-22 00:00:00.000"
                                },
                                {
                                    "OrderID": "10790",
                                    "OrderDate": "1997-12-22 00:00:00.000"
                                },
                                {
                                    "OrderID": "10791",
                                    "OrderDate": "1997-12-23 00:00:00.000"
                                },
                                {
                                    "OrderID": "10792",
                                    "OrderDate": "1997-12-23 00:00:00.000"
                                },
                                {
                                    "OrderID": "10793",
                                    "OrderDate": "1997-12-24 00:00:00.000"
                                },
                                {
                                    "OrderID": "10794",
                                    "OrderDate": "1997-12-24 00:00:00.000"
                                },
                                {
                                    "OrderID": "10795",
                                    "OrderDate": "1997-12-24 00:00:00.000"
                                },
                                {
                                    "OrderID": "10796",
                                    "OrderDate": "1997-12-25 00:00:00.000"
                                },
                                {
                                    "OrderID": "10797",
                                    "OrderDate": "1997-12-25 00:00:00.000"
                                },
                                {
                                    "OrderID": "10798",
                                    "OrderDate": "1997-12-26 00:00:00.000"
                                },
                                {
                                    "OrderID": "10799",
                                    "OrderDate": "1997-12-26 00:00:00.000"
                                },
                                {
                                    "OrderID": "10800",
                                    "OrderDate": "1997-12-26 00:00:00.000"
                                },
                                {
                                    "OrderID": "10801",
                                    "OrderDate": "1997-12-29 00:00:00.000"
                                },
                                {
                                    "OrderID": "10802",
                                    "OrderDate": "1997-12-29 00:00:00.000"
                                },
                                {
                                    "OrderID": "10803",
                                    "OrderDate": "1997-12-30 00:00:00.000"
                                },
                                {
                                    "OrderID": "10804",
                                    "OrderDate": "1997-12-30 00:00:00.000"
                                },
                                {
                                    "OrderID": "10805",
                                    "OrderDate": "1997-12-30 00:00:00.000"
                                },
                                {
                                    "OrderID": "10806",
                                    "OrderDate": "1997-12-31 00:00:00.000"
                                },
                                {
                                    "OrderID": "10807",
                                    "OrderDate": "1997-12-31 00:00:00.000"
                                }
                            ]
                        },
                        "text/html": [
                            "<table>",
                            "<tr><th>OrderID</th><th>OrderDate</th></tr>",
                            "<tr><td>10400</td><td>1997-01-01 00:00:00.000</td></tr>",
                            "<tr><td>10401</td><td>1997-01-01 00:00:00.000</td></tr>",
                            "<tr><td>10402</td><td>1997-01-02 00:00:00.000</td></tr>",
                            "<tr><td>10403</td><td>1997-01-03 00:00:00.000</td></tr>",
                            "<tr><td>10404</td><td>1997-01-03 00:00:00.000</td></tr>",
                            "<tr><td>10405</td><td>1997-01-06 00:00:00.000</td></tr>",
                            "<tr><td>10406</td><td>1997-01-07 00:00:00.000</td></tr>",
                            "<tr><td>10407</td><td>1997-01-07 00:00:00.000</td></tr>",
                            "<tr><td>10408</td><td>1997-01-08 00:00:00.000</td></tr>",
                            "<tr><td>10409</td><td>1997-01-09 00:00:00.000</td></tr>",
                            "<tr><td>10410</td><td>1997-01-10 00:00:00.000</td></tr>",
                            "<tr><td>10411</td><td>1997-01-10 00:00:00.000</td></tr>",
                            "<tr><td>10412</td><td>1997-01-13 00:00:00.000</td></tr>",
                            "<tr><td>10413</td><td>1997-01-14 00:00:00.000</td></tr>",
                            "<tr><td>10414</td><td>1997-01-14 00:00:00.000</td></tr>",
                            "<tr><td>10415</td><td>1997-01-15 00:00:00.000</td></tr>",
                            "<tr><td>10416</td><td>1997-01-16 00:00:00.000</td></tr>",
                            "<tr><td>10417</td><td>1997-01-16 00:00:00.000</td></tr>",
                            "<tr><td>10418</td><td>1997-01-17 00:00:00.000</td></tr>",
                            "<tr><td>10419</td><td>1997-01-20 00:00:00.000</td></tr>",
                            "<tr><td>10420</td><td>1997-01-21 00:00:00.000</td></tr>",
                            "<tr><td>10421</td><td>1997-01-21 00:00:00.000</td></tr>",
                            "<tr><td>10422</td><td>1997-01-22 00:00:00.000</td></tr>",
                            "<tr><td>10423</td><td>1997-01-23 00:00:00.000</td></tr>",
                            "<tr><td>10424</td><td>1997-01-23 00:00:00.000</td></tr>",
                            "<tr><td>10425</td><td>1997-01-24 00:00:00.000</td></tr>",
                            "<tr><td>10426</td><td>1997-01-27 00:00:00.000</td></tr>",
                            "<tr><td>10427</td><td>1997-01-27 00:00:00.000</td></tr>",
                            "<tr><td>10428</td><td>1997-01-28 00:00:00.000</td></tr>",
                            "<tr><td>10429</td><td>1997-01-29 00:00:00.000</td></tr>",
                            "<tr><td>10430</td><td>1997-01-30 00:00:00.000</td></tr>",
                            "<tr><td>10431</td><td>1997-01-30 00:00:00.000</td></tr>",
                            "<tr><td>10432</td><td>1997-01-31 00:00:00.000</td></tr>",
                            "<tr><td>10433</td><td>1997-02-03 00:00:00.000</td></tr>",
                            "<tr><td>10434</td><td>1997-02-03 00:00:00.000</td></tr>",
                            "<tr><td>10435</td><td>1997-02-04 00:00:00.000</td></tr>",
                            "<tr><td>10436</td><td>1997-02-05 00:00:00.000</td></tr>",
                            "<tr><td>10437</td><td>1997-02-05 00:00:00.000</td></tr>",
                            "<tr><td>10438</td><td>1997-02-06 00:00:00.000</td></tr>",
                            "<tr><td>10439</td><td>1997-02-07 00:00:00.000</td></tr>",
                            "<tr><td>10440</td><td>1997-02-10 00:00:00.000</td></tr>",
                            "<tr><td>10441</td><td>1997-02-10 00:00:00.000</td></tr>",
                            "<tr><td>10442</td><td>1997-02-11 00:00:00.000</td></tr>",
                            "<tr><td>10443</td><td>1997-02-12 00:00:00.000</td></tr>",
                            "<tr><td>10444</td><td>1997-02-12 00:00:00.000</td></tr>",
                            "<tr><td>10445</td><td>1997-02-13 00:00:00.000</td></tr>",
                            "<tr><td>10446</td><td>1997-02-14 00:00:00.000</td></tr>",
                            "<tr><td>10447</td><td>1997-02-14 00:00:00.000</td></tr>",
                            "<tr><td>10448</td><td>1997-02-17 00:00:00.000</td></tr>",
                            "<tr><td>10449</td><td>1997-02-18 00:00:00.000</td></tr>",
                            "<tr><td>10450</td><td>1997-02-19 00:00:00.000</td></tr>",
                            "<tr><td>10451</td><td>1997-02-19 00:00:00.000</td></tr>",
                            "<tr><td>10452</td><td>1997-02-20 00:00:00.000</td></tr>",
                            "<tr><td>10453</td><td>1997-02-21 00:00:00.000</td></tr>",
                            "<tr><td>10454</td><td>1997-02-21 00:00:00.000</td></tr>",
                            "<tr><td>10455</td><td>1997-02-24 00:00:00.000</td></tr>",
                            "<tr><td>10456</td><td>1997-02-25 00:00:00.000</td></tr>",
                            "<tr><td>10457</td><td>1997-02-25 00:00:00.000</td></tr>",
                            "<tr><td>10458</td><td>1997-02-26 00:00:00.000</td></tr>",
                            "<tr><td>10459</td><td>1997-02-27 00:00:00.000</td></tr>",
                            "<tr><td>10460</td><td>1997-02-28 00:00:00.000</td></tr>",
                            "<tr><td>10461</td><td>1997-02-28 00:00:00.000</td></tr>",
                            "<tr><td>10462</td><td>1997-03-03 00:00:00.000</td></tr>",
                            "<tr><td>10463</td><td>1997-03-04 00:00:00.000</td></tr>",
                            "<tr><td>10464</td><td>1997-03-04 00:00:00.000</td></tr>",
                            "<tr><td>10465</td><td>1997-03-05 00:00:00.000</td></tr>",
                            "<tr><td>10466</td><td>1997-03-06 00:00:00.000</td></tr>",
                            "<tr><td>10467</td><td>1997-03-06 00:00:00.000</td></tr>",
                            "<tr><td>10468</td><td>1997-03-07 00:00:00.000</td></tr>",
                            "<tr><td>10469</td><td>1997-03-10 00:00:00.000</td></tr>",
                            "<tr><td>10470</td><td>1997-03-11 00:00:00.000</td></tr>",
                            "<tr><td>10471</td><td>1997-03-11 00:00:00.000</td></tr>",
                            "<tr><td>10472</td><td>1997-03-12 00:00:00.000</td></tr>",
                            "<tr><td>10473</td><td>1997-03-13 00:00:00.000</td></tr>",
                            "<tr><td>10474</td><td>1997-03-13 00:00:00.000</td></tr>",
                            "<tr><td>10475</td><td>1997-03-14 00:00:00.000</td></tr>",
                            "<tr><td>10476</td><td>1997-03-17 00:00:00.000</td></tr>",
                            "<tr><td>10477</td><td>1997-03-17 00:00:00.000</td></tr>",
                            "<tr><td>10478</td><td>1997-03-18 00:00:00.000</td></tr>",
                            "<tr><td>10479</td><td>1997-03-19 00:00:00.000</td></tr>",
                            "<tr><td>10480</td><td>1997-03-20 00:00:00.000</td></tr>",
                            "<tr><td>10481</td><td>1997-03-20 00:00:00.000</td></tr>",
                            "<tr><td>10482</td><td>1997-03-21 00:00:00.000</td></tr>",
                            "<tr><td>10483</td><td>1997-03-24 00:00:00.000</td></tr>",
                            "<tr><td>10484</td><td>1997-03-24 00:00:00.000</td></tr>",
                            "<tr><td>10485</td><td>1997-03-25 00:00:00.000</td></tr>",
                            "<tr><td>10486</td><td>1997-03-26 00:00:00.000</td></tr>",
                            "<tr><td>10487</td><td>1997-03-26 00:00:00.000</td></tr>",
                            "<tr><td>10488</td><td>1997-03-27 00:00:00.000</td></tr>",
                            "<tr><td>10489</td><td>1997-03-28 00:00:00.000</td></tr>",
                            "<tr><td>10490</td><td>1997-03-31 00:00:00.000</td></tr>",
                            "<tr><td>10491</td><td>1997-03-31 00:00:00.000</td></tr>",
                            "<tr><td>10492</td><td>1997-04-01 00:00:00.000</td></tr>",
                            "<tr><td>10493</td><td>1997-04-02 00:00:00.000</td></tr>",
                            "<tr><td>10494</td><td>1997-04-02 00:00:00.000</td></tr>",
                            "<tr><td>10495</td><td>1997-04-03 00:00:00.000</td></tr>",
                            "<tr><td>10496</td><td>1997-04-04 00:00:00.000</td></tr>",
                            "<tr><td>10497</td><td>1997-04-04 00:00:00.000</td></tr>",
                            "<tr><td>10498</td><td>1997-04-07 00:00:00.000</td></tr>",
                            "<tr><td>10499</td><td>1997-04-08 00:00:00.000</td></tr>",
                            "<tr><td>10500</td><td>1997-04-09 00:00:00.000</td></tr>",
                            "<tr><td>10501</td><td>1997-04-09 00:00:00.000</td></tr>",
                            "<tr><td>10502</td><td>1997-04-10 00:00:00.000</td></tr>",
                            "<tr><td>10503</td><td>1997-04-11 00:00:00.000</td></tr>",
                            "<tr><td>10504</td><td>1997-04-11 00:00:00.000</td></tr>",
                            "<tr><td>10505</td><td>1997-04-14 00:00:00.000</td></tr>",
                            "<tr><td>10506</td><td>1997-04-15 00:00:00.000</td></tr>",
                            "<tr><td>10507</td><td>1997-04-15 00:00:00.000</td></tr>",
                            "<tr><td>10508</td><td>1997-04-16 00:00:00.000</td></tr>",
                            "<tr><td>10509</td><td>1997-04-17 00:00:00.000</td></tr>",
                            "<tr><td>10510</td><td>1997-04-18 00:00:00.000</td></tr>",
                            "<tr><td>10511</td><td>1997-04-18 00:00:00.000</td></tr>",
                            "<tr><td>10512</td><td>1997-04-21 00:00:00.000</td></tr>",
                            "<tr><td>10513</td><td>1997-04-22 00:00:00.000</td></tr>",
                            "<tr><td>10514</td><td>1997-04-22 00:00:00.000</td></tr>",
                            "<tr><td>10515</td><td>1997-04-23 00:00:00.000</td></tr>",
                            "<tr><td>10516</td><td>1997-04-24 00:00:00.000</td></tr>",
                            "<tr><td>10517</td><td>1997-04-24 00:00:00.000</td></tr>",
                            "<tr><td>10518</td><td>1997-04-25 00:00:00.000</td></tr>",
                            "<tr><td>10519</td><td>1997-04-28 00:00:00.000</td></tr>",
                            "<tr><td>10520</td><td>1997-04-29 00:00:00.000</td></tr>",
                            "<tr><td>10521</td><td>1997-04-29 00:00:00.000</td></tr>",
                            "<tr><td>10522</td><td>1997-04-30 00:00:00.000</td></tr>",
                            "<tr><td>10523</td><td>1997-05-01 00:00:00.000</td></tr>",
                            "<tr><td>10524</td><td>1997-05-01 00:00:00.000</td></tr>",
                            "<tr><td>10525</td><td>1997-05-02 00:00:00.000</td></tr>",
                            "<tr><td>10526</td><td>1997-05-05 00:00:00.000</td></tr>",
                            "<tr><td>10527</td><td>1997-05-05 00:00:00.000</td></tr>",
                            "<tr><td>10528</td><td>1997-05-06 00:00:00.000</td></tr>",
                            "<tr><td>10529</td><td>1997-05-07 00:00:00.000</td></tr>",
                            "<tr><td>10530</td><td>1997-05-08 00:00:00.000</td></tr>",
                            "<tr><td>10531</td><td>1997-05-08 00:00:00.000</td></tr>",
                            "<tr><td>10532</td><td>1997-05-09 00:00:00.000</td></tr>",
                            "<tr><td>10533</td><td>1997-05-12 00:00:00.000</td></tr>",
                            "<tr><td>10534</td><td>1997-05-12 00:00:00.000</td></tr>",
                            "<tr><td>10535</td><td>1997-05-13 00:00:00.000</td></tr>",
                            "<tr><td>10536</td><td>1997-05-14 00:00:00.000</td></tr>",
                            "<tr><td>10537</td><td>1997-05-14 00:00:00.000</td></tr>",
                            "<tr><td>10538</td><td>1997-05-15 00:00:00.000</td></tr>",
                            "<tr><td>10539</td><td>1997-05-16 00:00:00.000</td></tr>",
                            "<tr><td>10540</td><td>1997-05-19 00:00:00.000</td></tr>",
                            "<tr><td>10541</td><td>1997-05-19 00:00:00.000</td></tr>",
                            "<tr><td>10542</td><td>1997-05-20 00:00:00.000</td></tr>",
                            "<tr><td>10543</td><td>1997-05-21 00:00:00.000</td></tr>",
                            "<tr><td>10544</td><td>1997-05-21 00:00:00.000</td></tr>",
                            "<tr><td>10545</td><td>1997-05-22 00:00:00.000</td></tr>",
                            "<tr><td>10546</td><td>1997-05-23 00:00:00.000</td></tr>",
                            "<tr><td>10547</td><td>1997-05-23 00:00:00.000</td></tr>",
                            "<tr><td>10548</td><td>1997-05-26 00:00:00.000</td></tr>",
                            "<tr><td>10549</td><td>1997-05-27 00:00:00.000</td></tr>",
                            "<tr><td>10550</td><td>1997-05-28 00:00:00.000</td></tr>",
                            "<tr><td>10551</td><td>1997-05-28 00:00:00.000</td></tr>",
                            "<tr><td>10552</td><td>1997-05-29 00:00:00.000</td></tr>",
                            "<tr><td>10553</td><td>1997-05-30 00:00:00.000</td></tr>",
                            "<tr><td>10554</td><td>1997-05-30 00:00:00.000</td></tr>",
                            "<tr><td>10555</td><td>1997-06-02 00:00:00.000</td></tr>",
                            "<tr><td>10556</td><td>1997-06-03 00:00:00.000</td></tr>",
                            "<tr><td>10557</td><td>1997-06-03 00:00:00.000</td></tr>",
                            "<tr><td>10558</td><td>1997-06-04 00:00:00.000</td></tr>",
                            "<tr><td>10559</td><td>1997-06-05 00:00:00.000</td></tr>",
                            "<tr><td>10560</td><td>1997-06-06 00:00:00.000</td></tr>",
                            "<tr><td>10561</td><td>1997-06-06 00:00:00.000</td></tr>",
                            "<tr><td>10562</td><td>1997-06-09 00:00:00.000</td></tr>",
                            "<tr><td>10563</td><td>1997-06-10 00:00:00.000</td></tr>",
                            "<tr><td>10564</td><td>1997-06-10 00:00:00.000</td></tr>",
                            "<tr><td>10565</td><td>1997-06-11 00:00:00.000</td></tr>",
                            "<tr><td>10566</td><td>1997-06-12 00:00:00.000</td></tr>",
                            "<tr><td>10567</td><td>1997-06-12 00:00:00.000</td></tr>",
                            "<tr><td>10568</td><td>1997-06-13 00:00:00.000</td></tr>",
                            "<tr><td>10569</td><td>1997-06-16 00:00:00.000</td></tr>",
                            "<tr><td>10570</td><td>1997-06-17 00:00:00.000</td></tr>",
                            "<tr><td>10571</td><td>1997-06-17 00:00:00.000</td></tr>",
                            "<tr><td>10572</td><td>1997-06-18 00:00:00.000</td></tr>",
                            "<tr><td>10573</td><td>1997-06-19 00:00:00.000</td></tr>",
                            "<tr><td>10574</td><td>1997-06-19 00:00:00.000</td></tr>",
                            "<tr><td>10575</td><td>1997-06-20 00:00:00.000</td></tr>",
                            "<tr><td>10576</td><td>1997-06-23 00:00:00.000</td></tr>",
                            "<tr><td>10577</td><td>1997-06-23 00:00:00.000</td></tr>",
                            "<tr><td>10578</td><td>1997-06-24 00:00:00.000</td></tr>",
                            "<tr><td>10579</td><td>1997-06-25 00:00:00.000</td></tr>",
                            "<tr><td>10580</td><td>1997-06-26 00:00:00.000</td></tr>",
                            "<tr><td>10581</td><td>1997-06-26 00:00:00.000</td></tr>",
                            "<tr><td>10582</td><td>1997-06-27 00:00:00.000</td></tr>",
                            "<tr><td>10583</td><td>1997-06-30 00:00:00.000</td></tr>",
                            "<tr><td>10584</td><td>1997-06-30 00:00:00.000</td></tr>",
                            "<tr><td>10585</td><td>1997-07-01 00:00:00.000</td></tr>",
                            "<tr><td>10586</td><td>1997-07-02 00:00:00.000</td></tr>",
                            "<tr><td>10587</td><td>1997-07-02 00:00:00.000</td></tr>",
                            "<tr><td>10588</td><td>1997-07-03 00:00:00.000</td></tr>",
                            "<tr><td>10589</td><td>1997-07-04 00:00:00.000</td></tr>",
                            "<tr><td>10590</td><td>1997-07-07 00:00:00.000</td></tr>",
                            "<tr><td>10591</td><td>1997-07-07 00:00:00.000</td></tr>",
                            "<tr><td>10592</td><td>1997-07-08 00:00:00.000</td></tr>",
                            "<tr><td>10593</td><td>1997-07-09 00:00:00.000</td></tr>",
                            "<tr><td>10594</td><td>1997-07-09 00:00:00.000</td></tr>",
                            "<tr><td>10595</td><td>1997-07-10 00:00:00.000</td></tr>",
                            "<tr><td>10596</td><td>1997-07-11 00:00:00.000</td></tr>",
                            "<tr><td>10597</td><td>1997-07-11 00:00:00.000</td></tr>",
                            "<tr><td>10598</td><td>1997-07-14 00:00:00.000</td></tr>",
                            "<tr><td>10599</td><td>1997-07-15 00:00:00.000</td></tr>",
                            "<tr><td>10600</td><td>1997-07-16 00:00:00.000</td></tr>",
                            "<tr><td>10601</td><td>1997-07-16 00:00:00.000</td></tr>",
                            "<tr><td>10602</td><td>1997-07-17 00:00:00.000</td></tr>",
                            "<tr><td>10603</td><td>1997-07-18 00:00:00.000</td></tr>",
                            "<tr><td>10604</td><td>1997-07-18 00:00:00.000</td></tr>",
                            "<tr><td>10605</td><td>1997-07-21 00:00:00.000</td></tr>",
                            "<tr><td>10606</td><td>1997-07-22 00:00:00.000</td></tr>",
                            "<tr><td>10607</td><td>1997-07-22 00:00:00.000</td></tr>",
                            "<tr><td>10608</td><td>1997-07-23 00:00:00.000</td></tr>",
                            "<tr><td>10609</td><td>1997-07-24 00:00:00.000</td></tr>",
                            "<tr><td>10610</td><td>1997-07-25 00:00:00.000</td></tr>",
                            "<tr><td>10611</td><td>1997-07-25 00:00:00.000</td></tr>",
                            "<tr><td>10612</td><td>1997-07-28 00:00:00.000</td></tr>",
                            "<tr><td>10613</td><td>1997-07-29 00:00:00.000</td></tr>",
                            "<tr><td>10614</td><td>1997-07-29 00:00:00.000</td></tr>",
                            "<tr><td>10615</td><td>1997-07-30 00:00:00.000</td></tr>",
                            "<tr><td>10616</td><td>1997-07-31 00:00:00.000</td></tr>",
                            "<tr><td>10617</td><td>1997-07-31 00:00:00.000</td></tr>",
                            "<tr><td>10618</td><td>1997-08-01 00:00:00.000</td></tr>",
                            "<tr><td>10619</td><td>1997-08-04 00:00:00.000</td></tr>",
                            "<tr><td>10620</td><td>1997-08-05 00:00:00.000</td></tr>",
                            "<tr><td>10621</td><td>1997-08-05 00:00:00.000</td></tr>",
                            "<tr><td>10622</td><td>1997-08-06 00:00:00.000</td></tr>",
                            "<tr><td>10623</td><td>1997-08-07 00:00:00.000</td></tr>",
                            "<tr><td>10624</td><td>1997-08-07 00:00:00.000</td></tr>",
                            "<tr><td>10625</td><td>1997-08-08 00:00:00.000</td></tr>",
                            "<tr><td>10626</td><td>1997-08-11 00:00:00.000</td></tr>",
                            "<tr><td>10627</td><td>1997-08-11 00:00:00.000</td></tr>",
                            "<tr><td>10628</td><td>1997-08-12 00:00:00.000</td></tr>",
                            "<tr><td>10629</td><td>1997-08-12 00:00:00.000</td></tr>",
                            "<tr><td>10630</td><td>1997-08-13 00:00:00.000</td></tr>",
                            "<tr><td>10631</td><td>1997-08-14 00:00:00.000</td></tr>",
                            "<tr><td>10632</td><td>1997-08-14 00:00:00.000</td></tr>",
                            "<tr><td>10633</td><td>1997-08-15 00:00:00.000</td></tr>",
                            "<tr><td>10634</td><td>1997-08-15 00:00:00.000</td></tr>",
                            "<tr><td>10635</td><td>1997-08-18 00:00:00.000</td></tr>",
                            "<tr><td>10636</td><td>1997-08-19 00:00:00.000</td></tr>",
                            "<tr><td>10637</td><td>1997-08-19 00:00:00.000</td></tr>",
                            "<tr><td>10638</td><td>1997-08-20 00:00:00.000</td></tr>",
                            "<tr><td>10639</td><td>1997-08-20 00:00:00.000</td></tr>",
                            "<tr><td>10640</td><td>1997-08-21 00:00:00.000</td></tr>",
                            "<tr><td>10641</td><td>1997-08-22 00:00:00.000</td></tr>",
                            "<tr><td>10642</td><td>1997-08-22 00:00:00.000</td></tr>",
                            "<tr><td>10643</td><td>1997-08-25 00:00:00.000</td></tr>",
                            "<tr><td>10644</td><td>1997-08-25 00:00:00.000</td></tr>",
                            "<tr><td>10645</td><td>1997-08-26 00:00:00.000</td></tr>",
                            "<tr><td>10646</td><td>1997-08-27 00:00:00.000</td></tr>",
                            "<tr><td>10647</td><td>1997-08-27 00:00:00.000</td></tr>",
                            "<tr><td>10648</td><td>1997-08-28 00:00:00.000</td></tr>",
                            "<tr><td>10649</td><td>1997-08-28 00:00:00.000</td></tr>",
                            "<tr><td>10650</td><td>1997-08-29 00:00:00.000</td></tr>",
                            "<tr><td>10651</td><td>1997-09-01 00:00:00.000</td></tr>",
                            "<tr><td>10652</td><td>1997-09-01 00:00:00.000</td></tr>",
                            "<tr><td>10653</td><td>1997-09-02 00:00:00.000</td></tr>",
                            "<tr><td>10654</td><td>1997-09-02 00:00:00.000</td></tr>",
                            "<tr><td>10655</td><td>1997-09-03 00:00:00.000</td></tr>",
                            "<tr><td>10656</td><td>1997-09-04 00:00:00.000</td></tr>",
                            "<tr><td>10657</td><td>1997-09-04 00:00:00.000</td></tr>",
                            "<tr><td>10658</td><td>1997-09-05 00:00:00.000</td></tr>",
                            "<tr><td>10659</td><td>1997-09-05 00:00:00.000</td></tr>",
                            "<tr><td>10660</td><td>1997-09-08 00:00:00.000</td></tr>",
                            "<tr><td>10661</td><td>1997-09-09 00:00:00.000</td></tr>",
                            "<tr><td>10662</td><td>1997-09-09 00:00:00.000</td></tr>",
                            "<tr><td>10663</td><td>1997-09-10 00:00:00.000</td></tr>",
                            "<tr><td>10664</td><td>1997-09-10 00:00:00.000</td></tr>",
                            "<tr><td>10665</td><td>1997-09-11 00:00:00.000</td></tr>",
                            "<tr><td>10666</td><td>1997-09-12 00:00:00.000</td></tr>",
                            "<tr><td>10667</td><td>1997-09-12 00:00:00.000</td></tr>",
                            "<tr><td>10668</td><td>1997-09-15 00:00:00.000</td></tr>",
                            "<tr><td>10669</td><td>1997-09-15 00:00:00.000</td></tr>",
                            "<tr><td>10670</td><td>1997-09-16 00:00:00.000</td></tr>",
                            "<tr><td>10671</td><td>1997-09-17 00:00:00.000</td></tr>",
                            "<tr><td>10672</td><td>1997-09-17 00:00:00.000</td></tr>",
                            "<tr><td>10673</td><td>1997-09-18 00:00:00.000</td></tr>",
                            "<tr><td>10674</td><td>1997-09-18 00:00:00.000</td></tr>",
                            "<tr><td>10675</td><td>1997-09-19 00:00:00.000</td></tr>",
                            "<tr><td>10676</td><td>1997-09-22 00:00:00.000</td></tr>",
                            "<tr><td>10677</td><td>1997-09-22 00:00:00.000</td></tr>",
                            "<tr><td>10678</td><td>1997-09-23 00:00:00.000</td></tr>",
                            "<tr><td>10679</td><td>1997-09-23 00:00:00.000</td></tr>",
                            "<tr><td>10680</td><td>1997-09-24 00:00:00.000</td></tr>",
                            "<tr><td>10681</td><td>1997-09-25 00:00:00.000</td></tr>",
                            "<tr><td>10682</td><td>1997-09-25 00:00:00.000</td></tr>",
                            "<tr><td>10683</td><td>1997-09-26 00:00:00.000</td></tr>",
                            "<tr><td>10684</td><td>1997-09-26 00:00:00.000</td></tr>",
                            "<tr><td>10685</td><td>1997-09-29 00:00:00.000</td></tr>",
                            "<tr><td>10686</td><td>1997-09-30 00:00:00.000</td></tr>",
                            "<tr><td>10687</td><td>1997-09-30 00:00:00.000</td></tr>",
                            "<tr><td>10688</td><td>1997-10-01 00:00:00.000</td></tr>",
                            "<tr><td>10689</td><td>1997-10-01 00:00:00.000</td></tr>",
                            "<tr><td>10690</td><td>1997-10-02 00:00:00.000</td></tr>",
                            "<tr><td>10691</td><td>1997-10-03 00:00:00.000</td></tr>",
                            "<tr><td>10692</td><td>1997-10-03 00:00:00.000</td></tr>",
                            "<tr><td>10693</td><td>1997-10-06 00:00:00.000</td></tr>",
                            "<tr><td>10694</td><td>1997-10-06 00:00:00.000</td></tr>",
                            "<tr><td>10695</td><td>1997-10-07 00:00:00.000</td></tr>",
                            "<tr><td>10696</td><td>1997-10-08 00:00:00.000</td></tr>",
                            "<tr><td>10697</td><td>1997-10-08 00:00:00.000</td></tr>",
                            "<tr><td>10698</td><td>1997-10-09 00:00:00.000</td></tr>",
                            "<tr><td>10699</td><td>1997-10-09 00:00:00.000</td></tr>",
                            "<tr><td>10700</td><td>1997-10-10 00:00:00.000</td></tr>",
                            "<tr><td>10701</td><td>1997-10-13 00:00:00.000</td></tr>",
                            "<tr><td>10702</td><td>1997-10-13 00:00:00.000</td></tr>",
                            "<tr><td>10703</td><td>1997-10-14 00:00:00.000</td></tr>",
                            "<tr><td>10704</td><td>1997-10-14 00:00:00.000</td></tr>",
                            "<tr><td>10705</td><td>1997-10-15 00:00:00.000</td></tr>",
                            "<tr><td>10706</td><td>1997-10-16 00:00:00.000</td></tr>",
                            "<tr><td>10707</td><td>1997-10-16 00:00:00.000</td></tr>",
                            "<tr><td>10708</td><td>1997-10-17 00:00:00.000</td></tr>",
                            "<tr><td>10709</td><td>1997-10-17 00:00:00.000</td></tr>",
                            "<tr><td>10710</td><td>1997-10-20 00:00:00.000</td></tr>",
                            "<tr><td>10711</td><td>1997-10-21 00:00:00.000</td></tr>",
                            "<tr><td>10712</td><td>1997-10-21 00:00:00.000</td></tr>",
                            "<tr><td>10713</td><td>1997-10-22 00:00:00.000</td></tr>",
                            "<tr><td>10714</td><td>1997-10-22 00:00:00.000</td></tr>",
                            "<tr><td>10715</td><td>1997-10-23 00:00:00.000</td></tr>",
                            "<tr><td>10716</td><td>1997-10-24 00:00:00.000</td></tr>",
                            "<tr><td>10717</td><td>1997-10-24 00:00:00.000</td></tr>",
                            "<tr><td>10718</td><td>1997-10-27 00:00:00.000</td></tr>",
                            "<tr><td>10719</td><td>1997-10-27 00:00:00.000</td></tr>",
                            "<tr><td>10720</td><td>1997-10-28 00:00:00.000</td></tr>",
                            "<tr><td>10721</td><td>1997-10-29 00:00:00.000</td></tr>",
                            "<tr><td>10722</td><td>1997-10-29 00:00:00.000</td></tr>",
                            "<tr><td>10723</td><td>1997-10-30 00:00:00.000</td></tr>",
                            "<tr><td>10724</td><td>1997-10-30 00:00:00.000</td></tr>",
                            "<tr><td>10725</td><td>1997-10-31 00:00:00.000</td></tr>",
                            "<tr><td>10726</td><td>1997-11-03 00:00:00.000</td></tr>",
                            "<tr><td>10727</td><td>1997-11-03 00:00:00.000</td></tr>",
                            "<tr><td>10728</td><td>1997-11-04 00:00:00.000</td></tr>",
                            "<tr><td>10729</td><td>1997-11-04 00:00:00.000</td></tr>",
                            "<tr><td>10730</td><td>1997-11-05 00:00:00.000</td></tr>",
                            "<tr><td>10731</td><td>1997-11-06 00:00:00.000</td></tr>",
                            "<tr><td>10732</td><td>1997-11-06 00:00:00.000</td></tr>",
                            "<tr><td>10733</td><td>1997-11-07 00:00:00.000</td></tr>",
                            "<tr><td>10734</td><td>1997-11-07 00:00:00.000</td></tr>",
                            "<tr><td>10735</td><td>1997-11-10 00:00:00.000</td></tr>",
                            "<tr><td>10736</td><td>1997-11-11 00:00:00.000</td></tr>",
                            "<tr><td>10737</td><td>1997-11-11 00:00:00.000</td></tr>",
                            "<tr><td>10738</td><td>1997-11-12 00:00:00.000</td></tr>",
                            "<tr><td>10739</td><td>1997-11-12 00:00:00.000</td></tr>",
                            "<tr><td>10740</td><td>1997-11-13 00:00:00.000</td></tr>",
                            "<tr><td>10741</td><td>1997-11-14 00:00:00.000</td></tr>",
                            "<tr><td>10742</td><td>1997-11-14 00:00:00.000</td></tr>",
                            "<tr><td>10743</td><td>1997-11-17 00:00:00.000</td></tr>",
                            "<tr><td>10744</td><td>1997-11-17 00:00:00.000</td></tr>",
                            "<tr><td>10745</td><td>1997-11-18 00:00:00.000</td></tr>",
                            "<tr><td>10746</td><td>1997-11-19 00:00:00.000</td></tr>",
                            "<tr><td>10747</td><td>1997-11-19 00:00:00.000</td></tr>",
                            "<tr><td>10748</td><td>1997-11-20 00:00:00.000</td></tr>",
                            "<tr><td>10749</td><td>1997-11-20 00:00:00.000</td></tr>",
                            "<tr><td>10750</td><td>1997-11-21 00:00:00.000</td></tr>",
                            "<tr><td>10751</td><td>1997-11-24 00:00:00.000</td></tr>",
                            "<tr><td>10752</td><td>1997-11-24 00:00:00.000</td></tr>",
                            "<tr><td>10753</td><td>1997-11-25 00:00:00.000</td></tr>",
                            "<tr><td>10754</td><td>1997-11-25 00:00:00.000</td></tr>",
                            "<tr><td>10755</td><td>1997-11-26 00:00:00.000</td></tr>",
                            "<tr><td>10756</td><td>1997-11-27 00:00:00.000</td></tr>",
                            "<tr><td>10757</td><td>1997-11-27 00:00:00.000</td></tr>",
                            "<tr><td>10758</td><td>1997-11-28 00:00:00.000</td></tr>",
                            "<tr><td>10759</td><td>1997-11-28 00:00:00.000</td></tr>",
                            "<tr><td>10760</td><td>1997-12-01 00:00:00.000</td></tr>",
                            "<tr><td>10761</td><td>1997-12-02 00:00:00.000</td></tr>",
                            "<tr><td>10762</td><td>1997-12-02 00:00:00.000</td></tr>",
                            "<tr><td>10763</td><td>1997-12-03 00:00:00.000</td></tr>",
                            "<tr><td>10764</td><td>1997-12-03 00:00:00.000</td></tr>",
                            "<tr><td>10765</td><td>1997-12-04 00:00:00.000</td></tr>",
                            "<tr><td>10766</td><td>1997-12-05 00:00:00.000</td></tr>",
                            "<tr><td>10767</td><td>1997-12-05 00:00:00.000</td></tr>",
                            "<tr><td>10768</td><td>1997-12-08 00:00:00.000</td></tr>",
                            "<tr><td>10769</td><td>1997-12-08 00:00:00.000</td></tr>",
                            "<tr><td>10770</td><td>1997-12-09 00:00:00.000</td></tr>",
                            "<tr><td>10771</td><td>1997-12-10 00:00:00.000</td></tr>",
                            "<tr><td>10772</td><td>1997-12-10 00:00:00.000</td></tr>",
                            "<tr><td>10773</td><td>1997-12-11 00:00:00.000</td></tr>",
                            "<tr><td>10774</td><td>1997-12-11 00:00:00.000</td></tr>",
                            "<tr><td>10775</td><td>1997-12-12 00:00:00.000</td></tr>",
                            "<tr><td>10776</td><td>1997-12-15 00:00:00.000</td></tr>",
                            "<tr><td>10777</td><td>1997-12-15 00:00:00.000</td></tr>",
                            "<tr><td>10778</td><td>1997-12-16 00:00:00.000</td></tr>",
                            "<tr><td>10779</td><td>1997-12-16 00:00:00.000</td></tr>",
                            "<tr><td>10780</td><td>1997-12-16 00:00:00.000</td></tr>",
                            "<tr><td>10781</td><td>1997-12-17 00:00:00.000</td></tr>",
                            "<tr><td>10782</td><td>1997-12-17 00:00:00.000</td></tr>",
                            "<tr><td>10783</td><td>1997-12-18 00:00:00.000</td></tr>",
                            "<tr><td>10784</td><td>1997-12-18 00:00:00.000</td></tr>",
                            "<tr><td>10785</td><td>1997-12-18 00:00:00.000</td></tr>",
                            "<tr><td>10786</td><td>1997-12-19 00:00:00.000</td></tr>",
                            "<tr><td>10787</td><td>1997-12-19 00:00:00.000</td></tr>",
                            "<tr><td>10788</td><td>1997-12-22 00:00:00.000</td></tr>",
                            "<tr><td>10789</td><td>1997-12-22 00:00:00.000</td></tr>",
                            "<tr><td>10790</td><td>1997-12-22 00:00:00.000</td></tr>",
                            "<tr><td>10791</td><td>1997-12-23 00:00:00.000</td></tr>",
                            "<tr><td>10792</td><td>1997-12-23 00:00:00.000</td></tr>",
                            "<tr><td>10793</td><td>1997-12-24 00:00:00.000</td></tr>",
                            "<tr><td>10794</td><td>1997-12-24 00:00:00.000</td></tr>",
                            "<tr><td>10795</td><td>1997-12-24 00:00:00.000</td></tr>",
                            "<tr><td>10796</td><td>1997-12-25 00:00:00.000</td></tr>",
                            "<tr><td>10797</td><td>1997-12-25 00:00:00.000</td></tr>",
                            "<tr><td>10798</td><td>1997-12-26 00:00:00.000</td></tr>",
                            "<tr><td>10799</td><td>1997-12-26 00:00:00.000</td></tr>",
                            "<tr><td>10800</td><td>1997-12-26 00:00:00.000</td></tr>",
                            "<tr><td>10801</td><td>1997-12-29 00:00:00.000</td></tr>",
                            "<tr><td>10802</td><td>1997-12-29 00:00:00.000</td></tr>",
                            "<tr><td>10803</td><td>1997-12-30 00:00:00.000</td></tr>",
                            "<tr><td>10804</td><td>1997-12-30 00:00:00.000</td></tr>",
                            "<tr><td>10805</td><td>1997-12-30 00:00:00.000</td></tr>",
                            "<tr><td>10806</td><td>1997-12-31 00:00:00.000</td></tr>",
                            "<tr><td>10807</td><td>1997-12-31 00:00:00.000</td></tr>",
                            "</table>"
                        ]
                    }
                }
            ],
            "execution_count": 3
        },
        {
            "cell_type": "markdown",
            "source": [
                "4. Obtener cantidad total de pedidos por cliente, solo los que tienen > 20 pedidos."
            ],
            "metadata": {
                "azdata_cell_guid": "088e89a7-fd84-4cf6-843f-c22bebf01cf8"
            }
        },
        {
            "cell_type": "code",
            "source": [
                "SELECT CustomerID, COUNT(*) AS TotalPedidos\n",
                "FROM Orders\n",
                "GROUP BY CustomerID\n",
                "HAVING COUNT(*) > 20;"
            ],
            "metadata": {
                "SqlCellData": {
                    "data_source_name": "Northwind@localhost",
                    "variableName$1": "df_sql4"
                },
                "azdata_cell_guid": "fd3b66e5-df3b-4d32-8139-6b7548769542",
                "language": "sql"
            },
            "outputs": [
                {
                    "output_type": "display_data",
                    "data": {
                        "text/html": "(3 rows affected)"
                    },
                    "metadata": {}
                },
                {
                    "output_type": "display_data",
                    "data": {
                        "text/html": "Total execution time: 00:00:00.017"
                    },
                    "metadata": {}
                },
                {
                    "output_type": "execute_result",
                    "metadata": {},
                    "execution_count": 2,
                    "data": {
                        "application/vnd.dataresource+json": {
                            "schema": {
                                "fields": [
                                    {
                                        "name": "CustomerID"
                                    },
                                    {
                                        "name": "TotalPedidos"
                                    }
                                ]
                            },
                            "data": [
                                {
                                    "CustomerID": "ERNSH",
                                    "TotalPedidos": "30"
                                },
                                {
                                    "CustomerID": "QUICK",
                                    "TotalPedidos": "28"
                                },
                                {
                                    "CustomerID": "SAVEA",
                                    "TotalPedidos": "31"
                                }
                            ]
                        },
                        "text/html": [
                            "<table>",
                            "<tr><th>CustomerID</th><th>TotalPedidos</th></tr>",
                            "<tr><td>ERNSH</td><td>30</td></tr>",
                            "<tr><td>QUICK</td><td>28</td></tr>",
                            "<tr><td>SAVEA</td><td>31</td></tr>",
                            "</table>"
                        ]
                    }
                }
            ],
            "execution_count": 2
        },
        {
            "cell_type": "markdown",
            "source": [
                "5. Nombre de productos junto al nombre de su categoría (INNER JOIN)."
            ],
            "metadata": {
                "azdata_cell_guid": "8e6068ab-d3f5-4fe4-8cfa-2b908549f2af"
            }
        },
        {
            "cell_type": "code",
            "source": [
                "SELECT Products.ProductName, Categories.CategoryName\n",
                "FROM Products\n",
                "INNER JOIN Categories ON Products.CategoryID = Categories.CategoryID"
            ],
            "metadata": {
                "SqlCellData": {
                    "data_source_name": "Northwind@localhost",
                    "variableName$1": "df_sql5"
                },
                "azdata_cell_guid": "39ae0e21-af19-4a1b-88e3-c8947b5cb157",
                "language": "sql"
            },
            "outputs": [
                {
                    "output_type": "display_data",
                    "data": {
                        "text/html": "(77 rows affected)"
                    },
                    "metadata": {}
                },
                {
                    "output_type": "display_data",
                    "data": {
                        "text/html": "Total execution time: 00:00:00.036"
                    },
                    "metadata": {}
                },
                {
                    "output_type": "execute_result",
                    "metadata": {},
                    "execution_count": 1,
                    "data": {
                        "application/vnd.dataresource+json": {
                            "schema": {
                                "fields": [
                                    {
                                        "name": "ProductName"
                                    },
                                    {
                                        "name": "CategoryName"
                                    }
                                ]
                            },
                            "data": [
                                {
                                    "ProductName": "Chai",
                                    "CategoryName": "Beverages"
                                },
                                {
                                    "ProductName": "Chang",
                                    "CategoryName": "Beverages"
                                },
                                {
                                    "ProductName": "Aniseed Syrup",
                                    "CategoryName": "Condiments"
                                },
                                {
                                    "ProductName": "Chef Anton's Cajun Seasoning",
                                    "CategoryName": "Condiments"
                                },
                                {
                                    "ProductName": "Chef Anton's Gumbo Mix",
                                    "CategoryName": "Condiments"
                                },
                                {
                                    "ProductName": "Grandma's Boysenberry Spread",
                                    "CategoryName": "Condiments"
                                },
                                {
                                    "ProductName": "Uncle Bob's Organic Dried Pears",
                                    "CategoryName": "Produce"
                                },
                                {
                                    "ProductName": "Northwoods Cranberry Sauce",
                                    "CategoryName": "Condiments"
                                },
                                {
                                    "ProductName": "Mishi Kobe Niku",
                                    "CategoryName": "Meat/Poultry"
                                },
                                {
                                    "ProductName": "Ikura",
                                    "CategoryName": "Seafood"
                                },
                                {
                                    "ProductName": "Queso Cabrales",
                                    "CategoryName": "Dairy Products"
                                },
                                {
                                    "ProductName": "Queso Manchego La Pastora",
                                    "CategoryName": "Dairy Products"
                                },
                                {
                                    "ProductName": "Konbu",
                                    "CategoryName": "Seafood"
                                },
                                {
                                    "ProductName": "Tofu",
                                    "CategoryName": "Produce"
                                },
                                {
                                    "ProductName": "Genen Shouyu",
                                    "CategoryName": "Condiments"
                                },
                                {
                                    "ProductName": "Pavlova",
                                    "CategoryName": "Confections"
                                },
                                {
                                    "ProductName": "Alice Mutton",
                                    "CategoryName": "Meat/Poultry"
                                },
                                {
                                    "ProductName": "Carnarvon Tigers",
                                    "CategoryName": "Seafood"
                                },
                                {
                                    "ProductName": "Teatime Chocolate Biscuits",
                                    "CategoryName": "Confections"
                                },
                                {
                                    "ProductName": "Sir Rodney's Marmalade",
                                    "CategoryName": "Confections"
                                },
                                {
                                    "ProductName": "Sir Rodney's Scones",
                                    "CategoryName": "Confections"
                                },
                                {
                                    "ProductName": "Gustaf's Knäckebröd",
                                    "CategoryName": "Grains/Cereals"
                                },
                                {
                                    "ProductName": "Tunnbröd",
                                    "CategoryName": "Grains/Cereals"
                                },
                                {
                                    "ProductName": "Guaraná Fantástica",
                                    "CategoryName": "Beverages"
                                },
                                {
                                    "ProductName": "NuNuCa Nuß-Nougat-Creme",
                                    "CategoryName": "Confections"
                                },
                                {
                                    "ProductName": "Gumbär Gummibärchen",
                                    "CategoryName": "Confections"
                                },
                                {
                                    "ProductName": "Schoggi Schokolade",
                                    "CategoryName": "Confections"
                                },
                                {
                                    "ProductName": "Rössle Sauerkraut",
                                    "CategoryName": "Produce"
                                },
                                {
                                    "ProductName": "Thüringer Rostbratwurst",
                                    "CategoryName": "Meat/Poultry"
                                },
                                {
                                    "ProductName": "Nord-Ost Matjeshering",
                                    "CategoryName": "Seafood"
                                },
                                {
                                    "ProductName": "Gorgonzola Telino",
                                    "CategoryName": "Dairy Products"
                                },
                                {
                                    "ProductName": "Mascarpone Fabioli",
                                    "CategoryName": "Dairy Products"
                                },
                                {
                                    "ProductName": "Geitost",
                                    "CategoryName": "Dairy Products"
                                },
                                {
                                    "ProductName": "Sasquatch Ale",
                                    "CategoryName": "Beverages"
                                },
                                {
                                    "ProductName": "Steeleye Stout",
                                    "CategoryName": "Beverages"
                                },
                                {
                                    "ProductName": "Inlagd Sill",
                                    "CategoryName": "Seafood"
                                },
                                {
                                    "ProductName": "Gravad lax",
                                    "CategoryName": "Seafood"
                                },
                                {
                                    "ProductName": "Côte de Blaye",
                                    "CategoryName": "Beverages"
                                },
                                {
                                    "ProductName": "Chartreuse verte",
                                    "CategoryName": "Beverages"
                                },
                                {
                                    "ProductName": "Boston Crab Meat",
                                    "CategoryName": "Seafood"
                                },
                                {
                                    "ProductName": "Jack's New England Clam Chowder",
                                    "CategoryName": "Seafood"
                                },
                                {
                                    "ProductName": "Singaporean Hokkien Fried Mee",
                                    "CategoryName": "Grains/Cereals"
                                },
                                {
                                    "ProductName": "Ipoh Coffee",
                                    "CategoryName": "Beverages"
                                },
                                {
                                    "ProductName": "Gula Malacca",
                                    "CategoryName": "Condiments"
                                },
                                {
                                    "ProductName": "Rogede sild",
                                    "CategoryName": "Seafood"
                                },
                                {
                                    "ProductName": "Spegesild",
                                    "CategoryName": "Seafood"
                                },
                                {
                                    "ProductName": "Zaanse koeken",
                                    "CategoryName": "Confections"
                                },
                                {
                                    "ProductName": "Chocolade",
                                    "CategoryName": "Confections"
                                },
                                {
                                    "ProductName": "Maxilaku",
                                    "CategoryName": "Confections"
                                },
                                {
                                    "ProductName": "Valkoinen suklaa",
                                    "CategoryName": "Confections"
                                },
                                {
                                    "ProductName": "Manjimup Dried Apples",
                                    "CategoryName": "Produce"
                                },
                                {
                                    "ProductName": "Filo Mix",
                                    "CategoryName": "Grains/Cereals"
                                },
                                {
                                    "ProductName": "Perth Pasties",
                                    "CategoryName": "Meat/Poultry"
                                },
                                {
                                    "ProductName": "Tourtière",
                                    "CategoryName": "Meat/Poultry"
                                },
                                {
                                    "ProductName": "Pâté chinois",
                                    "CategoryName": "Meat/Poultry"
                                },
                                {
                                    "ProductName": "Gnocchi di nonna Alice",
                                    "CategoryName": "Grains/Cereals"
                                },
                                {
                                    "ProductName": "Ravioli Angelo",
                                    "CategoryName": "Grains/Cereals"
                                },
                                {
                                    "ProductName": "Escargots de Bourgogne",
                                    "CategoryName": "Seafood"
                                },
                                {
                                    "ProductName": "Raclette Courdavault",
                                    "CategoryName": "Dairy Products"
                                },
                                {
                                    "ProductName": "Camembert Pierrot",
                                    "CategoryName": "Dairy Products"
                                },
                                {
                                    "ProductName": "Sirop d'érable",
                                    "CategoryName": "Condiments"
                                },
                                {
                                    "ProductName": "Tarte au sucre",
                                    "CategoryName": "Confections"
                                },
                                {
                                    "ProductName": "Vegie-spread",
                                    "CategoryName": "Condiments"
                                },
                                {
                                    "ProductName": "Wimmers gute Semmelknödel",
                                    "CategoryName": "Grains/Cereals"
                                },
                                {
                                    "ProductName": "Louisiana Fiery Hot Pepper Sauce",
                                    "CategoryName": "Condiments"
                                },
                                {
                                    "ProductName": "Louisiana Hot Spiced Okra",
                                    "CategoryName": "Condiments"
                                },
                                {
                                    "ProductName": "Laughing Lumberjack Lager",
                                    "CategoryName": "Beverages"
                                },
                                {
                                    "ProductName": "Scottish Longbreads",
                                    "CategoryName": "Confections"
                                },
                                {
                                    "ProductName": "Gudbrandsdalsost",
                                    "CategoryName": "Dairy Products"
                                },
                                {
                                    "ProductName": "Outback Lager",
                                    "CategoryName": "Beverages"
                                },
                                {
                                    "ProductName": "Flotemysost",
                                    "CategoryName": "Dairy Products"
                                },
                                {
                                    "ProductName": "Mozzarella di Giovanni",
                                    "CategoryName": "Dairy Products"
                                },
                                {
                                    "ProductName": "Röd Kaviar",
                                    "CategoryName": "Seafood"
                                },
                                {
                                    "ProductName": "Longlife Tofu",
                                    "CategoryName": "Produce"
                                },
                                {
                                    "ProductName": "Rhönbräu Klosterbier",
                                    "CategoryName": "Beverages"
                                },
                                {
                                    "ProductName": "Lakkalikööri",
                                    "CategoryName": "Beverages"
                                },
                                {
                                    "ProductName": "Original Frankfurter grüne Soße",
                                    "CategoryName": "Condiments"
                                }
                            ]
                        },
                        "text/html": [
                            "<table>",
                            "<tr><th>ProductName</th><th>CategoryName</th></tr>",
                            "<tr><td>Chai</td><td>Beverages</td></tr>",
                            "<tr><td>Chang</td><td>Beverages</td></tr>",
                            "<tr><td>Aniseed Syrup</td><td>Condiments</td></tr>",
                            "<tr><td>Chef Anton&#39;s Cajun Seasoning</td><td>Condiments</td></tr>",
                            "<tr><td>Chef Anton&#39;s Gumbo Mix</td><td>Condiments</td></tr>",
                            "<tr><td>Grandma&#39;s Boysenberry Spread</td><td>Condiments</td></tr>",
                            "<tr><td>Uncle Bob&#39;s Organic Dried Pears</td><td>Produce</td></tr>",
                            "<tr><td>Northwoods Cranberry Sauce</td><td>Condiments</td></tr>",
                            "<tr><td>Mishi Kobe Niku</td><td>Meat/Poultry</td></tr>",
                            "<tr><td>Ikura</td><td>Seafood</td></tr>",
                            "<tr><td>Queso Cabrales</td><td>Dairy Products</td></tr>",
                            "<tr><td>Queso Manchego La Pastora</td><td>Dairy Products</td></tr>",
                            "<tr><td>Konbu</td><td>Seafood</td></tr>",
                            "<tr><td>Tofu</td><td>Produce</td></tr>",
                            "<tr><td>Genen Shouyu</td><td>Condiments</td></tr>",
                            "<tr><td>Pavlova</td><td>Confections</td></tr>",
                            "<tr><td>Alice Mutton</td><td>Meat/Poultry</td></tr>",
                            "<tr><td>Carnarvon Tigers</td><td>Seafood</td></tr>",
                            "<tr><td>Teatime Chocolate Biscuits</td><td>Confections</td></tr>",
                            "<tr><td>Sir Rodney&#39;s Marmalade</td><td>Confections</td></tr>",
                            "<tr><td>Sir Rodney&#39;s Scones</td><td>Confections</td></tr>",
                            "<tr><td>Gustaf&#39;s Knäckebröd</td><td>Grains/Cereals</td></tr>",
                            "<tr><td>Tunnbröd</td><td>Grains/Cereals</td></tr>",
                            "<tr><td>Guaraná Fantástica</td><td>Beverages</td></tr>",
                            "<tr><td>NuNuCa Nuß-Nougat-Creme</td><td>Confections</td></tr>",
                            "<tr><td>Gumbär Gummibärchen</td><td>Confections</td></tr>",
                            "<tr><td>Schoggi Schokolade</td><td>Confections</td></tr>",
                            "<tr><td>Rössle Sauerkraut</td><td>Produce</td></tr>",
                            "<tr><td>Thüringer Rostbratwurst</td><td>Meat/Poultry</td></tr>",
                            "<tr><td>Nord-Ost Matjeshering</td><td>Seafood</td></tr>",
                            "<tr><td>Gorgonzola Telino</td><td>Dairy Products</td></tr>",
                            "<tr><td>Mascarpone Fabioli</td><td>Dairy Products</td></tr>",
                            "<tr><td>Geitost</td><td>Dairy Products</td></tr>",
                            "<tr><td>Sasquatch Ale</td><td>Beverages</td></tr>",
                            "<tr><td>Steeleye Stout</td><td>Beverages</td></tr>",
                            "<tr><td>Inlagd Sill</td><td>Seafood</td></tr>",
                            "<tr><td>Gravad lax</td><td>Seafood</td></tr>",
                            "<tr><td>Côte de Blaye</td><td>Beverages</td></tr>",
                            "<tr><td>Chartreuse verte</td><td>Beverages</td></tr>",
                            "<tr><td>Boston Crab Meat</td><td>Seafood</td></tr>",
                            "<tr><td>Jack&#39;s New England Clam Chowder</td><td>Seafood</td></tr>",
                            "<tr><td>Singaporean Hokkien Fried Mee</td><td>Grains/Cereals</td></tr>",
                            "<tr><td>Ipoh Coffee</td><td>Beverages</td></tr>",
                            "<tr><td>Gula Malacca</td><td>Condiments</td></tr>",
                            "<tr><td>Rogede sild</td><td>Seafood</td></tr>",
                            "<tr><td>Spegesild</td><td>Seafood</td></tr>",
                            "<tr><td>Zaanse koeken</td><td>Confections</td></tr>",
                            "<tr><td>Chocolade</td><td>Confections</td></tr>",
                            "<tr><td>Maxilaku</td><td>Confections</td></tr>",
                            "<tr><td>Valkoinen suklaa</td><td>Confections</td></tr>",
                            "<tr><td>Manjimup Dried Apples</td><td>Produce</td></tr>",
                            "<tr><td>Filo Mix</td><td>Grains/Cereals</td></tr>",
                            "<tr><td>Perth Pasties</td><td>Meat/Poultry</td></tr>",
                            "<tr><td>Tourtière</td><td>Meat/Poultry</td></tr>",
                            "<tr><td>Pâté chinois</td><td>Meat/Poultry</td></tr>",
                            "<tr><td>Gnocchi di nonna Alice</td><td>Grains/Cereals</td></tr>",
                            "<tr><td>Ravioli Angelo</td><td>Grains/Cereals</td></tr>",
                            "<tr><td>Escargots de Bourgogne</td><td>Seafood</td></tr>",
                            "<tr><td>Raclette Courdavault</td><td>Dairy Products</td></tr>",
                            "<tr><td>Camembert Pierrot</td><td>Dairy Products</td></tr>",
                            "<tr><td>Sirop d&#39;érable</td><td>Condiments</td></tr>",
                            "<tr><td>Tarte au sucre</td><td>Confections</td></tr>",
                            "<tr><td>Vegie-spread</td><td>Condiments</td></tr>",
                            "<tr><td>Wimmers gute Semmelknödel</td><td>Grains/Cereals</td></tr>",
                            "<tr><td>Louisiana Fiery Hot Pepper Sauce</td><td>Condiments</td></tr>",
                            "<tr><td>Louisiana Hot Spiced Okra</td><td>Condiments</td></tr>",
                            "<tr><td>Laughing Lumberjack Lager</td><td>Beverages</td></tr>",
                            "<tr><td>Scottish Longbreads</td><td>Confections</td></tr>",
                            "<tr><td>Gudbrandsdalsost</td><td>Dairy Products</td></tr>",
                            "<tr><td>Outback Lager</td><td>Beverages</td></tr>",
                            "<tr><td>Flotemysost</td><td>Dairy Products</td></tr>",
                            "<tr><td>Mozzarella di Giovanni</td><td>Dairy Products</td></tr>",
                            "<tr><td>Röd Kaviar</td><td>Seafood</td></tr>",
                            "<tr><td>Longlife Tofu</td><td>Produce</td></tr>",
                            "<tr><td>Rhönbräu Klosterbier</td><td>Beverages</td></tr>",
                            "<tr><td>Lakkalikööri</td><td>Beverages</td></tr>",
                            "<tr><td>Original Frankfurter grüne Soße</td><td>Condiments</td></tr>",
                            "</table>"
                        ]
                    }
                }
            ],
            "execution_count": 1
        },
        {
            "cell_type": "markdown",
            "source": [
                "6. Todos los empleados y el número de pedidos que tienen (LEFT JOIN)."
            ],
            "metadata": {
                "azdata_cell_guid": "664c617c-ef73-4b25-a695-3a2c6936486c"
            }
        },
        {
            "cell_type": "code",
            "source": [
                "SELECT Employees.FirstName, Employees.LastName, COUNT(Orders.OrderID) AS TotalPedidosEmpleados\n",
                "FROM Employees\n",
                "LEFT JOIN Orders ON Employees.EmployeeID = Orders.EmployeeID\n",
                "GROUP BY Employees.EmployeeID, Employees.FirstName, Employees.LastName;"
            ],
            "metadata": {
                "SqlCellData": {
                    "data_source_name": "Northwind@localhost",
                    "variableName$1": "df_sql6"
                },
                "azdata_cell_guid": "a5b327a0-4b47-4c29-92f0-d7f9587b8ae2",
                "language": "sql"
            },
            "outputs": [
                {
                    "output_type": "display_data",
                    "data": {
                        "text/html": "(9 rows affected)"
                    },
                    "metadata": {}
                },
                {
                    "output_type": "display_data",
                    "data": {
                        "text/html": "Total execution time: 00:00:00.079"
                    },
                    "metadata": {}
                },
                {
                    "output_type": "execute_result",
                    "execution_count": 1,
                    "data": {
                        "application/vnd.dataresource+json": {
                            "schema": {
                                "fields": [
                                    {
                                        "name": "FirstName"
                                    },
                                    {
                                        "name": "LastName"
                                    },
                                    {
                                        "name": "TotalPedidosEmpleados"
                                    }
                                ]
                            },
                            "data": [
                                {
                                    "FirstName": "Nancy",
                                    "LastName": "Davolio",
                                    "TotalPedidosEmpleados": "123"
                                },
                                {
                                    "FirstName": "Andrew",
                                    "LastName": "Fuller",
                                    "TotalPedidosEmpleados": "96"
                                },
                                {
                                    "FirstName": "Janet",
                                    "LastName": "Leverling",
                                    "TotalPedidosEmpleados": "127"
                                },
                                {
                                    "FirstName": "Margaret",
                                    "LastName": "Peacock",
                                    "TotalPedidosEmpleados": "156"
                                },
                                {
                                    "FirstName": "Steven",
                                    "LastName": "Buchanan",
                                    "TotalPedidosEmpleados": "42"
                                },
                                {
                                    "FirstName": "Michael",
                                    "LastName": "Suyama",
                                    "TotalPedidosEmpleados": "67"
                                },
                                {
                                    "FirstName": "Robert",
                                    "LastName": "King",
                                    "TotalPedidosEmpleados": "72"
                                },
                                {
                                    "FirstName": "Laura",
                                    "LastName": "Callahan",
                                    "TotalPedidosEmpleados": "104"
                                },
                                {
                                    "FirstName": "Anne",
                                    "LastName": "Dodsworth",
                                    "TotalPedidosEmpleados": "43"
                                }
                            ]
                        },
                        "text/html": "<table><tr><th>FirstName</th><th>LastName</th><th>TotalPedidosEmpleados</th></tr><tr><td>Nancy</td><td>Davolio</td><td>123</td></tr><tr><td>Andrew</td><td>Fuller</td><td>96</td></tr><tr><td>Janet</td><td>Leverling</td><td>127</td></tr><tr><td>Margaret</td><td>Peacock</td><td>156</td></tr><tr><td>Steven</td><td>Buchanan</td><td>42</td></tr><tr><td>Michael</td><td>Suyama</td><td>67</td></tr><tr><td>Robert</td><td>King</td><td>72</td></tr><tr><td>Laura</td><td>Callahan</td><td>104</td></tr><tr><td>Anne</td><td>Dodsworth</td><td>43</td></tr></table>"
                    },
                    "metadata": {}
                }
            ],
            "execution_count": 1
        }
    ]
}