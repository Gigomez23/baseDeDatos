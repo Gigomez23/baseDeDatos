{
    "metadata": {
        "kernelspec": {
            "name": "SQL",
            "display_name": "SQL",
            "language": "sql"
        },
        "language_info": {
            "name": "sql",
            "version": ""
        }
    },
    "nbformat_minor": 2,
    "nbformat": 4,
    "cells": [
        {
            "cell_type": "markdown",
            "source": [
                "![Logo FIA.png](data:image/png;base64,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)   \n",
                "\n",
                "# 📝 Notebook: Práctica#3 | Consultas a la BD Northwind\n",
                "## (20 puntos)\n",
                "\n",
                "**Nombre del integrante #1: Andrea Fernanda Bojorge Gruz**\n",
                "\n",
                "**Nombre del integrante #2: Gabriel Ivan Gomez Matamoros**\n",
                "\n",
                "Esta práctica evalúa el dominio de la sentencia SELECT en SQL Server, incluyendo filtros, ordenamientos, uniones, agrupaciones y subconsultas.\n",
                "\n",
                "✍️ **Instrucciones:**\n",
                "\n",
                "- Lee atentamente cada enunciado.\n",
                "- Escribe tu consulta T-SQL en una celda de código debajo del requerimiento\n",
                "- Verifica que la sintaxis sea correcta antes de ejecutar.\n",
                "- Documenta la sentencia resultante mediante celda de texto"
            ],
            "metadata": {
                "azdata_cell_guid": "02a778af-b38f-4094-bab4-3e55ce737a9a"
            },
            "attachments": {}
        },
        {
            "cell_type": "markdown",
            "source": [
                "## 📝 Ejercicio 1\nMostrar el nombre de los productos y su precio unitario, únicamente aquellos con precio entre 20 y 50, ordenados de mayor a menor precio."
            ],
            "metadata": {
                "azdata_cell_guid": "b8ce1a2d-4924-4fa1-9e21-a604a5b2b236"
            }
        },
        {
            "cell_type": "code",
            "source": [
                "SELECT Products.ProductName, Products.UnitPrice\n",
                "FROM Products\n",
                "WHERE UnitPrice BETWEEN 20 AND 50;"
            ],
            "metadata": {
                "SqlCellData": {
                    "data_source_name": "Northwind@localhost",
                    "variableName$1": "df_sql1"
                },
                "azdata_cell_guid": "fd95d8bb-cab6-4124-9235-bfca3df49267",
                "language": "sql"
            },
            "outputs": [
                {
                    "output_type": "display_data",
                    "data": {
                        "text/html": "(31 rows affected)"
                    },
                    "metadata": {}
                },
                {
                    "output_type": "display_data",
                    "data": {
                        "text/html": "Total execution time: 00:00:00.021"
                    },
                    "metadata": {}
                },
                {
                    "output_type": "execute_result",
                    "metadata": {},
                    "execution_count": 1,
                    "data": {
                        "application/vnd.dataresource+json": {
                            "schema": {
                                "fields": [
                                    {
                                        "name": "ProductName"
                                    },
                                    {
                                        "name": "UnitPrice"
                                    }
                                ]
                            },
                            "data": [
                                {
                                    "ProductName": "Chef Anton's Cajun Seasoning",
                                    "UnitPrice": "22.00"
                                },
                                {
                                    "ProductName": "Chef Anton's Gumbo Mix",
                                    "UnitPrice": "21.35"
                                },
                                {
                                    "ProductName": "Grandma's Boysenberry Spread",
                                    "UnitPrice": "25.00"
                                },
                                {
                                    "ProductName": "Uncle Bob's Organic Dried Pears",
                                    "UnitPrice": "30.00"
                                },
                                {
                                    "ProductName": "Northwoods Cranberry Sauce",
                                    "UnitPrice": "40.00"
                                },
                                {
                                    "ProductName": "Ikura",
                                    "UnitPrice": "31.00"
                                },
                                {
                                    "ProductName": "Queso Cabrales",
                                    "UnitPrice": "21.00"
                                },
                                {
                                    "ProductName": "Queso Manchego La Pastora",
                                    "UnitPrice": "38.00"
                                },
                                {
                                    "ProductName": "Tofu",
                                    "UnitPrice": "23.25"
                                },
                                {
                                    "ProductName": "Alice Mutton",
                                    "UnitPrice": "39.00"
                                },
                                {
                                    "ProductName": "Gustaf's Knäckebröd",
                                    "UnitPrice": "21.00"
                                },
                                {
                                    "ProductName": "Gumbär Gummibärchen",
                                    "UnitPrice": "31.23"
                                },
                                {
                                    "ProductName": "Schoggi Schokolade",
                                    "UnitPrice": "43.90"
                                },
                                {
                                    "ProductName": "Rössle Sauerkraut",
                                    "UnitPrice": "45.60"
                                },
                                {
                                    "ProductName": "Nord-Ost Matjeshering",
                                    "UnitPrice": "25.89"
                                },
                                {
                                    "ProductName": "Mascarpone Fabioli",
                                    "UnitPrice": "32.00"
                                },
                                {
                                    "ProductName": "Gravad lax",
                                    "UnitPrice": "26.00"
                                },
                                {
                                    "ProductName": "Ipoh Coffee",
                                    "UnitPrice": "46.00"
                                },
                                {
                                    "ProductName": "Maxilaku",
                                    "UnitPrice": "20.00"
                                },
                                {
                                    "ProductName": "Perth Pasties",
                                    "UnitPrice": "32.80"
                                },
                                {
                                    "ProductName": "Pâté chinois",
                                    "UnitPrice": "24.00"
                                },
                                {
                                    "ProductName": "Gnocchi di nonna Alice",
                                    "UnitPrice": "38.00"
                                },
                                {
                                    "ProductName": "Camembert Pierrot",
                                    "UnitPrice": "34.00"
                                },
                                {
                                    "ProductName": "Sirop d'érable",
                                    "UnitPrice": "28.50"
                                },
                                {
                                    "ProductName": "Tarte au sucre",
                                    "UnitPrice": "49.30"
                                },
                                {
                                    "ProductName": "Vegie-spread",
                                    "UnitPrice": "43.90"
                                },
                                {
                                    "ProductName": "Wimmers gute Semmelknödel",
                                    "UnitPrice": "33.25"
                                },
                                {
                                    "ProductName": "Louisiana Fiery Hot Pepper Sauce",
                                    "UnitPrice": "21.05"
                                },
                                {
                                    "ProductName": "Gudbrandsdalsost",
                                    "UnitPrice": "36.00"
                                },
                                {
                                    "ProductName": "Flotemysost",
                                    "UnitPrice": "21.50"
                                },
                                {
                                    "ProductName": "Mozzarella di Giovanni",
                                    "UnitPrice": "34.80"
                                }
                            ]
                        },
                        "text/html": [
                            "<table>",
                            "<tr><th>ProductName</th><th>UnitPrice</th></tr>",
                            "<tr><td>Chef Anton&#39;s Cajun Seasoning</td><td>22.00</td></tr>",
                            "<tr><td>Chef Anton&#39;s Gumbo Mix</td><td>21.35</td></tr>",
                            "<tr><td>Grandma&#39;s Boysenberry Spread</td><td>25.00</td></tr>",
                            "<tr><td>Uncle Bob&#39;s Organic Dried Pears</td><td>30.00</td></tr>",
                            "<tr><td>Northwoods Cranberry Sauce</td><td>40.00</td></tr>",
                            "<tr><td>Ikura</td><td>31.00</td></tr>",
                            "<tr><td>Queso Cabrales</td><td>21.00</td></tr>",
                            "<tr><td>Queso Manchego La Pastora</td><td>38.00</td></tr>",
                            "<tr><td>Tofu</td><td>23.25</td></tr>",
                            "<tr><td>Alice Mutton</td><td>39.00</td></tr>",
                            "<tr><td>Gustaf&#39;s Knäckebröd</td><td>21.00</td></tr>",
                            "<tr><td>Gumbär Gummibärchen</td><td>31.23</td></tr>",
                            "<tr><td>Schoggi Schokolade</td><td>43.90</td></tr>",
                            "<tr><td>Rössle Sauerkraut</td><td>45.60</td></tr>",
                            "<tr><td>Nord-Ost Matjeshering</td><td>25.89</td></tr>",
                            "<tr><td>Mascarpone Fabioli</td><td>32.00</td></tr>",
                            "<tr><td>Gravad lax</td><td>26.00</td></tr>",
                            "<tr><td>Ipoh Coffee</td><td>46.00</td></tr>",
                            "<tr><td>Maxilaku</td><td>20.00</td></tr>",
                            "<tr><td>Perth Pasties</td><td>32.80</td></tr>",
                            "<tr><td>Pâté chinois</td><td>24.00</td></tr>",
                            "<tr><td>Gnocchi di nonna Alice</td><td>38.00</td></tr>",
                            "<tr><td>Camembert Pierrot</td><td>34.00</td></tr>",
                            "<tr><td>Sirop d&#39;érable</td><td>28.50</td></tr>",
                            "<tr><td>Tarte au sucre</td><td>49.30</td></tr>",
                            "<tr><td>Vegie-spread</td><td>43.90</td></tr>",
                            "<tr><td>Wimmers gute Semmelknödel</td><td>33.25</td></tr>",
                            "<tr><td>Louisiana Fiery Hot Pepper Sauce</td><td>21.05</td></tr>",
                            "<tr><td>Gudbrandsdalsost</td><td>36.00</td></tr>",
                            "<tr><td>Flotemysost</td><td>21.50</td></tr>",
                            "<tr><td>Mozzarella di Giovanni</td><td>34.80</td></tr>",
                            "</table>"
                        ]
                    }
                }
            ],
            "execution_count": 1
        },
        {
            "cell_type": "markdown",
            "source": [
                "## 📝 Ejercicio 2\nListar los países únicos donde residen los clientes que tienen un nombre de contacto que comience con la letra 'A'."
            ],
            "metadata": {
                "azdata_cell_guid": "e8e9a616-d4bd-40d1-8530-8ba530a9dd45"
            }
        },
        {
            "cell_type": "code",
            "source": [
                "SELECT DISTINCT Country\n",
                "FROM Customers\n",
                "WHERE ContactName LIKE 'A%';"
            ],
            "metadata": {
                "SqlCellData": {
                    "data_source_name": "Northwind@localhost",
                    "variableName$1": "df_sql2"
                },
                "azdata_cell_guid": "b5cbf7e6-5289-4d04-972f-fe17572e8e27",
                "language": "sql"
            },
            "outputs": [
                {
                    "output_type": "display_data",
                    "data": {
                        "text/html": "(7 rows affected)"
                    },
                    "metadata": {}
                },
                {
                    "output_type": "display_data",
                    "data": {
                        "text/html": "Total execution time: 00:00:00.077"
                    },
                    "metadata": {}
                },
                {
                    "output_type": "execute_result",
                    "metadata": {},
                    "execution_count": 2,
                    "data": {
                        "application/vnd.dataresource+json": {
                            "schema": {
                                "fields": [
                                    {
                                        "name": "Country"
                                    }
                                ]
                            },
                            "data": [
                                {
                                    "Country": "Brazil"
                                },
                                {
                                    "Country": "France"
                                },
                                {
                                    "Country": "Germany"
                                },
                                {
                                    "Country": "Mexico"
                                },
                                {
                                    "Country": "Spain"
                                },
                                {
                                    "Country": "UK"
                                },
                                {
                                    "Country": "USA"
                                }
                            ]
                        },
                        "text/html": [
                            "<table>",
                            "<tr><th>Country</th></tr>",
                            "<tr><td>Brazil</td></tr>",
                            "<tr><td>France</td></tr>",
                            "<tr><td>Germany</td></tr>",
                            "<tr><td>Mexico</td></tr>",
                            "<tr><td>Spain</td></tr>",
                            "<tr><td>UK</td></tr>",
                            "<tr><td>USA</td></tr>",
                            "</table>"
                        ]
                    }
                }
            ],
            "execution_count": 2
        },
        {
            "cell_type": "markdown",
            "source": [
                "## 📝 Ejercicio 3\nObtener el nombre del producto, el nombre de la categoría y el nombre del proveedor de cada producto."
            ],
            "metadata": {
                "azdata_cell_guid": "7379487a-1a8a-4834-8f6b-aaed63f2d763"
            }
        },
        {
            "cell_type": "code",
            "source": [
                "SELECT Products.ProductName, Categories.CategoryName, Suppliers.CompanyName\n",
                "FROM Products\n",
                "INNER JOIN Categories ON Products.CategoryID = Categories.CategoryID\n",
                "INNER JOIN Suppliers ON Products.SupplierID = Suppliers.SupplierID;"
            ],
            "metadata": {
                "SqlCellData": {
                    "data_source_name": "Northwind@localhost",
                    "variableName$1": "df_sql3"
                },
                "azdata_cell_guid": "3eec2e9d-4641-43cd-92d1-90b89bc35e80",
                "language": "sql"
            },
            "outputs": [
                {
                    "output_type": "display_data",
                    "data": {
                        "text/html": "(77 rows affected)"
                    },
                    "metadata": {}
                },
                {
                    "output_type": "display_data",
                    "data": {
                        "text/html": "Total execution time: 00:00:00.030"
                    },
                    "metadata": {}
                },
                {
                    "output_type": "execute_result",
                    "metadata": {},
                    "execution_count": 3,
                    "data": {
                        "application/vnd.dataresource+json": {
                            "schema": {
                                "fields": [
                                    {
                                        "name": "ProductName"
                                    },
                                    {
                                        "name": "CategoryName"
                                    },
                                    {
                                        "name": "CompanyName"
                                    }
                                ]
                            },
                            "data": [
                                {
                                    "ProductName": "Chai",
                                    "CategoryName": "Beverages",
                                    "CompanyName": "Exotic Liquids"
                                },
                                {
                                    "ProductName": "Chang",
                                    "CategoryName": "Beverages",
                                    "CompanyName": "Exotic Liquids"
                                },
                                {
                                    "ProductName": "Aniseed Syrup",
                                    "CategoryName": "Condiments",
                                    "CompanyName": "Exotic Liquids"
                                },
                                {
                                    "ProductName": "Chef Anton's Cajun Seasoning",
                                    "CategoryName": "Condiments",
                                    "CompanyName": "New Orleans Cajun Delights"
                                },
                                {
                                    "ProductName": "Chef Anton's Gumbo Mix",
                                    "CategoryName": "Condiments",
                                    "CompanyName": "New Orleans Cajun Delights"
                                },
                                {
                                    "ProductName": "Grandma's Boysenberry Spread",
                                    "CategoryName": "Condiments",
                                    "CompanyName": "Grandma Kelly's Homestead"
                                },
                                {
                                    "ProductName": "Uncle Bob's Organic Dried Pears",
                                    "CategoryName": "Produce",
                                    "CompanyName": "Grandma Kelly's Homestead"
                                },
                                {
                                    "ProductName": "Northwoods Cranberry Sauce",
                                    "CategoryName": "Condiments",
                                    "CompanyName": "Grandma Kelly's Homestead"
                                },
                                {
                                    "ProductName": "Mishi Kobe Niku",
                                    "CategoryName": "Meat/Poultry",
                                    "CompanyName": "Tokyo Traders"
                                },
                                {
                                    "ProductName": "Ikura",
                                    "CategoryName": "Seafood",
                                    "CompanyName": "Tokyo Traders"
                                },
                                {
                                    "ProductName": "Queso Cabrales",
                                    "CategoryName": "Dairy Products",
                                    "CompanyName": "Cooperativa de Quesos 'Las Cabras'"
                                },
                                {
                                    "ProductName": "Queso Manchego La Pastora",
                                    "CategoryName": "Dairy Products",
                                    "CompanyName": "Cooperativa de Quesos 'Las Cabras'"
                                },
                                {
                                    "ProductName": "Konbu",
                                    "CategoryName": "Seafood",
                                    "CompanyName": "Mayumi's"
                                },
                                {
                                    "ProductName": "Tofu",
                                    "CategoryName": "Produce",
                                    "CompanyName": "Mayumi's"
                                },
                                {
                                    "ProductName": "Genen Shouyu",
                                    "CategoryName": "Condiments",
                                    "CompanyName": "Mayumi's"
                                },
                                {
                                    "ProductName": "Pavlova",
                                    "CategoryName": "Confections",
                                    "CompanyName": "Pavlova, Ltd."
                                },
                                {
                                    "ProductName": "Alice Mutton",
                                    "CategoryName": "Meat/Poultry",
                                    "CompanyName": "Pavlova, Ltd."
                                },
                                {
                                    "ProductName": "Carnarvon Tigers",
                                    "CategoryName": "Seafood",
                                    "CompanyName": "Pavlova, Ltd."
                                },
                                {
                                    "ProductName": "Teatime Chocolate Biscuits",
                                    "CategoryName": "Confections",
                                    "CompanyName": "Specialty Biscuits, Ltd."
                                },
                                {
                                    "ProductName": "Sir Rodney's Marmalade",
                                    "CategoryName": "Confections",
                                    "CompanyName": "Specialty Biscuits, Ltd."
                                },
                                {
                                    "ProductName": "Sir Rodney's Scones",
                                    "CategoryName": "Confections",
                                    "CompanyName": "Specialty Biscuits, Ltd."
                                },
                                {
                                    "ProductName": "Gustaf's Knäckebröd",
                                    "CategoryName": "Grains/Cereals",
                                    "CompanyName": "PB Knäckebröd AB"
                                },
                                {
                                    "ProductName": "Tunnbröd",
                                    "CategoryName": "Grains/Cereals",
                                    "CompanyName": "PB Knäckebröd AB"
                                },
                                {
                                    "ProductName": "Guaraná Fantástica",
                                    "CategoryName": "Beverages",
                                    "CompanyName": "Refrescos Americanas LTDA"
                                },
                                {
                                    "ProductName": "NuNuCa Nuß-Nougat-Creme",
                                    "CategoryName": "Confections",
                                    "CompanyName": "Heli Süßwaren GmbH & Co. KG"
                                },
                                {
                                    "ProductName": "Gumbär Gummibärchen",
                                    "CategoryName": "Confections",
                                    "CompanyName": "Heli Süßwaren GmbH & Co. KG"
                                },
                                {
                                    "ProductName": "Schoggi Schokolade",
                                    "CategoryName": "Confections",
                                    "CompanyName": "Heli Süßwaren GmbH & Co. KG"
                                },
                                {
                                    "ProductName": "Rössle Sauerkraut",
                                    "CategoryName": "Produce",
                                    "CompanyName": "Plutzer Lebensmittelgroßmärkte AG"
                                },
                                {
                                    "ProductName": "Thüringer Rostbratwurst",
                                    "CategoryName": "Meat/Poultry",
                                    "CompanyName": "Plutzer Lebensmittelgroßmärkte AG"
                                },
                                {
                                    "ProductName": "Nord-Ost Matjeshering",
                                    "CategoryName": "Seafood",
                                    "CompanyName": "Nord-Ost-Fisch Handelsgesellschaft mbH"
                                },
                                {
                                    "ProductName": "Gorgonzola Telino",
                                    "CategoryName": "Dairy Products",
                                    "CompanyName": "Formaggi Fortini s.r.l."
                                },
                                {
                                    "ProductName": "Mascarpone Fabioli",
                                    "CategoryName": "Dairy Products",
                                    "CompanyName": "Formaggi Fortini s.r.l."
                                },
                                {
                                    "ProductName": "Geitost",
                                    "CategoryName": "Dairy Products",
                                    "CompanyName": "Norske Meierier"
                                },
                                {
                                    "ProductName": "Sasquatch Ale",
                                    "CategoryName": "Beverages",
                                    "CompanyName": "Bigfoot Breweries"
                                },
                                {
                                    "ProductName": "Steeleye Stout",
                                    "CategoryName": "Beverages",
                                    "CompanyName": "Bigfoot Breweries"
                                },
                                {
                                    "ProductName": "Inlagd Sill",
                                    "CategoryName": "Seafood",
                                    "CompanyName": "Svensk Sjöföda AB"
                                },
                                {
                                    "ProductName": "Gravad lax",
                                    "CategoryName": "Seafood",
                                    "CompanyName": "Svensk Sjöföda AB"
                                },
                                {
                                    "ProductName": "Côte de Blaye",
                                    "CategoryName": "Beverages",
                                    "CompanyName": "Aux joyeux ecclésiastiques"
                                },
                                {
                                    "ProductName": "Chartreuse verte",
                                    "CategoryName": "Beverages",
                                    "CompanyName": "Aux joyeux ecclésiastiques"
                                },
                                {
                                    "ProductName": "Boston Crab Meat",
                                    "CategoryName": "Seafood",
                                    "CompanyName": "New England Seafood Cannery"
                                },
                                {
                                    "ProductName": "Jack's New England Clam Chowder",
                                    "CategoryName": "Seafood",
                                    "CompanyName": "New England Seafood Cannery"
                                },
                                {
                                    "ProductName": "Singaporean Hokkien Fried Mee",
                                    "CategoryName": "Grains/Cereals",
                                    "CompanyName": "Leka Trading"
                                },
                                {
                                    "ProductName": "Ipoh Coffee",
                                    "CategoryName": "Beverages",
                                    "CompanyName": "Leka Trading"
                                },
                                {
                                    "ProductName": "Gula Malacca",
                                    "CategoryName": "Condiments",
                                    "CompanyName": "Leka Trading"
                                },
                                {
                                    "ProductName": "Rogede sild",
                                    "CategoryName": "Seafood",
                                    "CompanyName": "Lyngbysild"
                                },
                                {
                                    "ProductName": "Spegesild",
                                    "CategoryName": "Seafood",
                                    "CompanyName": "Lyngbysild"
                                },
                                {
                                    "ProductName": "Zaanse koeken",
                                    "CategoryName": "Confections",
                                    "CompanyName": "Zaanse Snoepfabriek"
                                },
                                {
                                    "ProductName": "Chocolade",
                                    "CategoryName": "Confections",
                                    "CompanyName": "Zaanse Snoepfabriek"
                                },
                                {
                                    "ProductName": "Maxilaku",
                                    "CategoryName": "Confections",
                                    "CompanyName": "Karkki Oy"
                                },
                                {
                                    "ProductName": "Valkoinen suklaa",
                                    "CategoryName": "Confections",
                                    "CompanyName": "Karkki Oy"
                                },
                                {
                                    "ProductName": "Manjimup Dried Apples",
                                    "CategoryName": "Produce",
                                    "CompanyName": "G'day, Mate"
                                },
                                {
                                    "ProductName": "Filo Mix",
                                    "CategoryName": "Grains/Cereals",
                                    "CompanyName": "G'day, Mate"
                                },
                                {
                                    "ProductName": "Perth Pasties",
                                    "CategoryName": "Meat/Poultry",
                                    "CompanyName": "G'day, Mate"
                                },
                                {
                                    "ProductName": "Tourtière",
                                    "CategoryName": "Meat/Poultry",
                                    "CompanyName": "Ma Maison"
                                },
                                {
                                    "ProductName": "Pâté chinois",
                                    "CategoryName": "Meat/Poultry",
                                    "CompanyName": "Ma Maison"
                                },
                                {
                                    "ProductName": "Gnocchi di nonna Alice",
                                    "CategoryName": "Grains/Cereals",
                                    "CompanyName": "Pasta Buttini s.r.l."
                                },
                                {
                                    "ProductName": "Ravioli Angelo",
                                    "CategoryName": "Grains/Cereals",
                                    "CompanyName": "Pasta Buttini s.r.l."
                                },
                                {
                                    "ProductName": "Escargots de Bourgogne",
                                    "CategoryName": "Seafood",
                                    "CompanyName": "Escargots Nouveaux"
                                },
                                {
                                    "ProductName": "Raclette Courdavault",
                                    "CategoryName": "Dairy Products",
                                    "CompanyName": "Gai pâturage"
                                },
                                {
                                    "ProductName": "Camembert Pierrot",
                                    "CategoryName": "Dairy Products",
                                    "CompanyName": "Gai pâturage"
                                },
                                {
                                    "ProductName": "Sirop d'érable",
                                    "CategoryName": "Condiments",
                                    "CompanyName": "Forêts d'érables"
                                },
                                {
                                    "ProductName": "Tarte au sucre",
                                    "CategoryName": "Confections",
                                    "CompanyName": "Forêts d'érables"
                                },
                                {
                                    "ProductName": "Vegie-spread",
                                    "CategoryName": "Condiments",
                                    "CompanyName": "Pavlova, Ltd."
                                },
                                {
                                    "ProductName": "Wimmers gute Semmelknödel",
                                    "CategoryName": "Grains/Cereals",
                                    "CompanyName": "Plutzer Lebensmittelgroßmärkte AG"
                                },
                                {
                                    "ProductName": "Louisiana Fiery Hot Pepper Sauce",
                                    "CategoryName": "Condiments",
                                    "CompanyName": "New Orleans Cajun Delights"
                                },
                                {
                                    "ProductName": "Louisiana Hot Spiced Okra",
                                    "CategoryName": "Condiments",
                                    "CompanyName": "New Orleans Cajun Delights"
                                },
                                {
                                    "ProductName": "Laughing Lumberjack Lager",
                                    "CategoryName": "Beverages",
                                    "CompanyName": "Bigfoot Breweries"
                                },
                                {
                                    "ProductName": "Scottish Longbreads",
                                    "CategoryName": "Confections",
                                    "CompanyName": "Specialty Biscuits, Ltd."
                                },
                                {
                                    "ProductName": "Gudbrandsdalsost",
                                    "CategoryName": "Dairy Products",
                                    "CompanyName": "Norske Meierier"
                                },
                                {
                                    "ProductName": "Outback Lager",
                                    "CategoryName": "Beverages",
                                    "CompanyName": "Pavlova, Ltd."
                                },
                                {
                                    "ProductName": "Flotemysost",
                                    "CategoryName": "Dairy Products",
                                    "CompanyName": "Norske Meierier"
                                },
                                {
                                    "ProductName": "Mozzarella di Giovanni",
                                    "CategoryName": "Dairy Products",
                                    "CompanyName": "Formaggi Fortini s.r.l."
                                },
                                {
                                    "ProductName": "Röd Kaviar",
                                    "CategoryName": "Seafood",
                                    "CompanyName": "Svensk Sjöföda AB"
                                },
                                {
                                    "ProductName": "Longlife Tofu",
                                    "CategoryName": "Produce",
                                    "CompanyName": "Tokyo Traders"
                                },
                                {
                                    "ProductName": "Rhönbräu Klosterbier",
                                    "CategoryName": "Beverages",
                                    "CompanyName": "Plutzer Lebensmittelgroßmärkte AG"
                                },
                                {
                                    "ProductName": "Lakkalikööri",
                                    "CategoryName": "Beverages",
                                    "CompanyName": "Karkki Oy"
                                },
                                {
                                    "ProductName": "Original Frankfurter grüne Soße",
                                    "CategoryName": "Condiments",
                                    "CompanyName": "Plutzer Lebensmittelgroßmärkte AG"
                                }
                            ]
                        },
                        "text/html": [
                            "<table>",
                            "<tr><th>ProductName</th><th>CategoryName</th><th>CompanyName</th></tr>",
                            "<tr><td>Chai</td><td>Beverages</td><td>Exotic Liquids</td></tr>",
                            "<tr><td>Chang</td><td>Beverages</td><td>Exotic Liquids</td></tr>",
                            "<tr><td>Aniseed Syrup</td><td>Condiments</td><td>Exotic Liquids</td></tr>",
                            "<tr><td>Chef Anton&#39;s Cajun Seasoning</td><td>Condiments</td><td>New Orleans Cajun Delights</td></tr>",
                            "<tr><td>Chef Anton&#39;s Gumbo Mix</td><td>Condiments</td><td>New Orleans Cajun Delights</td></tr>",
                            "<tr><td>Grandma&#39;s Boysenberry Spread</td><td>Condiments</td><td>Grandma Kelly&#39;s Homestead</td></tr>",
                            "<tr><td>Uncle Bob&#39;s Organic Dried Pears</td><td>Produce</td><td>Grandma Kelly&#39;s Homestead</td></tr>",
                            "<tr><td>Northwoods Cranberry Sauce</td><td>Condiments</td><td>Grandma Kelly&#39;s Homestead</td></tr>",
                            "<tr><td>Mishi Kobe Niku</td><td>Meat/Poultry</td><td>Tokyo Traders</td></tr>",
                            "<tr><td>Ikura</td><td>Seafood</td><td>Tokyo Traders</td></tr>",
                            "<tr><td>Queso Cabrales</td><td>Dairy Products</td><td>Cooperativa de Quesos &#39;Las Cabras&#39;</td></tr>",
                            "<tr><td>Queso Manchego La Pastora</td><td>Dairy Products</td><td>Cooperativa de Quesos &#39;Las Cabras&#39;</td></tr>",
                            "<tr><td>Konbu</td><td>Seafood</td><td>Mayumi&#39;s</td></tr>",
                            "<tr><td>Tofu</td><td>Produce</td><td>Mayumi&#39;s</td></tr>",
                            "<tr><td>Genen Shouyu</td><td>Condiments</td><td>Mayumi&#39;s</td></tr>",
                            "<tr><td>Pavlova</td><td>Confections</td><td>Pavlova, Ltd.</td></tr>",
                            "<tr><td>Alice Mutton</td><td>Meat/Poultry</td><td>Pavlova, Ltd.</td></tr>",
                            "<tr><td>Carnarvon Tigers</td><td>Seafood</td><td>Pavlova, Ltd.</td></tr>",
                            "<tr><td>Teatime Chocolate Biscuits</td><td>Confections</td><td>Specialty Biscuits, Ltd.</td></tr>",
                            "<tr><td>Sir Rodney&#39;s Marmalade</td><td>Confections</td><td>Specialty Biscuits, Ltd.</td></tr>",
                            "<tr><td>Sir Rodney&#39;s Scones</td><td>Confections</td><td>Specialty Biscuits, Ltd.</td></tr>",
                            "<tr><td>Gustaf&#39;s Knäckebröd</td><td>Grains/Cereals</td><td>PB Knäckebröd AB</td></tr>",
                            "<tr><td>Tunnbröd</td><td>Grains/Cereals</td><td>PB Knäckebröd AB</td></tr>",
                            "<tr><td>Guaraná Fantástica</td><td>Beverages</td><td>Refrescos Americanas LTDA</td></tr>",
                            "<tr><td>NuNuCa Nuß-Nougat-Creme</td><td>Confections</td><td>Heli Süßwaren GmbH &amp; Co. KG</td></tr>",
                            "<tr><td>Gumbär Gummibärchen</td><td>Confections</td><td>Heli Süßwaren GmbH &amp; Co. KG</td></tr>",
                            "<tr><td>Schoggi Schokolade</td><td>Confections</td><td>Heli Süßwaren GmbH &amp; Co. KG</td></tr>",
                            "<tr><td>Rössle Sauerkraut</td><td>Produce</td><td>Plutzer Lebensmittelgroßmärkte AG</td></tr>",
                            "<tr><td>Thüringer Rostbratwurst</td><td>Meat/Poultry</td><td>Plutzer Lebensmittelgroßmärkte AG</td></tr>",
                            "<tr><td>Nord-Ost Matjeshering</td><td>Seafood</td><td>Nord-Ost-Fisch Handelsgesellschaft mbH</td></tr>",
                            "<tr><td>Gorgonzola Telino</td><td>Dairy Products</td><td>Formaggi Fortini s.r.l.</td></tr>",
                            "<tr><td>Mascarpone Fabioli</td><td>Dairy Products</td><td>Formaggi Fortini s.r.l.</td></tr>",
                            "<tr><td>Geitost</td><td>Dairy Products</td><td>Norske Meierier</td></tr>",
                            "<tr><td>Sasquatch Ale</td><td>Beverages</td><td>Bigfoot Breweries</td></tr>",
                            "<tr><td>Steeleye Stout</td><td>Beverages</td><td>Bigfoot Breweries</td></tr>",
                            "<tr><td>Inlagd Sill</td><td>Seafood</td><td>Svensk Sjöföda AB</td></tr>",
                            "<tr><td>Gravad lax</td><td>Seafood</td><td>Svensk Sjöföda AB</td></tr>",
                            "<tr><td>Côte de Blaye</td><td>Beverages</td><td>Aux joyeux ecclésiastiques</td></tr>",
                            "<tr><td>Chartreuse verte</td><td>Beverages</td><td>Aux joyeux ecclésiastiques</td></tr>",
                            "<tr><td>Boston Crab Meat</td><td>Seafood</td><td>New England Seafood Cannery</td></tr>",
                            "<tr><td>Jack&#39;s New England Clam Chowder</td><td>Seafood</td><td>New England Seafood Cannery</td></tr>",
                            "<tr><td>Singaporean Hokkien Fried Mee</td><td>Grains/Cereals</td><td>Leka Trading</td></tr>",
                            "<tr><td>Ipoh Coffee</td><td>Beverages</td><td>Leka Trading</td></tr>",
                            "<tr><td>Gula Malacca</td><td>Condiments</td><td>Leka Trading</td></tr>",
                            "<tr><td>Rogede sild</td><td>Seafood</td><td>Lyngbysild</td></tr>",
                            "<tr><td>Spegesild</td><td>Seafood</td><td>Lyngbysild</td></tr>",
                            "<tr><td>Zaanse koeken</td><td>Confections</td><td>Zaanse Snoepfabriek</td></tr>",
                            "<tr><td>Chocolade</td><td>Confections</td><td>Zaanse Snoepfabriek</td></tr>",
                            "<tr><td>Maxilaku</td><td>Confections</td><td>Karkki Oy</td></tr>",
                            "<tr><td>Valkoinen suklaa</td><td>Confections</td><td>Karkki Oy</td></tr>",
                            "<tr><td>Manjimup Dried Apples</td><td>Produce</td><td>G&#39;day, Mate</td></tr>",
                            "<tr><td>Filo Mix</td><td>Grains/Cereals</td><td>G&#39;day, Mate</td></tr>",
                            "<tr><td>Perth Pasties</td><td>Meat/Poultry</td><td>G&#39;day, Mate</td></tr>",
                            "<tr><td>Tourtière</td><td>Meat/Poultry</td><td>Ma Maison</td></tr>",
                            "<tr><td>Pâté chinois</td><td>Meat/Poultry</td><td>Ma Maison</td></tr>",
                            "<tr><td>Gnocchi di nonna Alice</td><td>Grains/Cereals</td><td>Pasta Buttini s.r.l.</td></tr>",
                            "<tr><td>Ravioli Angelo</td><td>Grains/Cereals</td><td>Pasta Buttini s.r.l.</td></tr>",
                            "<tr><td>Escargots de Bourgogne</td><td>Seafood</td><td>Escargots Nouveaux</td></tr>",
                            "<tr><td>Raclette Courdavault</td><td>Dairy Products</td><td>Gai pâturage</td></tr>",
                            "<tr><td>Camembert Pierrot</td><td>Dairy Products</td><td>Gai pâturage</td></tr>",
                            "<tr><td>Sirop d&#39;érable</td><td>Condiments</td><td>Forêts d&#39;érables</td></tr>",
                            "<tr><td>Tarte au sucre</td><td>Confections</td><td>Forêts d&#39;érables</td></tr>",
                            "<tr><td>Vegie-spread</td><td>Condiments</td><td>Pavlova, Ltd.</td></tr>",
                            "<tr><td>Wimmers gute Semmelknödel</td><td>Grains/Cereals</td><td>Plutzer Lebensmittelgroßmärkte AG</td></tr>",
                            "<tr><td>Louisiana Fiery Hot Pepper Sauce</td><td>Condiments</td><td>New Orleans Cajun Delights</td></tr>",
                            "<tr><td>Louisiana Hot Spiced Okra</td><td>Condiments</td><td>New Orleans Cajun Delights</td></tr>",
                            "<tr><td>Laughing Lumberjack Lager</td><td>Beverages</td><td>Bigfoot Breweries</td></tr>",
                            "<tr><td>Scottish Longbreads</td><td>Confections</td><td>Specialty Biscuits, Ltd.</td></tr>",
                            "<tr><td>Gudbrandsdalsost</td><td>Dairy Products</td><td>Norske Meierier</td></tr>",
                            "<tr><td>Outback Lager</td><td>Beverages</td><td>Pavlova, Ltd.</td></tr>",
                            "<tr><td>Flotemysost</td><td>Dairy Products</td><td>Norske Meierier</td></tr>",
                            "<tr><td>Mozzarella di Giovanni</td><td>Dairy Products</td><td>Formaggi Fortini s.r.l.</td></tr>",
                            "<tr><td>Röd Kaviar</td><td>Seafood</td><td>Svensk Sjöföda AB</td></tr>",
                            "<tr><td>Longlife Tofu</td><td>Produce</td><td>Tokyo Traders</td></tr>",
                            "<tr><td>Rhönbräu Klosterbier</td><td>Beverages</td><td>Plutzer Lebensmittelgroßmärkte AG</td></tr>",
                            "<tr><td>Lakkalikööri</td><td>Beverages</td><td>Karkki Oy</td></tr>",
                            "<tr><td>Original Frankfurter grüne Soße</td><td>Condiments</td><td>Plutzer Lebensmittelgroßmärkte AG</td></tr>",
                            "</table>"
                        ]
                    }
                }
            ],
            "execution_count": 3
        },
        {
            "cell_type": "markdown",
            "source": [
                "## 📝 Ejercicio 4\nMostrar el número de pedidos realizados por cada cliente, solo para aquellos que tengan más de 10 pedidos."
            ],
            "metadata": {
                "azdata_cell_guid": "a99ae432-3184-4bed-b164-59a3eed3d5b8"
            }
        },
        {
            "cell_type": "code",
            "source": [
                "SELECT Customers.CustomerID, Customers.CompanyName, COUNT(Orders.OrderID) AS TotalPedidos\n",
                "FROM Customers\n",
                "JOIN Orders ON Customers.CustomerID = Orders.CustomerID\n",
                "GROUP BY Customers.CustomerID, Customers.CompanyName\n",
                "HAVING COUNT(Orders.OrderID) > 10;"
            ],
            "metadata": {
                "SqlCellData": {
                    "data_source_name": "Northwind@localhost",
                    "variableName$1": "df_sql4"
                },
                "azdata_cell_guid": "07b2d39b-1aa2-429d-9122-103450518f0f",
                "language": "sql"
            },
            "outputs": [
                {
                    "output_type": "display_data",
                    "data": {
                        "text/html": "(28 rows affected)"
                    },
                    "metadata": {}
                },
                {
                    "output_type": "display_data",
                    "data": {
                        "text/html": "Total execution time: 00:00:00.035"
                    },
                    "metadata": {}
                },
                {
                    "output_type": "execute_result",
                    "metadata": {},
                    "execution_count": 4,
                    "data": {
                        "application/vnd.dataresource+json": {
                            "schema": {
                                "fields": [
                                    {
                                        "name": "CustomerID"
                                    },
                                    {
                                        "name": "CompanyName"
                                    },
                                    {
                                        "name": "TotalPedidos"
                                    }
                                ]
                            },
                            "data": [
                                {
                                    "CustomerID": "AROUT",
                                    "CompanyName": "Around the Horn",
                                    "TotalPedidos": "13"
                                },
                                {
                                    "CustomerID": "BERGS",
                                    "CompanyName": "Berglunds snabbköp",
                                    "TotalPedidos": "18"
                                },
                                {
                                    "CustomerID": "BLONP",
                                    "CompanyName": "Blondesddsl père et fils",
                                    "TotalPedidos": "11"
                                },
                                {
                                    "CustomerID": "BONAP",
                                    "CompanyName": "Bon app'",
                                    "TotalPedidos": "17"
                                },
                                {
                                    "CustomerID": "BOTTM",
                                    "CompanyName": "Bottom-Dollar Markets",
                                    "TotalPedidos": "14"
                                },
                                {
                                    "CustomerID": "ERNSH",
                                    "CompanyName": "Ernst Handel",
                                    "TotalPedidos": "30"
                                },
                                {
                                    "CustomerID": "FOLKO",
                                    "CompanyName": "Folk och fä HB",
                                    "TotalPedidos": "19"
                                },
                                {
                                    "CustomerID": "FRANK",
                                    "CompanyName": "Frankenversand",
                                    "TotalPedidos": "15"
                                },
                                {
                                    "CustomerID": "GREAL",
                                    "CompanyName": "Great Lakes Food Market",
                                    "TotalPedidos": "11"
                                },
                                {
                                    "CustomerID": "HANAR",
                                    "CompanyName": "Hanari Carnes",
                                    "TotalPedidos": "14"
                                },
                                {
                                    "CustomerID": "HILAA",
                                    "CompanyName": "HILARION-Abastos",
                                    "TotalPedidos": "18"
                                },
                                {
                                    "CustomerID": "HUNGO",
                                    "CompanyName": "Hungry Owl All-Night Grocers",
                                    "TotalPedidos": "19"
                                },
                                {
                                    "CustomerID": "KOENE",
                                    "CompanyName": "Königlich Essen",
                                    "TotalPedidos": "14"
                                },
                                {
                                    "CustomerID": "LAMAI",
                                    "CompanyName": "La maison d'Asie",
                                    "TotalPedidos": "14"
                                },
                                {
                                    "CustomerID": "LEHMS",
                                    "CompanyName": "Lehmanns Marktstand",
                                    "TotalPedidos": "15"
                                },
                                {
                                    "CustomerID": "LILAS",
                                    "CompanyName": "LILA-Supermercado",
                                    "TotalPedidos": "14"
                                },
                                {
                                    "CustomerID": "LINOD",
                                    "CompanyName": "LINO-Delicateses",
                                    "TotalPedidos": "12"
                                },
                                {
                                    "CustomerID": "MEREP",
                                    "CompanyName": "Mère Paillarde",
                                    "TotalPedidos": "13"
                                },
                                {
                                    "CustomerID": "QUEEN",
                                    "CompanyName": "Queen Cozinha",
                                    "TotalPedidos": "13"
                                },
                                {
                                    "CustomerID": "QUICK",
                                    "CompanyName": "QUICK-Stop",
                                    "TotalPedidos": "28"
                                },
                                {
                                    "CustomerID": "RATTC",
                                    "CompanyName": "Rattlesnake Canyon Grocery",
                                    "TotalPedidos": "18"
                                },
                                {
                                    "CustomerID": "REGGC",
                                    "CompanyName": "Reggiani Caseifici",
                                    "TotalPedidos": "12"
                                },
                                {
                                    "CustomerID": "RICAR",
                                    "CompanyName": "Ricardo Adocicados",
                                    "TotalPedidos": "11"
                                },
                                {
                                    "CustomerID": "SAVEA",
                                    "CompanyName": "Save-a-lot Markets",
                                    "TotalPedidos": "31"
                                },
                                {
                                    "CustomerID": "SUPRD",
                                    "CompanyName": "Suprêmes délices",
                                    "TotalPedidos": "12"
                                },
                                {
                                    "CustomerID": "VAFFE",
                                    "CompanyName": "Vaffeljernet",
                                    "TotalPedidos": "11"
                                },
                                {
                                    "CustomerID": "WARTH",
                                    "CompanyName": "Wartian Herkku",
                                    "TotalPedidos": "15"
                                },
                                {
                                    "CustomerID": "WHITC",
                                    "CompanyName": "White Clover Markets",
                                    "TotalPedidos": "14"
                                }
                            ]
                        },
                        "text/html": [
                            "<table>",
                            "<tr><th>CustomerID</th><th>CompanyName</th><th>TotalPedidos</th></tr>",
                            "<tr><td>AROUT</td><td>Around the Horn</td><td>13</td></tr>",
                            "<tr><td>BERGS</td><td>Berglunds snabbköp</td><td>18</td></tr>",
                            "<tr><td>BLONP</td><td>Blondesddsl père et fils</td><td>11</td></tr>",
                            "<tr><td>BONAP</td><td>Bon app&#39;</td><td>17</td></tr>",
                            "<tr><td>BOTTM</td><td>Bottom-Dollar Markets</td><td>14</td></tr>",
                            "<tr><td>ERNSH</td><td>Ernst Handel</td><td>30</td></tr>",
                            "<tr><td>FOLKO</td><td>Folk och fä HB</td><td>19</td></tr>",
                            "<tr><td>FRANK</td><td>Frankenversand</td><td>15</td></tr>",
                            "<tr><td>GREAL</td><td>Great Lakes Food Market</td><td>11</td></tr>",
                            "<tr><td>HANAR</td><td>Hanari Carnes</td><td>14</td></tr>",
                            "<tr><td>HILAA</td><td>HILARION-Abastos</td><td>18</td></tr>",
                            "<tr><td>HUNGO</td><td>Hungry Owl All-Night Grocers</td><td>19</td></tr>",
                            "<tr><td>KOENE</td><td>Königlich Essen</td><td>14</td></tr>",
                            "<tr><td>LAMAI</td><td>La maison d&#39;Asie</td><td>14</td></tr>",
                            "<tr><td>LEHMS</td><td>Lehmanns Marktstand</td><td>15</td></tr>",
                            "<tr><td>LILAS</td><td>LILA-Supermercado</td><td>14</td></tr>",
                            "<tr><td>LINOD</td><td>LINO-Delicateses</td><td>12</td></tr>",
                            "<tr><td>MEREP</td><td>Mère Paillarde</td><td>13</td></tr>",
                            "<tr><td>QUEEN</td><td>Queen Cozinha</td><td>13</td></tr>",
                            "<tr><td>QUICK</td><td>QUICK-Stop</td><td>28</td></tr>",
                            "<tr><td>RATTC</td><td>Rattlesnake Canyon Grocery</td><td>18</td></tr>",
                            "<tr><td>REGGC</td><td>Reggiani Caseifici</td><td>12</td></tr>",
                            "<tr><td>RICAR</td><td>Ricardo Adocicados</td><td>11</td></tr>",
                            "<tr><td>SAVEA</td><td>Save-a-lot Markets</td><td>31</td></tr>",
                            "<tr><td>SUPRD</td><td>Suprêmes délices</td><td>12</td></tr>",
                            "<tr><td>VAFFE</td><td>Vaffeljernet</td><td>11</td></tr>",
                            "<tr><td>WARTH</td><td>Wartian Herkku</td><td>15</td></tr>",
                            "<tr><td>WHITC</td><td>White Clover Markets</td><td>14</td></tr>",
                            "</table>"
                        ]
                    }
                }
            ],
            "execution_count": 4
        },
        {
            "cell_type": "markdown",
            "source": [
                "## 📝 Ejercicio 5\nListar los productos cuyo precio unitario es mayor que el precio promedio de todos los productos."
            ],
            "metadata": {
                "azdata_cell_guid": "312ccf03-59e0-44ff-9dec-74eeed026602"
            }
        },
        {
            "cell_type": "code",
            "source": [
                "SELECT ProductName, UnitPrice\n",
                "FROM Products\n",
                "WHERE UnitPrice > (SELECT AVG(UnitPrice) FROM Products);"
            ],
            "metadata": {
                "SqlCellData": {
                    "data_source_name": "Northwind@localhost",
                    "variableName$1": "df_sql5"
                },
                "azdata_cell_guid": "5f72261a-2425-489d-8cf7-5b86c46c9e7d",
                "language": "sql"
            },
            "outputs": [
                {
                    "output_type": "display_data",
                    "data": {
                        "text/html": "(25 rows affected)"
                    },
                    "metadata": {}
                },
                {
                    "output_type": "display_data",
                    "data": {
                        "text/html": "Total execution time: 00:00:00.027"
                    },
                    "metadata": {}
                },
                {
                    "output_type": "execute_result",
                    "metadata": {},
                    "execution_count": 5,
                    "data": {
                        "application/vnd.dataresource+json": {
                            "schema": {
                                "fields": [
                                    {
                                        "name": "ProductName"
                                    },
                                    {
                                        "name": "UnitPrice"
                                    }
                                ]
                            },
                            "data": [
                                {
                                    "ProductName": "Uncle Bob's Organic Dried Pears",
                                    "UnitPrice": "30.00"
                                },
                                {
                                    "ProductName": "Northwoods Cranberry Sauce",
                                    "UnitPrice": "40.00"
                                },
                                {
                                    "ProductName": "Mishi Kobe Niku",
                                    "UnitPrice": "97.00"
                                },
                                {
                                    "ProductName": "Ikura",
                                    "UnitPrice": "31.00"
                                },
                                {
                                    "ProductName": "Queso Manchego La Pastora",
                                    "UnitPrice": "38.00"
                                },
                                {
                                    "ProductName": "Alice Mutton",
                                    "UnitPrice": "39.00"
                                },
                                {
                                    "ProductName": "Carnarvon Tigers",
                                    "UnitPrice": "62.50"
                                },
                                {
                                    "ProductName": "Sir Rodney's Marmalade",
                                    "UnitPrice": "81.00"
                                },
                                {
                                    "ProductName": "Gumbär Gummibärchen",
                                    "UnitPrice": "31.23"
                                },
                                {
                                    "ProductName": "Schoggi Schokolade",
                                    "UnitPrice": "43.90"
                                },
                                {
                                    "ProductName": "Rössle Sauerkraut",
                                    "UnitPrice": "45.60"
                                },
                                {
                                    "ProductName": "Thüringer Rostbratwurst",
                                    "UnitPrice": "123.79"
                                },
                                {
                                    "ProductName": "Mascarpone Fabioli",
                                    "UnitPrice": "32.00"
                                },
                                {
                                    "ProductName": "Côte de Blaye",
                                    "UnitPrice": "263.50"
                                },
                                {
                                    "ProductName": "Ipoh Coffee",
                                    "UnitPrice": "46.00"
                                },
                                {
                                    "ProductName": "Manjimup Dried Apples",
                                    "UnitPrice": "53.00"
                                },
                                {
                                    "ProductName": "Perth Pasties",
                                    "UnitPrice": "32.80"
                                },
                                {
                                    "ProductName": "Gnocchi di nonna Alice",
                                    "UnitPrice": "38.00"
                                },
                                {
                                    "ProductName": "Raclette Courdavault",
                                    "UnitPrice": "55.00"
                                },
                                {
                                    "ProductName": "Camembert Pierrot",
                                    "UnitPrice": "34.00"
                                },
                                {
                                    "ProductName": "Tarte au sucre",
                                    "UnitPrice": "49.30"
                                },
                                {
                                    "ProductName": "Vegie-spread",
                                    "UnitPrice": "43.90"
                                },
                                {
                                    "ProductName": "Wimmers gute Semmelknödel",
                                    "UnitPrice": "33.25"
                                },
                                {
                                    "ProductName": "Gudbrandsdalsost",
                                    "UnitPrice": "36.00"
                                },
                                {
                                    "ProductName": "Mozzarella di Giovanni",
                                    "UnitPrice": "34.80"
                                }
                            ]
                        },
                        "text/html": [
                            "<table>",
                            "<tr><th>ProductName</th><th>UnitPrice</th></tr>",
                            "<tr><td>Uncle Bob&#39;s Organic Dried Pears</td><td>30.00</td></tr>",
                            "<tr><td>Northwoods Cranberry Sauce</td><td>40.00</td></tr>",
                            "<tr><td>Mishi Kobe Niku</td><td>97.00</td></tr>",
                            "<tr><td>Ikura</td><td>31.00</td></tr>",
                            "<tr><td>Queso Manchego La Pastora</td><td>38.00</td></tr>",
                            "<tr><td>Alice Mutton</td><td>39.00</td></tr>",
                            "<tr><td>Carnarvon Tigers</td><td>62.50</td></tr>",
                            "<tr><td>Sir Rodney&#39;s Marmalade</td><td>81.00</td></tr>",
                            "<tr><td>Gumbär Gummibärchen</td><td>31.23</td></tr>",
                            "<tr><td>Schoggi Schokolade</td><td>43.90</td></tr>",
                            "<tr><td>Rössle Sauerkraut</td><td>45.60</td></tr>",
                            "<tr><td>Thüringer Rostbratwurst</td><td>123.79</td></tr>",
                            "<tr><td>Mascarpone Fabioli</td><td>32.00</td></tr>",
                            "<tr><td>Côte de Blaye</td><td>263.50</td></tr>",
                            "<tr><td>Ipoh Coffee</td><td>46.00</td></tr>",
                            "<tr><td>Manjimup Dried Apples</td><td>53.00</td></tr>",
                            "<tr><td>Perth Pasties</td><td>32.80</td></tr>",
                            "<tr><td>Gnocchi di nonna Alice</td><td>38.00</td></tr>",
                            "<tr><td>Raclette Courdavault</td><td>55.00</td></tr>",
                            "<tr><td>Camembert Pierrot</td><td>34.00</td></tr>",
                            "<tr><td>Tarte au sucre</td><td>49.30</td></tr>",
                            "<tr><td>Vegie-spread</td><td>43.90</td></tr>",
                            "<tr><td>Wimmers gute Semmelknödel</td><td>33.25</td></tr>",
                            "<tr><td>Gudbrandsdalsost</td><td>36.00</td></tr>",
                            "<tr><td>Mozzarella di Giovanni</td><td>34.80</td></tr>",
                            "</table>"
                        ]
                    }
                }
            ],
            "execution_count": 5
        },
        {
            "cell_type": "markdown",
            "source": [
                "## 📝 Ejercicio 6\nMostrar el nombre de cada categoría y el precio promedio de los productos de esa categoría, usando una subconsulta en la cláusula FROM."
            ],
            "metadata": {
                "azdata_cell_guid": "78ff5960-ec6e-476f-a16e-06f433fd01cd"
            }
        },
        {
            "cell_type": "code",
            "source": [
                "SELECT Categories.CategoryName, AvgPrices.AveragePrice\n",
                "FROM Categories\n",
                "JOIN (\n",
                "    SELECT CategoryID, AVG(UnitPrice) AS AveragePrice\n",
                "    FROM Products\n",
                "    GROUP BY CategoryID\n",
                ") AS AvgPrices ON Categories.CategoryID = AvgPrices.CategoryID;"
            ],
            "metadata": {
                "SqlCellData": {
                    "data_source_name": "Northwind@localhost",
                    "variableName$1": "df_sql6"
                },
                "azdata_cell_guid": "fab45f05-5cb8-4cfd-ac7f-ebc5cf78029b",
                "language": "sql"
            },
            "outputs": [
                {
                    "output_type": "display_data",
                    "data": {
                        "text/html": "(8 rows affected)"
                    },
                    "metadata": {}
                },
                {
                    "output_type": "display_data",
                    "data": {
                        "text/html": "Total execution time: 00:00:00.018"
                    },
                    "metadata": {}
                },
                {
                    "output_type": "execute_result",
                    "metadata": {},
                    "execution_count": 6,
                    "data": {
                        "application/vnd.dataresource+json": {
                            "schema": {
                                "fields": [
                                    {
                                        "name": "CategoryName"
                                    },
                                    {
                                        "name": "AveragePrice"
                                    }
                                ]
                            },
                            "data": [
                                {
                                    "CategoryName": "Beverages",
                                    "AveragePrice": "37.9791"
                                },
                                {
                                    "CategoryName": "Condiments",
                                    "AveragePrice": "23.0625"
                                },
                                {
                                    "CategoryName": "Confections",
                                    "AveragePrice": "25.16"
                                },
                                {
                                    "CategoryName": "Dairy Products",
                                    "AveragePrice": "28.73"
                                },
                                {
                                    "CategoryName": "Grains/Cereals",
                                    "AveragePrice": "20.25"
                                },
                                {
                                    "CategoryName": "Meat/Poultry",
                                    "AveragePrice": "54.0066"
                                },
                                {
                                    "CategoryName": "Produce",
                                    "AveragePrice": "32.37"
                                },
                                {
                                    "CategoryName": "Seafood",
                                    "AveragePrice": "20.6825"
                                }
                            ]
                        },
                        "text/html": [
                            "<table>",
                            "<tr><th>CategoryName</th><th>AveragePrice</th></tr>",
                            "<tr><td>Beverages</td><td>37.9791</td></tr>",
                            "<tr><td>Condiments</td><td>23.0625</td></tr>",
                            "<tr><td>Confections</td><td>25.16</td></tr>",
                            "<tr><td>Dairy Products</td><td>28.73</td></tr>",
                            "<tr><td>Grains/Cereals</td><td>20.25</td></tr>",
                            "<tr><td>Meat/Poultry</td><td>54.0066</td></tr>",
                            "<tr><td>Produce</td><td>32.37</td></tr>",
                            "<tr><td>Seafood</td><td>20.6825</td></tr>",
                            "</table>"
                        ]
                    }
                }
            ],
            "execution_count": 6
        }
    ]
}