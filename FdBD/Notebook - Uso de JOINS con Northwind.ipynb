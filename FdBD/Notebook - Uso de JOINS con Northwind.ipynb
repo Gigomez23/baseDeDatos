{
    "metadata": {
        "kernelspec": {
            "name": "SQL",
            "display_name": "SQL",
            "language": "sql"
        },
        "language_info": {
            "name": "sql",
            "version": ""
        }
    },
    "nbformat_minor": 2,
    "nbformat": 4,
    "cells": [
        {
            "cell_type": "markdown",
            "source": [
                "![Logo FIA.png](data:image/png;base64,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)\n",
                "\n",
                "# Notebook: Práctica#2 | Consultas con JOIN\n",
                "\n",
                "Este notebook está diseñado para practicar **consultas T-SQL** utilizando la base de datos Northwind. Aprenderás a utilizar JOINs.\n",
                "\n",
                "🎯 **Objetivo de la práctica** \n",
                "\n",
                "- Comprender el uso de la cláusula `JOIN` en SQL.\n",
                "- Diferenciar los tipos de `JOIN`.\n",
                "- Practicar consultas combinando varias tablas de la base de datos **Northwind**.\n",
                "\n",
                "> ⚠️ Asegúrate de tener restaurada la base de datos Northwind en tu instancia de SQL Server antes de ejecutar las consultas.\n",
                "> \n",
                "> ## 📌 ¿Qué son los JOIN en SQL?\n",
                "> \n",
                "> En bases de datos relacionales, la información está distribuida en varias **tablas relacionadas entre sí** mediante claves primarias y claves foráneas.  \n",
                "> Cuando necesitamos **consultar datos que se encuentran en más de una tabla**, utilizamos la cláusula `JOIN`.\n",
                "> \n",
                "> Un `JOIN` permite **combinar filas de dos o más tablas** en función de una **condición de relación entre ellas**, normalmente que un campo de una tabla sea igual a un campo de la otra.\n",
                "> \n",
                "> 🧩 Tipos de JOIN\n",
                "> \n",
                "> | Tipo de JOIN | Qué hace |\n",
                "> | --- | --- |\n",
                "> | **INNER JOIN** | Devuelve solo las filas que tienen coincidencias en ambas tablas. |\n",
                "> | **LEFT JOIN** (LEFT OUTER JOIN) | Devuelve todas las filas de la tabla izquierda y las coincidencias de la derecha. Las filas sin coincidencia de la derecha aparecen como `NULL`. |\n",
                "> | **RIGHT JOIN** (RIGHT OUTER JOIN) | Devuelve todas las filas de la tabla derecha y las coincidencias de la izquierda. Las filas sin coincidencia de la izquierda aparecen como `NULL`. |\n",
                "> | **FULL OUTER JOIN** | Devuelve todas las filas de ambas tablas, coincidan o no. |\n",
                "> | **CROSS JOIN** | Devuelve todas las combinaciones posibles entre las filas de ambas tablas (producto cartesiano). |\n",
                "> | **SELF JOIN** | Es un `JOIN` de una tabla consigo misma, útil para relaciones jerárquicas. |"
            ],
            "metadata": {
                "azdata_cell_guid": "0a0ce23e-947e-480a-8a6e-0aee518531d8"
            },
            "attachments": {}
        },
        {
            "cell_type": "markdown",
            "source": [
                "## 📘 1. INNER JOIN\n",
                "El `INNER JOIN` devuelve solo las filas que tienen coincidencias en ambas tablas.\n",
                "\n",
                "**Sintaxis básica:**\n",
                "```sql\n",
                "SELECT columnas\n",
                "FROM tabla1\n",
                "INNER JOIN tabla2\n",
                "  ON tabla1.campo = tabla2.campo;\n",
                "```"
            ],
            "metadata": {
                "azdata_cell_guid": "ad33f8d8-a8aa-4b3f-96be-aabe0b3cc774"
            }
        },
        {
            "cell_type": "code",
            "source": [
                "-- Ejemplo: Obtener los nombres de productos y sus categorías\n",
                "SELECT p.ProductName, c.CategoryName\n",
                "FROM Products AS p\n",
                "INNER JOIN Categories AS c\n",
                "  ON p.CategoryID = c.CategoryID;"
            ],
            "metadata": {
                "language": "sql",
                "azdata_cell_guid": "aab112e5-ccf1-462d-9021-030c3ac2f144"
            },
            "outputs": [],
            "execution_count": null
        },
        {
            "cell_type": "markdown",
            "source": [
                "## 📘 2. LEFT JOIN\n",
                "El `LEFT JOIN` devuelve **todas** las filas de la tabla izquierda y las coincidencias de la tabla derecha. \n",
                "Si no hay coincidencias, mostrará `NULL`."
            ],
            "metadata": {
                "azdata_cell_guid": "10e58a8e-fb07-413c-a312-557e159f0d77"
            }
        },
        {
            "cell_type": "code",
            "source": [
                "-- Ejemplo: Mostrar todos los clientes y los pedidos que han realizado\n",
                "SELECT cu.CompanyName, o.OrderID\n",
                "FROM Customers AS cu\n",
                "LEFT JOIN Orders AS o\n",
                "  ON cu.CustomerID = o.CustomerID;"
            ],
            "metadata": {
                "language": "sql",
                "azdata_cell_guid": "9a3072ec-01b5-458c-9609-1dc60476f2e0"
            },
            "outputs": [],
            "execution_count": null
        },
        {
            "cell_type": "markdown",
            "source": [
                "## 📘 3. RIGHT JOIN\n",
                "El `RIGHT JOIN` devuelve **todas** las filas de la tabla derecha y las coincidencias de la izquierda.  \n",
                "Si no hay coincidencias, mostrará `NULL`."
            ],
            "metadata": {
                "azdata_cell_guid": "6e04d5bc-4163-47e7-8e6f-446b04aee3a1"
            }
        },
        {
            "cell_type": "code",
            "source": [
                "-- Ejemplo: Mostrar todos los pedidos y los datos de sus clientes\n",
                "SELECT o.OrderID, cu.CompanyName\n",
                "FROM Orders AS o\n",
                "RIGHT JOIN Customers AS cu\n",
                "  ON o.CustomerID = cu.CustomerID;"
            ],
            "metadata": {
                "language": "sql",
                "azdata_cell_guid": "eb7d0cd5-6dfa-4798-a1f1-641482845de6"
            },
            "outputs": [],
            "execution_count": null
        },
        {
            "cell_type": "markdown",
            "source": [
                "## 📘 4. FULL OUTER JOIN\n",
                "El `FULL OUTER JOIN` devuelve todas las filas de ambas tablas, coincidan o no."
            ],
            "metadata": {
                "azdata_cell_guid": "641ebd58-fe5f-4d0c-b001-771e4d91caec"
            }
        },
        {
            "cell_type": "code",
            "source": [
                "-- Ejemplo: Mostrar todos los clientes y todos los pedidos, existan coincidencias o no\n",
                "SELECT cu.CompanyName, o.OrderID\n",
                "FROM Customers AS cu\n",
                "FULL OUTER JOIN Orders AS o\n",
                "  ON cu.CustomerID = o.CustomerID;"
            ],
            "metadata": {
                "language": "sql",
                "azdata_cell_guid": "786e8333-118c-4fa5-983c-e645415e93e0"
            },
            "outputs": [],
            "execution_count": null
        },
        {
            "cell_type": "markdown",
            "source": [
                "## 📘 5. CROSS JOIN\n",
                "El `CROSS JOIN` devuelve el **producto cartesiano** de las dos tablas (todas las combinaciones posibles)."
            ],
            "metadata": {
                "azdata_cell_guid": "dafcad48-8941-4353-b362-297bc3d37026"
            }
        },
        {
            "cell_type": "code",
            "source": [
                "-- Ejemplo: Combinar todos los empleados con todos los territorios\n",
                "SELECT e.FirstName, e.LastName, t.TerritoryDescription\n",
                "FROM Employees AS e\n",
                "CROSS JOIN Territories AS t;"
            ],
            "metadata": {
                "language": "sql",
                "azdata_cell_guid": "55e9c491-d6b2-48df-beb4-389533b055bb"
            },
            "outputs": [],
            "execution_count": null
        },
        {
            "cell_type": "markdown",
            "source": [
                "## 📘 6. SELF JOIN\n",
                "Un `SELF JOIN` es un `JOIN` de una tabla consigo misma. Se usa con alias."
            ],
            "metadata": {
                "azdata_cell_guid": "70d11df2-5570-4435-a979-05a85c45f31f"
            }
        },
        {
            "cell_type": "code",
            "source": [
                "-- Ejemplo: Mostrar empleados y sus jefes\n",
                "SELECT e1.FirstName AS Empleado, e2.FirstName AS Jefe\n",
                "FROM Employees AS e1\n",
                "INNER JOIN Employees AS e2\n",
                "  ON e1.ReportsTo = e2.EmployeeID;"
            ],
            "metadata": {
                "language": "sql",
                "azdata_cell_guid": "17258c5f-991e-4a95-8206-a9f5e8a89f60"
            },
            "outputs": [],
            "execution_count": null
        },
        {
            "cell_type": "markdown",
            "source": [
                "# 💪 7. Ejercicios para resolver\n",
                "\n",
                "Crea una nueva celda de tipo SQL para cada ejercicio.\n",
                "\n",
                "### ✍️ Ejercicio 1\n",
                "\n",
                "Lista los nombres de los productos junto con el nombre de su proveedor (`Suppliers`).\n",
                "\n",
                "* * *\n",
                "\n",
                "### ✍️ Ejercicio 2\n",
                "\n",
                "Muestra los nombres de todos los clientes y los pedidos que hayan realizado.  \n",
                "Incluye a los clientes que **no tienen pedidos**.\n",
                "\n",
                "* * *\n",
                "\n",
                "### ✍️ Ejercicio 3\n",
                "\n",
                "Muestra todos los pedidos realizados y, para cada pedido, el nombre del empleado que los atendió.  \n",
                "Incluye también los empleados que **no han atendido ningún pedido**.\n",
                "\n",
                "* * *\n",
                "\n",
                "### ✍️ Ejercicio 4\n",
                "\n",
                "Obtén un listado de todas las categorías y los productos que pertenecen a cada una.  \n",
                "Incluye también las categorías que **no tienen productos asignados**.\n",
                "\n",
                "* * *\n",
                "\n",
                "### ✍️ Ejercicio 5\n",
                "\n",
                "Muestra el nombre de los empleados y el nombre de su jefe inmediato.\n",
                "\n",
                "* * *\n",
                "\n",
                "### ✍️ Ejercicio 6\n",
                "\n",
                "Realiza un `CROSS JOIN` entre las tablas `Shippers` y `Employees` para obtener todas las combinaciones posibles de empleados con transportistas.\n",
                "\n",
                "* * *\n",
                "\n",
                "### ✍️ Ejercicio 7\n",
                "\n",
                "Crea una consulta que muestre todos los clientes y todos los pedidos, **aunque no coincidan** entre sí.\n",
                "\n",
                "* * *\n",
                "\n",
                "## ✅ Entregable\n",
                "\n",
                "- Guarda este notebook con tus soluciones y resultados.\n",
                "- Súbelo a UAM-Virtual"
            ],
            "metadata": {
                "azdata_cell_guid": "b41edf80-c17d-4d7d-abe7-0655cbfb1447"
            },
            "attachments": {}
        },
        {
            "cell_type": "markdown",
            "source": [
                "### ✍️ Ejercicio 1\n",
                "\n",
                "Lista los nombres de los productos junto con el nombre de su proveedor (`Suppliers`).\n",
                "\n",
                "* * *\n"
            ],
            "metadata": {
                "azdata_cell_guid": "7fd1cc8d-1369-43be-99ce-8bbd7afe2e14"
            }
        },
        {
            "cell_type": "code",
            "source": [
                "SELECT Products.ProductName, Suppliers.CompanyName\n",
                "FROM Products\n",
                "INNER JOIN Suppliers ON Products.SupplierID = Suppliers.SupplierID"
            ],
            "metadata": {
                "SqlCellData": {
                    "data_source_name": "Northwind@localhost",
                    "variableName$1": "df_sql1"
                },
                "azdata_cell_guid": "0a2374f0-a54a-4b84-80d9-4eee9df4a35f",
                "language": "sql"
            },
            "outputs": [
                {
                    "output_type": "display_data",
                    "data": {
                        "text/html": "(77 rows affected)"
                    },
                    "metadata": {}
                },
                {
                    "output_type": "display_data",
                    "data": {
                        "text/html": "Total execution time: 00:00:00.016"
                    },
                    "metadata": {}
                },
                {
                    "output_type": "execute_result",
                    "metadata": {},
                    "execution_count": 1,
                    "data": {
                        "application/vnd.dataresource+json": {
                            "schema": {
                                "fields": [
                                    {
                                        "name": "ProductName"
                                    },
                                    {
                                        "name": "CompanyName"
                                    }
                                ]
                            },
                            "data": [
                                {
                                    "ProductName": "Chai",
                                    "CompanyName": "Exotic Liquids"
                                },
                                {
                                    "ProductName": "Chang",
                                    "CompanyName": "Exotic Liquids"
                                },
                                {
                                    "ProductName": "Aniseed Syrup",
                                    "CompanyName": "Exotic Liquids"
                                },
                                {
                                    "ProductName": "Chef Anton's Cajun Seasoning",
                                    "CompanyName": "New Orleans Cajun Delights"
                                },
                                {
                                    "ProductName": "Chef Anton's Gumbo Mix",
                                    "CompanyName": "New Orleans Cajun Delights"
                                },
                                {
                                    "ProductName": "Grandma's Boysenberry Spread",
                                    "CompanyName": "Grandma Kelly's Homestead"
                                },
                                {
                                    "ProductName": "Uncle Bob's Organic Dried Pears",
                                    "CompanyName": "Grandma Kelly's Homestead"
                                },
                                {
                                    "ProductName": "Northwoods Cranberry Sauce",
                                    "CompanyName": "Grandma Kelly's Homestead"
                                },
                                {
                                    "ProductName": "Mishi Kobe Niku",
                                    "CompanyName": "Tokyo Traders"
                                },
                                {
                                    "ProductName": "Ikura",
                                    "CompanyName": "Tokyo Traders"
                                },
                                {
                                    "ProductName": "Queso Cabrales",
                                    "CompanyName": "Cooperativa de Quesos 'Las Cabras'"
                                },
                                {
                                    "ProductName": "Queso Manchego La Pastora",
                                    "CompanyName": "Cooperativa de Quesos 'Las Cabras'"
                                },
                                {
                                    "ProductName": "Konbu",
                                    "CompanyName": "Mayumi's"
                                },
                                {
                                    "ProductName": "Tofu",
                                    "CompanyName": "Mayumi's"
                                },
                                {
                                    "ProductName": "Genen Shouyu",
                                    "CompanyName": "Mayumi's"
                                },
                                {
                                    "ProductName": "Pavlova",
                                    "CompanyName": "Pavlova, Ltd."
                                },
                                {
                                    "ProductName": "Alice Mutton",
                                    "CompanyName": "Pavlova, Ltd."
                                },
                                {
                                    "ProductName": "Carnarvon Tigers",
                                    "CompanyName": "Pavlova, Ltd."
                                },
                                {
                                    "ProductName": "Teatime Chocolate Biscuits",
                                    "CompanyName": "Specialty Biscuits, Ltd."
                                },
                                {
                                    "ProductName": "Sir Rodney's Marmalade",
                                    "CompanyName": "Specialty Biscuits, Ltd."
                                },
                                {
                                    "ProductName": "Sir Rodney's Scones",
                                    "CompanyName": "Specialty Biscuits, Ltd."
                                },
                                {
                                    "ProductName": "Gustaf's Knäckebröd",
                                    "CompanyName": "PB Knäckebröd AB"
                                },
                                {
                                    "ProductName": "Tunnbröd",
                                    "CompanyName": "PB Knäckebröd AB"
                                },
                                {
                                    "ProductName": "Guaraná Fantástica",
                                    "CompanyName": "Refrescos Americanas LTDA"
                                },
                                {
                                    "ProductName": "NuNuCa Nuß-Nougat-Creme",
                                    "CompanyName": "Heli Süßwaren GmbH & Co. KG"
                                },
                                {
                                    "ProductName": "Gumbär Gummibärchen",
                                    "CompanyName": "Heli Süßwaren GmbH & Co. KG"
                                },
                                {
                                    "ProductName": "Schoggi Schokolade",
                                    "CompanyName": "Heli Süßwaren GmbH & Co. KG"
                                },
                                {
                                    "ProductName": "Rössle Sauerkraut",
                                    "CompanyName": "Plutzer Lebensmittelgroßmärkte AG"
                                },
                                {
                                    "ProductName": "Thüringer Rostbratwurst",
                                    "CompanyName": "Plutzer Lebensmittelgroßmärkte AG"
                                },
                                {
                                    "ProductName": "Nord-Ost Matjeshering",
                                    "CompanyName": "Nord-Ost-Fisch Handelsgesellschaft mbH"
                                },
                                {
                                    "ProductName": "Gorgonzola Telino",
                                    "CompanyName": "Formaggi Fortini s.r.l."
                                },
                                {
                                    "ProductName": "Mascarpone Fabioli",
                                    "CompanyName": "Formaggi Fortini s.r.l."
                                },
                                {
                                    "ProductName": "Geitost",
                                    "CompanyName": "Norske Meierier"
                                },
                                {
                                    "ProductName": "Sasquatch Ale",
                                    "CompanyName": "Bigfoot Breweries"
                                },
                                {
                                    "ProductName": "Steeleye Stout",
                                    "CompanyName": "Bigfoot Breweries"
                                },
                                {
                                    "ProductName": "Inlagd Sill",
                                    "CompanyName": "Svensk Sjöföda AB"
                                },
                                {
                                    "ProductName": "Gravad lax",
                                    "CompanyName": "Svensk Sjöföda AB"
                                },
                                {
                                    "ProductName": "Côte de Blaye",
                                    "CompanyName": "Aux joyeux ecclésiastiques"
                                },
                                {
                                    "ProductName": "Chartreuse verte",
                                    "CompanyName": "Aux joyeux ecclésiastiques"
                                },
                                {
                                    "ProductName": "Boston Crab Meat",
                                    "CompanyName": "New England Seafood Cannery"
                                },
                                {
                                    "ProductName": "Jack's New England Clam Chowder",
                                    "CompanyName": "New England Seafood Cannery"
                                },
                                {
                                    "ProductName": "Singaporean Hokkien Fried Mee",
                                    "CompanyName": "Leka Trading"
                                },
                                {
                                    "ProductName": "Ipoh Coffee",
                                    "CompanyName": "Leka Trading"
                                },
                                {
                                    "ProductName": "Gula Malacca",
                                    "CompanyName": "Leka Trading"
                                },
                                {
                                    "ProductName": "Rogede sild",
                                    "CompanyName": "Lyngbysild"
                                },
                                {
                                    "ProductName": "Spegesild",
                                    "CompanyName": "Lyngbysild"
                                },
                                {
                                    "ProductName": "Zaanse koeken",
                                    "CompanyName": "Zaanse Snoepfabriek"
                                },
                                {
                                    "ProductName": "Chocolade",
                                    "CompanyName": "Zaanse Snoepfabriek"
                                },
                                {
                                    "ProductName": "Maxilaku",
                                    "CompanyName": "Karkki Oy"
                                },
                                {
                                    "ProductName": "Valkoinen suklaa",
                                    "CompanyName": "Karkki Oy"
                                },
                                {
                                    "ProductName": "Manjimup Dried Apples",
                                    "CompanyName": "G'day, Mate"
                                },
                                {
                                    "ProductName": "Filo Mix",
                                    "CompanyName": "G'day, Mate"
                                },
                                {
                                    "ProductName": "Perth Pasties",
                                    "CompanyName": "G'day, Mate"
                                },
                                {
                                    "ProductName": "Tourtière",
                                    "CompanyName": "Ma Maison"
                                },
                                {
                                    "ProductName": "Pâté chinois",
                                    "CompanyName": "Ma Maison"
                                },
                                {
                                    "ProductName": "Gnocchi di nonna Alice",
                                    "CompanyName": "Pasta Buttini s.r.l."
                                },
                                {
                                    "ProductName": "Ravioli Angelo",
                                    "CompanyName": "Pasta Buttini s.r.l."
                                },
                                {
                                    "ProductName": "Escargots de Bourgogne",
                                    "CompanyName": "Escargots Nouveaux"
                                },
                                {
                                    "ProductName": "Raclette Courdavault",
                                    "CompanyName": "Gai pâturage"
                                },
                                {
                                    "ProductName": "Camembert Pierrot",
                                    "CompanyName": "Gai pâturage"
                                },
                                {
                                    "ProductName": "Sirop d'érable",
                                    "CompanyName": "Forêts d'érables"
                                },
                                {
                                    "ProductName": "Tarte au sucre",
                                    "CompanyName": "Forêts d'érables"
                                },
                                {
                                    "ProductName": "Vegie-spread",
                                    "CompanyName": "Pavlova, Ltd."
                                },
                                {
                                    "ProductName": "Wimmers gute Semmelknödel",
                                    "CompanyName": "Plutzer Lebensmittelgroßmärkte AG"
                                },
                                {
                                    "ProductName": "Louisiana Fiery Hot Pepper Sauce",
                                    "CompanyName": "New Orleans Cajun Delights"
                                },
                                {
                                    "ProductName": "Louisiana Hot Spiced Okra",
                                    "CompanyName": "New Orleans Cajun Delights"
                                },
                                {
                                    "ProductName": "Laughing Lumberjack Lager",
                                    "CompanyName": "Bigfoot Breweries"
                                },
                                {
                                    "ProductName": "Scottish Longbreads",
                                    "CompanyName": "Specialty Biscuits, Ltd."
                                },
                                {
                                    "ProductName": "Gudbrandsdalsost",
                                    "CompanyName": "Norske Meierier"
                                },
                                {
                                    "ProductName": "Outback Lager",
                                    "CompanyName": "Pavlova, Ltd."
                                },
                                {
                                    "ProductName": "Flotemysost",
                                    "CompanyName": "Norske Meierier"
                                },
                                {
                                    "ProductName": "Mozzarella di Giovanni",
                                    "CompanyName": "Formaggi Fortini s.r.l."
                                },
                                {
                                    "ProductName": "Röd Kaviar",
                                    "CompanyName": "Svensk Sjöföda AB"
                                },
                                {
                                    "ProductName": "Longlife Tofu",
                                    "CompanyName": "Tokyo Traders"
                                },
                                {
                                    "ProductName": "Rhönbräu Klosterbier",
                                    "CompanyName": "Plutzer Lebensmittelgroßmärkte AG"
                                },
                                {
                                    "ProductName": "Lakkalikööri",
                                    "CompanyName": "Karkki Oy"
                                },
                                {
                                    "ProductName": "Original Frankfurter grüne Soße",
                                    "CompanyName": "Plutzer Lebensmittelgroßmärkte AG"
                                }
                            ]
                        },
                        "text/html": [
                            "<table>",
                            "<tr><th>ProductName</th><th>CompanyName</th></tr>",
                            "<tr><td>Chai</td><td>Exotic Liquids</td></tr>",
                            "<tr><td>Chang</td><td>Exotic Liquids</td></tr>",
                            "<tr><td>Aniseed Syrup</td><td>Exotic Liquids</td></tr>",
                            "<tr><td>Chef Anton&#39;s Cajun Seasoning</td><td>New Orleans Cajun Delights</td></tr>",
                            "<tr><td>Chef Anton&#39;s Gumbo Mix</td><td>New Orleans Cajun Delights</td></tr>",
                            "<tr><td>Grandma&#39;s Boysenberry Spread</td><td>Grandma Kelly&#39;s Homestead</td></tr>",
                            "<tr><td>Uncle Bob&#39;s Organic Dried Pears</td><td>Grandma Kelly&#39;s Homestead</td></tr>",
                            "<tr><td>Northwoods Cranberry Sauce</td><td>Grandma Kelly&#39;s Homestead</td></tr>",
                            "<tr><td>Mishi Kobe Niku</td><td>Tokyo Traders</td></tr>",
                            "<tr><td>Ikura</td><td>Tokyo Traders</td></tr>",
                            "<tr><td>Queso Cabrales</td><td>Cooperativa de Quesos &#39;Las Cabras&#39;</td></tr>",
                            "<tr><td>Queso Manchego La Pastora</td><td>Cooperativa de Quesos &#39;Las Cabras&#39;</td></tr>",
                            "<tr><td>Konbu</td><td>Mayumi&#39;s</td></tr>",
                            "<tr><td>Tofu</td><td>Mayumi&#39;s</td></tr>",
                            "<tr><td>Genen Shouyu</td><td>Mayumi&#39;s</td></tr>",
                            "<tr><td>Pavlova</td><td>Pavlova, Ltd.</td></tr>",
                            "<tr><td>Alice Mutton</td><td>Pavlova, Ltd.</td></tr>",
                            "<tr><td>Carnarvon Tigers</td><td>Pavlova, Ltd.</td></tr>",
                            "<tr><td>Teatime Chocolate Biscuits</td><td>Specialty Biscuits, Ltd.</td></tr>",
                            "<tr><td>Sir Rodney&#39;s Marmalade</td><td>Specialty Biscuits, Ltd.</td></tr>",
                            "<tr><td>Sir Rodney&#39;s Scones</td><td>Specialty Biscuits, Ltd.</td></tr>",
                            "<tr><td>Gustaf&#39;s Knäckebröd</td><td>PB Knäckebröd AB</td></tr>",
                            "<tr><td>Tunnbröd</td><td>PB Knäckebröd AB</td></tr>",
                            "<tr><td>Guaraná Fantástica</td><td>Refrescos Americanas LTDA</td></tr>",
                            "<tr><td>NuNuCa Nuß-Nougat-Creme</td><td>Heli Süßwaren GmbH &amp; Co. KG</td></tr>",
                            "<tr><td>Gumbär Gummibärchen</td><td>Heli Süßwaren GmbH &amp; Co. KG</td></tr>",
                            "<tr><td>Schoggi Schokolade</td><td>Heli Süßwaren GmbH &amp; Co. KG</td></tr>",
                            "<tr><td>Rössle Sauerkraut</td><td>Plutzer Lebensmittelgroßmärkte AG</td></tr>",
                            "<tr><td>Thüringer Rostbratwurst</td><td>Plutzer Lebensmittelgroßmärkte AG</td></tr>",
                            "<tr><td>Nord-Ost Matjeshering</td><td>Nord-Ost-Fisch Handelsgesellschaft mbH</td></tr>",
                            "<tr><td>Gorgonzola Telino</td><td>Formaggi Fortini s.r.l.</td></tr>",
                            "<tr><td>Mascarpone Fabioli</td><td>Formaggi Fortini s.r.l.</td></tr>",
                            "<tr><td>Geitost</td><td>Norske Meierier</td></tr>",
                            "<tr><td>Sasquatch Ale</td><td>Bigfoot Breweries</td></tr>",
                            "<tr><td>Steeleye Stout</td><td>Bigfoot Breweries</td></tr>",
                            "<tr><td>Inlagd Sill</td><td>Svensk Sjöföda AB</td></tr>",
                            "<tr><td>Gravad lax</td><td>Svensk Sjöföda AB</td></tr>",
                            "<tr><td>Côte de Blaye</td><td>Aux joyeux ecclésiastiques</td></tr>",
                            "<tr><td>Chartreuse verte</td><td>Aux joyeux ecclésiastiques</td></tr>",
                            "<tr><td>Boston Crab Meat</td><td>New England Seafood Cannery</td></tr>",
                            "<tr><td>Jack&#39;s New England Clam Chowder</td><td>New England Seafood Cannery</td></tr>",
                            "<tr><td>Singaporean Hokkien Fried Mee</td><td>Leka Trading</td></tr>",
                            "<tr><td>Ipoh Coffee</td><td>Leka Trading</td></tr>",
                            "<tr><td>Gula Malacca</td><td>Leka Trading</td></tr>",
                            "<tr><td>Rogede sild</td><td>Lyngbysild</td></tr>",
                            "<tr><td>Spegesild</td><td>Lyngbysild</td></tr>",
                            "<tr><td>Zaanse koeken</td><td>Zaanse Snoepfabriek</td></tr>",
                            "<tr><td>Chocolade</td><td>Zaanse Snoepfabriek</td></tr>",
                            "<tr><td>Maxilaku</td><td>Karkki Oy</td></tr>",
                            "<tr><td>Valkoinen suklaa</td><td>Karkki Oy</td></tr>",
                            "<tr><td>Manjimup Dried Apples</td><td>G&#39;day, Mate</td></tr>",
                            "<tr><td>Filo Mix</td><td>G&#39;day, Mate</td></tr>",
                            "<tr><td>Perth Pasties</td><td>G&#39;day, Mate</td></tr>",
                            "<tr><td>Tourtière</td><td>Ma Maison</td></tr>",
                            "<tr><td>Pâté chinois</td><td>Ma Maison</td></tr>",
                            "<tr><td>Gnocchi di nonna Alice</td><td>Pasta Buttini s.r.l.</td></tr>",
                            "<tr><td>Ravioli Angelo</td><td>Pasta Buttini s.r.l.</td></tr>",
                            "<tr><td>Escargots de Bourgogne</td><td>Escargots Nouveaux</td></tr>",
                            "<tr><td>Raclette Courdavault</td><td>Gai pâturage</td></tr>",
                            "<tr><td>Camembert Pierrot</td><td>Gai pâturage</td></tr>",
                            "<tr><td>Sirop d&#39;érable</td><td>Forêts d&#39;érables</td></tr>",
                            "<tr><td>Tarte au sucre</td><td>Forêts d&#39;érables</td></tr>",
                            "<tr><td>Vegie-spread</td><td>Pavlova, Ltd.</td></tr>",
                            "<tr><td>Wimmers gute Semmelknödel</td><td>Plutzer Lebensmittelgroßmärkte AG</td></tr>",
                            "<tr><td>Louisiana Fiery Hot Pepper Sauce</td><td>New Orleans Cajun Delights</td></tr>",
                            "<tr><td>Louisiana Hot Spiced Okra</td><td>New Orleans Cajun Delights</td></tr>",
                            "<tr><td>Laughing Lumberjack Lager</td><td>Bigfoot Breweries</td></tr>",
                            "<tr><td>Scottish Longbreads</td><td>Specialty Biscuits, Ltd.</td></tr>",
                            "<tr><td>Gudbrandsdalsost</td><td>Norske Meierier</td></tr>",
                            "<tr><td>Outback Lager</td><td>Pavlova, Ltd.</td></tr>",
                            "<tr><td>Flotemysost</td><td>Norske Meierier</td></tr>",
                            "<tr><td>Mozzarella di Giovanni</td><td>Formaggi Fortini s.r.l.</td></tr>",
                            "<tr><td>Röd Kaviar</td><td>Svensk Sjöföda AB</td></tr>",
                            "<tr><td>Longlife Tofu</td><td>Tokyo Traders</td></tr>",
                            "<tr><td>Rhönbräu Klosterbier</td><td>Plutzer Lebensmittelgroßmärkte AG</td></tr>",
                            "<tr><td>Lakkalikööri</td><td>Karkki Oy</td></tr>",
                            "<tr><td>Original Frankfurter grüne Soße</td><td>Plutzer Lebensmittelgroßmärkte AG</td></tr>",
                            "</table>"
                        ]
                    }
                }
            ],
            "execution_count": 1
        },
        {
            "cell_type": "markdown",
            "source": [
                "### ✍️ Ejercicio 2\n",
                "\n",
                "Muestra los nombres de todos los clientes y los pedidos que hayan realizado.\n",
                "Incluye a los clientes que **no tienen pedidos**.\n",
                "\n",
                "* * *"
            ],
            "metadata": {
                "azdata_cell_guid": "79eee2c1-1228-4a08-85df-ba5e23d39106"
            }
        },
        {
            "cell_type": "code",
            "source": [
                "SELECT Customers.CompanyName, COUNT(Orders.OrderID) AS TotalPedidos\n",
                "FROM Customers\n",
                "LEFT JOIN Orders ON Customers.CustomerID = Orders.CustomerID\n",
                "GROUP BY Customers.CustomerID, Customers.CompanyName;"
            ],
            "metadata": {
                "SqlCellData": {
                    "data_source_name": "Northwind@localhost",
                    "variableName$1": "df_sql2"
                },
                "azdata_cell_guid": "c7715c87-69a0-47a6-8373-cc543269f619",
                "language": "sql"
            },
            "outputs": [
                {
                    "output_type": "display_data",
                    "data": {
                        "text/html": "(91 rows affected)"
                    },
                    "metadata": {}
                },
                {
                    "output_type": "display_data",
                    "data": {
                        "text/html": "Total execution time: 00:00:00.031"
                    },
                    "metadata": {}
                },
                {
                    "output_type": "execute_result",
                    "metadata": {},
                    "execution_count": 2,
                    "data": {
                        "application/vnd.dataresource+json": {
                            "schema": {
                                "fields": [
                                    {
                                        "name": "CompanyName"
                                    },
                                    {
                                        "name": "TotalPedidos"
                                    }
                                ]
                            },
                            "data": [
                                {
                                    "CompanyName": "Alfreds Futterkiste",
                                    "TotalPedidos": "6"
                                },
                                {
                                    "CompanyName": "Ana Trujillo Emparedados y helados",
                                    "TotalPedidos": "4"
                                },
                                {
                                    "CompanyName": "Antonio Moreno Taquería",
                                    "TotalPedidos": "7"
                                },
                                {
                                    "CompanyName": "Around the Horn",
                                    "TotalPedidos": "13"
                                },
                                {
                                    "CompanyName": "Berglunds snabbköp",
                                    "TotalPedidos": "18"
                                },
                                {
                                    "CompanyName": "Blauer See Delikatessen",
                                    "TotalPedidos": "7"
                                },
                                {
                                    "CompanyName": "Blondesddsl père et fils",
                                    "TotalPedidos": "11"
                                },
                                {
                                    "CompanyName": "Bólido Comidas preparadas",
                                    "TotalPedidos": "3"
                                },
                                {
                                    "CompanyName": "Bon app'",
                                    "TotalPedidos": "17"
                                },
                                {
                                    "CompanyName": "Bottom-Dollar Markets",
                                    "TotalPedidos": "14"
                                },
                                {
                                    "CompanyName": "B's Beverages",
                                    "TotalPedidos": "10"
                                },
                                {
                                    "CompanyName": "Cactus Comidas para llevar",
                                    "TotalPedidos": "6"
                                },
                                {
                                    "CompanyName": "Centro comercial Moctezuma",
                                    "TotalPedidos": "1"
                                },
                                {
                                    "CompanyName": "Chop-suey Chinese",
                                    "TotalPedidos": "8"
                                },
                                {
                                    "CompanyName": "Comércio Mineiro",
                                    "TotalPedidos": "5"
                                },
                                {
                                    "CompanyName": "Consolidated Holdings",
                                    "TotalPedidos": "3"
                                },
                                {
                                    "CompanyName": "Drachenblut Delikatessen",
                                    "TotalPedidos": "6"
                                },
                                {
                                    "CompanyName": "Du monde entier",
                                    "TotalPedidos": "4"
                                },
                                {
                                    "CompanyName": "Eastern Connection",
                                    "TotalPedidos": "8"
                                },
                                {
                                    "CompanyName": "Ernst Handel",
                                    "TotalPedidos": "30"
                                },
                                {
                                    "CompanyName": "Familia Arquibaldo",
                                    "TotalPedidos": "7"
                                },
                                {
                                    "CompanyName": "FISSA Fabrica Inter. Salchichas S.A.",
                                    "TotalPedidos": "0"
                                },
                                {
                                    "CompanyName": "Folies gourmandes",
                                    "TotalPedidos": "5"
                                },
                                {
                                    "CompanyName": "Folk och fä HB",
                                    "TotalPedidos": "19"
                                },
                                {
                                    "CompanyName": "Frankenversand",
                                    "TotalPedidos": "15"
                                },
                                {
                                    "CompanyName": "France restauration",
                                    "TotalPedidos": "3"
                                },
                                {
                                    "CompanyName": "Franchi S.p.A.",
                                    "TotalPedidos": "6"
                                },
                                {
                                    "CompanyName": "Furia Bacalhau e Frutos do Mar",
                                    "TotalPedidos": "8"
                                },
                                {
                                    "CompanyName": "Galería del gastrónomo",
                                    "TotalPedidos": "5"
                                },
                                {
                                    "CompanyName": "Godos Cocina Típica",
                                    "TotalPedidos": "10"
                                },
                                {
                                    "CompanyName": "Gourmet Lanchonetes",
                                    "TotalPedidos": "9"
                                },
                                {
                                    "CompanyName": "Great Lakes Food Market",
                                    "TotalPedidos": "11"
                                },
                                {
                                    "CompanyName": "GROSELLA-Restaurante",
                                    "TotalPedidos": "2"
                                },
                                {
                                    "CompanyName": "Hanari Carnes",
                                    "TotalPedidos": "14"
                                },
                                {
                                    "CompanyName": "HILARION-Abastos",
                                    "TotalPedidos": "18"
                                },
                                {
                                    "CompanyName": "Hungry Coyote Import Store",
                                    "TotalPedidos": "5"
                                },
                                {
                                    "CompanyName": "Hungry Owl All-Night Grocers",
                                    "TotalPedidos": "19"
                                },
                                {
                                    "CompanyName": "Island Trading",
                                    "TotalPedidos": "10"
                                },
                                {
                                    "CompanyName": "Königlich Essen",
                                    "TotalPedidos": "14"
                                },
                                {
                                    "CompanyName": "La corne d'abondance",
                                    "TotalPedidos": "4"
                                },
                                {
                                    "CompanyName": "La maison d'Asie",
                                    "TotalPedidos": "14"
                                },
                                {
                                    "CompanyName": "Laughing Bacchus Wine Cellars",
                                    "TotalPedidos": "3"
                                },
                                {
                                    "CompanyName": "Lazy K Kountry Store",
                                    "TotalPedidos": "2"
                                },
                                {
                                    "CompanyName": "Lehmanns Marktstand",
                                    "TotalPedidos": "15"
                                },
                                {
                                    "CompanyName": "Let's Stop N Shop",
                                    "TotalPedidos": "4"
                                },
                                {
                                    "CompanyName": "LILA-Supermercado",
                                    "TotalPedidos": "14"
                                },
                                {
                                    "CompanyName": "LINO-Delicateses",
                                    "TotalPedidos": "12"
                                },
                                {
                                    "CompanyName": "Lonesome Pine Restaurant",
                                    "TotalPedidos": "8"
                                },
                                {
                                    "CompanyName": "Magazzini Alimentari Riuniti",
                                    "TotalPedidos": "10"
                                },
                                {
                                    "CompanyName": "Maison Dewey",
                                    "TotalPedidos": "7"
                                },
                                {
                                    "CompanyName": "Mère Paillarde",
                                    "TotalPedidos": "13"
                                },
                                {
                                    "CompanyName": "Morgenstern Gesundkost",
                                    "TotalPedidos": "5"
                                },
                                {
                                    "CompanyName": "North/South",
                                    "TotalPedidos": "3"
                                },
                                {
                                    "CompanyName": "Océano Atlántico Ltda.",
                                    "TotalPedidos": "5"
                                },
                                {
                                    "CompanyName": "Old World Delicatessen",
                                    "TotalPedidos": "10"
                                },
                                {
                                    "CompanyName": "Ottilies Käseladen",
                                    "TotalPedidos": "10"
                                },
                                {
                                    "CompanyName": "Paris spécialités",
                                    "TotalPedidos": "0"
                                },
                                {
                                    "CompanyName": "Pericles Comidas clásicas",
                                    "TotalPedidos": "6"
                                },
                                {
                                    "CompanyName": "Piccolo und mehr",
                                    "TotalPedidos": "10"
                                },
                                {
                                    "CompanyName": "Princesa Isabel Vinhos",
                                    "TotalPedidos": "5"
                                },
                                {
                                    "CompanyName": "Que Delícia",
                                    "TotalPedidos": "9"
                                },
                                {
                                    "CompanyName": "Queen Cozinha",
                                    "TotalPedidos": "13"
                                },
                                {
                                    "CompanyName": "QUICK-Stop",
                                    "TotalPedidos": "28"
                                },
                                {
                                    "CompanyName": "Rancho grande",
                                    "TotalPedidos": "5"
                                },
                                {
                                    "CompanyName": "Rattlesnake Canyon Grocery",
                                    "TotalPedidos": "18"
                                },
                                {
                                    "CompanyName": "Reggiani Caseifici",
                                    "TotalPedidos": "12"
                                },
                                {
                                    "CompanyName": "Ricardo Adocicados",
                                    "TotalPedidos": "11"
                                },
                                {
                                    "CompanyName": "Richter Supermarkt",
                                    "TotalPedidos": "10"
                                },
                                {
                                    "CompanyName": "Romero y tomillo",
                                    "TotalPedidos": "5"
                                },
                                {
                                    "CompanyName": "Santé Gourmet",
                                    "TotalPedidos": "6"
                                },
                                {
                                    "CompanyName": "Save-a-lot Markets",
                                    "TotalPedidos": "31"
                                },
                                {
                                    "CompanyName": "Seven Seas Imports",
                                    "TotalPedidos": "9"
                                },
                                {
                                    "CompanyName": "Simons bistro",
                                    "TotalPedidos": "7"
                                },
                                {
                                    "CompanyName": "Spécialités du monde",
                                    "TotalPedidos": "4"
                                },
                                {
                                    "CompanyName": "Split Rail Beer & Ale",
                                    "TotalPedidos": "9"
                                },
                                {
                                    "CompanyName": "Suprêmes délices",
                                    "TotalPedidos": "12"
                                },
                                {
                                    "CompanyName": "The Big Cheese",
                                    "TotalPedidos": "4"
                                },
                                {
                                    "CompanyName": "The Cracker Box",
                                    "TotalPedidos": "3"
                                },
                                {
                                    "CompanyName": "Toms Spezialitäten",
                                    "TotalPedidos": "6"
                                },
                                {
                                    "CompanyName": "Tortuga Restaurante",
                                    "TotalPedidos": "10"
                                },
                                {
                                    "CompanyName": "Tradição Hipermercados",
                                    "TotalPedidos": "6"
                                },
                                {
                                    "CompanyName": "Trail's Head Gourmet Provisioners",
                                    "TotalPedidos": "3"
                                },
                                {
                                    "CompanyName": "Vaffeljernet",
                                    "TotalPedidos": "11"
                                },
                                {
                                    "CompanyName": "Victuailles en stock",
                                    "TotalPedidos": "10"
                                },
                                {
                                    "CompanyName": "Vins et alcools Chevalier",
                                    "TotalPedidos": "5"
                                },
                                {
                                    "CompanyName": "Die Wandernde Kuh",
                                    "TotalPedidos": "10"
                                },
                                {
                                    "CompanyName": "Wartian Herkku",
                                    "TotalPedidos": "15"
                                },
                                {
                                    "CompanyName": "Wellington Importadora",
                                    "TotalPedidos": "9"
                                },
                                {
                                    "CompanyName": "White Clover Markets",
                                    "TotalPedidos": "14"
                                },
                                {
                                    "CompanyName": "Wilman Kala",
                                    "TotalPedidos": "7"
                                },
                                {
                                    "CompanyName": "Wolski  Zajazd",
                                    "TotalPedidos": "7"
                                }
                            ]
                        },
                        "text/html": [
                            "<table>",
                            "<tr><th>CompanyName</th><th>TotalPedidos</th></tr>",
                            "<tr><td>Alfreds Futterkiste</td><td>6</td></tr>",
                            "<tr><td>Ana Trujillo Emparedados y helados</td><td>4</td></tr>",
                            "<tr><td>Antonio Moreno Taquería</td><td>7</td></tr>",
                            "<tr><td>Around the Horn</td><td>13</td></tr>",
                            "<tr><td>Berglunds snabbköp</td><td>18</td></tr>",
                            "<tr><td>Blauer See Delikatessen</td><td>7</td></tr>",
                            "<tr><td>Blondesddsl père et fils</td><td>11</td></tr>",
                            "<tr><td>Bólido Comidas preparadas</td><td>3</td></tr>",
                            "<tr><td>Bon app&#39;</td><td>17</td></tr>",
                            "<tr><td>Bottom-Dollar Markets</td><td>14</td></tr>",
                            "<tr><td>B&#39;s Beverages</td><td>10</td></tr>",
                            "<tr><td>Cactus Comidas para llevar</td><td>6</td></tr>",
                            "<tr><td>Centro comercial Moctezuma</td><td>1</td></tr>",
                            "<tr><td>Chop-suey Chinese</td><td>8</td></tr>",
                            "<tr><td>Comércio Mineiro</td><td>5</td></tr>",
                            "<tr><td>Consolidated Holdings</td><td>3</td></tr>",
                            "<tr><td>Drachenblut Delikatessen</td><td>6</td></tr>",
                            "<tr><td>Du monde entier</td><td>4</td></tr>",
                            "<tr><td>Eastern Connection</td><td>8</td></tr>",
                            "<tr><td>Ernst Handel</td><td>30</td></tr>",
                            "<tr><td>Familia Arquibaldo</td><td>7</td></tr>",
                            "<tr><td>FISSA Fabrica Inter. Salchichas S.A.</td><td>0</td></tr>",
                            "<tr><td>Folies gourmandes</td><td>5</td></tr>",
                            "<tr><td>Folk och fä HB</td><td>19</td></tr>",
                            "<tr><td>Frankenversand</td><td>15</td></tr>",
                            "<tr><td>France restauration</td><td>3</td></tr>",
                            "<tr><td>Franchi S.p.A.</td><td>6</td></tr>",
                            "<tr><td>Furia Bacalhau e Frutos do Mar</td><td>8</td></tr>",
                            "<tr><td>Galería del gastrónomo</td><td>5</td></tr>",
                            "<tr><td>Godos Cocina Típica</td><td>10</td></tr>",
                            "<tr><td>Gourmet Lanchonetes</td><td>9</td></tr>",
                            "<tr><td>Great Lakes Food Market</td><td>11</td></tr>",
                            "<tr><td>GROSELLA-Restaurante</td><td>2</td></tr>",
                            "<tr><td>Hanari Carnes</td><td>14</td></tr>",
                            "<tr><td>HILARION-Abastos</td><td>18</td></tr>",
                            "<tr><td>Hungry Coyote Import Store</td><td>5</td></tr>",
                            "<tr><td>Hungry Owl All-Night Grocers</td><td>19</td></tr>",
                            "<tr><td>Island Trading</td><td>10</td></tr>",
                            "<tr><td>Königlich Essen</td><td>14</td></tr>",
                            "<tr><td>La corne d&#39;abondance</td><td>4</td></tr>",
                            "<tr><td>La maison d&#39;Asie</td><td>14</td></tr>",
                            "<tr><td>Laughing Bacchus Wine Cellars</td><td>3</td></tr>",
                            "<tr><td>Lazy K Kountry Store</td><td>2</td></tr>",
                            "<tr><td>Lehmanns Marktstand</td><td>15</td></tr>",
                            "<tr><td>Let&#39;s Stop N Shop</td><td>4</td></tr>",
                            "<tr><td>LILA-Supermercado</td><td>14</td></tr>",
                            "<tr><td>LINO-Delicateses</td><td>12</td></tr>",
                            "<tr><td>Lonesome Pine Restaurant</td><td>8</td></tr>",
                            "<tr><td>Magazzini Alimentari Riuniti</td><td>10</td></tr>",
                            "<tr><td>Maison Dewey</td><td>7</td></tr>",
                            "<tr><td>Mère Paillarde</td><td>13</td></tr>",
                            "<tr><td>Morgenstern Gesundkost</td><td>5</td></tr>",
                            "<tr><td>North/South</td><td>3</td></tr>",
                            "<tr><td>Océano Atlántico Ltda.</td><td>5</td></tr>",
                            "<tr><td>Old World Delicatessen</td><td>10</td></tr>",
                            "<tr><td>Ottilies Käseladen</td><td>10</td></tr>",
                            "<tr><td>Paris spécialités</td><td>0</td></tr>",
                            "<tr><td>Pericles Comidas clásicas</td><td>6</td></tr>",
                            "<tr><td>Piccolo und mehr</td><td>10</td></tr>",
                            "<tr><td>Princesa Isabel Vinhos</td><td>5</td></tr>",
                            "<tr><td>Que Delícia</td><td>9</td></tr>",
                            "<tr><td>Queen Cozinha</td><td>13</td></tr>",
                            "<tr><td>QUICK-Stop</td><td>28</td></tr>",
                            "<tr><td>Rancho grande</td><td>5</td></tr>",
                            "<tr><td>Rattlesnake Canyon Grocery</td><td>18</td></tr>",
                            "<tr><td>Reggiani Caseifici</td><td>12</td></tr>",
                            "<tr><td>Ricardo Adocicados</td><td>11</td></tr>",
                            "<tr><td>Richter Supermarkt</td><td>10</td></tr>",
                            "<tr><td>Romero y tomillo</td><td>5</td></tr>",
                            "<tr><td>Santé Gourmet</td><td>6</td></tr>",
                            "<tr><td>Save-a-lot Markets</td><td>31</td></tr>",
                            "<tr><td>Seven Seas Imports</td><td>9</td></tr>",
                            "<tr><td>Simons bistro</td><td>7</td></tr>",
                            "<tr><td>Spécialités du monde</td><td>4</td></tr>",
                            "<tr><td>Split Rail Beer &amp; Ale</td><td>9</td></tr>",
                            "<tr><td>Suprêmes délices</td><td>12</td></tr>",
                            "<tr><td>The Big Cheese</td><td>4</td></tr>",
                            "<tr><td>The Cracker Box</td><td>3</td></tr>",
                            "<tr><td>Toms Spezialitäten</td><td>6</td></tr>",
                            "<tr><td>Tortuga Restaurante</td><td>10</td></tr>",
                            "<tr><td>Tradição Hipermercados</td><td>6</td></tr>",
                            "<tr><td>Trail&#39;s Head Gourmet Provisioners</td><td>3</td></tr>",
                            "<tr><td>Vaffeljernet</td><td>11</td></tr>",
                            "<tr><td>Victuailles en stock</td><td>10</td></tr>",
                            "<tr><td>Vins et alcools Chevalier</td><td>5</td></tr>",
                            "<tr><td>Die Wandernde Kuh</td><td>10</td></tr>",
                            "<tr><td>Wartian Herkku</td><td>15</td></tr>",
                            "<tr><td>Wellington Importadora</td><td>9</td></tr>",
                            "<tr><td>White Clover Markets</td><td>14</td></tr>",
                            "<tr><td>Wilman Kala</td><td>7</td></tr>",
                            "<tr><td>Wolski  Zajazd</td><td>7</td></tr>",
                            "</table>"
                        ]
                    }
                }
            ],
            "execution_count": 2
        },
        {
            "cell_type": "markdown",
            "source": [
                "### ✍️ Ejercicio 3\n",
                "\n",
                "Muestra todos los pedidos realizados y, para cada pedido, el nombre del empleado que los atendió.\n",
                "Incluye también los empleados que **no han atendido ningún pedido**.\n",
                "\n",
                "* * *"
            ],
            "metadata": {
                "azdata_cell_guid": "2fb5c360-d026-48ab-a153-3c958cec9667"
            }
        },
        {
            "cell_type": "code",
            "source": [
                "SELECT Orders.OrderID, Employees.FirstName, Employees.LastName\n",
                "FROM Orders\n",
                "RIGHT JOIN Employees ON Orders.EmployeeID = Employees.EmployeeID"
            ],
            "metadata": {
                "SqlCellData": {
                    "data_source_name": "Northwind@localhost",
                    "variableName$1": "df_sql3"
                },
                "azdata_cell_guid": "2249e4b7-a2cb-4533-aad8-8d6c43cb36e8",
                "language": "sql"
            },
            "outputs": [
                {
                    "output_type": "display_data",
                    "data": {
                        "text/html": "(830 rows affected)"
                    },
                    "metadata": {}
                },
                {
                    "output_type": "display_data",
                    "data": {
                        "text/html": "Total execution time: 00:00:00.023"
                    },
                    "metadata": {}
                },
                {
                    "output_type": "execute_result",
                    "metadata": {},
                    "execution_count": 6,
                    "data": {
                        "application/vnd.dataresource+json": {
                            "schema": {
                                "fields": [
                                    {
                                        "name": "OrderID"
                                    },
                                    {
                                        "name": "FirstName"
                                    },
                                    {
                                        "name": "LastName"
                                    }
                                ]
                            },
                            "data": [
                                {
                                    "OrderID": "10258",
                                    "FirstName": "Nancy",
                                    "LastName": "Davolio"
                                },
                                {
                                    "OrderID": "10270",
                                    "FirstName": "Nancy",
                                    "LastName": "Davolio"
                                },
                                {
                                    "OrderID": "10275",
                                    "FirstName": "Nancy",
                                    "LastName": "Davolio"
                                },
                                {
                                    "OrderID": "10285",
                                    "FirstName": "Nancy",
                                    "LastName": "Davolio"
                                },
                                {
                                    "OrderID": "10292",
                                    "FirstName": "Nancy",
                                    "LastName": "Davolio"
                                },
                                {
                                    "OrderID": "10293",
                                    "FirstName": "Nancy",
                                    "LastName": "Davolio"
                                },
                                {
                                    "OrderID": "10304",
                                    "FirstName": "Nancy",
                                    "LastName": "Davolio"
                                },
                                {
                                    "OrderID": "10306",
                                    "FirstName": "Nancy",
                                    "LastName": "Davolio"
                                },
                                {
                                    "OrderID": "10311",
                                    "FirstName": "Nancy",
                                    "LastName": "Davolio"
                                },
                                {
                                    "OrderID": "10314",
                                    "FirstName": "Nancy",
                                    "LastName": "Davolio"
                                },
                                {
                                    "OrderID": "10316",
                                    "FirstName": "Nancy",
                                    "LastName": "Davolio"
                                },
                                {
                                    "OrderID": "10325",
                                    "FirstName": "Nancy",
                                    "LastName": "Davolio"
                                },
                                {
                                    "OrderID": "10340",
                                    "FirstName": "Nancy",
                                    "LastName": "Davolio"
                                },
                                {
                                    "OrderID": "10351",
                                    "FirstName": "Nancy",
                                    "LastName": "Davolio"
                                },
                                {
                                    "OrderID": "10357",
                                    "FirstName": "Nancy",
                                    "LastName": "Davolio"
                                },
                                {
                                    "OrderID": "10361",
                                    "FirstName": "Nancy",
                                    "LastName": "Davolio"
                                },
                                {
                                    "OrderID": "10364",
                                    "FirstName": "Nancy",
                                    "LastName": "Davolio"
                                },
                                {
                                    "OrderID": "10371",
                                    "FirstName": "Nancy",
                                    "LastName": "Davolio"
                                },
                                {
                                    "OrderID": "10374",
                                    "FirstName": "Nancy",
                                    "LastName": "Davolio"
                                },
                                {
                                    "OrderID": "10376",
                                    "FirstName": "Nancy",
                                    "LastName": "Davolio"
                                },
                                {
                                    "OrderID": "10377",
                                    "FirstName": "Nancy",
                                    "LastName": "Davolio"
                                },
                                {
                                    "OrderID": "10385",
                                    "FirstName": "Nancy",
                                    "LastName": "Davolio"
                                },
                                {
                                    "OrderID": "10387",
                                    "FirstName": "Nancy",
                                    "LastName": "Davolio"
                                },
                                {
                                    "OrderID": "10393",
                                    "FirstName": "Nancy",
                                    "LastName": "Davolio"
                                },
                                {
                                    "OrderID": "10394",
                                    "FirstName": "Nancy",
                                    "LastName": "Davolio"
                                },
                                {
                                    "OrderID": "10396",
                                    "FirstName": "Nancy",
                                    "LastName": "Davolio"
                                },
                                {
                                    "OrderID": "10400",
                                    "FirstName": "Nancy",
                                    "LastName": "Davolio"
                                },
                                {
                                    "OrderID": "10401",
                                    "FirstName": "Nancy",
                                    "LastName": "Davolio"
                                },
                                {
                                    "OrderID": "10405",
                                    "FirstName": "Nancy",
                                    "LastName": "Davolio"
                                },
                                {
                                    "OrderID": "10453",
                                    "FirstName": "Nancy",
                                    "LastName": "Davolio"
                                },
                                {
                                    "OrderID": "10461",
                                    "FirstName": "Nancy",
                                    "LastName": "Davolio"
                                },
                                {
                                    "OrderID": "10465",
                                    "FirstName": "Nancy",
                                    "LastName": "Davolio"
                                },
                                {
                                    "OrderID": "10469",
                                    "FirstName": "Nancy",
                                    "LastName": "Davolio"
                                },
                                {
                                    "OrderID": "10473",
                                    "FirstName": "Nancy",
                                    "LastName": "Davolio"
                                },
                                {
                                    "OrderID": "10482",
                                    "FirstName": "Nancy",
                                    "LastName": "Davolio"
                                },
                                {
                                    "OrderID": "10486",
                                    "FirstName": "Nancy",
                                    "LastName": "Davolio"
                                },
                                {
                                    "OrderID": "10508",
                                    "FirstName": "Nancy",
                                    "LastName": "Davolio"
                                },
                                {
                                    "OrderID": "10524",
                                    "FirstName": "Nancy",
                                    "LastName": "Davolio"
                                },
                                {
                                    "OrderID": "10525",
                                    "FirstName": "Nancy",
                                    "LastName": "Davolio"
                                },
                                {
                                    "OrderID": "10537",
                                    "FirstName": "Nancy",
                                    "LastName": "Davolio"
                                },
                                {
                                    "OrderID": "10542",
                                    "FirstName": "Nancy",
                                    "LastName": "Davolio"
                                },
                                {
                                    "OrderID": "10546",
                                    "FirstName": "Nancy",
                                    "LastName": "Davolio"
                                },
                                {
                                    "OrderID": "10558",
                                    "FirstName": "Nancy",
                                    "LastName": "Davolio"
                                },
                                {
                                    "OrderID": "10562",
                                    "FirstName": "Nancy",
                                    "LastName": "Davolio"
                                },
                                {
                                    "OrderID": "10567",
                                    "FirstName": "Nancy",
                                    "LastName": "Davolio"
                                },
                                {
                                    "OrderID": "10579",
                                    "FirstName": "Nancy",
                                    "LastName": "Davolio"
                                },
                                {
                                    "OrderID": "10587",
                                    "FirstName": "Nancy",
                                    "LastName": "Davolio"
                                },
                                {
                                    "OrderID": "10591",
                                    "FirstName": "Nancy",
                                    "LastName": "Davolio"
                                },
                                {
                                    "OrderID": "10598",
                                    "FirstName": "Nancy",
                                    "LastName": "Davolio"
                                },
                                {
                                    "OrderID": "10604",
                                    "FirstName": "Nancy",
                                    "LastName": "Davolio"
                                },
                                {
                                    "OrderID": "10605",
                                    "FirstName": "Nancy",
                                    "LastName": "Davolio"
                                },
                                {
                                    "OrderID": "10612",
                                    "FirstName": "Nancy",
                                    "LastName": "Davolio"
                                },
                                {
                                    "OrderID": "10616",
                                    "FirstName": "Nancy",
                                    "LastName": "Davolio"
                                },
                                {
                                    "OrderID": "10618",
                                    "FirstName": "Nancy",
                                    "LastName": "Davolio"
                                },
                                {
                                    "OrderID": "10626",
                                    "FirstName": "Nancy",
                                    "LastName": "Davolio"
                                },
                                {
                                    "OrderID": "10630",
                                    "FirstName": "Nancy",
                                    "LastName": "Davolio"
                                },
                                {
                                    "OrderID": "10653",
                                    "FirstName": "Nancy",
                                    "LastName": "Davolio"
                                },
                                {
                                    "OrderID": "10655",
                                    "FirstName": "Nancy",
                                    "LastName": "Davolio"
                                },
                                {
                                    "OrderID": "10664",
                                    "FirstName": "Nancy",
                                    "LastName": "Davolio"
                                },
                                {
                                    "OrderID": "10665",
                                    "FirstName": "Nancy",
                                    "LastName": "Davolio"
                                },
                                {
                                    "OrderID": "10668",
                                    "FirstName": "Nancy",
                                    "LastName": "Davolio"
                                },
                                {
                                    "OrderID": "10671",
                                    "FirstName": "Nancy",
                                    "LastName": "Davolio"
                                },
                                {
                                    "OrderID": "10677",
                                    "FirstName": "Nancy",
                                    "LastName": "Davolio"
                                },
                                {
                                    "OrderID": "10680",
                                    "FirstName": "Nancy",
                                    "LastName": "Davolio"
                                },
                                {
                                    "OrderID": "10689",
                                    "FirstName": "Nancy",
                                    "LastName": "Davolio"
                                },
                                {
                                    "OrderID": "10690",
                                    "FirstName": "Nancy",
                                    "LastName": "Davolio"
                                },
                                {
                                    "OrderID": "10709",
                                    "FirstName": "Nancy",
                                    "LastName": "Davolio"
                                },
                                {
                                    "OrderID": "10710",
                                    "FirstName": "Nancy",
                                    "LastName": "Davolio"
                                },
                                {
                                    "OrderID": "10713",
                                    "FirstName": "Nancy",
                                    "LastName": "Davolio"
                                },
                                {
                                    "OrderID": "10717",
                                    "FirstName": "Nancy",
                                    "LastName": "Davolio"
                                },
                                {
                                    "OrderID": "10718",
                                    "FirstName": "Nancy",
                                    "LastName": "Davolio"
                                },
                                {
                                    "OrderID": "10733",
                                    "FirstName": "Nancy",
                                    "LastName": "Davolio"
                                },
                                {
                                    "OrderID": "10743",
                                    "FirstName": "Nancy",
                                    "LastName": "Davolio"
                                },
                                {
                                    "OrderID": "10746",
                                    "FirstName": "Nancy",
                                    "LastName": "Davolio"
                                },
                                {
                                    "OrderID": "10773",
                                    "FirstName": "Nancy",
                                    "LastName": "Davolio"
                                },
                                {
                                    "OrderID": "10776",
                                    "FirstName": "Nancy",
                                    "LastName": "Davolio"
                                },
                                {
                                    "OrderID": "10785",
                                    "FirstName": "Nancy",
                                    "LastName": "Davolio"
                                },
                                {
                                    "OrderID": "10788",
                                    "FirstName": "Nancy",
                                    "LastName": "Davolio"
                                },
                                {
                                    "OrderID": "10789",
                                    "FirstName": "Nancy",
                                    "LastName": "Davolio"
                                },
                                {
                                    "OrderID": "10792",
                                    "FirstName": "Nancy",
                                    "LastName": "Davolio"
                                },
                                {
                                    "OrderID": "10800",
                                    "FirstName": "Nancy",
                                    "LastName": "Davolio"
                                },
                                {
                                    "OrderID": "10813",
                                    "FirstName": "Nancy",
                                    "LastName": "Davolio"
                                },
                                {
                                    "OrderID": "10821",
                                    "FirstName": "Nancy",
                                    "LastName": "Davolio"
                                },
                                {
                                    "OrderID": "10825",
                                    "FirstName": "Nancy",
                                    "LastName": "Davolio"
                                },
                                {
                                    "OrderID": "10827",
                                    "FirstName": "Nancy",
                                    "LastName": "Davolio"
                                },
                                {
                                    "OrderID": "10834",
                                    "FirstName": "Nancy",
                                    "LastName": "Davolio"
                                },
                                {
                                    "OrderID": "10835",
                                    "FirstName": "Nancy",
                                    "LastName": "Davolio"
                                },
                                {
                                    "OrderID": "10842",
                                    "FirstName": "Nancy",
                                    "LastName": "Davolio"
                                },
                                {
                                    "OrderID": "10850",
                                    "FirstName": "Nancy",
                                    "LastName": "Davolio"
                                },
                                {
                                    "OrderID": "10859",
                                    "FirstName": "Nancy",
                                    "LastName": "Davolio"
                                },
                                {
                                    "OrderID": "10877",
                                    "FirstName": "Nancy",
                                    "LastName": "Davolio"
                                },
                                {
                                    "OrderID": "10886",
                                    "FirstName": "Nancy",
                                    "LastName": "Davolio"
                                },
                                {
                                    "OrderID": "10888",
                                    "FirstName": "Nancy",
                                    "LastName": "Davolio"
                                },
                                {
                                    "OrderID": "10894",
                                    "FirstName": "Nancy",
                                    "LastName": "Davolio"
                                },
                                {
                                    "OrderID": "10900",
                                    "FirstName": "Nancy",
                                    "LastName": "Davolio"
                                },
                                {
                                    "OrderID": "10902",
                                    "FirstName": "Nancy",
                                    "LastName": "Davolio"
                                },
                                {
                                    "OrderID": "10909",
                                    "FirstName": "Nancy",
                                    "LastName": "Davolio"
                                },
                                {
                                    "OrderID": "10910",
                                    "FirstName": "Nancy",
                                    "LastName": "Davolio"
                                },
                                {
                                    "OrderID": "10916",
                                    "FirstName": "Nancy",
                                    "LastName": "Davolio"
                                },
                                {
                                    "OrderID": "10921",
                                    "FirstName": "Nancy",
                                    "LastName": "Davolio"
                                },
                                {
                                    "OrderID": "10928",
                                    "FirstName": "Nancy",
                                    "LastName": "Davolio"
                                },
                                {
                                    "OrderID": "10946",
                                    "FirstName": "Nancy",
                                    "LastName": "Davolio"
                                },
                                {
                                    "OrderID": "10950",
                                    "FirstName": "Nancy",
                                    "LastName": "Davolio"
                                },
                                {
                                    "OrderID": "10952",
                                    "FirstName": "Nancy",
                                    "LastName": "Davolio"
                                },
                                {
                                    "OrderID": "10968",
                                    "FirstName": "Nancy",
                                    "LastName": "Davolio"
                                },
                                {
                                    "OrderID": "10969",
                                    "FirstName": "Nancy",
                                    "LastName": "Davolio"
                                },
                                {
                                    "OrderID": "10975",
                                    "FirstName": "Nancy",
                                    "LastName": "Davolio"
                                },
                                {
                                    "OrderID": "10976",
                                    "FirstName": "Nancy",
                                    "LastName": "Davolio"
                                },
                                {
                                    "OrderID": "10981",
                                    "FirstName": "Nancy",
                                    "LastName": "Davolio"
                                },
                                {
                                    "OrderID": "10984",
                                    "FirstName": "Nancy",
                                    "LastName": "Davolio"
                                },
                                {
                                    "OrderID": "10991",
                                    "FirstName": "Nancy",
                                    "LastName": "Davolio"
                                },
                                {
                                    "OrderID": "10992",
                                    "FirstName": "Nancy",
                                    "LastName": "Davolio"
                                },
                                {
                                    "OrderID": "10995",
                                    "FirstName": "Nancy",
                                    "LastName": "Davolio"
                                },
                                {
                                    "OrderID": "11012",
                                    "FirstName": "Nancy",
                                    "LastName": "Davolio"
                                },
                                {
                                    "OrderID": "11023",
                                    "FirstName": "Nancy",
                                    "LastName": "Davolio"
                                },
                                {
                                    "OrderID": "11027",
                                    "FirstName": "Nancy",
                                    "LastName": "Davolio"
                                },
                                {
                                    "OrderID": "11038",
                                    "FirstName": "Nancy",
                                    "LastName": "Davolio"
                                },
                                {
                                    "OrderID": "11039",
                                    "FirstName": "Nancy",
                                    "LastName": "Davolio"
                                },
                                {
                                    "OrderID": "11064",
                                    "FirstName": "Nancy",
                                    "LastName": "Davolio"
                                },
                                {
                                    "OrderID": "11067",
                                    "FirstName": "Nancy",
                                    "LastName": "Davolio"
                                },
                                {
                                    "OrderID": "11069",
                                    "FirstName": "Nancy",
                                    "LastName": "Davolio"
                                },
                                {
                                    "OrderID": "11071",
                                    "FirstName": "Nancy",
                                    "LastName": "Davolio"
                                },
                                {
                                    "OrderID": "11077",
                                    "FirstName": "Nancy",
                                    "LastName": "Davolio"
                                },
                                {
                                    "OrderID": "10265",
                                    "FirstName": "Andrew",
                                    "LastName": "Fuller"
                                },
                                {
                                    "OrderID": "10277",
                                    "FirstName": "Andrew",
                                    "LastName": "Fuller"
                                },
                                {
                                    "OrderID": "10280",
                                    "FirstName": "Andrew",
                                    "LastName": "Fuller"
                                },
                                {
                                    "OrderID": "10295",
                                    "FirstName": "Andrew",
                                    "LastName": "Fuller"
                                },
                                {
                                    "OrderID": "10300",
                                    "FirstName": "Andrew",
                                    "LastName": "Fuller"
                                },
                                {
                                    "OrderID": "10307",
                                    "FirstName": "Andrew",
                                    "LastName": "Fuller"
                                },
                                {
                                    "OrderID": "10312",
                                    "FirstName": "Andrew",
                                    "LastName": "Fuller"
                                },
                                {
                                    "OrderID": "10313",
                                    "FirstName": "Andrew",
                                    "LastName": "Fuller"
                                },
                                {
                                    "OrderID": "10327",
                                    "FirstName": "Andrew",
                                    "LastName": "Fuller"
                                },
                                {
                                    "OrderID": "10339",
                                    "FirstName": "Andrew",
                                    "LastName": "Fuller"
                                },
                                {
                                    "OrderID": "10345",
                                    "FirstName": "Andrew",
                                    "LastName": "Fuller"
                                },
                                {
                                    "OrderID": "10368",
                                    "FirstName": "Andrew",
                                    "LastName": "Fuller"
                                },
                                {
                                    "OrderID": "10379",
                                    "FirstName": "Andrew",
                                    "LastName": "Fuller"
                                },
                                {
                                    "OrderID": "10388",
                                    "FirstName": "Andrew",
                                    "LastName": "Fuller"
                                },
                                {
                                    "OrderID": "10392",
                                    "FirstName": "Andrew",
                                    "LastName": "Fuller"
                                },
                                {
                                    "OrderID": "10398",
                                    "FirstName": "Andrew",
                                    "LastName": "Fuller"
                                },
                                {
                                    "OrderID": "10404",
                                    "FirstName": "Andrew",
                                    "LastName": "Fuller"
                                },
                                {
                                    "OrderID": "10407",
                                    "FirstName": "Andrew",
                                    "LastName": "Fuller"
                                },
                                {
                                    "OrderID": "10414",
                                    "FirstName": "Andrew",
                                    "LastName": "Fuller"
                                },
                                {
                                    "OrderID": "10422",
                                    "FirstName": "Andrew",
                                    "LastName": "Fuller"
                                },
                                {
                                    "OrderID": "10457",
                                    "FirstName": "Andrew",
                                    "LastName": "Fuller"
                                },
                                {
                                    "OrderID": "10462",
                                    "FirstName": "Andrew",
                                    "LastName": "Fuller"
                                },
                                {
                                    "OrderID": "10471",
                                    "FirstName": "Andrew",
                                    "LastName": "Fuller"
                                },
                                {
                                    "OrderID": "10478",
                                    "FirstName": "Andrew",
                                    "LastName": "Fuller"
                                },
                                {
                                    "OrderID": "10487",
                                    "FirstName": "Andrew",
                                    "LastName": "Fuller"
                                },
                                {
                                    "OrderID": "10502",
                                    "FirstName": "Andrew",
                                    "LastName": "Fuller"
                                },
                                {
                                    "OrderID": "10515",
                                    "FirstName": "Andrew",
                                    "LastName": "Fuller"
                                },
                                {
                                    "OrderID": "10516",
                                    "FirstName": "Andrew",
                                    "LastName": "Fuller"
                                },
                                {
                                    "OrderID": "10541",
                                    "FirstName": "Andrew",
                                    "LastName": "Fuller"
                                },
                                {
                                    "OrderID": "10552",
                                    "FirstName": "Andrew",
                                    "LastName": "Fuller"
                                },
                                {
                                    "OrderID": "10553",
                                    "FirstName": "Andrew",
                                    "LastName": "Fuller"
                                },
                                {
                                    "OrderID": "10556",
                                    "FirstName": "Andrew",
                                    "LastName": "Fuller"
                                },
                                {
                                    "OrderID": "10561",
                                    "FirstName": "Andrew",
                                    "LastName": "Fuller"
                                },
                                {
                                    "OrderID": "10563",
                                    "FirstName": "Andrew",
                                    "LastName": "Fuller"
                                },
                                {
                                    "OrderID": "10583",
                                    "FirstName": "Andrew",
                                    "LastName": "Fuller"
                                },
                                {
                                    "OrderID": "10588",
                                    "FirstName": "Andrew",
                                    "LastName": "Fuller"
                                },
                                {
                                    "OrderID": "10595",
                                    "FirstName": "Andrew",
                                    "LastName": "Fuller"
                                },
                                {
                                    "OrderID": "10615",
                                    "FirstName": "Andrew",
                                    "LastName": "Fuller"
                                },
                                {
                                    "OrderID": "10620",
                                    "FirstName": "Andrew",
                                    "LastName": "Fuller"
                                },
                                {
                                    "OrderID": "10657",
                                    "FirstName": "Andrew",
                                    "LastName": "Fuller"
                                },
                                {
                                    "OrderID": "10663",
                                    "FirstName": "Andrew",
                                    "LastName": "Fuller"
                                },
                                {
                                    "OrderID": "10669",
                                    "FirstName": "Andrew",
                                    "LastName": "Fuller"
                                },
                                {
                                    "OrderID": "10673",
                                    "FirstName": "Andrew",
                                    "LastName": "Fuller"
                                },
                                {
                                    "OrderID": "10676",
                                    "FirstName": "Andrew",
                                    "LastName": "Fuller"
                                },
                                {
                                    "OrderID": "10683",
                                    "FirstName": "Andrew",
                                    "LastName": "Fuller"
                                },
                                {
                                    "OrderID": "10686",
                                    "FirstName": "Andrew",
                                    "LastName": "Fuller"
                                },
                                {
                                    "OrderID": "10691",
                                    "FirstName": "Andrew",
                                    "LastName": "Fuller"
                                },
                                {
                                    "OrderID": "10727",
                                    "FirstName": "Andrew",
                                    "LastName": "Fuller"
                                },
                                {
                                    "OrderID": "10734",
                                    "FirstName": "Andrew",
                                    "LastName": "Fuller"
                                },
                                {
                                    "OrderID": "10737",
                                    "FirstName": "Andrew",
                                    "LastName": "Fuller"
                                },
                                {
                                    "OrderID": "10738",
                                    "FirstName": "Andrew",
                                    "LastName": "Fuller"
                                },
                                {
                                    "OrderID": "10752",
                                    "FirstName": "Andrew",
                                    "LastName": "Fuller"
                                },
                                {
                                    "OrderID": "10780",
                                    "FirstName": "Andrew",
                                    "LastName": "Fuller"
                                },
                                {
                                    "OrderID": "10781",
                                    "FirstName": "Andrew",
                                    "LastName": "Fuller"
                                },
                                {
                                    "OrderID": "10787",
                                    "FirstName": "Andrew",
                                    "LastName": "Fuller"
                                },
                                {
                                    "OrderID": "10798",
                                    "FirstName": "Andrew",
                                    "LastName": "Fuller"
                                },
                                {
                                    "OrderID": "10805",
                                    "FirstName": "Andrew",
                                    "LastName": "Fuller"
                                },
                                {
                                    "OrderID": "10808",
                                    "FirstName": "Andrew",
                                    "LastName": "Fuller"
                                },
                                {
                                    "OrderID": "10810",
                                    "FirstName": "Andrew",
                                    "LastName": "Fuller"
                                },
                                {
                                    "OrderID": "10815",
                                    "FirstName": "Andrew",
                                    "LastName": "Fuller"
                                },
                                {
                                    "OrderID": "10819",
                                    "FirstName": "Andrew",
                                    "LastName": "Fuller"
                                },
                                {
                                    "OrderID": "10832",
                                    "FirstName": "Andrew",
                                    "LastName": "Fuller"
                                },
                                {
                                    "OrderID": "10846",
                                    "FirstName": "Andrew",
                                    "LastName": "Fuller"
                                },
                                {
                                    "OrderID": "10858",
                                    "FirstName": "Andrew",
                                    "LastName": "Fuller"
                                },
                                {
                                    "OrderID": "10865",
                                    "FirstName": "Andrew",
                                    "LastName": "Fuller"
                                },
                                {
                                    "OrderID": "10912",
                                    "FirstName": "Andrew",
                                    "LastName": "Fuller"
                                },
                                {
                                    "OrderID": "10915",
                                    "FirstName": "Andrew",
                                    "LastName": "Fuller"
                                },
                                {
                                    "OrderID": "10919",
                                    "FirstName": "Andrew",
                                    "LastName": "Fuller"
                                },
                                {
                                    "OrderID": "10939",
                                    "FirstName": "Andrew",
                                    "LastName": "Fuller"
                                },
                                {
                                    "OrderID": "10949",
                                    "FirstName": "Andrew",
                                    "LastName": "Fuller"
                                },
                                {
                                    "OrderID": "10967",
                                    "FirstName": "Andrew",
                                    "LastName": "Fuller"
                                },
                                {
                                    "OrderID": "10971",
                                    "FirstName": "Andrew",
                                    "LastName": "Fuller"
                                },
                                {
                                    "OrderID": "10982",
                                    "FirstName": "Andrew",
                                    "LastName": "Fuller"
                                },
                                {
                                    "OrderID": "10983",
                                    "FirstName": "Andrew",
                                    "LastName": "Fuller"
                                },
                                {
                                    "OrderID": "10985",
                                    "FirstName": "Andrew",
                                    "LastName": "Fuller"
                                },
                                {
                                    "OrderID": "10989",
                                    "FirstName": "Andrew",
                                    "LastName": "Fuller"
                                },
                                {
                                    "OrderID": "10990",
                                    "FirstName": "Andrew",
                                    "LastName": "Fuller"
                                },
                                {
                                    "OrderID": "10994",
                                    "FirstName": "Andrew",
                                    "LastName": "Fuller"
                                },
                                {
                                    "OrderID": "11000",
                                    "FirstName": "Andrew",
                                    "LastName": "Fuller"
                                },
                                {
                                    "OrderID": "11001",
                                    "FirstName": "Andrew",
                                    "LastName": "Fuller"
                                },
                                {
                                    "OrderID": "11005",
                                    "FirstName": "Andrew",
                                    "LastName": "Fuller"
                                },
                                {
                                    "OrderID": "11009",
                                    "FirstName": "Andrew",
                                    "LastName": "Fuller"
                                },
                                {
                                    "OrderID": "11010",
                                    "FirstName": "Andrew",
                                    "LastName": "Fuller"
                                },
                                {
                                    "OrderID": "11013",
                                    "FirstName": "Andrew",
                                    "LastName": "Fuller"
                                },
                                {
                                    "OrderID": "11014",
                                    "FirstName": "Andrew",
                                    "LastName": "Fuller"
                                },
                                {
                                    "OrderID": "11015",
                                    "FirstName": "Andrew",
                                    "LastName": "Fuller"
                                },
                                {
                                    "OrderID": "11020",
                                    "FirstName": "Andrew",
                                    "LastName": "Fuller"
                                },
                                {
                                    "OrderID": "11028",
                                    "FirstName": "Andrew",
                                    "LastName": "Fuller"
                                },
                                {
                                    "OrderID": "11032",
                                    "FirstName": "Andrew",
                                    "LastName": "Fuller"
                                },
                                {
                                    "OrderID": "11035",
                                    "FirstName": "Andrew",
                                    "LastName": "Fuller"
                                },
                                {
                                    "OrderID": "11042",
                                    "FirstName": "Andrew",
                                    "LastName": "Fuller"
                                },
                                {
                                    "OrderID": "11053",
                                    "FirstName": "Andrew",
                                    "LastName": "Fuller"
                                },
                                {
                                    "OrderID": "11059",
                                    "FirstName": "Andrew",
                                    "LastName": "Fuller"
                                },
                                {
                                    "OrderID": "11060",
                                    "FirstName": "Andrew",
                                    "LastName": "Fuller"
                                },
                                {
                                    "OrderID": "11070",
                                    "FirstName": "Andrew",
                                    "LastName": "Fuller"
                                },
                                {
                                    "OrderID": "11073",
                                    "FirstName": "Andrew",
                                    "LastName": "Fuller"
                                },
                                {
                                    "OrderID": "10251",
                                    "FirstName": "Janet",
                                    "LastName": "Leverling"
                                },
                                {
                                    "OrderID": "10253",
                                    "FirstName": "Janet",
                                    "LastName": "Leverling"
                                },
                                {
                                    "OrderID": "10256",
                                    "FirstName": "Janet",
                                    "LastName": "Leverling"
                                },
                                {
                                    "OrderID": "10266",
                                    "FirstName": "Janet",
                                    "LastName": "Leverling"
                                },
                                {
                                    "OrderID": "10273",
                                    "FirstName": "Janet",
                                    "LastName": "Leverling"
                                },
                                {
                                    "OrderID": "10283",
                                    "FirstName": "Janet",
                                    "LastName": "Leverling"
                                },
                                {
                                    "OrderID": "10309",
                                    "FirstName": "Janet",
                                    "LastName": "Leverling"
                                },
                                {
                                    "OrderID": "10321",
                                    "FirstName": "Janet",
                                    "LastName": "Leverling"
                                },
                                {
                                    "OrderID": "10330",
                                    "FirstName": "Janet",
                                    "LastName": "Leverling"
                                },
                                {
                                    "OrderID": "10332",
                                    "FirstName": "Janet",
                                    "LastName": "Leverling"
                                },
                                {
                                    "OrderID": "10346",
                                    "FirstName": "Janet",
                                    "LastName": "Leverling"
                                },
                                {
                                    "OrderID": "10352",
                                    "FirstName": "Janet",
                                    "LastName": "Leverling"
                                },
                                {
                                    "OrderID": "10362",
                                    "FirstName": "Janet",
                                    "LastName": "Leverling"
                                },
                                {
                                    "OrderID": "10365",
                                    "FirstName": "Janet",
                                    "LastName": "Leverling"
                                },
                                {
                                    "OrderID": "10375",
                                    "FirstName": "Janet",
                                    "LastName": "Leverling"
                                },
                                {
                                    "OrderID": "10381",
                                    "FirstName": "Janet",
                                    "LastName": "Leverling"
                                },
                                {
                                    "OrderID": "10384",
                                    "FirstName": "Janet",
                                    "LastName": "Leverling"
                                },
                                {
                                    "OrderID": "10391",
                                    "FirstName": "Janet",
                                    "LastName": "Leverling"
                                },
                                {
                                    "OrderID": "10409",
                                    "FirstName": "Janet",
                                    "LastName": "Leverling"
                                },
                                {
                                    "OrderID": "10410",
                                    "FirstName": "Janet",
                                    "LastName": "Leverling"
                                },
                                {
                                    "OrderID": "10413",
                                    "FirstName": "Janet",
                                    "LastName": "Leverling"
                                },
                                {
                                    "OrderID": "10415",
                                    "FirstName": "Janet",
                                    "LastName": "Leverling"
                                },
                                {
                                    "OrderID": "10420",
                                    "FirstName": "Janet",
                                    "LastName": "Leverling"
                                },
                                {
                                    "OrderID": "10429",
                                    "FirstName": "Janet",
                                    "LastName": "Leverling"
                                },
                                {
                                    "OrderID": "10432",
                                    "FirstName": "Janet",
                                    "LastName": "Leverling"
                                },
                                {
                                    "OrderID": "10433",
                                    "FirstName": "Janet",
                                    "LastName": "Leverling"
                                },
                                {
                                    "OrderID": "10434",
                                    "FirstName": "Janet",
                                    "LastName": "Leverling"
                                },
                                {
                                    "OrderID": "10436",
                                    "FirstName": "Janet",
                                    "LastName": "Leverling"
                                },
                                {
                                    "OrderID": "10438",
                                    "FirstName": "Janet",
                                    "LastName": "Leverling"
                                },
                                {
                                    "OrderID": "10441",
                                    "FirstName": "Janet",
                                    "LastName": "Leverling"
                                },
                                {
                                    "OrderID": "10442",
                                    "FirstName": "Janet",
                                    "LastName": "Leverling"
                                },
                                {
                                    "OrderID": "10444",
                                    "FirstName": "Janet",
                                    "LastName": "Leverling"
                                },
                                {
                                    "OrderID": "10445",
                                    "FirstName": "Janet",
                                    "LastName": "Leverling"
                                },
                                {
                                    "OrderID": "10449",
                                    "FirstName": "Janet",
                                    "LastName": "Leverling"
                                },
                                {
                                    "OrderID": "10468",
                                    "FirstName": "Janet",
                                    "LastName": "Leverling"
                                },
                                {
                                    "OrderID": "10479",
                                    "FirstName": "Janet",
                                    "LastName": "Leverling"
                                },
                                {
                                    "OrderID": "10484",
                                    "FirstName": "Janet",
                                    "LastName": "Leverling"
                                },
                                {
                                    "OrderID": "10492",
                                    "FirstName": "Janet",
                                    "LastName": "Leverling"
                                },
                                {
                                    "OrderID": "10495",
                                    "FirstName": "Janet",
                                    "LastName": "Leverling"
                                },
                                {
                                    "OrderID": "10505",
                                    "FirstName": "Janet",
                                    "LastName": "Leverling"
                                },
                                {
                                    "OrderID": "10514",
                                    "FirstName": "Janet",
                                    "LastName": "Leverling"
                                },
                                {
                                    "OrderID": "10517",
                                    "FirstName": "Janet",
                                    "LastName": "Leverling"
                                },
                                {
                                    "OrderID": "10530",
                                    "FirstName": "Janet",
                                    "LastName": "Leverling"
                                },
                                {
                                    "OrderID": "10536",
                                    "FirstName": "Janet",
                                    "LastName": "Leverling"
                                },
                                {
                                    "OrderID": "10540",
                                    "FirstName": "Janet",
                                    "LastName": "Leverling"
                                },
                                {
                                    "OrderID": "10547",
                                    "FirstName": "Janet",
                                    "LastName": "Leverling"
                                },
                                {
                                    "OrderID": "10548",
                                    "FirstName": "Janet",
                                    "LastName": "Leverling"
                                },
                                {
                                    "OrderID": "10568",
                                    "FirstName": "Janet",
                                    "LastName": "Leverling"
                                },
                                {
                                    "OrderID": "10570",
                                    "FirstName": "Janet",
                                    "LastName": "Leverling"
                                },
                                {
                                    "OrderID": "10572",
                                    "FirstName": "Janet",
                                    "LastName": "Leverling"
                                },
                                {
                                    "OrderID": "10576",
                                    "FirstName": "Janet",
                                    "LastName": "Leverling"
                                },
                                {
                                    "OrderID": "10581",
                                    "FirstName": "Janet",
                                    "LastName": "Leverling"
                                },
                                {
                                    "OrderID": "10582",
                                    "FirstName": "Janet",
                                    "LastName": "Leverling"
                                },
                                {
                                    "OrderID": "10592",
                                    "FirstName": "Janet",
                                    "LastName": "Leverling"
                                },
                                {
                                    "OrderID": "10594",
                                    "FirstName": "Janet",
                                    "LastName": "Leverling"
                                },
                                {
                                    "OrderID": "10619",
                                    "FirstName": "Janet",
                                    "LastName": "Leverling"
                                },
                                {
                                    "OrderID": "10625",
                                    "FirstName": "Janet",
                                    "LastName": "Leverling"
                                },
                                {
                                    "OrderID": "10638",
                                    "FirstName": "Janet",
                                    "LastName": "Leverling"
                                },
                                {
                                    "OrderID": "10644",
                                    "FirstName": "Janet",
                                    "LastName": "Leverling"
                                },
                                {
                                    "OrderID": "10662",
                                    "FirstName": "Janet",
                                    "LastName": "Leverling"
                                },
                                {
                                    "OrderID": "10681",
                                    "FirstName": "Janet",
                                    "LastName": "Leverling"
                                },
                                {
                                    "OrderID": "10682",
                                    "FirstName": "Janet",
                                    "LastName": "Leverling"
                                },
                                {
                                    "OrderID": "10684",
                                    "FirstName": "Janet",
                                    "LastName": "Leverling"
                                },
                                {
                                    "OrderID": "10693",
                                    "FirstName": "Janet",
                                    "LastName": "Leverling"
                                },
                                {
                                    "OrderID": "10697",
                                    "FirstName": "Janet",
                                    "LastName": "Leverling"
                                },
                                {
                                    "OrderID": "10699",
                                    "FirstName": "Janet",
                                    "LastName": "Leverling"
                                },
                                {
                                    "OrderID": "10700",
                                    "FirstName": "Janet",
                                    "LastName": "Leverling"
                                },
                                {
                                    "OrderID": "10712",
                                    "FirstName": "Janet",
                                    "LastName": "Leverling"
                                },
                                {
                                    "OrderID": "10715",
                                    "FirstName": "Janet",
                                    "LastName": "Leverling"
                                },
                                {
                                    "OrderID": "10723",
                                    "FirstName": "Janet",
                                    "LastName": "Leverling"
                                },
                                {
                                    "OrderID": "10732",
                                    "FirstName": "Janet",
                                    "LastName": "Leverling"
                                },
                                {
                                    "OrderID": "10739",
                                    "FirstName": "Janet",
                                    "LastName": "Leverling"
                                },
                                {
                                    "OrderID": "10742",
                                    "FirstName": "Janet",
                                    "LastName": "Leverling"
                                },
                                {
                                    "OrderID": "10748",
                                    "FirstName": "Janet",
                                    "LastName": "Leverling"
                                },
                                {
                                    "OrderID": "10751",
                                    "FirstName": "Janet",
                                    "LastName": "Leverling"
                                },
                                {
                                    "OrderID": "10753",
                                    "FirstName": "Janet",
                                    "LastName": "Leverling"
                                },
                                {
                                    "OrderID": "10758",
                                    "FirstName": "Janet",
                                    "LastName": "Leverling"
                                },
                                {
                                    "OrderID": "10759",
                                    "FirstName": "Janet",
                                    "LastName": "Leverling"
                                },
                                {
                                    "OrderID": "10762",
                                    "FirstName": "Janet",
                                    "LastName": "Leverling"
                                },
                                {
                                    "OrderID": "10763",
                                    "FirstName": "Janet",
                                    "LastName": "Leverling"
                                },
                                {
                                    "OrderID": "10765",
                                    "FirstName": "Janet",
                                    "LastName": "Leverling"
                                },
                                {
                                    "OrderID": "10768",
                                    "FirstName": "Janet",
                                    "LastName": "Leverling"
                                },
                                {
                                    "OrderID": "10769",
                                    "FirstName": "Janet",
                                    "LastName": "Leverling"
                                },
                                {
                                    "OrderID": "10772",
                                    "FirstName": "Janet",
                                    "LastName": "Leverling"
                                },
                                {
                                    "OrderID": "10778",
                                    "FirstName": "Janet",
                                    "LastName": "Leverling"
                                },
                                {
                                    "OrderID": "10779",
                                    "FirstName": "Janet",
                                    "LastName": "Leverling"
                                },
                                {
                                    "OrderID": "10793",
                                    "FirstName": "Janet",
                                    "LastName": "Leverling"
                                },
                                {
                                    "OrderID": "10796",
                                    "FirstName": "Janet",
                                    "LastName": "Leverling"
                                },
                                {
                                    "OrderID": "10806",
                                    "FirstName": "Janet",
                                    "LastName": "Leverling"
                                },
                                {
                                    "OrderID": "10814",
                                    "FirstName": "Janet",
                                    "LastName": "Leverling"
                                },
                                {
                                    "OrderID": "10817",
                                    "FirstName": "Janet",
                                    "LastName": "Leverling"
                                },
                                {
                                    "OrderID": "10820",
                                    "FirstName": "Janet",
                                    "LastName": "Leverling"
                                },
                                {
                                    "OrderID": "10831",
                                    "FirstName": "Janet",
                                    "LastName": "Leverling"
                                },
                                {
                                    "OrderID": "10838",
                                    "FirstName": "Janet",
                                    "LastName": "Leverling"
                                },
                                {
                                    "OrderID": "10839",
                                    "FirstName": "Janet",
                                    "LastName": "Leverling"
                                },
                                {
                                    "OrderID": "10854",
                                    "FirstName": "Janet",
                                    "LastName": "Leverling"
                                },
                                {
                                    "OrderID": "10855",
                                    "FirstName": "Janet",
                                    "LastName": "Leverling"
                                },
                                {
                                    "OrderID": "10856",
                                    "FirstName": "Janet",
                                    "LastName": "Leverling"
                                },
                                {
                                    "OrderID": "10860",
                                    "FirstName": "Janet",
                                    "LastName": "Leverling"
                                },
                                {
                                    "OrderID": "10879",
                                    "FirstName": "Janet",
                                    "LastName": "Leverling"
                                },
                                {
                                    "OrderID": "10895",
                                    "FirstName": "Janet",
                                    "LastName": "Leverling"
                                },
                                {
                                    "OrderID": "10897",
                                    "FirstName": "Janet",
                                    "LastName": "Leverling"
                                },
                                {
                                    "OrderID": "10903",
                                    "FirstName": "Janet",
                                    "LastName": "Leverling"
                                },
                                {
                                    "OrderID": "10904",
                                    "FirstName": "Janet",
                                    "LastName": "Leverling"
                                },
                                {
                                    "OrderID": "10911",
                                    "FirstName": "Janet",
                                    "LastName": "Leverling"
                                },
                                {
                                    "OrderID": "10918",
                                    "FirstName": "Janet",
                                    "LastName": "Leverling"
                                },
                                {
                                    "OrderID": "10924",
                                    "FirstName": "Janet",
                                    "LastName": "Leverling"
                                },
                                {
                                    "OrderID": "10925",
                                    "FirstName": "Janet",
                                    "LastName": "Leverling"
                                },
                                {
                                    "OrderID": "10934",
                                    "FirstName": "Janet",
                                    "LastName": "Leverling"
                                },
                                {
                                    "OrderID": "10936",
                                    "FirstName": "Janet",
                                    "LastName": "Leverling"
                                },
                                {
                                    "OrderID": "10938",
                                    "FirstName": "Janet",
                                    "LastName": "Leverling"
                                },
                                {
                                    "OrderID": "10947",
                                    "FirstName": "Janet",
                                    "LastName": "Leverling"
                                },
                                {
                                    "OrderID": "10948",
                                    "FirstName": "Janet",
                                    "LastName": "Leverling"
                                },
                                {
                                    "OrderID": "10960",
                                    "FirstName": "Janet",
                                    "LastName": "Leverling"
                                },
                                {
                                    "OrderID": "10964",
                                    "FirstName": "Janet",
                                    "LastName": "Leverling"
                                },
                                {
                                    "OrderID": "10974",
                                    "FirstName": "Janet",
                                    "LastName": "Leverling"
                                },
                                {
                                    "OrderID": "10988",
                                    "FirstName": "Janet",
                                    "LastName": "Leverling"
                                },
                                {
                                    "OrderID": "11003",
                                    "FirstName": "Janet",
                                    "LastName": "Leverling"
                                },
                                {
                                    "OrderID": "11004",
                                    "FirstName": "Janet",
                                    "LastName": "Leverling"
                                },
                                {
                                    "OrderID": "11006",
                                    "FirstName": "Janet",
                                    "LastName": "Leverling"
                                },
                                {
                                    "OrderID": "11011",
                                    "FirstName": "Janet",
                                    "LastName": "Leverling"
                                },
                                {
                                    "OrderID": "11021",
                                    "FirstName": "Janet",
                                    "LastName": "Leverling"
                                },
                                {
                                    "OrderID": "11041",
                                    "FirstName": "Janet",
                                    "LastName": "Leverling"
                                },
                                {
                                    "OrderID": "11049",
                                    "FirstName": "Janet",
                                    "LastName": "Leverling"
                                },
                                {
                                    "OrderID": "11052",
                                    "FirstName": "Janet",
                                    "LastName": "Leverling"
                                },
                                {
                                    "OrderID": "11057",
                                    "FirstName": "Janet",
                                    "LastName": "Leverling"
                                },
                                {
                                    "OrderID": "11063",
                                    "FirstName": "Janet",
                                    "LastName": "Leverling"
                                },
                                {
                                    "OrderID": "10250",
                                    "FirstName": "Margaret",
                                    "LastName": "Peacock"
                                },
                                {
                                    "OrderID": "10252",
                                    "FirstName": "Margaret",
                                    "LastName": "Peacock"
                                },
                                {
                                    "OrderID": "10257",
                                    "FirstName": "Margaret",
                                    "LastName": "Peacock"
                                },
                                {
                                    "OrderID": "10259",
                                    "FirstName": "Margaret",
                                    "LastName": "Peacock"
                                },
                                {
                                    "OrderID": "10260",
                                    "FirstName": "Margaret",
                                    "LastName": "Peacock"
                                },
                                {
                                    "OrderID": "10261",
                                    "FirstName": "Margaret",
                                    "LastName": "Peacock"
                                },
                                {
                                    "OrderID": "10267",
                                    "FirstName": "Margaret",
                                    "LastName": "Peacock"
                                },
                                {
                                    "OrderID": "10281",
                                    "FirstName": "Margaret",
                                    "LastName": "Peacock"
                                },
                                {
                                    "OrderID": "10282",
                                    "FirstName": "Margaret",
                                    "LastName": "Peacock"
                                },
                                {
                                    "OrderID": "10284",
                                    "FirstName": "Margaret",
                                    "LastName": "Peacock"
                                },
                                {
                                    "OrderID": "10288",
                                    "FirstName": "Margaret",
                                    "LastName": "Peacock"
                                },
                                {
                                    "OrderID": "10294",
                                    "FirstName": "Margaret",
                                    "LastName": "Peacock"
                                },
                                {
                                    "OrderID": "10299",
                                    "FirstName": "Margaret",
                                    "LastName": "Peacock"
                                },
                                {
                                    "OrderID": "10302",
                                    "FirstName": "Margaret",
                                    "LastName": "Peacock"
                                },
                                {
                                    "OrderID": "10315",
                                    "FirstName": "Margaret",
                                    "LastName": "Peacock"
                                },
                                {
                                    "OrderID": "10323",
                                    "FirstName": "Margaret",
                                    "LastName": "Peacock"
                                },
                                {
                                    "OrderID": "10326",
                                    "FirstName": "Margaret",
                                    "LastName": "Peacock"
                                },
                                {
                                    "OrderID": "10328",
                                    "FirstName": "Margaret",
                                    "LastName": "Peacock"
                                },
                                {
                                    "OrderID": "10329",
                                    "FirstName": "Margaret",
                                    "LastName": "Peacock"
                                },
                                {
                                    "OrderID": "10337",
                                    "FirstName": "Margaret",
                                    "LastName": "Peacock"
                                },
                                {
                                    "OrderID": "10338",
                                    "FirstName": "Margaret",
                                    "LastName": "Peacock"
                                },
                                {
                                    "OrderID": "10342",
                                    "FirstName": "Margaret",
                                    "LastName": "Peacock"
                                },
                                {
                                    "OrderID": "10343",
                                    "FirstName": "Margaret",
                                    "LastName": "Peacock"
                                },
                                {
                                    "OrderID": "10344",
                                    "FirstName": "Margaret",
                                    "LastName": "Peacock"
                                },
                                {
                                    "OrderID": "10347",
                                    "FirstName": "Margaret",
                                    "LastName": "Peacock"
                                },
                                {
                                    "OrderID": "10348",
                                    "FirstName": "Margaret",
                                    "LastName": "Peacock"
                                },
                                {
                                    "OrderID": "10360",
                                    "FirstName": "Margaret",
                                    "LastName": "Peacock"
                                },
                                {
                                    "OrderID": "10363",
                                    "FirstName": "Margaret",
                                    "LastName": "Peacock"
                                },
                                {
                                    "OrderID": "10373",
                                    "FirstName": "Margaret",
                                    "LastName": "Peacock"
                                },
                                {
                                    "OrderID": "10382",
                                    "FirstName": "Margaret",
                                    "LastName": "Peacock"
                                },
                                {
                                    "OrderID": "10389",
                                    "FirstName": "Margaret",
                                    "LastName": "Peacock"
                                },
                                {
                                    "OrderID": "10403",
                                    "FirstName": "Margaret",
                                    "LastName": "Peacock"
                                },
                                {
                                    "OrderID": "10417",
                                    "FirstName": "Margaret",
                                    "LastName": "Peacock"
                                },
                                {
                                    "OrderID": "10418",
                                    "FirstName": "Margaret",
                                    "LastName": "Peacock"
                                },
                                {
                                    "OrderID": "10419",
                                    "FirstName": "Margaret",
                                    "LastName": "Peacock"
                                },
                                {
                                    "OrderID": "10426",
                                    "FirstName": "Margaret",
                                    "LastName": "Peacock"
                                },
                                {
                                    "OrderID": "10427",
                                    "FirstName": "Margaret",
                                    "LastName": "Peacock"
                                },
                                {
                                    "OrderID": "10430",
                                    "FirstName": "Margaret",
                                    "LastName": "Peacock"
                                },
                                {
                                    "OrderID": "10431",
                                    "FirstName": "Margaret",
                                    "LastName": "Peacock"
                                },
                                {
                                    "OrderID": "10440",
                                    "FirstName": "Margaret",
                                    "LastName": "Peacock"
                                },
                                {
                                    "OrderID": "10447",
                                    "FirstName": "Margaret",
                                    "LastName": "Peacock"
                                },
                                {
                                    "OrderID": "10448",
                                    "FirstName": "Margaret",
                                    "LastName": "Peacock"
                                },
                                {
                                    "OrderID": "10451",
                                    "FirstName": "Margaret",
                                    "LastName": "Peacock"
                                },
                                {
                                    "OrderID": "10454",
                                    "FirstName": "Margaret",
                                    "LastName": "Peacock"
                                },
                                {
                                    "OrderID": "10459",
                                    "FirstName": "Margaret",
                                    "LastName": "Peacock"
                                },
                                {
                                    "OrderID": "10464",
                                    "FirstName": "Margaret",
                                    "LastName": "Peacock"
                                },
                                {
                                    "OrderID": "10466",
                                    "FirstName": "Margaret",
                                    "LastName": "Peacock"
                                },
                                {
                                    "OrderID": "10470",
                                    "FirstName": "Margaret",
                                    "LastName": "Peacock"
                                },
                                {
                                    "OrderID": "10485",
                                    "FirstName": "Margaret",
                                    "LastName": "Peacock"
                                },
                                {
                                    "OrderID": "10493",
                                    "FirstName": "Margaret",
                                    "LastName": "Peacock"
                                },
                                {
                                    "OrderID": "10494",
                                    "FirstName": "Margaret",
                                    "LastName": "Peacock"
                                },
                                {
                                    "OrderID": "10499",
                                    "FirstName": "Margaret",
                                    "LastName": "Peacock"
                                },
                                {
                                    "OrderID": "10504",
                                    "FirstName": "Margaret",
                                    "LastName": "Peacock"
                                },
                                {
                                    "OrderID": "10509",
                                    "FirstName": "Margaret",
                                    "LastName": "Peacock"
                                },
                                {
                                    "OrderID": "10511",
                                    "FirstName": "Margaret",
                                    "LastName": "Peacock"
                                },
                                {
                                    "OrderID": "10518",
                                    "FirstName": "Margaret",
                                    "LastName": "Peacock"
                                },
                                {
                                    "OrderID": "10522",
                                    "FirstName": "Margaret",
                                    "LastName": "Peacock"
                                },
                                {
                                    "OrderID": "10526",
                                    "FirstName": "Margaret",
                                    "LastName": "Peacock"
                                },
                                {
                                    "OrderID": "10535",
                                    "FirstName": "Margaret",
                                    "LastName": "Peacock"
                                },
                                {
                                    "OrderID": "10544",
                                    "FirstName": "Margaret",
                                    "LastName": "Peacock"
                                },
                                {
                                    "OrderID": "10551",
                                    "FirstName": "Margaret",
                                    "LastName": "Peacock"
                                },
                                {
                                    "OrderID": "10554",
                                    "FirstName": "Margaret",
                                    "LastName": "Peacock"
                                },
                                {
                                    "OrderID": "10564",
                                    "FirstName": "Margaret",
                                    "LastName": "Peacock"
                                },
                                {
                                    "OrderID": "10574",
                                    "FirstName": "Margaret",
                                    "LastName": "Peacock"
                                },
                                {
                                    "OrderID": "10578",
                                    "FirstName": "Margaret",
                                    "LastName": "Peacock"
                                },
                                {
                                    "OrderID": "10580",
                                    "FirstName": "Margaret",
                                    "LastName": "Peacock"
                                },
                                {
                                    "OrderID": "10584",
                                    "FirstName": "Margaret",
                                    "LastName": "Peacock"
                                },
                                {
                                    "OrderID": "10590",
                                    "FirstName": "Margaret",
                                    "LastName": "Peacock"
                                },
                                {
                                    "OrderID": "10600",
                                    "FirstName": "Margaret",
                                    "LastName": "Peacock"
                                },
                                {
                                    "OrderID": "10606",
                                    "FirstName": "Margaret",
                                    "LastName": "Peacock"
                                },
                                {
                                    "OrderID": "10608",
                                    "FirstName": "Margaret",
                                    "LastName": "Peacock"
                                },
                                {
                                    "OrderID": "10613",
                                    "FirstName": "Margaret",
                                    "LastName": "Peacock"
                                },
                                {
                                    "OrderID": "10617",
                                    "FirstName": "Margaret",
                                    "LastName": "Peacock"
                                },
                                {
                                    "OrderID": "10621",
                                    "FirstName": "Margaret",
                                    "LastName": "Peacock"
                                },
                                {
                                    "OrderID": "10622",
                                    "FirstName": "Margaret",
                                    "LastName": "Peacock"
                                },
                                {
                                    "OrderID": "10624",
                                    "FirstName": "Margaret",
                                    "LastName": "Peacock"
                                },
                                {
                                    "OrderID": "10628",
                                    "FirstName": "Margaret",
                                    "LastName": "Peacock"
                                },
                                {
                                    "OrderID": "10629",
                                    "FirstName": "Margaret",
                                    "LastName": "Peacock"
                                },
                                {
                                    "OrderID": "10634",
                                    "FirstName": "Margaret",
                                    "LastName": "Peacock"
                                },
                                {
                                    "OrderID": "10636",
                                    "FirstName": "Margaret",
                                    "LastName": "Peacock"
                                },
                                {
                                    "OrderID": "10640",
                                    "FirstName": "Margaret",
                                    "LastName": "Peacock"
                                },
                                {
                                    "OrderID": "10641",
                                    "FirstName": "Margaret",
                                    "LastName": "Peacock"
                                },
                                {
                                    "OrderID": "10645",
                                    "FirstName": "Margaret",
                                    "LastName": "Peacock"
                                },
                                {
                                    "OrderID": "10647",
                                    "FirstName": "Margaret",
                                    "LastName": "Peacock"
                                },
                                {
                                    "OrderID": "10652",
                                    "FirstName": "Margaret",
                                    "LastName": "Peacock"
                                },
                                {
                                    "OrderID": "10658",
                                    "FirstName": "Margaret",
                                    "LastName": "Peacock"
                                },
                                {
                                    "OrderID": "10670",
                                    "FirstName": "Margaret",
                                    "LastName": "Peacock"
                                },
                                {
                                    "OrderID": "10674",
                                    "FirstName": "Margaret",
                                    "LastName": "Peacock"
                                },
                                {
                                    "OrderID": "10685",
                                    "FirstName": "Margaret",
                                    "LastName": "Peacock"
                                },
                                {
                                    "OrderID": "10688",
                                    "FirstName": "Margaret",
                                    "LastName": "Peacock"
                                },
                                {
                                    "OrderID": "10692",
                                    "FirstName": "Margaret",
                                    "LastName": "Peacock"
                                },
                                {
                                    "OrderID": "10698",
                                    "FirstName": "Margaret",
                                    "LastName": "Peacock"
                                },
                                {
                                    "OrderID": "10702",
                                    "FirstName": "Margaret",
                                    "LastName": "Peacock"
                                },
                                {
                                    "OrderID": "10707",
                                    "FirstName": "Margaret",
                                    "LastName": "Peacock"
                                },
                                {
                                    "OrderID": "10716",
                                    "FirstName": "Margaret",
                                    "LastName": "Peacock"
                                },
                                {
                                    "OrderID": "10725",
                                    "FirstName": "Margaret",
                                    "LastName": "Peacock"
                                },
                                {
                                    "OrderID": "10726",
                                    "FirstName": "Margaret",
                                    "LastName": "Peacock"
                                },
                                {
                                    "OrderID": "10728",
                                    "FirstName": "Margaret",
                                    "LastName": "Peacock"
                                },
                                {
                                    "OrderID": "10740",
                                    "FirstName": "Margaret",
                                    "LastName": "Peacock"
                                },
                                {
                                    "OrderID": "10741",
                                    "FirstName": "Margaret",
                                    "LastName": "Peacock"
                                },
                                {
                                    "OrderID": "10749",
                                    "FirstName": "Margaret",
                                    "LastName": "Peacock"
                                },
                                {
                                    "OrderID": "10755",
                                    "FirstName": "Margaret",
                                    "LastName": "Peacock"
                                },
                                {
                                    "OrderID": "10760",
                                    "FirstName": "Margaret",
                                    "LastName": "Peacock"
                                },
                                {
                                    "OrderID": "10766",
                                    "FirstName": "Margaret",
                                    "LastName": "Peacock"
                                },
                                {
                                    "OrderID": "10767",
                                    "FirstName": "Margaret",
                                    "LastName": "Peacock"
                                },
                                {
                                    "OrderID": "10774",
                                    "FirstName": "Margaret",
                                    "LastName": "Peacock"
                                },
                                {
                                    "OrderID": "10783",
                                    "FirstName": "Margaret",
                                    "LastName": "Peacock"
                                },
                                {
                                    "OrderID": "10784",
                                    "FirstName": "Margaret",
                                    "LastName": "Peacock"
                                },
                                {
                                    "OrderID": "10801",
                                    "FirstName": "Margaret",
                                    "LastName": "Peacock"
                                },
                                {
                                    "OrderID": "10802",
                                    "FirstName": "Margaret",
                                    "LastName": "Peacock"
                                },
                                {
                                    "OrderID": "10803",
                                    "FirstName": "Margaret",
                                    "LastName": "Peacock"
                                },
                                {
                                    "OrderID": "10807",
                                    "FirstName": "Margaret",
                                    "LastName": "Peacock"
                                },
                                {
                                    "OrderID": "10816",
                                    "FirstName": "Margaret",
                                    "LastName": "Peacock"
                                },
                                {
                                    "OrderID": "10830",
                                    "FirstName": "Margaret",
                                    "LastName": "Peacock"
                                },
                                {
                                    "OrderID": "10840",
                                    "FirstName": "Margaret",
                                    "LastName": "Peacock"
                                },
                                {
                                    "OrderID": "10843",
                                    "FirstName": "Margaret",
                                    "LastName": "Peacock"
                                },
                                {
                                    "OrderID": "10847",
                                    "FirstName": "Margaret",
                                    "LastName": "Peacock"
                                },
                                {
                                    "OrderID": "10861",
                                    "FirstName": "Margaret",
                                    "LastName": "Peacock"
                                },
                                {
                                    "OrderID": "10863",
                                    "FirstName": "Margaret",
                                    "LastName": "Peacock"
                                },
                                {
                                    "OrderID": "10864",
                                    "FirstName": "Margaret",
                                    "LastName": "Peacock"
                                },
                                {
                                    "OrderID": "10873",
                                    "FirstName": "Margaret",
                                    "LastName": "Peacock"
                                },
                                {
                                    "OrderID": "10875",
                                    "FirstName": "Margaret",
                                    "LastName": "Peacock"
                                },
                                {
                                    "OrderID": "10878",
                                    "FirstName": "Margaret",
                                    "LastName": "Peacock"
                                },
                                {
                                    "OrderID": "10881",
                                    "FirstName": "Margaret",
                                    "LastName": "Peacock"
                                },
                                {
                                    "OrderID": "10882",
                                    "FirstName": "Margaret",
                                    "LastName": "Peacock"
                                },
                                {
                                    "OrderID": "10884",
                                    "FirstName": "Margaret",
                                    "LastName": "Peacock"
                                },
                                {
                                    "OrderID": "10892",
                                    "FirstName": "Margaret",
                                    "LastName": "Peacock"
                                },
                                {
                                    "OrderID": "10898",
                                    "FirstName": "Margaret",
                                    "LastName": "Peacock"
                                },
                                {
                                    "OrderID": "10901",
                                    "FirstName": "Margaret",
                                    "LastName": "Peacock"
                                },
                                {
                                    "OrderID": "10906",
                                    "FirstName": "Margaret",
                                    "LastName": "Peacock"
                                },
                                {
                                    "OrderID": "10908",
                                    "FirstName": "Margaret",
                                    "LastName": "Peacock"
                                },
                                {
                                    "OrderID": "10913",
                                    "FirstName": "Margaret",
                                    "LastName": "Peacock"
                                },
                                {
                                    "OrderID": "10917",
                                    "FirstName": "Margaret",
                                    "LastName": "Peacock"
                                },
                                {
                                    "OrderID": "10920",
                                    "FirstName": "Margaret",
                                    "LastName": "Peacock"
                                },
                                {
                                    "OrderID": "10926",
                                    "FirstName": "Margaret",
                                    "LastName": "Peacock"
                                },
                                {
                                    "OrderID": "10927",
                                    "FirstName": "Margaret",
                                    "LastName": "Peacock"
                                },
                                {
                                    "OrderID": "10930",
                                    "FirstName": "Margaret",
                                    "LastName": "Peacock"
                                },
                                {
                                    "OrderID": "10931",
                                    "FirstName": "Margaret",
                                    "LastName": "Peacock"
                                },
                                {
                                    "OrderID": "10935",
                                    "FirstName": "Margaret",
                                    "LastName": "Peacock"
                                },
                                {
                                    "OrderID": "10943",
                                    "FirstName": "Margaret",
                                    "LastName": "Peacock"
                                },
                                {
                                    "OrderID": "10945",
                                    "FirstName": "Margaret",
                                    "LastName": "Peacock"
                                },
                                {
                                    "OrderID": "10966",
                                    "FirstName": "Margaret",
                                    "LastName": "Peacock"
                                },
                                {
                                    "OrderID": "10972",
                                    "FirstName": "Margaret",
                                    "LastName": "Peacock"
                                },
                                {
                                    "OrderID": "10980",
                                    "FirstName": "Margaret",
                                    "LastName": "Peacock"
                                },
                                {
                                    "OrderID": "10996",
                                    "FirstName": "Margaret",
                                    "LastName": "Peacock"
                                },
                                {
                                    "OrderID": "11002",
                                    "FirstName": "Margaret",
                                    "LastName": "Peacock"
                                },
                                {
                                    "OrderID": "11018",
                                    "FirstName": "Margaret",
                                    "LastName": "Peacock"
                                },
                                {
                                    "OrderID": "11024",
                                    "FirstName": "Margaret",
                                    "LastName": "Peacock"
                                },
                                {
                                    "OrderID": "11026",
                                    "FirstName": "Margaret",
                                    "LastName": "Peacock"
                                },
                                {
                                    "OrderID": "11029",
                                    "FirstName": "Margaret",
                                    "LastName": "Peacock"
                                },
                                {
                                    "OrderID": "11040",
                                    "FirstName": "Margaret",
                                    "LastName": "Peacock"
                                },
                                {
                                    "OrderID": "11044",
                                    "FirstName": "Margaret",
                                    "LastName": "Peacock"
                                },
                                {
                                    "OrderID": "11061",
                                    "FirstName": "Margaret",
                                    "LastName": "Peacock"
                                },
                                {
                                    "OrderID": "11062",
                                    "FirstName": "Margaret",
                                    "LastName": "Peacock"
                                },
                                {
                                    "OrderID": "11072",
                                    "FirstName": "Margaret",
                                    "LastName": "Peacock"
                                },
                                {
                                    "OrderID": "11076",
                                    "FirstName": "Margaret",
                                    "LastName": "Peacock"
                                },
                                {
                                    "OrderID": "10248",
                                    "FirstName": "Steven",
                                    "LastName": "Buchanan"
                                },
                                {
                                    "OrderID": "10254",
                                    "FirstName": "Steven",
                                    "LastName": "Buchanan"
                                },
                                {
                                    "OrderID": "10269",
                                    "FirstName": "Steven",
                                    "LastName": "Buchanan"
                                },
                                {
                                    "OrderID": "10297",
                                    "FirstName": "Steven",
                                    "LastName": "Buchanan"
                                },
                                {
                                    "OrderID": "10320",
                                    "FirstName": "Steven",
                                    "LastName": "Buchanan"
                                },
                                {
                                    "OrderID": "10333",
                                    "FirstName": "Steven",
                                    "LastName": "Buchanan"
                                },
                                {
                                    "OrderID": "10358",
                                    "FirstName": "Steven",
                                    "LastName": "Buchanan"
                                },
                                {
                                    "OrderID": "10359",
                                    "FirstName": "Steven",
                                    "LastName": "Buchanan"
                                },
                                {
                                    "OrderID": "10372",
                                    "FirstName": "Steven",
                                    "LastName": "Buchanan"
                                },
                                {
                                    "OrderID": "10378",
                                    "FirstName": "Steven",
                                    "LastName": "Buchanan"
                                },
                                {
                                    "OrderID": "10397",
                                    "FirstName": "Steven",
                                    "LastName": "Buchanan"
                                },
                                {
                                    "OrderID": "10463",
                                    "FirstName": "Steven",
                                    "LastName": "Buchanan"
                                },
                                {
                                    "OrderID": "10474",
                                    "FirstName": "Steven",
                                    "LastName": "Buchanan"
                                },
                                {
                                    "OrderID": "10477",
                                    "FirstName": "Steven",
                                    "LastName": "Buchanan"
                                },
                                {
                                    "OrderID": "10529",
                                    "FirstName": "Steven",
                                    "LastName": "Buchanan"
                                },
                                {
                                    "OrderID": "10549",
                                    "FirstName": "Steven",
                                    "LastName": "Buchanan"
                                },
                                {
                                    "OrderID": "10569",
                                    "FirstName": "Steven",
                                    "LastName": "Buchanan"
                                },
                                {
                                    "OrderID": "10575",
                                    "FirstName": "Steven",
                                    "LastName": "Buchanan"
                                },
                                {
                                    "OrderID": "10607",
                                    "FirstName": "Steven",
                                    "LastName": "Buchanan"
                                },
                                {
                                    "OrderID": "10648",
                                    "FirstName": "Steven",
                                    "LastName": "Buchanan"
                                },
                                {
                                    "OrderID": "10649",
                                    "FirstName": "Steven",
                                    "LastName": "Buchanan"
                                },
                                {
                                    "OrderID": "10650",
                                    "FirstName": "Steven",
                                    "LastName": "Buchanan"
                                },
                                {
                                    "OrderID": "10654",
                                    "FirstName": "Steven",
                                    "LastName": "Buchanan"
                                },
                                {
                                    "OrderID": "10675",
                                    "FirstName": "Steven",
                                    "LastName": "Buchanan"
                                },
                                {
                                    "OrderID": "10711",
                                    "FirstName": "Steven",
                                    "LastName": "Buchanan"
                                },
                                {
                                    "OrderID": "10714",
                                    "FirstName": "Steven",
                                    "LastName": "Buchanan"
                                },
                                {
                                    "OrderID": "10721",
                                    "FirstName": "Steven",
                                    "LastName": "Buchanan"
                                },
                                {
                                    "OrderID": "10730",
                                    "FirstName": "Steven",
                                    "LastName": "Buchanan"
                                },
                                {
                                    "OrderID": "10761",
                                    "FirstName": "Steven",
                                    "LastName": "Buchanan"
                                },
                                {
                                    "OrderID": "10812",
                                    "FirstName": "Steven",
                                    "LastName": "Buchanan"
                                },
                                {
                                    "OrderID": "10823",
                                    "FirstName": "Steven",
                                    "LastName": "Buchanan"
                                },
                                {
                                    "OrderID": "10841",
                                    "FirstName": "Steven",
                                    "LastName": "Buchanan"
                                },
                                {
                                    "OrderID": "10851",
                                    "FirstName": "Steven",
                                    "LastName": "Buchanan"
                                },
                                {
                                    "OrderID": "10866",
                                    "FirstName": "Steven",
                                    "LastName": "Buchanan"
                                },
                                {
                                    "OrderID": "10869",
                                    "FirstName": "Steven",
                                    "LastName": "Buchanan"
                                },
                                {
                                    "OrderID": "10870",
                                    "FirstName": "Steven",
                                    "LastName": "Buchanan"
                                },
                                {
                                    "OrderID": "10872",
                                    "FirstName": "Steven",
                                    "LastName": "Buchanan"
                                },
                                {
                                    "OrderID": "10874",
                                    "FirstName": "Steven",
                                    "LastName": "Buchanan"
                                },
                                {
                                    "OrderID": "10899",
                                    "FirstName": "Steven",
                                    "LastName": "Buchanan"
                                },
                                {
                                    "OrderID": "10922",
                                    "FirstName": "Steven",
                                    "LastName": "Buchanan"
                                },
                                {
                                    "OrderID": "10954",
                                    "FirstName": "Steven",
                                    "LastName": "Buchanan"
                                },
                                {
                                    "OrderID": "11043",
                                    "FirstName": "Steven",
                                    "LastName": "Buchanan"
                                },
                                {
                                    "OrderID": "10249",
                                    "FirstName": "Michael",
                                    "LastName": "Suyama"
                                },
                                {
                                    "OrderID": "10264",
                                    "FirstName": "Michael",
                                    "LastName": "Suyama"
                                },
                                {
                                    "OrderID": "10271",
                                    "FirstName": "Michael",
                                    "LastName": "Suyama"
                                },
                                {
                                    "OrderID": "10272",
                                    "FirstName": "Michael",
                                    "LastName": "Suyama"
                                },
                                {
                                    "OrderID": "10274",
                                    "FirstName": "Michael",
                                    "LastName": "Suyama"
                                },
                                {
                                    "OrderID": "10291",
                                    "FirstName": "Michael",
                                    "LastName": "Suyama"
                                },
                                {
                                    "OrderID": "10296",
                                    "FirstName": "Michael",
                                    "LastName": "Suyama"
                                },
                                {
                                    "OrderID": "10298",
                                    "FirstName": "Michael",
                                    "LastName": "Suyama"
                                },
                                {
                                    "OrderID": "10317",
                                    "FirstName": "Michael",
                                    "LastName": "Suyama"
                                },
                                {
                                    "OrderID": "10350",
                                    "FirstName": "Michael",
                                    "LastName": "Suyama"
                                },
                                {
                                    "OrderID": "10355",
                                    "FirstName": "Michael",
                                    "LastName": "Suyama"
                                },
                                {
                                    "OrderID": "10356",
                                    "FirstName": "Michael",
                                    "LastName": "Suyama"
                                },
                                {
                                    "OrderID": "10370",
                                    "FirstName": "Michael",
                                    "LastName": "Suyama"
                                },
                                {
                                    "OrderID": "10390",
                                    "FirstName": "Michael",
                                    "LastName": "Suyama"
                                },
                                {
                                    "OrderID": "10395",
                                    "FirstName": "Michael",
                                    "LastName": "Suyama"
                                },
                                {
                                    "OrderID": "10423",
                                    "FirstName": "Michael",
                                    "LastName": "Suyama"
                                },
                                {
                                    "OrderID": "10425",
                                    "FirstName": "Michael",
                                    "LastName": "Suyama"
                                },
                                {
                                    "OrderID": "10439",
                                    "FirstName": "Michael",
                                    "LastName": "Suyama"
                                },
                                {
                                    "OrderID": "10446",
                                    "FirstName": "Michael",
                                    "LastName": "Suyama"
                                },
                                {
                                    "OrderID": "10480",
                                    "FirstName": "Michael",
                                    "LastName": "Suyama"
                                },
                                {
                                    "OrderID": "10489",
                                    "FirstName": "Michael",
                                    "LastName": "Suyama"
                                },
                                {
                                    "OrderID": "10500",
                                    "FirstName": "Michael",
                                    "LastName": "Suyama"
                                },
                                {
                                    "OrderID": "10503",
                                    "FirstName": "Michael",
                                    "LastName": "Suyama"
                                },
                                {
                                    "OrderID": "10510",
                                    "FirstName": "Michael",
                                    "LastName": "Suyama"
                                },
                                {
                                    "OrderID": "10519",
                                    "FirstName": "Michael",
                                    "LastName": "Suyama"
                                },
                                {
                                    "OrderID": "10528",
                                    "FirstName": "Michael",
                                    "LastName": "Suyama"
                                },
                                {
                                    "OrderID": "10539",
                                    "FirstName": "Michael",
                                    "LastName": "Suyama"
                                },
                                {
                                    "OrderID": "10555",
                                    "FirstName": "Michael",
                                    "LastName": "Suyama"
                                },
                                {
                                    "OrderID": "10559",
                                    "FirstName": "Michael",
                                    "LastName": "Suyama"
                                },
                                {
                                    "OrderID": "10599",
                                    "FirstName": "Michael",
                                    "LastName": "Suyama"
                                },
                                {
                                    "OrderID": "10611",
                                    "FirstName": "Michael",
                                    "LastName": "Suyama"
                                },
                                {
                                    "OrderID": "10637",
                                    "FirstName": "Michael",
                                    "LastName": "Suyama"
                                },
                                {
                                    "OrderID": "10643",
                                    "FirstName": "Michael",
                                    "LastName": "Suyama"
                                },
                                {
                                    "OrderID": "10656",
                                    "FirstName": "Michael",
                                    "LastName": "Suyama"
                                },
                                {
                                    "OrderID": "10701",
                                    "FirstName": "Michael",
                                    "LastName": "Suyama"
                                },
                                {
                                    "OrderID": "10703",
                                    "FirstName": "Michael",
                                    "LastName": "Suyama"
                                },
                                {
                                    "OrderID": "10704",
                                    "FirstName": "Michael",
                                    "LastName": "Suyama"
                                },
                                {
                                    "OrderID": "10708",
                                    "FirstName": "Michael",
                                    "LastName": "Suyama"
                                },
                                {
                                    "OrderID": "10735",
                                    "FirstName": "Michael",
                                    "LastName": "Suyama"
                                },
                                {
                                    "OrderID": "10744",
                                    "FirstName": "Michael",
                                    "LastName": "Suyama"
                                },
                                {
                                    "OrderID": "10747",
                                    "FirstName": "Michael",
                                    "LastName": "Suyama"
                                },
                                {
                                    "OrderID": "10754",
                                    "FirstName": "Michael",
                                    "LastName": "Suyama"
                                },
                                {
                                    "OrderID": "10757",
                                    "FirstName": "Michael",
                                    "LastName": "Suyama"
                                },
                                {
                                    "OrderID": "10764",
                                    "FirstName": "Michael",
                                    "LastName": "Suyama"
                                },
                                {
                                    "OrderID": "10790",
                                    "FirstName": "Michael",
                                    "LastName": "Suyama"
                                },
                                {
                                    "OrderID": "10791",
                                    "FirstName": "Michael",
                                    "LastName": "Suyama"
                                },
                                {
                                    "OrderID": "10794",
                                    "FirstName": "Michael",
                                    "LastName": "Suyama"
                                },
                                {
                                    "OrderID": "10804",
                                    "FirstName": "Michael",
                                    "LastName": "Suyama"
                                },
                                {
                                    "OrderID": "10822",
                                    "FirstName": "Michael",
                                    "LastName": "Suyama"
                                },
                                {
                                    "OrderID": "10826",
                                    "FirstName": "Michael",
                                    "LastName": "Suyama"
                                },
                                {
                                    "OrderID": "10833",
                                    "FirstName": "Michael",
                                    "LastName": "Suyama"
                                },
                                {
                                    "OrderID": "10867",
                                    "FirstName": "Michael",
                                    "LastName": "Suyama"
                                },
                                {
                                    "OrderID": "10885",
                                    "FirstName": "Michael",
                                    "LastName": "Suyama"
                                },
                                {
                                    "OrderID": "10907",
                                    "FirstName": "Michael",
                                    "LastName": "Suyama"
                                },
                                {
                                    "OrderID": "10914",
                                    "FirstName": "Michael",
                                    "LastName": "Suyama"
                                },
                                {
                                    "OrderID": "10929",
                                    "FirstName": "Michael",
                                    "LastName": "Suyama"
                                },
                                {
                                    "OrderID": "10933",
                                    "FirstName": "Michael",
                                    "LastName": "Suyama"
                                },
                                {
                                    "OrderID": "10944",
                                    "FirstName": "Michael",
                                    "LastName": "Suyama"
                                },
                                {
                                    "OrderID": "10956",
                                    "FirstName": "Michael",
                                    "LastName": "Suyama"
                                },
                                {
                                    "OrderID": "10959",
                                    "FirstName": "Michael",
                                    "LastName": "Suyama"
                                },
                                {
                                    "OrderID": "10965",
                                    "FirstName": "Michael",
                                    "LastName": "Suyama"
                                },
                                {
                                    "OrderID": "10973",
                                    "FirstName": "Michael",
                                    "LastName": "Suyama"
                                },
                                {
                                    "OrderID": "10999",
                                    "FirstName": "Michael",
                                    "LastName": "Suyama"
                                },
                                {
                                    "OrderID": "11019",
                                    "FirstName": "Michael",
                                    "LastName": "Suyama"
                                },
                                {
                                    "OrderID": "11025",
                                    "FirstName": "Michael",
                                    "LastName": "Suyama"
                                },
                                {
                                    "OrderID": "11031",
                                    "FirstName": "Michael",
                                    "LastName": "Suyama"
                                },
                                {
                                    "OrderID": "11045",
                                    "FirstName": "Michael",
                                    "LastName": "Suyama"
                                },
                                {
                                    "OrderID": "10289",
                                    "FirstName": "Robert",
                                    "LastName": "King"
                                },
                                {
                                    "OrderID": "10303",
                                    "FirstName": "Robert",
                                    "LastName": "King"
                                },
                                {
                                    "OrderID": "10308",
                                    "FirstName": "Robert",
                                    "LastName": "King"
                                },
                                {
                                    "OrderID": "10319",
                                    "FirstName": "Robert",
                                    "LastName": "King"
                                },
                                {
                                    "OrderID": "10322",
                                    "FirstName": "Robert",
                                    "LastName": "King"
                                },
                                {
                                    "OrderID": "10335",
                                    "FirstName": "Robert",
                                    "LastName": "King"
                                },
                                {
                                    "OrderID": "10336",
                                    "FirstName": "Robert",
                                    "LastName": "King"
                                },
                                {
                                    "OrderID": "10341",
                                    "FirstName": "Robert",
                                    "LastName": "King"
                                },
                                {
                                    "OrderID": "10349",
                                    "FirstName": "Robert",
                                    "LastName": "King"
                                },
                                {
                                    "OrderID": "10353",
                                    "FirstName": "Robert",
                                    "LastName": "King"
                                },
                                {
                                    "OrderID": "10367",
                                    "FirstName": "Robert",
                                    "LastName": "King"
                                },
                                {
                                    "OrderID": "10406",
                                    "FirstName": "Robert",
                                    "LastName": "King"
                                },
                                {
                                    "OrderID": "10424",
                                    "FirstName": "Robert",
                                    "LastName": "King"
                                },
                                {
                                    "OrderID": "10428",
                                    "FirstName": "Robert",
                                    "LastName": "King"
                                },
                                {
                                    "OrderID": "10458",
                                    "FirstName": "Robert",
                                    "LastName": "King"
                                },
                                {
                                    "OrderID": "10483",
                                    "FirstName": "Robert",
                                    "LastName": "King"
                                },
                                {
                                    "OrderID": "10490",
                                    "FirstName": "Robert",
                                    "LastName": "King"
                                },
                                {
                                    "OrderID": "10496",
                                    "FirstName": "Robert",
                                    "LastName": "King"
                                },
                                {
                                    "OrderID": "10497",
                                    "FirstName": "Robert",
                                    "LastName": "King"
                                },
                                {
                                    "OrderID": "10507",
                                    "FirstName": "Robert",
                                    "LastName": "King"
                                },
                                {
                                    "OrderID": "10512",
                                    "FirstName": "Robert",
                                    "LastName": "King"
                                },
                                {
                                    "OrderID": "10513",
                                    "FirstName": "Robert",
                                    "LastName": "King"
                                },
                                {
                                    "OrderID": "10520",
                                    "FirstName": "Robert",
                                    "LastName": "King"
                                },
                                {
                                    "OrderID": "10523",
                                    "FirstName": "Robert",
                                    "LastName": "King"
                                },
                                {
                                    "OrderID": "10527",
                                    "FirstName": "Robert",
                                    "LastName": "King"
                                },
                                {
                                    "OrderID": "10531",
                                    "FirstName": "Robert",
                                    "LastName": "King"
                                },
                                {
                                    "OrderID": "10532",
                                    "FirstName": "Robert",
                                    "LastName": "King"
                                },
                                {
                                    "OrderID": "10550",
                                    "FirstName": "Robert",
                                    "LastName": "King"
                                },
                                {
                                    "OrderID": "10573",
                                    "FirstName": "Robert",
                                    "LastName": "King"
                                },
                                {
                                    "OrderID": "10585",
                                    "FirstName": "Robert",
                                    "LastName": "King"
                                },
                                {
                                    "OrderID": "10593",
                                    "FirstName": "Robert",
                                    "LastName": "King"
                                },
                                {
                                    "OrderID": "10597",
                                    "FirstName": "Robert",
                                    "LastName": "King"
                                },
                                {
                                    "OrderID": "10601",
                                    "FirstName": "Robert",
                                    "LastName": "King"
                                },
                                {
                                    "OrderID": "10609",
                                    "FirstName": "Robert",
                                    "LastName": "King"
                                },
                                {
                                    "OrderID": "10633",
                                    "FirstName": "Robert",
                                    "LastName": "King"
                                },
                                {
                                    "OrderID": "10639",
                                    "FirstName": "Robert",
                                    "LastName": "King"
                                },
                                {
                                    "OrderID": "10642",
                                    "FirstName": "Robert",
                                    "LastName": "King"
                                },
                                {
                                    "OrderID": "10659",
                                    "FirstName": "Robert",
                                    "LastName": "King"
                                },
                                {
                                    "OrderID": "10661",
                                    "FirstName": "Robert",
                                    "LastName": "King"
                                },
                                {
                                    "OrderID": "10666",
                                    "FirstName": "Robert",
                                    "LastName": "King"
                                },
                                {
                                    "OrderID": "10667",
                                    "FirstName": "Robert",
                                    "LastName": "King"
                                },
                                {
                                    "OrderID": "10678",
                                    "FirstName": "Robert",
                                    "LastName": "King"
                                },
                                {
                                    "OrderID": "10695",
                                    "FirstName": "Robert",
                                    "LastName": "King"
                                },
                                {
                                    "OrderID": "10731",
                                    "FirstName": "Robert",
                                    "LastName": "King"
                                },
                                {
                                    "OrderID": "10775",
                                    "FirstName": "Robert",
                                    "LastName": "King"
                                },
                                {
                                    "OrderID": "10777",
                                    "FirstName": "Robert",
                                    "LastName": "King"
                                },
                                {
                                    "OrderID": "10797",
                                    "FirstName": "Robert",
                                    "LastName": "King"
                                },
                                {
                                    "OrderID": "10809",
                                    "FirstName": "Robert",
                                    "LastName": "King"
                                },
                                {
                                    "OrderID": "10818",
                                    "FirstName": "Robert",
                                    "LastName": "King"
                                },
                                {
                                    "OrderID": "10836",
                                    "FirstName": "Robert",
                                    "LastName": "King"
                                },
                                {
                                    "OrderID": "10848",
                                    "FirstName": "Robert",
                                    "LastName": "King"
                                },
                                {
                                    "OrderID": "10868",
                                    "FirstName": "Robert",
                                    "LastName": "King"
                                },
                                {
                                    "OrderID": "10876",
                                    "FirstName": "Robert",
                                    "LastName": "King"
                                },
                                {
                                    "OrderID": "10880",
                                    "FirstName": "Robert",
                                    "LastName": "King"
                                },
                                {
                                    "OrderID": "10890",
                                    "FirstName": "Robert",
                                    "LastName": "King"
                                },
                                {
                                    "OrderID": "10891",
                                    "FirstName": "Robert",
                                    "LastName": "King"
                                },
                                {
                                    "OrderID": "10896",
                                    "FirstName": "Robert",
                                    "LastName": "King"
                                },
                                {
                                    "OrderID": "10923",
                                    "FirstName": "Robert",
                                    "LastName": "King"
                                },
                                {
                                    "OrderID": "10937",
                                    "FirstName": "Robert",
                                    "LastName": "King"
                                },
                                {
                                    "OrderID": "10941",
                                    "FirstName": "Robert",
                                    "LastName": "King"
                                },
                                {
                                    "OrderID": "10958",
                                    "FirstName": "Robert",
                                    "LastName": "King"
                                },
                                {
                                    "OrderID": "10993",
                                    "FirstName": "Robert",
                                    "LastName": "King"
                                },
                                {
                                    "OrderID": "11008",
                                    "FirstName": "Robert",
                                    "LastName": "King"
                                },
                                {
                                    "OrderID": "11030",
                                    "FirstName": "Robert",
                                    "LastName": "King"
                                },
                                {
                                    "OrderID": "11033",
                                    "FirstName": "Robert",
                                    "LastName": "King"
                                },
                                {
                                    "OrderID": "11037",
                                    "FirstName": "Robert",
                                    "LastName": "King"
                                },
                                {
                                    "OrderID": "11047",
                                    "FirstName": "Robert",
                                    "LastName": "King"
                                },
                                {
                                    "OrderID": "11048",
                                    "FirstName": "Robert",
                                    "LastName": "King"
                                },
                                {
                                    "OrderID": "11051",
                                    "FirstName": "Robert",
                                    "LastName": "King"
                                },
                                {
                                    "OrderID": "11055",
                                    "FirstName": "Robert",
                                    "LastName": "King"
                                },
                                {
                                    "OrderID": "11066",
                                    "FirstName": "Robert",
                                    "LastName": "King"
                                },
                                {
                                    "OrderID": "11074",
                                    "FirstName": "Robert",
                                    "LastName": "King"
                                },
                                {
                                    "OrderID": "10262",
                                    "FirstName": "Laura",
                                    "LastName": "Callahan"
                                },
                                {
                                    "OrderID": "10268",
                                    "FirstName": "Laura",
                                    "LastName": "Callahan"
                                },
                                {
                                    "OrderID": "10276",
                                    "FirstName": "Laura",
                                    "LastName": "Callahan"
                                },
                                {
                                    "OrderID": "10278",
                                    "FirstName": "Laura",
                                    "LastName": "Callahan"
                                },
                                {
                                    "OrderID": "10279",
                                    "FirstName": "Laura",
                                    "LastName": "Callahan"
                                },
                                {
                                    "OrderID": "10286",
                                    "FirstName": "Laura",
                                    "LastName": "Callahan"
                                },
                                {
                                    "OrderID": "10287",
                                    "FirstName": "Laura",
                                    "LastName": "Callahan"
                                },
                                {
                                    "OrderID": "10290",
                                    "FirstName": "Laura",
                                    "LastName": "Callahan"
                                },
                                {
                                    "OrderID": "10301",
                                    "FirstName": "Laura",
                                    "LastName": "Callahan"
                                },
                                {
                                    "OrderID": "10305",
                                    "FirstName": "Laura",
                                    "LastName": "Callahan"
                                },
                                {
                                    "OrderID": "10310",
                                    "FirstName": "Laura",
                                    "LastName": "Callahan"
                                },
                                {
                                    "OrderID": "10318",
                                    "FirstName": "Laura",
                                    "LastName": "Callahan"
                                },
                                {
                                    "OrderID": "10334",
                                    "FirstName": "Laura",
                                    "LastName": "Callahan"
                                },
                                {
                                    "OrderID": "10354",
                                    "FirstName": "Laura",
                                    "LastName": "Callahan"
                                },
                                {
                                    "OrderID": "10366",
                                    "FirstName": "Laura",
                                    "LastName": "Callahan"
                                },
                                {
                                    "OrderID": "10369",
                                    "FirstName": "Laura",
                                    "LastName": "Callahan"
                                },
                                {
                                    "OrderID": "10380",
                                    "FirstName": "Laura",
                                    "LastName": "Callahan"
                                },
                                {
                                    "OrderID": "10383",
                                    "FirstName": "Laura",
                                    "LastName": "Callahan"
                                },
                                {
                                    "OrderID": "10399",
                                    "FirstName": "Laura",
                                    "LastName": "Callahan"
                                },
                                {
                                    "OrderID": "10402",
                                    "FirstName": "Laura",
                                    "LastName": "Callahan"
                                },
                                {
                                    "OrderID": "10408",
                                    "FirstName": "Laura",
                                    "LastName": "Callahan"
                                },
                                {
                                    "OrderID": "10412",
                                    "FirstName": "Laura",
                                    "LastName": "Callahan"
                                },
                                {
                                    "OrderID": "10416",
                                    "FirstName": "Laura",
                                    "LastName": "Callahan"
                                },
                                {
                                    "OrderID": "10421",
                                    "FirstName": "Laura",
                                    "LastName": "Callahan"
                                },
                                {
                                    "OrderID": "10435",
                                    "FirstName": "Laura",
                                    "LastName": "Callahan"
                                },
                                {
                                    "OrderID": "10437",
                                    "FirstName": "Laura",
                                    "LastName": "Callahan"
                                },
                                {
                                    "OrderID": "10443",
                                    "FirstName": "Laura",
                                    "LastName": "Callahan"
                                },
                                {
                                    "OrderID": "10450",
                                    "FirstName": "Laura",
                                    "LastName": "Callahan"
                                },
                                {
                                    "OrderID": "10452",
                                    "FirstName": "Laura",
                                    "LastName": "Callahan"
                                },
                                {
                                    "OrderID": "10455",
                                    "FirstName": "Laura",
                                    "LastName": "Callahan"
                                },
                                {
                                    "OrderID": "10456",
                                    "FirstName": "Laura",
                                    "LastName": "Callahan"
                                },
                                {
                                    "OrderID": "10460",
                                    "FirstName": "Laura",
                                    "LastName": "Callahan"
                                },
                                {
                                    "OrderID": "10467",
                                    "FirstName": "Laura",
                                    "LastName": "Callahan"
                                },
                                {
                                    "OrderID": "10472",
                                    "FirstName": "Laura",
                                    "LastName": "Callahan"
                                },
                                {
                                    "OrderID": "10476",
                                    "FirstName": "Laura",
                                    "LastName": "Callahan"
                                },
                                {
                                    "OrderID": "10481",
                                    "FirstName": "Laura",
                                    "LastName": "Callahan"
                                },
                                {
                                    "OrderID": "10488",
                                    "FirstName": "Laura",
                                    "LastName": "Callahan"
                                },
                                {
                                    "OrderID": "10491",
                                    "FirstName": "Laura",
                                    "LastName": "Callahan"
                                },
                                {
                                    "OrderID": "10498",
                                    "FirstName": "Laura",
                                    "LastName": "Callahan"
                                },
                                {
                                    "OrderID": "10521",
                                    "FirstName": "Laura",
                                    "LastName": "Callahan"
                                },
                                {
                                    "OrderID": "10533",
                                    "FirstName": "Laura",
                                    "LastName": "Callahan"
                                },
                                {
                                    "OrderID": "10534",
                                    "FirstName": "Laura",
                                    "LastName": "Callahan"
                                },
                                {
                                    "OrderID": "10543",
                                    "FirstName": "Laura",
                                    "LastName": "Callahan"
                                },
                                {
                                    "OrderID": "10545",
                                    "FirstName": "Laura",
                                    "LastName": "Callahan"
                                },
                                {
                                    "OrderID": "10560",
                                    "FirstName": "Laura",
                                    "LastName": "Callahan"
                                },
                                {
                                    "OrderID": "10565",
                                    "FirstName": "Laura",
                                    "LastName": "Callahan"
                                },
                                {
                                    "OrderID": "10571",
                                    "FirstName": "Laura",
                                    "LastName": "Callahan"
                                },
                                {
                                    "OrderID": "10589",
                                    "FirstName": "Laura",
                                    "LastName": "Callahan"
                                },
                                {
                                    "OrderID": "10596",
                                    "FirstName": "Laura",
                                    "LastName": "Callahan"
                                },
                                {
                                    "OrderID": "10602",
                                    "FirstName": "Laura",
                                    "LastName": "Callahan"
                                },
                                {
                                    "OrderID": "10603",
                                    "FirstName": "Laura",
                                    "LastName": "Callahan"
                                },
                                {
                                    "OrderID": "10610",
                                    "FirstName": "Laura",
                                    "LastName": "Callahan"
                                },
                                {
                                    "OrderID": "10614",
                                    "FirstName": "Laura",
                                    "LastName": "Callahan"
                                },
                                {
                                    "OrderID": "10623",
                                    "FirstName": "Laura",
                                    "LastName": "Callahan"
                                },
                                {
                                    "OrderID": "10627",
                                    "FirstName": "Laura",
                                    "LastName": "Callahan"
                                },
                                {
                                    "OrderID": "10631",
                                    "FirstName": "Laura",
                                    "LastName": "Callahan"
                                },
                                {
                                    "OrderID": "10632",
                                    "FirstName": "Laura",
                                    "LastName": "Callahan"
                                },
                                {
                                    "OrderID": "10635",
                                    "FirstName": "Laura",
                                    "LastName": "Callahan"
                                },
                                {
                                    "OrderID": "10651",
                                    "FirstName": "Laura",
                                    "LastName": "Callahan"
                                },
                                {
                                    "OrderID": "10660",
                                    "FirstName": "Laura",
                                    "LastName": "Callahan"
                                },
                                {
                                    "OrderID": "10679",
                                    "FirstName": "Laura",
                                    "LastName": "Callahan"
                                },
                                {
                                    "OrderID": "10694",
                                    "FirstName": "Laura",
                                    "LastName": "Callahan"
                                },
                                {
                                    "OrderID": "10696",
                                    "FirstName": "Laura",
                                    "LastName": "Callahan"
                                },
                                {
                                    "OrderID": "10706",
                                    "FirstName": "Laura",
                                    "LastName": "Callahan"
                                },
                                {
                                    "OrderID": "10719",
                                    "FirstName": "Laura",
                                    "LastName": "Callahan"
                                },
                                {
                                    "OrderID": "10720",
                                    "FirstName": "Laura",
                                    "LastName": "Callahan"
                                },
                                {
                                    "OrderID": "10722",
                                    "FirstName": "Laura",
                                    "LastName": "Callahan"
                                },
                                {
                                    "OrderID": "10724",
                                    "FirstName": "Laura",
                                    "LastName": "Callahan"
                                },
                                {
                                    "OrderID": "10729",
                                    "FirstName": "Laura",
                                    "LastName": "Callahan"
                                },
                                {
                                    "OrderID": "10756",
                                    "FirstName": "Laura",
                                    "LastName": "Callahan"
                                },
                                {
                                    "OrderID": "10770",
                                    "FirstName": "Laura",
                                    "LastName": "Callahan"
                                },
                                {
                                    "OrderID": "10786",
                                    "FirstName": "Laura",
                                    "LastName": "Callahan"
                                },
                                {
                                    "OrderID": "10795",
                                    "FirstName": "Laura",
                                    "LastName": "Callahan"
                                },
                                {
                                    "OrderID": "10811",
                                    "FirstName": "Laura",
                                    "LastName": "Callahan"
                                },
                                {
                                    "OrderID": "10824",
                                    "FirstName": "Laura",
                                    "LastName": "Callahan"
                                },
                                {
                                    "OrderID": "10844",
                                    "FirstName": "Laura",
                                    "LastName": "Callahan"
                                },
                                {
                                    "OrderID": "10845",
                                    "FirstName": "Laura",
                                    "LastName": "Callahan"
                                },
                                {
                                    "OrderID": "10852",
                                    "FirstName": "Laura",
                                    "LastName": "Callahan"
                                },
                                {
                                    "OrderID": "10857",
                                    "FirstName": "Laura",
                                    "LastName": "Callahan"
                                },
                                {
                                    "OrderID": "10862",
                                    "FirstName": "Laura",
                                    "LastName": "Callahan"
                                },
                                {
                                    "OrderID": "10883",
                                    "FirstName": "Laura",
                                    "LastName": "Callahan"
                                },
                                {
                                    "OrderID": "10887",
                                    "FirstName": "Laura",
                                    "LastName": "Callahan"
                                },
                                {
                                    "OrderID": "10932",
                                    "FirstName": "Laura",
                                    "LastName": "Callahan"
                                },
                                {
                                    "OrderID": "10940",
                                    "FirstName": "Laura",
                                    "LastName": "Callahan"
                                },
                                {
                                    "OrderID": "10955",
                                    "FirstName": "Laura",
                                    "LastName": "Callahan"
                                },
                                {
                                    "OrderID": "10957",
                                    "FirstName": "Laura",
                                    "LastName": "Callahan"
                                },
                                {
                                    "OrderID": "10961",
                                    "FirstName": "Laura",
                                    "LastName": "Callahan"
                                },
                                {
                                    "OrderID": "10962",
                                    "FirstName": "Laura",
                                    "LastName": "Callahan"
                                },
                                {
                                    "OrderID": "10977",
                                    "FirstName": "Laura",
                                    "LastName": "Callahan"
                                },
                                {
                                    "OrderID": "10979",
                                    "FirstName": "Laura",
                                    "LastName": "Callahan"
                                },
                                {
                                    "OrderID": "10986",
                                    "FirstName": "Laura",
                                    "LastName": "Callahan"
                                },
                                {
                                    "OrderID": "10987",
                                    "FirstName": "Laura",
                                    "LastName": "Callahan"
                                },
                                {
                                    "OrderID": "10997",
                                    "FirstName": "Laura",
                                    "LastName": "Callahan"
                                },
                                {
                                    "OrderID": "10998",
                                    "FirstName": "Laura",
                                    "LastName": "Callahan"
                                },
                                {
                                    "OrderID": "11007",
                                    "FirstName": "Laura",
                                    "LastName": "Callahan"
                                },
                                {
                                    "OrderID": "11034",
                                    "FirstName": "Laura",
                                    "LastName": "Callahan"
                                },
                                {
                                    "OrderID": "11036",
                                    "FirstName": "Laura",
                                    "LastName": "Callahan"
                                },
                                {
                                    "OrderID": "11046",
                                    "FirstName": "Laura",
                                    "LastName": "Callahan"
                                },
                                {
                                    "OrderID": "11050",
                                    "FirstName": "Laura",
                                    "LastName": "Callahan"
                                },
                                {
                                    "OrderID": "11054",
                                    "FirstName": "Laura",
                                    "LastName": "Callahan"
                                },
                                {
                                    "OrderID": "11056",
                                    "FirstName": "Laura",
                                    "LastName": "Callahan"
                                },
                                {
                                    "OrderID": "11065",
                                    "FirstName": "Laura",
                                    "LastName": "Callahan"
                                },
                                {
                                    "OrderID": "11068",
                                    "FirstName": "Laura",
                                    "LastName": "Callahan"
                                },
                                {
                                    "OrderID": "11075",
                                    "FirstName": "Laura",
                                    "LastName": "Callahan"
                                },
                                {
                                    "OrderID": "10255",
                                    "FirstName": "Anne",
                                    "LastName": "Dodsworth"
                                },
                                {
                                    "OrderID": "10263",
                                    "FirstName": "Anne",
                                    "LastName": "Dodsworth"
                                },
                                {
                                    "OrderID": "10324",
                                    "FirstName": "Anne",
                                    "LastName": "Dodsworth"
                                },
                                {
                                    "OrderID": "10331",
                                    "FirstName": "Anne",
                                    "LastName": "Dodsworth"
                                },
                                {
                                    "OrderID": "10386",
                                    "FirstName": "Anne",
                                    "LastName": "Dodsworth"
                                },
                                {
                                    "OrderID": "10411",
                                    "FirstName": "Anne",
                                    "LastName": "Dodsworth"
                                },
                                {
                                    "OrderID": "10475",
                                    "FirstName": "Anne",
                                    "LastName": "Dodsworth"
                                },
                                {
                                    "OrderID": "10501",
                                    "FirstName": "Anne",
                                    "LastName": "Dodsworth"
                                },
                                {
                                    "OrderID": "10506",
                                    "FirstName": "Anne",
                                    "LastName": "Dodsworth"
                                },
                                {
                                    "OrderID": "10538",
                                    "FirstName": "Anne",
                                    "LastName": "Dodsworth"
                                },
                                {
                                    "OrderID": "10557",
                                    "FirstName": "Anne",
                                    "LastName": "Dodsworth"
                                },
                                {
                                    "OrderID": "10566",
                                    "FirstName": "Anne",
                                    "LastName": "Dodsworth"
                                },
                                {
                                    "OrderID": "10577",
                                    "FirstName": "Anne",
                                    "LastName": "Dodsworth"
                                },
                                {
                                    "OrderID": "10586",
                                    "FirstName": "Anne",
                                    "LastName": "Dodsworth"
                                },
                                {
                                    "OrderID": "10646",
                                    "FirstName": "Anne",
                                    "LastName": "Dodsworth"
                                },
                                {
                                    "OrderID": "10672",
                                    "FirstName": "Anne",
                                    "LastName": "Dodsworth"
                                },
                                {
                                    "OrderID": "10687",
                                    "FirstName": "Anne",
                                    "LastName": "Dodsworth"
                                },
                                {
                                    "OrderID": "10705",
                                    "FirstName": "Anne",
                                    "LastName": "Dodsworth"
                                },
                                {
                                    "OrderID": "10736",
                                    "FirstName": "Anne",
                                    "LastName": "Dodsworth"
                                },
                                {
                                    "OrderID": "10745",
                                    "FirstName": "Anne",
                                    "LastName": "Dodsworth"
                                },
                                {
                                    "OrderID": "10750",
                                    "FirstName": "Anne",
                                    "LastName": "Dodsworth"
                                },
                                {
                                    "OrderID": "10771",
                                    "FirstName": "Anne",
                                    "LastName": "Dodsworth"
                                },
                                {
                                    "OrderID": "10782",
                                    "FirstName": "Anne",
                                    "LastName": "Dodsworth"
                                },
                                {
                                    "OrderID": "10799",
                                    "FirstName": "Anne",
                                    "LastName": "Dodsworth"
                                },
                                {
                                    "OrderID": "10828",
                                    "FirstName": "Anne",
                                    "LastName": "Dodsworth"
                                },
                                {
                                    "OrderID": "10829",
                                    "FirstName": "Anne",
                                    "LastName": "Dodsworth"
                                },
                                {
                                    "OrderID": "10837",
                                    "FirstName": "Anne",
                                    "LastName": "Dodsworth"
                                },
                                {
                                    "OrderID": "10849",
                                    "FirstName": "Anne",
                                    "LastName": "Dodsworth"
                                },
                                {
                                    "OrderID": "10853",
                                    "FirstName": "Anne",
                                    "LastName": "Dodsworth"
                                },
                                {
                                    "OrderID": "10871",
                                    "FirstName": "Anne",
                                    "LastName": "Dodsworth"
                                },
                                {
                                    "OrderID": "10889",
                                    "FirstName": "Anne",
                                    "LastName": "Dodsworth"
                                },
                                {
                                    "OrderID": "10893",
                                    "FirstName": "Anne",
                                    "LastName": "Dodsworth"
                                },
                                {
                                    "OrderID": "10905",
                                    "FirstName": "Anne",
                                    "LastName": "Dodsworth"
                                },
                                {
                                    "OrderID": "10942",
                                    "FirstName": "Anne",
                                    "LastName": "Dodsworth"
                                },
                                {
                                    "OrderID": "10951",
                                    "FirstName": "Anne",
                                    "LastName": "Dodsworth"
                                },
                                {
                                    "OrderID": "10953",
                                    "FirstName": "Anne",
                                    "LastName": "Dodsworth"
                                },
                                {
                                    "OrderID": "10963",
                                    "FirstName": "Anne",
                                    "LastName": "Dodsworth"
                                },
                                {
                                    "OrderID": "10970",
                                    "FirstName": "Anne",
                                    "LastName": "Dodsworth"
                                },
                                {
                                    "OrderID": "10978",
                                    "FirstName": "Anne",
                                    "LastName": "Dodsworth"
                                },
                                {
                                    "OrderID": "11016",
                                    "FirstName": "Anne",
                                    "LastName": "Dodsworth"
                                },
                                {
                                    "OrderID": "11017",
                                    "FirstName": "Anne",
                                    "LastName": "Dodsworth"
                                },
                                {
                                    "OrderID": "11022",
                                    "FirstName": "Anne",
                                    "LastName": "Dodsworth"
                                },
                                {
                                    "OrderID": "11058",
                                    "FirstName": "Anne",
                                    "LastName": "Dodsworth"
                                }
                            ]
                        },
                        "text/html": [
                            "<table>",
                            "<tr><th>OrderID</th><th>FirstName</th><th>LastName</th></tr>",
                            "<tr><td>10258</td><td>Nancy</td><td>Davolio</td></tr>",
                            "<tr><td>10270</td><td>Nancy</td><td>Davolio</td></tr>",
                            "<tr><td>10275</td><td>Nancy</td><td>Davolio</td></tr>",
                            "<tr><td>10285</td><td>Nancy</td><td>Davolio</td></tr>",
                            "<tr><td>10292</td><td>Nancy</td><td>Davolio</td></tr>",
                            "<tr><td>10293</td><td>Nancy</td><td>Davolio</td></tr>",
                            "<tr><td>10304</td><td>Nancy</td><td>Davolio</td></tr>",
                            "<tr><td>10306</td><td>Nancy</td><td>Davolio</td></tr>",
                            "<tr><td>10311</td><td>Nancy</td><td>Davolio</td></tr>",
                            "<tr><td>10314</td><td>Nancy</td><td>Davolio</td></tr>",
                            "<tr><td>10316</td><td>Nancy</td><td>Davolio</td></tr>",
                            "<tr><td>10325</td><td>Nancy</td><td>Davolio</td></tr>",
                            "<tr><td>10340</td><td>Nancy</td><td>Davolio</td></tr>",
                            "<tr><td>10351</td><td>Nancy</td><td>Davolio</td></tr>",
                            "<tr><td>10357</td><td>Nancy</td><td>Davolio</td></tr>",
                            "<tr><td>10361</td><td>Nancy</td><td>Davolio</td></tr>",
                            "<tr><td>10364</td><td>Nancy</td><td>Davolio</td></tr>",
                            "<tr><td>10371</td><td>Nancy</td><td>Davolio</td></tr>",
                            "<tr><td>10374</td><td>Nancy</td><td>Davolio</td></tr>",
                            "<tr><td>10376</td><td>Nancy</td><td>Davolio</td></tr>",
                            "<tr><td>10377</td><td>Nancy</td><td>Davolio</td></tr>",
                            "<tr><td>10385</td><td>Nancy</td><td>Davolio</td></tr>",
                            "<tr><td>10387</td><td>Nancy</td><td>Davolio</td></tr>",
                            "<tr><td>10393</td><td>Nancy</td><td>Davolio</td></tr>",
                            "<tr><td>10394</td><td>Nancy</td><td>Davolio</td></tr>",
                            "<tr><td>10396</td><td>Nancy</td><td>Davolio</td></tr>",
                            "<tr><td>10400</td><td>Nancy</td><td>Davolio</td></tr>",
                            "<tr><td>10401</td><td>Nancy</td><td>Davolio</td></tr>",
                            "<tr><td>10405</td><td>Nancy</td><td>Davolio</td></tr>",
                            "<tr><td>10453</td><td>Nancy</td><td>Davolio</td></tr>",
                            "<tr><td>10461</td><td>Nancy</td><td>Davolio</td></tr>",
                            "<tr><td>10465</td><td>Nancy</td><td>Davolio</td></tr>",
                            "<tr><td>10469</td><td>Nancy</td><td>Davolio</td></tr>",
                            "<tr><td>10473</td><td>Nancy</td><td>Davolio</td></tr>",
                            "<tr><td>10482</td><td>Nancy</td><td>Davolio</td></tr>",
                            "<tr><td>10486</td><td>Nancy</td><td>Davolio</td></tr>",
                            "<tr><td>10508</td><td>Nancy</td><td>Davolio</td></tr>",
                            "<tr><td>10524</td><td>Nancy</td><td>Davolio</td></tr>",
                            "<tr><td>10525</td><td>Nancy</td><td>Davolio</td></tr>",
                            "<tr><td>10537</td><td>Nancy</td><td>Davolio</td></tr>",
                            "<tr><td>10542</td><td>Nancy</td><td>Davolio</td></tr>",
                            "<tr><td>10546</td><td>Nancy</td><td>Davolio</td></tr>",
                            "<tr><td>10558</td><td>Nancy</td><td>Davolio</td></tr>",
                            "<tr><td>10562</td><td>Nancy</td><td>Davolio</td></tr>",
                            "<tr><td>10567</td><td>Nancy</td><td>Davolio</td></tr>",
                            "<tr><td>10579</td><td>Nancy</td><td>Davolio</td></tr>",
                            "<tr><td>10587</td><td>Nancy</td><td>Davolio</td></tr>",
                            "<tr><td>10591</td><td>Nancy</td><td>Davolio</td></tr>",
                            "<tr><td>10598</td><td>Nancy</td><td>Davolio</td></tr>",
                            "<tr><td>10604</td><td>Nancy</td><td>Davolio</td></tr>",
                            "<tr><td>10605</td><td>Nancy</td><td>Davolio</td></tr>",
                            "<tr><td>10612</td><td>Nancy</td><td>Davolio</td></tr>",
                            "<tr><td>10616</td><td>Nancy</td><td>Davolio</td></tr>",
                            "<tr><td>10618</td><td>Nancy</td><td>Davolio</td></tr>",
                            "<tr><td>10626</td><td>Nancy</td><td>Davolio</td></tr>",
                            "<tr><td>10630</td><td>Nancy</td><td>Davolio</td></tr>",
                            "<tr><td>10653</td><td>Nancy</td><td>Davolio</td></tr>",
                            "<tr><td>10655</td><td>Nancy</td><td>Davolio</td></tr>",
                            "<tr><td>10664</td><td>Nancy</td><td>Davolio</td></tr>",
                            "<tr><td>10665</td><td>Nancy</td><td>Davolio</td></tr>",
                            "<tr><td>10668</td><td>Nancy</td><td>Davolio</td></tr>",
                            "<tr><td>10671</td><td>Nancy</td><td>Davolio</td></tr>",
                            "<tr><td>10677</td><td>Nancy</td><td>Davolio</td></tr>",
                            "<tr><td>10680</td><td>Nancy</td><td>Davolio</td></tr>",
                            "<tr><td>10689</td><td>Nancy</td><td>Davolio</td></tr>",
                            "<tr><td>10690</td><td>Nancy</td><td>Davolio</td></tr>",
                            "<tr><td>10709</td><td>Nancy</td><td>Davolio</td></tr>",
                            "<tr><td>10710</td><td>Nancy</td><td>Davolio</td></tr>",
                            "<tr><td>10713</td><td>Nancy</td><td>Davolio</td></tr>",
                            "<tr><td>10717</td><td>Nancy</td><td>Davolio</td></tr>",
                            "<tr><td>10718</td><td>Nancy</td><td>Davolio</td></tr>",
                            "<tr><td>10733</td><td>Nancy</td><td>Davolio</td></tr>",
                            "<tr><td>10743</td><td>Nancy</td><td>Davolio</td></tr>",
                            "<tr><td>10746</td><td>Nancy</td><td>Davolio</td></tr>",
                            "<tr><td>10773</td><td>Nancy</td><td>Davolio</td></tr>",
                            "<tr><td>10776</td><td>Nancy</td><td>Davolio</td></tr>",
                            "<tr><td>10785</td><td>Nancy</td><td>Davolio</td></tr>",
                            "<tr><td>10788</td><td>Nancy</td><td>Davolio</td></tr>",
                            "<tr><td>10789</td><td>Nancy</td><td>Davolio</td></tr>",
                            "<tr><td>10792</td><td>Nancy</td><td>Davolio</td></tr>",
                            "<tr><td>10800</td><td>Nancy</td><td>Davolio</td></tr>",
                            "<tr><td>10813</td><td>Nancy</td><td>Davolio</td></tr>",
                            "<tr><td>10821</td><td>Nancy</td><td>Davolio</td></tr>",
                            "<tr><td>10825</td><td>Nancy</td><td>Davolio</td></tr>",
                            "<tr><td>10827</td><td>Nancy</td><td>Davolio</td></tr>",
                            "<tr><td>10834</td><td>Nancy</td><td>Davolio</td></tr>",
                            "<tr><td>10835</td><td>Nancy</td><td>Davolio</td></tr>",
                            "<tr><td>10842</td><td>Nancy</td><td>Davolio</td></tr>",
                            "<tr><td>10850</td><td>Nancy</td><td>Davolio</td></tr>",
                            "<tr><td>10859</td><td>Nancy</td><td>Davolio</td></tr>",
                            "<tr><td>10877</td><td>Nancy</td><td>Davolio</td></tr>",
                            "<tr><td>10886</td><td>Nancy</td><td>Davolio</td></tr>",
                            "<tr><td>10888</td><td>Nancy</td><td>Davolio</td></tr>",
                            "<tr><td>10894</td><td>Nancy</td><td>Davolio</td></tr>",
                            "<tr><td>10900</td><td>Nancy</td><td>Davolio</td></tr>",
                            "<tr><td>10902</td><td>Nancy</td><td>Davolio</td></tr>",
                            "<tr><td>10909</td><td>Nancy</td><td>Davolio</td></tr>",
                            "<tr><td>10910</td><td>Nancy</td><td>Davolio</td></tr>",
                            "<tr><td>10916</td><td>Nancy</td><td>Davolio</td></tr>",
                            "<tr><td>10921</td><td>Nancy</td><td>Davolio</td></tr>",
                            "<tr><td>10928</td><td>Nancy</td><td>Davolio</td></tr>",
                            "<tr><td>10946</td><td>Nancy</td><td>Davolio</td></tr>",
                            "<tr><td>10950</td><td>Nancy</td><td>Davolio</td></tr>",
                            "<tr><td>10952</td><td>Nancy</td><td>Davolio</td></tr>",
                            "<tr><td>10968</td><td>Nancy</td><td>Davolio</td></tr>",
                            "<tr><td>10969</td><td>Nancy</td><td>Davolio</td></tr>",
                            "<tr><td>10975</td><td>Nancy</td><td>Davolio</td></tr>",
                            "<tr><td>10976</td><td>Nancy</td><td>Davolio</td></tr>",
                            "<tr><td>10981</td><td>Nancy</td><td>Davolio</td></tr>",
                            "<tr><td>10984</td><td>Nancy</td><td>Davolio</td></tr>",
                            "<tr><td>10991</td><td>Nancy</td><td>Davolio</td></tr>",
                            "<tr><td>10992</td><td>Nancy</td><td>Davolio</td></tr>",
                            "<tr><td>10995</td><td>Nancy</td><td>Davolio</td></tr>",
                            "<tr><td>11012</td><td>Nancy</td><td>Davolio</td></tr>",
                            "<tr><td>11023</td><td>Nancy</td><td>Davolio</td></tr>",
                            "<tr><td>11027</td><td>Nancy</td><td>Davolio</td></tr>",
                            "<tr><td>11038</td><td>Nancy</td><td>Davolio</td></tr>",
                            "<tr><td>11039</td><td>Nancy</td><td>Davolio</td></tr>",
                            "<tr><td>11064</td><td>Nancy</td><td>Davolio</td></tr>",
                            "<tr><td>11067</td><td>Nancy</td><td>Davolio</td></tr>",
                            "<tr><td>11069</td><td>Nancy</td><td>Davolio</td></tr>",
                            "<tr><td>11071</td><td>Nancy</td><td>Davolio</td></tr>",
                            "<tr><td>11077</td><td>Nancy</td><td>Davolio</td></tr>",
                            "<tr><td>10265</td><td>Andrew</td><td>Fuller</td></tr>",
                            "<tr><td>10277</td><td>Andrew</td><td>Fuller</td></tr>",
                            "<tr><td>10280</td><td>Andrew</td><td>Fuller</td></tr>",
                            "<tr><td>10295</td><td>Andrew</td><td>Fuller</td></tr>",
                            "<tr><td>10300</td><td>Andrew</td><td>Fuller</td></tr>",
                            "<tr><td>10307</td><td>Andrew</td><td>Fuller</td></tr>",
                            "<tr><td>10312</td><td>Andrew</td><td>Fuller</td></tr>",
                            "<tr><td>10313</td><td>Andrew</td><td>Fuller</td></tr>",
                            "<tr><td>10327</td><td>Andrew</td><td>Fuller</td></tr>",
                            "<tr><td>10339</td><td>Andrew</td><td>Fuller</td></tr>",
                            "<tr><td>10345</td><td>Andrew</td><td>Fuller</td></tr>",
                            "<tr><td>10368</td><td>Andrew</td><td>Fuller</td></tr>",
                            "<tr><td>10379</td><td>Andrew</td><td>Fuller</td></tr>",
                            "<tr><td>10388</td><td>Andrew</td><td>Fuller</td></tr>",
                            "<tr><td>10392</td><td>Andrew</td><td>Fuller</td></tr>",
                            "<tr><td>10398</td><td>Andrew</td><td>Fuller</td></tr>",
                            "<tr><td>10404</td><td>Andrew</td><td>Fuller</td></tr>",
                            "<tr><td>10407</td><td>Andrew</td><td>Fuller</td></tr>",
                            "<tr><td>10414</td><td>Andrew</td><td>Fuller</td></tr>",
                            "<tr><td>10422</td><td>Andrew</td><td>Fuller</td></tr>",
                            "<tr><td>10457</td><td>Andrew</td><td>Fuller</td></tr>",
                            "<tr><td>10462</td><td>Andrew</td><td>Fuller</td></tr>",
                            "<tr><td>10471</td><td>Andrew</td><td>Fuller</td></tr>",
                            "<tr><td>10478</td><td>Andrew</td><td>Fuller</td></tr>",
                            "<tr><td>10487</td><td>Andrew</td><td>Fuller</td></tr>",
                            "<tr><td>10502</td><td>Andrew</td><td>Fuller</td></tr>",
                            "<tr><td>10515</td><td>Andrew</td><td>Fuller</td></tr>",
                            "<tr><td>10516</td><td>Andrew</td><td>Fuller</td></tr>",
                            "<tr><td>10541</td><td>Andrew</td><td>Fuller</td></tr>",
                            "<tr><td>10552</td><td>Andrew</td><td>Fuller</td></tr>",
                            "<tr><td>10553</td><td>Andrew</td><td>Fuller</td></tr>",
                            "<tr><td>10556</td><td>Andrew</td><td>Fuller</td></tr>",
                            "<tr><td>10561</td><td>Andrew</td><td>Fuller</td></tr>",
                            "<tr><td>10563</td><td>Andrew</td><td>Fuller</td></tr>",
                            "<tr><td>10583</td><td>Andrew</td><td>Fuller</td></tr>",
                            "<tr><td>10588</td><td>Andrew</td><td>Fuller</td></tr>",
                            "<tr><td>10595</td><td>Andrew</td><td>Fuller</td></tr>",
                            "<tr><td>10615</td><td>Andrew</td><td>Fuller</td></tr>",
                            "<tr><td>10620</td><td>Andrew</td><td>Fuller</td></tr>",
                            "<tr><td>10657</td><td>Andrew</td><td>Fuller</td></tr>",
                            "<tr><td>10663</td><td>Andrew</td><td>Fuller</td></tr>",
                            "<tr><td>10669</td><td>Andrew</td><td>Fuller</td></tr>",
                            "<tr><td>10673</td><td>Andrew</td><td>Fuller</td></tr>",
                            "<tr><td>10676</td><td>Andrew</td><td>Fuller</td></tr>",
                            "<tr><td>10683</td><td>Andrew</td><td>Fuller</td></tr>",
                            "<tr><td>10686</td><td>Andrew</td><td>Fuller</td></tr>",
                            "<tr><td>10691</td><td>Andrew</td><td>Fuller</td></tr>",
                            "<tr><td>10727</td><td>Andrew</td><td>Fuller</td></tr>",
                            "<tr><td>10734</td><td>Andrew</td><td>Fuller</td></tr>",
                            "<tr><td>10737</td><td>Andrew</td><td>Fuller</td></tr>",
                            "<tr><td>10738</td><td>Andrew</td><td>Fuller</td></tr>",
                            "<tr><td>10752</td><td>Andrew</td><td>Fuller</td></tr>",
                            "<tr><td>10780</td><td>Andrew</td><td>Fuller</td></tr>",
                            "<tr><td>10781</td><td>Andrew</td><td>Fuller</td></tr>",
                            "<tr><td>10787</td><td>Andrew</td><td>Fuller</td></tr>",
                            "<tr><td>10798</td><td>Andrew</td><td>Fuller</td></tr>",
                            "<tr><td>10805</td><td>Andrew</td><td>Fuller</td></tr>",
                            "<tr><td>10808</td><td>Andrew</td><td>Fuller</td></tr>",
                            "<tr><td>10810</td><td>Andrew</td><td>Fuller</td></tr>",
                            "<tr><td>10815</td><td>Andrew</td><td>Fuller</td></tr>",
                            "<tr><td>10819</td><td>Andrew</td><td>Fuller</td></tr>",
                            "<tr><td>10832</td><td>Andrew</td><td>Fuller</td></tr>",
                            "<tr><td>10846</td><td>Andrew</td><td>Fuller</td></tr>",
                            "<tr><td>10858</td><td>Andrew</td><td>Fuller</td></tr>",
                            "<tr><td>10865</td><td>Andrew</td><td>Fuller</td></tr>",
                            "<tr><td>10912</td><td>Andrew</td><td>Fuller</td></tr>",
                            "<tr><td>10915</td><td>Andrew</td><td>Fuller</td></tr>",
                            "<tr><td>10919</td><td>Andrew</td><td>Fuller</td></tr>",
                            "<tr><td>10939</td><td>Andrew</td><td>Fuller</td></tr>",
                            "<tr><td>10949</td><td>Andrew</td><td>Fuller</td></tr>",
                            "<tr><td>10967</td><td>Andrew</td><td>Fuller</td></tr>",
                            "<tr><td>10971</td><td>Andrew</td><td>Fuller</td></tr>",
                            "<tr><td>10982</td><td>Andrew</td><td>Fuller</td></tr>",
                            "<tr><td>10983</td><td>Andrew</td><td>Fuller</td></tr>",
                            "<tr><td>10985</td><td>Andrew</td><td>Fuller</td></tr>",
                            "<tr><td>10989</td><td>Andrew</td><td>Fuller</td></tr>",
                            "<tr><td>10990</td><td>Andrew</td><td>Fuller</td></tr>",
                            "<tr><td>10994</td><td>Andrew</td><td>Fuller</td></tr>",
                            "<tr><td>11000</td><td>Andrew</td><td>Fuller</td></tr>",
                            "<tr><td>11001</td><td>Andrew</td><td>Fuller</td></tr>",
                            "<tr><td>11005</td><td>Andrew</td><td>Fuller</td></tr>",
                            "<tr><td>11009</td><td>Andrew</td><td>Fuller</td></tr>",
                            "<tr><td>11010</td><td>Andrew</td><td>Fuller</td></tr>",
                            "<tr><td>11013</td><td>Andrew</td><td>Fuller</td></tr>",
                            "<tr><td>11014</td><td>Andrew</td><td>Fuller</td></tr>",
                            "<tr><td>11015</td><td>Andrew</td><td>Fuller</td></tr>",
                            "<tr><td>11020</td><td>Andrew</td><td>Fuller</td></tr>",
                            "<tr><td>11028</td><td>Andrew</td><td>Fuller</td></tr>",
                            "<tr><td>11032</td><td>Andrew</td><td>Fuller</td></tr>",
                            "<tr><td>11035</td><td>Andrew</td><td>Fuller</td></tr>",
                            "<tr><td>11042</td><td>Andrew</td><td>Fuller</td></tr>",
                            "<tr><td>11053</td><td>Andrew</td><td>Fuller</td></tr>",
                            "<tr><td>11059</td><td>Andrew</td><td>Fuller</td></tr>",
                            "<tr><td>11060</td><td>Andrew</td><td>Fuller</td></tr>",
                            "<tr><td>11070</td><td>Andrew</td><td>Fuller</td></tr>",
                            "<tr><td>11073</td><td>Andrew</td><td>Fuller</td></tr>",
                            "<tr><td>10251</td><td>Janet</td><td>Leverling</td></tr>",
                            "<tr><td>10253</td><td>Janet</td><td>Leverling</td></tr>",
                            "<tr><td>10256</td><td>Janet</td><td>Leverling</td></tr>",
                            "<tr><td>10266</td><td>Janet</td><td>Leverling</td></tr>",
                            "<tr><td>10273</td><td>Janet</td><td>Leverling</td></tr>",
                            "<tr><td>10283</td><td>Janet</td><td>Leverling</td></tr>",
                            "<tr><td>10309</td><td>Janet</td><td>Leverling</td></tr>",
                            "<tr><td>10321</td><td>Janet</td><td>Leverling</td></tr>",
                            "<tr><td>10330</td><td>Janet</td><td>Leverling</td></tr>",
                            "<tr><td>10332</td><td>Janet</td><td>Leverling</td></tr>",
                            "<tr><td>10346</td><td>Janet</td><td>Leverling</td></tr>",
                            "<tr><td>10352</td><td>Janet</td><td>Leverling</td></tr>",
                            "<tr><td>10362</td><td>Janet</td><td>Leverling</td></tr>",
                            "<tr><td>10365</td><td>Janet</td><td>Leverling</td></tr>",
                            "<tr><td>10375</td><td>Janet</td><td>Leverling</td></tr>",
                            "<tr><td>10381</td><td>Janet</td><td>Leverling</td></tr>",
                            "<tr><td>10384</td><td>Janet</td><td>Leverling</td></tr>",
                            "<tr><td>10391</td><td>Janet</td><td>Leverling</td></tr>",
                            "<tr><td>10409</td><td>Janet</td><td>Leverling</td></tr>",
                            "<tr><td>10410</td><td>Janet</td><td>Leverling</td></tr>",
                            "<tr><td>10413</td><td>Janet</td><td>Leverling</td></tr>",
                            "<tr><td>10415</td><td>Janet</td><td>Leverling</td></tr>",
                            "<tr><td>10420</td><td>Janet</td><td>Leverling</td></tr>",
                            "<tr><td>10429</td><td>Janet</td><td>Leverling</td></tr>",
                            "<tr><td>10432</td><td>Janet</td><td>Leverling</td></tr>",
                            "<tr><td>10433</td><td>Janet</td><td>Leverling</td></tr>",
                            "<tr><td>10434</td><td>Janet</td><td>Leverling</td></tr>",
                            "<tr><td>10436</td><td>Janet</td><td>Leverling</td></tr>",
                            "<tr><td>10438</td><td>Janet</td><td>Leverling</td></tr>",
                            "<tr><td>10441</td><td>Janet</td><td>Leverling</td></tr>",
                            "<tr><td>10442</td><td>Janet</td><td>Leverling</td></tr>",
                            "<tr><td>10444</td><td>Janet</td><td>Leverling</td></tr>",
                            "<tr><td>10445</td><td>Janet</td><td>Leverling</td></tr>",
                            "<tr><td>10449</td><td>Janet</td><td>Leverling</td></tr>",
                            "<tr><td>10468</td><td>Janet</td><td>Leverling</td></tr>",
                            "<tr><td>10479</td><td>Janet</td><td>Leverling</td></tr>",
                            "<tr><td>10484</td><td>Janet</td><td>Leverling</td></tr>",
                            "<tr><td>10492</td><td>Janet</td><td>Leverling</td></tr>",
                            "<tr><td>10495</td><td>Janet</td><td>Leverling</td></tr>",
                            "<tr><td>10505</td><td>Janet</td><td>Leverling</td></tr>",
                            "<tr><td>10514</td><td>Janet</td><td>Leverling</td></tr>",
                            "<tr><td>10517</td><td>Janet</td><td>Leverling</td></tr>",
                            "<tr><td>10530</td><td>Janet</td><td>Leverling</td></tr>",
                            "<tr><td>10536</td><td>Janet</td><td>Leverling</td></tr>",
                            "<tr><td>10540</td><td>Janet</td><td>Leverling</td></tr>",
                            "<tr><td>10547</td><td>Janet</td><td>Leverling</td></tr>",
                            "<tr><td>10548</td><td>Janet</td><td>Leverling</td></tr>",
                            "<tr><td>10568</td><td>Janet</td><td>Leverling</td></tr>",
                            "<tr><td>10570</td><td>Janet</td><td>Leverling</td></tr>",
                            "<tr><td>10572</td><td>Janet</td><td>Leverling</td></tr>",
                            "<tr><td>10576</td><td>Janet</td><td>Leverling</td></tr>",
                            "<tr><td>10581</td><td>Janet</td><td>Leverling</td></tr>",
                            "<tr><td>10582</td><td>Janet</td><td>Leverling</td></tr>",
                            "<tr><td>10592</td><td>Janet</td><td>Leverling</td></tr>",
                            "<tr><td>10594</td><td>Janet</td><td>Leverling</td></tr>",
                            "<tr><td>10619</td><td>Janet</td><td>Leverling</td></tr>",
                            "<tr><td>10625</td><td>Janet</td><td>Leverling</td></tr>",
                            "<tr><td>10638</td><td>Janet</td><td>Leverling</td></tr>",
                            "<tr><td>10644</td><td>Janet</td><td>Leverling</td></tr>",
                            "<tr><td>10662</td><td>Janet</td><td>Leverling</td></tr>",
                            "<tr><td>10681</td><td>Janet</td><td>Leverling</td></tr>",
                            "<tr><td>10682</td><td>Janet</td><td>Leverling</td></tr>",
                            "<tr><td>10684</td><td>Janet</td><td>Leverling</td></tr>",
                            "<tr><td>10693</td><td>Janet</td><td>Leverling</td></tr>",
                            "<tr><td>10697</td><td>Janet</td><td>Leverling</td></tr>",
                            "<tr><td>10699</td><td>Janet</td><td>Leverling</td></tr>",
                            "<tr><td>10700</td><td>Janet</td><td>Leverling</td></tr>",
                            "<tr><td>10712</td><td>Janet</td><td>Leverling</td></tr>",
                            "<tr><td>10715</td><td>Janet</td><td>Leverling</td></tr>",
                            "<tr><td>10723</td><td>Janet</td><td>Leverling</td></tr>",
                            "<tr><td>10732</td><td>Janet</td><td>Leverling</td></tr>",
                            "<tr><td>10739</td><td>Janet</td><td>Leverling</td></tr>",
                            "<tr><td>10742</td><td>Janet</td><td>Leverling</td></tr>",
                            "<tr><td>10748</td><td>Janet</td><td>Leverling</td></tr>",
                            "<tr><td>10751</td><td>Janet</td><td>Leverling</td></tr>",
                            "<tr><td>10753</td><td>Janet</td><td>Leverling</td></tr>",
                            "<tr><td>10758</td><td>Janet</td><td>Leverling</td></tr>",
                            "<tr><td>10759</td><td>Janet</td><td>Leverling</td></tr>",
                            "<tr><td>10762</td><td>Janet</td><td>Leverling</td></tr>",
                            "<tr><td>10763</td><td>Janet</td><td>Leverling</td></tr>",
                            "<tr><td>10765</td><td>Janet</td><td>Leverling</td></tr>",
                            "<tr><td>10768</td><td>Janet</td><td>Leverling</td></tr>",
                            "<tr><td>10769</td><td>Janet</td><td>Leverling</td></tr>",
                            "<tr><td>10772</td><td>Janet</td><td>Leverling</td></tr>",
                            "<tr><td>10778</td><td>Janet</td><td>Leverling</td></tr>",
                            "<tr><td>10779</td><td>Janet</td><td>Leverling</td></tr>",
                            "<tr><td>10793</td><td>Janet</td><td>Leverling</td></tr>",
                            "<tr><td>10796</td><td>Janet</td><td>Leverling</td></tr>",
                            "<tr><td>10806</td><td>Janet</td><td>Leverling</td></tr>",
                            "<tr><td>10814</td><td>Janet</td><td>Leverling</td></tr>",
                            "<tr><td>10817</td><td>Janet</td><td>Leverling</td></tr>",
                            "<tr><td>10820</td><td>Janet</td><td>Leverling</td></tr>",
                            "<tr><td>10831</td><td>Janet</td><td>Leverling</td></tr>",
                            "<tr><td>10838</td><td>Janet</td><td>Leverling</td></tr>",
                            "<tr><td>10839</td><td>Janet</td><td>Leverling</td></tr>",
                            "<tr><td>10854</td><td>Janet</td><td>Leverling</td></tr>",
                            "<tr><td>10855</td><td>Janet</td><td>Leverling</td></tr>",
                            "<tr><td>10856</td><td>Janet</td><td>Leverling</td></tr>",
                            "<tr><td>10860</td><td>Janet</td><td>Leverling</td></tr>",
                            "<tr><td>10879</td><td>Janet</td><td>Leverling</td></tr>",
                            "<tr><td>10895</td><td>Janet</td><td>Leverling</td></tr>",
                            "<tr><td>10897</td><td>Janet</td><td>Leverling</td></tr>",
                            "<tr><td>10903</td><td>Janet</td><td>Leverling</td></tr>",
                            "<tr><td>10904</td><td>Janet</td><td>Leverling</td></tr>",
                            "<tr><td>10911</td><td>Janet</td><td>Leverling</td></tr>",
                            "<tr><td>10918</td><td>Janet</td><td>Leverling</td></tr>",
                            "<tr><td>10924</td><td>Janet</td><td>Leverling</td></tr>",
                            "<tr><td>10925</td><td>Janet</td><td>Leverling</td></tr>",
                            "<tr><td>10934</td><td>Janet</td><td>Leverling</td></tr>",
                            "<tr><td>10936</td><td>Janet</td><td>Leverling</td></tr>",
                            "<tr><td>10938</td><td>Janet</td><td>Leverling</td></tr>",
                            "<tr><td>10947</td><td>Janet</td><td>Leverling</td></tr>",
                            "<tr><td>10948</td><td>Janet</td><td>Leverling</td></tr>",
                            "<tr><td>10960</td><td>Janet</td><td>Leverling</td></tr>",
                            "<tr><td>10964</td><td>Janet</td><td>Leverling</td></tr>",
                            "<tr><td>10974</td><td>Janet</td><td>Leverling</td></tr>",
                            "<tr><td>10988</td><td>Janet</td><td>Leverling</td></tr>",
                            "<tr><td>11003</td><td>Janet</td><td>Leverling</td></tr>",
                            "<tr><td>11004</td><td>Janet</td><td>Leverling</td></tr>",
                            "<tr><td>11006</td><td>Janet</td><td>Leverling</td></tr>",
                            "<tr><td>11011</td><td>Janet</td><td>Leverling</td></tr>",
                            "<tr><td>11021</td><td>Janet</td><td>Leverling</td></tr>",
                            "<tr><td>11041</td><td>Janet</td><td>Leverling</td></tr>",
                            "<tr><td>11049</td><td>Janet</td><td>Leverling</td></tr>",
                            "<tr><td>11052</td><td>Janet</td><td>Leverling</td></tr>",
                            "<tr><td>11057</td><td>Janet</td><td>Leverling</td></tr>",
                            "<tr><td>11063</td><td>Janet</td><td>Leverling</td></tr>",
                            "<tr><td>10250</td><td>Margaret</td><td>Peacock</td></tr>",
                            "<tr><td>10252</td><td>Margaret</td><td>Peacock</td></tr>",
                            "<tr><td>10257</td><td>Margaret</td><td>Peacock</td></tr>",
                            "<tr><td>10259</td><td>Margaret</td><td>Peacock</td></tr>",
                            "<tr><td>10260</td><td>Margaret</td><td>Peacock</td></tr>",
                            "<tr><td>10261</td><td>Margaret</td><td>Peacock</td></tr>",
                            "<tr><td>10267</td><td>Margaret</td><td>Peacock</td></tr>",
                            "<tr><td>10281</td><td>Margaret</td><td>Peacock</td></tr>",
                            "<tr><td>10282</td><td>Margaret</td><td>Peacock</td></tr>",
                            "<tr><td>10284</td><td>Margaret</td><td>Peacock</td></tr>",
                            "<tr><td>10288</td><td>Margaret</td><td>Peacock</td></tr>",
                            "<tr><td>10294</td><td>Margaret</td><td>Peacock</td></tr>",
                            "<tr><td>10299</td><td>Margaret</td><td>Peacock</td></tr>",
                            "<tr><td>10302</td><td>Margaret</td><td>Peacock</td></tr>",
                            "<tr><td>10315</td><td>Margaret</td><td>Peacock</td></tr>",
                            "<tr><td>10323</td><td>Margaret</td><td>Peacock</td></tr>",
                            "<tr><td>10326</td><td>Margaret</td><td>Peacock</td></tr>",
                            "<tr><td>10328</td><td>Margaret</td><td>Peacock</td></tr>",
                            "<tr><td>10329</td><td>Margaret</td><td>Peacock</td></tr>",
                            "<tr><td>10337</td><td>Margaret</td><td>Peacock</td></tr>",
                            "<tr><td>10338</td><td>Margaret</td><td>Peacock</td></tr>",
                            "<tr><td>10342</td><td>Margaret</td><td>Peacock</td></tr>",
                            "<tr><td>10343</td><td>Margaret</td><td>Peacock</td></tr>",
                            "<tr><td>10344</td><td>Margaret</td><td>Peacock</td></tr>",
                            "<tr><td>10347</td><td>Margaret</td><td>Peacock</td></tr>",
                            "<tr><td>10348</td><td>Margaret</td><td>Peacock</td></tr>",
                            "<tr><td>10360</td><td>Margaret</td><td>Peacock</td></tr>",
                            "<tr><td>10363</td><td>Margaret</td><td>Peacock</td></tr>",
                            "<tr><td>10373</td><td>Margaret</td><td>Peacock</td></tr>",
                            "<tr><td>10382</td><td>Margaret</td><td>Peacock</td></tr>",
                            "<tr><td>10389</td><td>Margaret</td><td>Peacock</td></tr>",
                            "<tr><td>10403</td><td>Margaret</td><td>Peacock</td></tr>",
                            "<tr><td>10417</td><td>Margaret</td><td>Peacock</td></tr>",
                            "<tr><td>10418</td><td>Margaret</td><td>Peacock</td></tr>",
                            "<tr><td>10419</td><td>Margaret</td><td>Peacock</td></tr>",
                            "<tr><td>10426</td><td>Margaret</td><td>Peacock</td></tr>",
                            "<tr><td>10427</td><td>Margaret</td><td>Peacock</td></tr>",
                            "<tr><td>10430</td><td>Margaret</td><td>Peacock</td></tr>",
                            "<tr><td>10431</td><td>Margaret</td><td>Peacock</td></tr>",
                            "<tr><td>10440</td><td>Margaret</td><td>Peacock</td></tr>",
                            "<tr><td>10447</td><td>Margaret</td><td>Peacock</td></tr>",
                            "<tr><td>10448</td><td>Margaret</td><td>Peacock</td></tr>",
                            "<tr><td>10451</td><td>Margaret</td><td>Peacock</td></tr>",
                            "<tr><td>10454</td><td>Margaret</td><td>Peacock</td></tr>",
                            "<tr><td>10459</td><td>Margaret</td><td>Peacock</td></tr>",
                            "<tr><td>10464</td><td>Margaret</td><td>Peacock</td></tr>",
                            "<tr><td>10466</td><td>Margaret</td><td>Peacock</td></tr>",
                            "<tr><td>10470</td><td>Margaret</td><td>Peacock</td></tr>",
                            "<tr><td>10485</td><td>Margaret</td><td>Peacock</td></tr>",
                            "<tr><td>10493</td><td>Margaret</td><td>Peacock</td></tr>",
                            "<tr><td>10494</td><td>Margaret</td><td>Peacock</td></tr>",
                            "<tr><td>10499</td><td>Margaret</td><td>Peacock</td></tr>",
                            "<tr><td>10504</td><td>Margaret</td><td>Peacock</td></tr>",
                            "<tr><td>10509</td><td>Margaret</td><td>Peacock</td></tr>",
                            "<tr><td>10511</td><td>Margaret</td><td>Peacock</td></tr>",
                            "<tr><td>10518</td><td>Margaret</td><td>Peacock</td></tr>",
                            "<tr><td>10522</td><td>Margaret</td><td>Peacock</td></tr>",
                            "<tr><td>10526</td><td>Margaret</td><td>Peacock</td></tr>",
                            "<tr><td>10535</td><td>Margaret</td><td>Peacock</td></tr>",
                            "<tr><td>10544</td><td>Margaret</td><td>Peacock</td></tr>",
                            "<tr><td>10551</td><td>Margaret</td><td>Peacock</td></tr>",
                            "<tr><td>10554</td><td>Margaret</td><td>Peacock</td></tr>",
                            "<tr><td>10564</td><td>Margaret</td><td>Peacock</td></tr>",
                            "<tr><td>10574</td><td>Margaret</td><td>Peacock</td></tr>",
                            "<tr><td>10578</td><td>Margaret</td><td>Peacock</td></tr>",
                            "<tr><td>10580</td><td>Margaret</td><td>Peacock</td></tr>",
                            "<tr><td>10584</td><td>Margaret</td><td>Peacock</td></tr>",
                            "<tr><td>10590</td><td>Margaret</td><td>Peacock</td></tr>",
                            "<tr><td>10600</td><td>Margaret</td><td>Peacock</td></tr>",
                            "<tr><td>10606</td><td>Margaret</td><td>Peacock</td></tr>",
                            "<tr><td>10608</td><td>Margaret</td><td>Peacock</td></tr>",
                            "<tr><td>10613</td><td>Margaret</td><td>Peacock</td></tr>",
                            "<tr><td>10617</td><td>Margaret</td><td>Peacock</td></tr>",
                            "<tr><td>10621</td><td>Margaret</td><td>Peacock</td></tr>",
                            "<tr><td>10622</td><td>Margaret</td><td>Peacock</td></tr>",
                            "<tr><td>10624</td><td>Margaret</td><td>Peacock</td></tr>",
                            "<tr><td>10628</td><td>Margaret</td><td>Peacock</td></tr>",
                            "<tr><td>10629</td><td>Margaret</td><td>Peacock</td></tr>",
                            "<tr><td>10634</td><td>Margaret</td><td>Peacock</td></tr>",
                            "<tr><td>10636</td><td>Margaret</td><td>Peacock</td></tr>",
                            "<tr><td>10640</td><td>Margaret</td><td>Peacock</td></tr>",
                            "<tr><td>10641</td><td>Margaret</td><td>Peacock</td></tr>",
                            "<tr><td>10645</td><td>Margaret</td><td>Peacock</td></tr>",
                            "<tr><td>10647</td><td>Margaret</td><td>Peacock</td></tr>",
                            "<tr><td>10652</td><td>Margaret</td><td>Peacock</td></tr>",
                            "<tr><td>10658</td><td>Margaret</td><td>Peacock</td></tr>",
                            "<tr><td>10670</td><td>Margaret</td><td>Peacock</td></tr>",
                            "<tr><td>10674</td><td>Margaret</td><td>Peacock</td></tr>",
                            "<tr><td>10685</td><td>Margaret</td><td>Peacock</td></tr>",
                            "<tr><td>10688</td><td>Margaret</td><td>Peacock</td></tr>",
                            "<tr><td>10692</td><td>Margaret</td><td>Peacock</td></tr>",
                            "<tr><td>10698</td><td>Margaret</td><td>Peacock</td></tr>",
                            "<tr><td>10702</td><td>Margaret</td><td>Peacock</td></tr>",
                            "<tr><td>10707</td><td>Margaret</td><td>Peacock</td></tr>",
                            "<tr><td>10716</td><td>Margaret</td><td>Peacock</td></tr>",
                            "<tr><td>10725</td><td>Margaret</td><td>Peacock</td></tr>",
                            "<tr><td>10726</td><td>Margaret</td><td>Peacock</td></tr>",
                            "<tr><td>10728</td><td>Margaret</td><td>Peacock</td></tr>",
                            "<tr><td>10740</td><td>Margaret</td><td>Peacock</td></tr>",
                            "<tr><td>10741</td><td>Margaret</td><td>Peacock</td></tr>",
                            "<tr><td>10749</td><td>Margaret</td><td>Peacock</td></tr>",
                            "<tr><td>10755</td><td>Margaret</td><td>Peacock</td></tr>",
                            "<tr><td>10760</td><td>Margaret</td><td>Peacock</td></tr>",
                            "<tr><td>10766</td><td>Margaret</td><td>Peacock</td></tr>",
                            "<tr><td>10767</td><td>Margaret</td><td>Peacock</td></tr>",
                            "<tr><td>10774</td><td>Margaret</td><td>Peacock</td></tr>",
                            "<tr><td>10783</td><td>Margaret</td><td>Peacock</td></tr>",
                            "<tr><td>10784</td><td>Margaret</td><td>Peacock</td></tr>",
                            "<tr><td>10801</td><td>Margaret</td><td>Peacock</td></tr>",
                            "<tr><td>10802</td><td>Margaret</td><td>Peacock</td></tr>",
                            "<tr><td>10803</td><td>Margaret</td><td>Peacock</td></tr>",
                            "<tr><td>10807</td><td>Margaret</td><td>Peacock</td></tr>",
                            "<tr><td>10816</td><td>Margaret</td><td>Peacock</td></tr>",
                            "<tr><td>10830</td><td>Margaret</td><td>Peacock</td></tr>",
                            "<tr><td>10840</td><td>Margaret</td><td>Peacock</td></tr>",
                            "<tr><td>10843</td><td>Margaret</td><td>Peacock</td></tr>",
                            "<tr><td>10847</td><td>Margaret</td><td>Peacock</td></tr>",
                            "<tr><td>10861</td><td>Margaret</td><td>Peacock</td></tr>",
                            "<tr><td>10863</td><td>Margaret</td><td>Peacock</td></tr>",
                            "<tr><td>10864</td><td>Margaret</td><td>Peacock</td></tr>",
                            "<tr><td>10873</td><td>Margaret</td><td>Peacock</td></tr>",
                            "<tr><td>10875</td><td>Margaret</td><td>Peacock</td></tr>",
                            "<tr><td>10878</td><td>Margaret</td><td>Peacock</td></tr>",
                            "<tr><td>10881</td><td>Margaret</td><td>Peacock</td></tr>",
                            "<tr><td>10882</td><td>Margaret</td><td>Peacock</td></tr>",
                            "<tr><td>10884</td><td>Margaret</td><td>Peacock</td></tr>",
                            "<tr><td>10892</td><td>Margaret</td><td>Peacock</td></tr>",
                            "<tr><td>10898</td><td>Margaret</td><td>Peacock</td></tr>",
                            "<tr><td>10901</td><td>Margaret</td><td>Peacock</td></tr>",
                            "<tr><td>10906</td><td>Margaret</td><td>Peacock</td></tr>",
                            "<tr><td>10908</td><td>Margaret</td><td>Peacock</td></tr>",
                            "<tr><td>10913</td><td>Margaret</td><td>Peacock</td></tr>",
                            "<tr><td>10917</td><td>Margaret</td><td>Peacock</td></tr>",
                            "<tr><td>10920</td><td>Margaret</td><td>Peacock</td></tr>",
                            "<tr><td>10926</td><td>Margaret</td><td>Peacock</td></tr>",
                            "<tr><td>10927</td><td>Margaret</td><td>Peacock</td></tr>",
                            "<tr><td>10930</td><td>Margaret</td><td>Peacock</td></tr>",
                            "<tr><td>10931</td><td>Margaret</td><td>Peacock</td></tr>",
                            "<tr><td>10935</td><td>Margaret</td><td>Peacock</td></tr>",
                            "<tr><td>10943</td><td>Margaret</td><td>Peacock</td></tr>",
                            "<tr><td>10945</td><td>Margaret</td><td>Peacock</td></tr>",
                            "<tr><td>10966</td><td>Margaret</td><td>Peacock</td></tr>",
                            "<tr><td>10972</td><td>Margaret</td><td>Peacock</td></tr>",
                            "<tr><td>10980</td><td>Margaret</td><td>Peacock</td></tr>",
                            "<tr><td>10996</td><td>Margaret</td><td>Peacock</td></tr>",
                            "<tr><td>11002</td><td>Margaret</td><td>Peacock</td></tr>",
                            "<tr><td>11018</td><td>Margaret</td><td>Peacock</td></tr>",
                            "<tr><td>11024</td><td>Margaret</td><td>Peacock</td></tr>",
                            "<tr><td>11026</td><td>Margaret</td><td>Peacock</td></tr>",
                            "<tr><td>11029</td><td>Margaret</td><td>Peacock</td></tr>",
                            "<tr><td>11040</td><td>Margaret</td><td>Peacock</td></tr>",
                            "<tr><td>11044</td><td>Margaret</td><td>Peacock</td></tr>",
                            "<tr><td>11061</td><td>Margaret</td><td>Peacock</td></tr>",
                            "<tr><td>11062</td><td>Margaret</td><td>Peacock</td></tr>",
                            "<tr><td>11072</td><td>Margaret</td><td>Peacock</td></tr>",
                            "<tr><td>11076</td><td>Margaret</td><td>Peacock</td></tr>",
                            "<tr><td>10248</td><td>Steven</td><td>Buchanan</td></tr>",
                            "<tr><td>10254</td><td>Steven</td><td>Buchanan</td></tr>",
                            "<tr><td>10269</td><td>Steven</td><td>Buchanan</td></tr>",
                            "<tr><td>10297</td><td>Steven</td><td>Buchanan</td></tr>",
                            "<tr><td>10320</td><td>Steven</td><td>Buchanan</td></tr>",
                            "<tr><td>10333</td><td>Steven</td><td>Buchanan</td></tr>",
                            "<tr><td>10358</td><td>Steven</td><td>Buchanan</td></tr>",
                            "<tr><td>10359</td><td>Steven</td><td>Buchanan</td></tr>",
                            "<tr><td>10372</td><td>Steven</td><td>Buchanan</td></tr>",
                            "<tr><td>10378</td><td>Steven</td><td>Buchanan</td></tr>",
                            "<tr><td>10397</td><td>Steven</td><td>Buchanan</td></tr>",
                            "<tr><td>10463</td><td>Steven</td><td>Buchanan</td></tr>",
                            "<tr><td>10474</td><td>Steven</td><td>Buchanan</td></tr>",
                            "<tr><td>10477</td><td>Steven</td><td>Buchanan</td></tr>",
                            "<tr><td>10529</td><td>Steven</td><td>Buchanan</td></tr>",
                            "<tr><td>10549</td><td>Steven</td><td>Buchanan</td></tr>",
                            "<tr><td>10569</td><td>Steven</td><td>Buchanan</td></tr>",
                            "<tr><td>10575</td><td>Steven</td><td>Buchanan</td></tr>",
                            "<tr><td>10607</td><td>Steven</td><td>Buchanan</td></tr>",
                            "<tr><td>10648</td><td>Steven</td><td>Buchanan</td></tr>",
                            "<tr><td>10649</td><td>Steven</td><td>Buchanan</td></tr>",
                            "<tr><td>10650</td><td>Steven</td><td>Buchanan</td></tr>",
                            "<tr><td>10654</td><td>Steven</td><td>Buchanan</td></tr>",
                            "<tr><td>10675</td><td>Steven</td><td>Buchanan</td></tr>",
                            "<tr><td>10711</td><td>Steven</td><td>Buchanan</td></tr>",
                            "<tr><td>10714</td><td>Steven</td><td>Buchanan</td></tr>",
                            "<tr><td>10721</td><td>Steven</td><td>Buchanan</td></tr>",
                            "<tr><td>10730</td><td>Steven</td><td>Buchanan</td></tr>",
                            "<tr><td>10761</td><td>Steven</td><td>Buchanan</td></tr>",
                            "<tr><td>10812</td><td>Steven</td><td>Buchanan</td></tr>",
                            "<tr><td>10823</td><td>Steven</td><td>Buchanan</td></tr>",
                            "<tr><td>10841</td><td>Steven</td><td>Buchanan</td></tr>",
                            "<tr><td>10851</td><td>Steven</td><td>Buchanan</td></tr>",
                            "<tr><td>10866</td><td>Steven</td><td>Buchanan</td></tr>",
                            "<tr><td>10869</td><td>Steven</td><td>Buchanan</td></tr>",
                            "<tr><td>10870</td><td>Steven</td><td>Buchanan</td></tr>",
                            "<tr><td>10872</td><td>Steven</td><td>Buchanan</td></tr>",
                            "<tr><td>10874</td><td>Steven</td><td>Buchanan</td></tr>",
                            "<tr><td>10899</td><td>Steven</td><td>Buchanan</td></tr>",
                            "<tr><td>10922</td><td>Steven</td><td>Buchanan</td></tr>",
                            "<tr><td>10954</td><td>Steven</td><td>Buchanan</td></tr>",
                            "<tr><td>11043</td><td>Steven</td><td>Buchanan</td></tr>",
                            "<tr><td>10249</td><td>Michael</td><td>Suyama</td></tr>",
                            "<tr><td>10264</td><td>Michael</td><td>Suyama</td></tr>",
                            "<tr><td>10271</td><td>Michael</td><td>Suyama</td></tr>",
                            "<tr><td>10272</td><td>Michael</td><td>Suyama</td></tr>",
                            "<tr><td>10274</td><td>Michael</td><td>Suyama</td></tr>",
                            "<tr><td>10291</td><td>Michael</td><td>Suyama</td></tr>",
                            "<tr><td>10296</td><td>Michael</td><td>Suyama</td></tr>",
                            "<tr><td>10298</td><td>Michael</td><td>Suyama</td></tr>",
                            "<tr><td>10317</td><td>Michael</td><td>Suyama</td></tr>",
                            "<tr><td>10350</td><td>Michael</td><td>Suyama</td></tr>",
                            "<tr><td>10355</td><td>Michael</td><td>Suyama</td></tr>",
                            "<tr><td>10356</td><td>Michael</td><td>Suyama</td></tr>",
                            "<tr><td>10370</td><td>Michael</td><td>Suyama</td></tr>",
                            "<tr><td>10390</td><td>Michael</td><td>Suyama</td></tr>",
                            "<tr><td>10395</td><td>Michael</td><td>Suyama</td></tr>",
                            "<tr><td>10423</td><td>Michael</td><td>Suyama</td></tr>",
                            "<tr><td>10425</td><td>Michael</td><td>Suyama</td></tr>",
                            "<tr><td>10439</td><td>Michael</td><td>Suyama</td></tr>",
                            "<tr><td>10446</td><td>Michael</td><td>Suyama</td></tr>",
                            "<tr><td>10480</td><td>Michael</td><td>Suyama</td></tr>",
                            "<tr><td>10489</td><td>Michael</td><td>Suyama</td></tr>",
                            "<tr><td>10500</td><td>Michael</td><td>Suyama</td></tr>",
                            "<tr><td>10503</td><td>Michael</td><td>Suyama</td></tr>",
                            "<tr><td>10510</td><td>Michael</td><td>Suyama</td></tr>",
                            "<tr><td>10519</td><td>Michael</td><td>Suyama</td></tr>",
                            "<tr><td>10528</td><td>Michael</td><td>Suyama</td></tr>",
                            "<tr><td>10539</td><td>Michael</td><td>Suyama</td></tr>",
                            "<tr><td>10555</td><td>Michael</td><td>Suyama</td></tr>",
                            "<tr><td>10559</td><td>Michael</td><td>Suyama</td></tr>",
                            "<tr><td>10599</td><td>Michael</td><td>Suyama</td></tr>",
                            "<tr><td>10611</td><td>Michael</td><td>Suyama</td></tr>",
                            "<tr><td>10637</td><td>Michael</td><td>Suyama</td></tr>",
                            "<tr><td>10643</td><td>Michael</td><td>Suyama</td></tr>",
                            "<tr><td>10656</td><td>Michael</td><td>Suyama</td></tr>",
                            "<tr><td>10701</td><td>Michael</td><td>Suyama</td></tr>",
                            "<tr><td>10703</td><td>Michael</td><td>Suyama</td></tr>",
                            "<tr><td>10704</td><td>Michael</td><td>Suyama</td></tr>",
                            "<tr><td>10708</td><td>Michael</td><td>Suyama</td></tr>",
                            "<tr><td>10735</td><td>Michael</td><td>Suyama</td></tr>",
                            "<tr><td>10744</td><td>Michael</td><td>Suyama</td></tr>",
                            "<tr><td>10747</td><td>Michael</td><td>Suyama</td></tr>",
                            "<tr><td>10754</td><td>Michael</td><td>Suyama</td></tr>",
                            "<tr><td>10757</td><td>Michael</td><td>Suyama</td></tr>",
                            "<tr><td>10764</td><td>Michael</td><td>Suyama</td></tr>",
                            "<tr><td>10790</td><td>Michael</td><td>Suyama</td></tr>",
                            "<tr><td>10791</td><td>Michael</td><td>Suyama</td></tr>",
                            "<tr><td>10794</td><td>Michael</td><td>Suyama</td></tr>",
                            "<tr><td>10804</td><td>Michael</td><td>Suyama</td></tr>",
                            "<tr><td>10822</td><td>Michael</td><td>Suyama</td></tr>",
                            "<tr><td>10826</td><td>Michael</td><td>Suyama</td></tr>",
                            "<tr><td>10833</td><td>Michael</td><td>Suyama</td></tr>",
                            "<tr><td>10867</td><td>Michael</td><td>Suyama</td></tr>",
                            "<tr><td>10885</td><td>Michael</td><td>Suyama</td></tr>",
                            "<tr><td>10907</td><td>Michael</td><td>Suyama</td></tr>",
                            "<tr><td>10914</td><td>Michael</td><td>Suyama</td></tr>",
                            "<tr><td>10929</td><td>Michael</td><td>Suyama</td></tr>",
                            "<tr><td>10933</td><td>Michael</td><td>Suyama</td></tr>",
                            "<tr><td>10944</td><td>Michael</td><td>Suyama</td></tr>",
                            "<tr><td>10956</td><td>Michael</td><td>Suyama</td></tr>",
                            "<tr><td>10959</td><td>Michael</td><td>Suyama</td></tr>",
                            "<tr><td>10965</td><td>Michael</td><td>Suyama</td></tr>",
                            "<tr><td>10973</td><td>Michael</td><td>Suyama</td></tr>",
                            "<tr><td>10999</td><td>Michael</td><td>Suyama</td></tr>",
                            "<tr><td>11019</td><td>Michael</td><td>Suyama</td></tr>",
                            "<tr><td>11025</td><td>Michael</td><td>Suyama</td></tr>",
                            "<tr><td>11031</td><td>Michael</td><td>Suyama</td></tr>",
                            "<tr><td>11045</td><td>Michael</td><td>Suyama</td></tr>",
                            "<tr><td>10289</td><td>Robert</td><td>King</td></tr>",
                            "<tr><td>10303</td><td>Robert</td><td>King</td></tr>",
                            "<tr><td>10308</td><td>Robert</td><td>King</td></tr>",
                            "<tr><td>10319</td><td>Robert</td><td>King</td></tr>",
                            "<tr><td>10322</td><td>Robert</td><td>King</td></tr>",
                            "<tr><td>10335</td><td>Robert</td><td>King</td></tr>",
                            "<tr><td>10336</td><td>Robert</td><td>King</td></tr>",
                            "<tr><td>10341</td><td>Robert</td><td>King</td></tr>",
                            "<tr><td>10349</td><td>Robert</td><td>King</td></tr>",
                            "<tr><td>10353</td><td>Robert</td><td>King</td></tr>",
                            "<tr><td>10367</td><td>Robert</td><td>King</td></tr>",
                            "<tr><td>10406</td><td>Robert</td><td>King</td></tr>",
                            "<tr><td>10424</td><td>Robert</td><td>King</td></tr>",
                            "<tr><td>10428</td><td>Robert</td><td>King</td></tr>",
                            "<tr><td>10458</td><td>Robert</td><td>King</td></tr>",
                            "<tr><td>10483</td><td>Robert</td><td>King</td></tr>",
                            "<tr><td>10490</td><td>Robert</td><td>King</td></tr>",
                            "<tr><td>10496</td><td>Robert</td><td>King</td></tr>",
                            "<tr><td>10497</td><td>Robert</td><td>King</td></tr>",
                            "<tr><td>10507</td><td>Robert</td><td>King</td></tr>",
                            "<tr><td>10512</td><td>Robert</td><td>King</td></tr>",
                            "<tr><td>10513</td><td>Robert</td><td>King</td></tr>",
                            "<tr><td>10520</td><td>Robert</td><td>King</td></tr>",
                            "<tr><td>10523</td><td>Robert</td><td>King</td></tr>",
                            "<tr><td>10527</td><td>Robert</td><td>King</td></tr>",
                            "<tr><td>10531</td><td>Robert</td><td>King</td></tr>",
                            "<tr><td>10532</td><td>Robert</td><td>King</td></tr>",
                            "<tr><td>10550</td><td>Robert</td><td>King</td></tr>",
                            "<tr><td>10573</td><td>Robert</td><td>King</td></tr>",
                            "<tr><td>10585</td><td>Robert</td><td>King</td></tr>",
                            "<tr><td>10593</td><td>Robert</td><td>King</td></tr>",
                            "<tr><td>10597</td><td>Robert</td><td>King</td></tr>",
                            "<tr><td>10601</td><td>Robert</td><td>King</td></tr>",
                            "<tr><td>10609</td><td>Robert</td><td>King</td></tr>",
                            "<tr><td>10633</td><td>Robert</td><td>King</td></tr>",
                            "<tr><td>10639</td><td>Robert</td><td>King</td></tr>",
                            "<tr><td>10642</td><td>Robert</td><td>King</td></tr>",
                            "<tr><td>10659</td><td>Robert</td><td>King</td></tr>",
                            "<tr><td>10661</td><td>Robert</td><td>King</td></tr>",
                            "<tr><td>10666</td><td>Robert</td><td>King</td></tr>",
                            "<tr><td>10667</td><td>Robert</td><td>King</td></tr>",
                            "<tr><td>10678</td><td>Robert</td><td>King</td></tr>",
                            "<tr><td>10695</td><td>Robert</td><td>King</td></tr>",
                            "<tr><td>10731</td><td>Robert</td><td>King</td></tr>",
                            "<tr><td>10775</td><td>Robert</td><td>King</td></tr>",
                            "<tr><td>10777</td><td>Robert</td><td>King</td></tr>",
                            "<tr><td>10797</td><td>Robert</td><td>King</td></tr>",
                            "<tr><td>10809</td><td>Robert</td><td>King</td></tr>",
                            "<tr><td>10818</td><td>Robert</td><td>King</td></tr>",
                            "<tr><td>10836</td><td>Robert</td><td>King</td></tr>",
                            "<tr><td>10848</td><td>Robert</td><td>King</td></tr>",
                            "<tr><td>10868</td><td>Robert</td><td>King</td></tr>",
                            "<tr><td>10876</td><td>Robert</td><td>King</td></tr>",
                            "<tr><td>10880</td><td>Robert</td><td>King</td></tr>",
                            "<tr><td>10890</td><td>Robert</td><td>King</td></tr>",
                            "<tr><td>10891</td><td>Robert</td><td>King</td></tr>",
                            "<tr><td>10896</td><td>Robert</td><td>King</td></tr>",
                            "<tr><td>10923</td><td>Robert</td><td>King</td></tr>",
                            "<tr><td>10937</td><td>Robert</td><td>King</td></tr>",
                            "<tr><td>10941</td><td>Robert</td><td>King</td></tr>",
                            "<tr><td>10958</td><td>Robert</td><td>King</td></tr>",
                            "<tr><td>10993</td><td>Robert</td><td>King</td></tr>",
                            "<tr><td>11008</td><td>Robert</td><td>King</td></tr>",
                            "<tr><td>11030</td><td>Robert</td><td>King</td></tr>",
                            "<tr><td>11033</td><td>Robert</td><td>King</td></tr>",
                            "<tr><td>11037</td><td>Robert</td><td>King</td></tr>",
                            "<tr><td>11047</td><td>Robert</td><td>King</td></tr>",
                            "<tr><td>11048</td><td>Robert</td><td>King</td></tr>",
                            "<tr><td>11051</td><td>Robert</td><td>King</td></tr>",
                            "<tr><td>11055</td><td>Robert</td><td>King</td></tr>",
                            "<tr><td>11066</td><td>Robert</td><td>King</td></tr>",
                            "<tr><td>11074</td><td>Robert</td><td>King</td></tr>",
                            "<tr><td>10262</td><td>Laura</td><td>Callahan</td></tr>",
                            "<tr><td>10268</td><td>Laura</td><td>Callahan</td></tr>",
                            "<tr><td>10276</td><td>Laura</td><td>Callahan</td></tr>",
                            "<tr><td>10278</td><td>Laura</td><td>Callahan</td></tr>",
                            "<tr><td>10279</td><td>Laura</td><td>Callahan</td></tr>",
                            "<tr><td>10286</td><td>Laura</td><td>Callahan</td></tr>",
                            "<tr><td>10287</td><td>Laura</td><td>Callahan</td></tr>",
                            "<tr><td>10290</td><td>Laura</td><td>Callahan</td></tr>",
                            "<tr><td>10301</td><td>Laura</td><td>Callahan</td></tr>",
                            "<tr><td>10305</td><td>Laura</td><td>Callahan</td></tr>",
                            "<tr><td>10310</td><td>Laura</td><td>Callahan</td></tr>",
                            "<tr><td>10318</td><td>Laura</td><td>Callahan</td></tr>",
                            "<tr><td>10334</td><td>Laura</td><td>Callahan</td></tr>",
                            "<tr><td>10354</td><td>Laura</td><td>Callahan</td></tr>",
                            "<tr><td>10366</td><td>Laura</td><td>Callahan</td></tr>",
                            "<tr><td>10369</td><td>Laura</td><td>Callahan</td></tr>",
                            "<tr><td>10380</td><td>Laura</td><td>Callahan</td></tr>",
                            "<tr><td>10383</td><td>Laura</td><td>Callahan</td></tr>",
                            "<tr><td>10399</td><td>Laura</td><td>Callahan</td></tr>",
                            "<tr><td>10402</td><td>Laura</td><td>Callahan</td></tr>",
                            "<tr><td>10408</td><td>Laura</td><td>Callahan</td></tr>",
                            "<tr><td>10412</td><td>Laura</td><td>Callahan</td></tr>",
                            "<tr><td>10416</td><td>Laura</td><td>Callahan</td></tr>",
                            "<tr><td>10421</td><td>Laura</td><td>Callahan</td></tr>",
                            "<tr><td>10435</td><td>Laura</td><td>Callahan</td></tr>",
                            "<tr><td>10437</td><td>Laura</td><td>Callahan</td></tr>",
                            "<tr><td>10443</td><td>Laura</td><td>Callahan</td></tr>",
                            "<tr><td>10450</td><td>Laura</td><td>Callahan</td></tr>",
                            "<tr><td>10452</td><td>Laura</td><td>Callahan</td></tr>",
                            "<tr><td>10455</td><td>Laura</td><td>Callahan</td></tr>",
                            "<tr><td>10456</td><td>Laura</td><td>Callahan</td></tr>",
                            "<tr><td>10460</td><td>Laura</td><td>Callahan</td></tr>",
                            "<tr><td>10467</td><td>Laura</td><td>Callahan</td></tr>",
                            "<tr><td>10472</td><td>Laura</td><td>Callahan</td></tr>",
                            "<tr><td>10476</td><td>Laura</td><td>Callahan</td></tr>",
                            "<tr><td>10481</td><td>Laura</td><td>Callahan</td></tr>",
                            "<tr><td>10488</td><td>Laura</td><td>Callahan</td></tr>",
                            "<tr><td>10491</td><td>Laura</td><td>Callahan</td></tr>",
                            "<tr><td>10498</td><td>Laura</td><td>Callahan</td></tr>",
                            "<tr><td>10521</td><td>Laura</td><td>Callahan</td></tr>",
                            "<tr><td>10533</td><td>Laura</td><td>Callahan</td></tr>",
                            "<tr><td>10534</td><td>Laura</td><td>Callahan</td></tr>",
                            "<tr><td>10543</td><td>Laura</td><td>Callahan</td></tr>",
                            "<tr><td>10545</td><td>Laura</td><td>Callahan</td></tr>",
                            "<tr><td>10560</td><td>Laura</td><td>Callahan</td></tr>",
                            "<tr><td>10565</td><td>Laura</td><td>Callahan</td></tr>",
                            "<tr><td>10571</td><td>Laura</td><td>Callahan</td></tr>",
                            "<tr><td>10589</td><td>Laura</td><td>Callahan</td></tr>",
                            "<tr><td>10596</td><td>Laura</td><td>Callahan</td></tr>",
                            "<tr><td>10602</td><td>Laura</td><td>Callahan</td></tr>",
                            "<tr><td>10603</td><td>Laura</td><td>Callahan</td></tr>",
                            "<tr><td>10610</td><td>Laura</td><td>Callahan</td></tr>",
                            "<tr><td>10614</td><td>Laura</td><td>Callahan</td></tr>",
                            "<tr><td>10623</td><td>Laura</td><td>Callahan</td></tr>",
                            "<tr><td>10627</td><td>Laura</td><td>Callahan</td></tr>",
                            "<tr><td>10631</td><td>Laura</td><td>Callahan</td></tr>",
                            "<tr><td>10632</td><td>Laura</td><td>Callahan</td></tr>",
                            "<tr><td>10635</td><td>Laura</td><td>Callahan</td></tr>",
                            "<tr><td>10651</td><td>Laura</td><td>Callahan</td></tr>",
                            "<tr><td>10660</td><td>Laura</td><td>Callahan</td></tr>",
                            "<tr><td>10679</td><td>Laura</td><td>Callahan</td></tr>",
                            "<tr><td>10694</td><td>Laura</td><td>Callahan</td></tr>",
                            "<tr><td>10696</td><td>Laura</td><td>Callahan</td></tr>",
                            "<tr><td>10706</td><td>Laura</td><td>Callahan</td></tr>",
                            "<tr><td>10719</td><td>Laura</td><td>Callahan</td></tr>",
                            "<tr><td>10720</td><td>Laura</td><td>Callahan</td></tr>",
                            "<tr><td>10722</td><td>Laura</td><td>Callahan</td></tr>",
                            "<tr><td>10724</td><td>Laura</td><td>Callahan</td></tr>",
                            "<tr><td>10729</td><td>Laura</td><td>Callahan</td></tr>",
                            "<tr><td>10756</td><td>Laura</td><td>Callahan</td></tr>",
                            "<tr><td>10770</td><td>Laura</td><td>Callahan</td></tr>",
                            "<tr><td>10786</td><td>Laura</td><td>Callahan</td></tr>",
                            "<tr><td>10795</td><td>Laura</td><td>Callahan</td></tr>",
                            "<tr><td>10811</td><td>Laura</td><td>Callahan</td></tr>",
                            "<tr><td>10824</td><td>Laura</td><td>Callahan</td></tr>",
                            "<tr><td>10844</td><td>Laura</td><td>Callahan</td></tr>",
                            "<tr><td>10845</td><td>Laura</td><td>Callahan</td></tr>",
                            "<tr><td>10852</td><td>Laura</td><td>Callahan</td></tr>",
                            "<tr><td>10857</td><td>Laura</td><td>Callahan</td></tr>",
                            "<tr><td>10862</td><td>Laura</td><td>Callahan</td></tr>",
                            "<tr><td>10883</td><td>Laura</td><td>Callahan</td></tr>",
                            "<tr><td>10887</td><td>Laura</td><td>Callahan</td></tr>",
                            "<tr><td>10932</td><td>Laura</td><td>Callahan</td></tr>",
                            "<tr><td>10940</td><td>Laura</td><td>Callahan</td></tr>",
                            "<tr><td>10955</td><td>Laura</td><td>Callahan</td></tr>",
                            "<tr><td>10957</td><td>Laura</td><td>Callahan</td></tr>",
                            "<tr><td>10961</td><td>Laura</td><td>Callahan</td></tr>",
                            "<tr><td>10962</td><td>Laura</td><td>Callahan</td></tr>",
                            "<tr><td>10977</td><td>Laura</td><td>Callahan</td></tr>",
                            "<tr><td>10979</td><td>Laura</td><td>Callahan</td></tr>",
                            "<tr><td>10986</td><td>Laura</td><td>Callahan</td></tr>",
                            "<tr><td>10987</td><td>Laura</td><td>Callahan</td></tr>",
                            "<tr><td>10997</td><td>Laura</td><td>Callahan</td></tr>",
                            "<tr><td>10998</td><td>Laura</td><td>Callahan</td></tr>",
                            "<tr><td>11007</td><td>Laura</td><td>Callahan</td></tr>",
                            "<tr><td>11034</td><td>Laura</td><td>Callahan</td></tr>",
                            "<tr><td>11036</td><td>Laura</td><td>Callahan</td></tr>",
                            "<tr><td>11046</td><td>Laura</td><td>Callahan</td></tr>",
                            "<tr><td>11050</td><td>Laura</td><td>Callahan</td></tr>",
                            "<tr><td>11054</td><td>Laura</td><td>Callahan</td></tr>",
                            "<tr><td>11056</td><td>Laura</td><td>Callahan</td></tr>",
                            "<tr><td>11065</td><td>Laura</td><td>Callahan</td></tr>",
                            "<tr><td>11068</td><td>Laura</td><td>Callahan</td></tr>",
                            "<tr><td>11075</td><td>Laura</td><td>Callahan</td></tr>",
                            "<tr><td>10255</td><td>Anne</td><td>Dodsworth</td></tr>",
                            "<tr><td>10263</td><td>Anne</td><td>Dodsworth</td></tr>",
                            "<tr><td>10324</td><td>Anne</td><td>Dodsworth</td></tr>",
                            "<tr><td>10331</td><td>Anne</td><td>Dodsworth</td></tr>",
                            "<tr><td>10386</td><td>Anne</td><td>Dodsworth</td></tr>",
                            "<tr><td>10411</td><td>Anne</td><td>Dodsworth</td></tr>",
                            "<tr><td>10475</td><td>Anne</td><td>Dodsworth</td></tr>",
                            "<tr><td>10501</td><td>Anne</td><td>Dodsworth</td></tr>",
                            "<tr><td>10506</td><td>Anne</td><td>Dodsworth</td></tr>",
                            "<tr><td>10538</td><td>Anne</td><td>Dodsworth</td></tr>",
                            "<tr><td>10557</td><td>Anne</td><td>Dodsworth</td></tr>",
                            "<tr><td>10566</td><td>Anne</td><td>Dodsworth</td></tr>",
                            "<tr><td>10577</td><td>Anne</td><td>Dodsworth</td></tr>",
                            "<tr><td>10586</td><td>Anne</td><td>Dodsworth</td></tr>",
                            "<tr><td>10646</td><td>Anne</td><td>Dodsworth</td></tr>",
                            "<tr><td>10672</td><td>Anne</td><td>Dodsworth</td></tr>",
                            "<tr><td>10687</td><td>Anne</td><td>Dodsworth</td></tr>",
                            "<tr><td>10705</td><td>Anne</td><td>Dodsworth</td></tr>",
                            "<tr><td>10736</td><td>Anne</td><td>Dodsworth</td></tr>",
                            "<tr><td>10745</td><td>Anne</td><td>Dodsworth</td></tr>",
                            "<tr><td>10750</td><td>Anne</td><td>Dodsworth</td></tr>",
                            "<tr><td>10771</td><td>Anne</td><td>Dodsworth</td></tr>",
                            "<tr><td>10782</td><td>Anne</td><td>Dodsworth</td></tr>",
                            "<tr><td>10799</td><td>Anne</td><td>Dodsworth</td></tr>",
                            "<tr><td>10828</td><td>Anne</td><td>Dodsworth</td></tr>",
                            "<tr><td>10829</td><td>Anne</td><td>Dodsworth</td></tr>",
                            "<tr><td>10837</td><td>Anne</td><td>Dodsworth</td></tr>",
                            "<tr><td>10849</td><td>Anne</td><td>Dodsworth</td></tr>",
                            "<tr><td>10853</td><td>Anne</td><td>Dodsworth</td></tr>",
                            "<tr><td>10871</td><td>Anne</td><td>Dodsworth</td></tr>",
                            "<tr><td>10889</td><td>Anne</td><td>Dodsworth</td></tr>",
                            "<tr><td>10893</td><td>Anne</td><td>Dodsworth</td></tr>",
                            "<tr><td>10905</td><td>Anne</td><td>Dodsworth</td></tr>",
                            "<tr><td>10942</td><td>Anne</td><td>Dodsworth</td></tr>",
                            "<tr><td>10951</td><td>Anne</td><td>Dodsworth</td></tr>",
                            "<tr><td>10953</td><td>Anne</td><td>Dodsworth</td></tr>",
                            "<tr><td>10963</td><td>Anne</td><td>Dodsworth</td></tr>",
                            "<tr><td>10970</td><td>Anne</td><td>Dodsworth</td></tr>",
                            "<tr><td>10978</td><td>Anne</td><td>Dodsworth</td></tr>",
                            "<tr><td>11016</td><td>Anne</td><td>Dodsworth</td></tr>",
                            "<tr><td>11017</td><td>Anne</td><td>Dodsworth</td></tr>",
                            "<tr><td>11022</td><td>Anne</td><td>Dodsworth</td></tr>",
                            "<tr><td>11058</td><td>Anne</td><td>Dodsworth</td></tr>",
                            "</table>"
                        ]
                    }
                }
            ],
            "execution_count": 6
        },
        {
            "cell_type": "markdown",
            "source": [
                "### ✍️ Ejercicio 4\n",
                "\n",
                "Obtén un listado de todas las categorías y los productos que pertenecen a cada una.\n",
                "Incluye también las categorías que **no tienen productos asignados**.\n",
                "\n",
                "* * *"
            ],
            "metadata": {
                "azdata_cell_guid": "8279776a-89f4-4181-936f-747a72601c2a"
            }
        },
        {
            "cell_type": "code",
            "source": [
                "SELECT Categories.CategoryName, Products.ProductName\n",
                "FROM Categories\n",
                "LEFT JOIN Products ON Categories.CategoryID = Products.CategoryID"
            ],
            "metadata": {
                "SqlCellData": {
                    "data_source_name": "Northwind@localhost",
                    "variableName$1": "df_sql4"
                },
                "azdata_cell_guid": "58fe461f-9d9d-45f4-837e-a6ea1ef82ed8",
                "language": "sql"
            },
            "outputs": [
                {
                    "output_type": "display_data",
                    "data": {
                        "text/html": "(77 rows affected)"
                    },
                    "metadata": {}
                },
                {
                    "output_type": "display_data",
                    "data": {
                        "text/html": "Total execution time: 00:00:00.006"
                    },
                    "metadata": {}
                },
                {
                    "output_type": "execute_result",
                    "metadata": {},
                    "execution_count": 7,
                    "data": {
                        "application/vnd.dataresource+json": {
                            "schema": {
                                "fields": [
                                    {
                                        "name": "CategoryName"
                                    },
                                    {
                                        "name": "ProductName"
                                    }
                                ]
                            },
                            "data": [
                                {
                                    "CategoryName": "Beverages",
                                    "ProductName": "Chai"
                                },
                                {
                                    "CategoryName": "Beverages",
                                    "ProductName": "Chang"
                                },
                                {
                                    "CategoryName": "Beverages",
                                    "ProductName": "Guaraná Fantástica"
                                },
                                {
                                    "CategoryName": "Beverages",
                                    "ProductName": "Sasquatch Ale"
                                },
                                {
                                    "CategoryName": "Beverages",
                                    "ProductName": "Steeleye Stout"
                                },
                                {
                                    "CategoryName": "Beverages",
                                    "ProductName": "Côte de Blaye"
                                },
                                {
                                    "CategoryName": "Beverages",
                                    "ProductName": "Chartreuse verte"
                                },
                                {
                                    "CategoryName": "Beverages",
                                    "ProductName": "Ipoh Coffee"
                                },
                                {
                                    "CategoryName": "Beverages",
                                    "ProductName": "Laughing Lumberjack Lager"
                                },
                                {
                                    "CategoryName": "Beverages",
                                    "ProductName": "Outback Lager"
                                },
                                {
                                    "CategoryName": "Beverages",
                                    "ProductName": "Rhönbräu Klosterbier"
                                },
                                {
                                    "CategoryName": "Beverages",
                                    "ProductName": "Lakkalikööri"
                                },
                                {
                                    "CategoryName": "Condiments",
                                    "ProductName": "Aniseed Syrup"
                                },
                                {
                                    "CategoryName": "Condiments",
                                    "ProductName": "Chef Anton's Cajun Seasoning"
                                },
                                {
                                    "CategoryName": "Condiments",
                                    "ProductName": "Chef Anton's Gumbo Mix"
                                },
                                {
                                    "CategoryName": "Condiments",
                                    "ProductName": "Grandma's Boysenberry Spread"
                                },
                                {
                                    "CategoryName": "Condiments",
                                    "ProductName": "Northwoods Cranberry Sauce"
                                },
                                {
                                    "CategoryName": "Condiments",
                                    "ProductName": "Genen Shouyu"
                                },
                                {
                                    "CategoryName": "Condiments",
                                    "ProductName": "Gula Malacca"
                                },
                                {
                                    "CategoryName": "Condiments",
                                    "ProductName": "Sirop d'érable"
                                },
                                {
                                    "CategoryName": "Condiments",
                                    "ProductName": "Vegie-spread"
                                },
                                {
                                    "CategoryName": "Condiments",
                                    "ProductName": "Louisiana Fiery Hot Pepper Sauce"
                                },
                                {
                                    "CategoryName": "Condiments",
                                    "ProductName": "Louisiana Hot Spiced Okra"
                                },
                                {
                                    "CategoryName": "Condiments",
                                    "ProductName": "Original Frankfurter grüne Soße"
                                },
                                {
                                    "CategoryName": "Confections",
                                    "ProductName": "Pavlova"
                                },
                                {
                                    "CategoryName": "Confections",
                                    "ProductName": "Teatime Chocolate Biscuits"
                                },
                                {
                                    "CategoryName": "Confections",
                                    "ProductName": "Sir Rodney's Marmalade"
                                },
                                {
                                    "CategoryName": "Confections",
                                    "ProductName": "Sir Rodney's Scones"
                                },
                                {
                                    "CategoryName": "Confections",
                                    "ProductName": "NuNuCa Nuß-Nougat-Creme"
                                },
                                {
                                    "CategoryName": "Confections",
                                    "ProductName": "Gumbär Gummibärchen"
                                },
                                {
                                    "CategoryName": "Confections",
                                    "ProductName": "Schoggi Schokolade"
                                },
                                {
                                    "CategoryName": "Confections",
                                    "ProductName": "Zaanse koeken"
                                },
                                {
                                    "CategoryName": "Confections",
                                    "ProductName": "Chocolade"
                                },
                                {
                                    "CategoryName": "Confections",
                                    "ProductName": "Maxilaku"
                                },
                                {
                                    "CategoryName": "Confections",
                                    "ProductName": "Valkoinen suklaa"
                                },
                                {
                                    "CategoryName": "Confections",
                                    "ProductName": "Tarte au sucre"
                                },
                                {
                                    "CategoryName": "Confections",
                                    "ProductName": "Scottish Longbreads"
                                },
                                {
                                    "CategoryName": "Dairy Products",
                                    "ProductName": "Queso Cabrales"
                                },
                                {
                                    "CategoryName": "Dairy Products",
                                    "ProductName": "Queso Manchego La Pastora"
                                },
                                {
                                    "CategoryName": "Dairy Products",
                                    "ProductName": "Gorgonzola Telino"
                                },
                                {
                                    "CategoryName": "Dairy Products",
                                    "ProductName": "Mascarpone Fabioli"
                                },
                                {
                                    "CategoryName": "Dairy Products",
                                    "ProductName": "Geitost"
                                },
                                {
                                    "CategoryName": "Dairy Products",
                                    "ProductName": "Raclette Courdavault"
                                },
                                {
                                    "CategoryName": "Dairy Products",
                                    "ProductName": "Camembert Pierrot"
                                },
                                {
                                    "CategoryName": "Dairy Products",
                                    "ProductName": "Gudbrandsdalsost"
                                },
                                {
                                    "CategoryName": "Dairy Products",
                                    "ProductName": "Flotemysost"
                                },
                                {
                                    "CategoryName": "Dairy Products",
                                    "ProductName": "Mozzarella di Giovanni"
                                },
                                {
                                    "CategoryName": "Grains/Cereals",
                                    "ProductName": "Gustaf's Knäckebröd"
                                },
                                {
                                    "CategoryName": "Grains/Cereals",
                                    "ProductName": "Tunnbröd"
                                },
                                {
                                    "CategoryName": "Grains/Cereals",
                                    "ProductName": "Singaporean Hokkien Fried Mee"
                                },
                                {
                                    "CategoryName": "Grains/Cereals",
                                    "ProductName": "Filo Mix"
                                },
                                {
                                    "CategoryName": "Grains/Cereals",
                                    "ProductName": "Gnocchi di nonna Alice"
                                },
                                {
                                    "CategoryName": "Grains/Cereals",
                                    "ProductName": "Ravioli Angelo"
                                },
                                {
                                    "CategoryName": "Grains/Cereals",
                                    "ProductName": "Wimmers gute Semmelknödel"
                                },
                                {
                                    "CategoryName": "Meat/Poultry",
                                    "ProductName": "Mishi Kobe Niku"
                                },
                                {
                                    "CategoryName": "Meat/Poultry",
                                    "ProductName": "Alice Mutton"
                                },
                                {
                                    "CategoryName": "Meat/Poultry",
                                    "ProductName": "Thüringer Rostbratwurst"
                                },
                                {
                                    "CategoryName": "Meat/Poultry",
                                    "ProductName": "Perth Pasties"
                                },
                                {
                                    "CategoryName": "Meat/Poultry",
                                    "ProductName": "Tourtière"
                                },
                                {
                                    "CategoryName": "Meat/Poultry",
                                    "ProductName": "Pâté chinois"
                                },
                                {
                                    "CategoryName": "Produce",
                                    "ProductName": "Uncle Bob's Organic Dried Pears"
                                },
                                {
                                    "CategoryName": "Produce",
                                    "ProductName": "Tofu"
                                },
                                {
                                    "CategoryName": "Produce",
                                    "ProductName": "Rössle Sauerkraut"
                                },
                                {
                                    "CategoryName": "Produce",
                                    "ProductName": "Manjimup Dried Apples"
                                },
                                {
                                    "CategoryName": "Produce",
                                    "ProductName": "Longlife Tofu"
                                },
                                {
                                    "CategoryName": "Seafood",
                                    "ProductName": "Ikura"
                                },
                                {
                                    "CategoryName": "Seafood",
                                    "ProductName": "Konbu"
                                },
                                {
                                    "CategoryName": "Seafood",
                                    "ProductName": "Carnarvon Tigers"
                                },
                                {
                                    "CategoryName": "Seafood",
                                    "ProductName": "Nord-Ost Matjeshering"
                                },
                                {
                                    "CategoryName": "Seafood",
                                    "ProductName": "Inlagd Sill"
                                },
                                {
                                    "CategoryName": "Seafood",
                                    "ProductName": "Gravad lax"
                                },
                                {
                                    "CategoryName": "Seafood",
                                    "ProductName": "Boston Crab Meat"
                                },
                                {
                                    "CategoryName": "Seafood",
                                    "ProductName": "Jack's New England Clam Chowder"
                                },
                                {
                                    "CategoryName": "Seafood",
                                    "ProductName": "Rogede sild"
                                },
                                {
                                    "CategoryName": "Seafood",
                                    "ProductName": "Spegesild"
                                },
                                {
                                    "CategoryName": "Seafood",
                                    "ProductName": "Escargots de Bourgogne"
                                },
                                {
                                    "CategoryName": "Seafood",
                                    "ProductName": "Röd Kaviar"
                                }
                            ]
                        },
                        "text/html": [
                            "<table>",
                            "<tr><th>CategoryName</th><th>ProductName</th></tr>",
                            "<tr><td>Beverages</td><td>Chai</td></tr>",
                            "<tr><td>Beverages</td><td>Chang</td></tr>",
                            "<tr><td>Beverages</td><td>Guaraná Fantástica</td></tr>",
                            "<tr><td>Beverages</td><td>Sasquatch Ale</td></tr>",
                            "<tr><td>Beverages</td><td>Steeleye Stout</td></tr>",
                            "<tr><td>Beverages</td><td>Côte de Blaye</td></tr>",
                            "<tr><td>Beverages</td><td>Chartreuse verte</td></tr>",
                            "<tr><td>Beverages</td><td>Ipoh Coffee</td></tr>",
                            "<tr><td>Beverages</td><td>Laughing Lumberjack Lager</td></tr>",
                            "<tr><td>Beverages</td><td>Outback Lager</td></tr>",
                            "<tr><td>Beverages</td><td>Rhönbräu Klosterbier</td></tr>",
                            "<tr><td>Beverages</td><td>Lakkalikööri</td></tr>",
                            "<tr><td>Condiments</td><td>Aniseed Syrup</td></tr>",
                            "<tr><td>Condiments</td><td>Chef Anton&#39;s Cajun Seasoning</td></tr>",
                            "<tr><td>Condiments</td><td>Chef Anton&#39;s Gumbo Mix</td></tr>",
                            "<tr><td>Condiments</td><td>Grandma&#39;s Boysenberry Spread</td></tr>",
                            "<tr><td>Condiments</td><td>Northwoods Cranberry Sauce</td></tr>",
                            "<tr><td>Condiments</td><td>Genen Shouyu</td></tr>",
                            "<tr><td>Condiments</td><td>Gula Malacca</td></tr>",
                            "<tr><td>Condiments</td><td>Sirop d&#39;érable</td></tr>",
                            "<tr><td>Condiments</td><td>Vegie-spread</td></tr>",
                            "<tr><td>Condiments</td><td>Louisiana Fiery Hot Pepper Sauce</td></tr>",
                            "<tr><td>Condiments</td><td>Louisiana Hot Spiced Okra</td></tr>",
                            "<tr><td>Condiments</td><td>Original Frankfurter grüne Soße</td></tr>",
                            "<tr><td>Confections</td><td>Pavlova</td></tr>",
                            "<tr><td>Confections</td><td>Teatime Chocolate Biscuits</td></tr>",
                            "<tr><td>Confections</td><td>Sir Rodney&#39;s Marmalade</td></tr>",
                            "<tr><td>Confections</td><td>Sir Rodney&#39;s Scones</td></tr>",
                            "<tr><td>Confections</td><td>NuNuCa Nuß-Nougat-Creme</td></tr>",
                            "<tr><td>Confections</td><td>Gumbär Gummibärchen</td></tr>",
                            "<tr><td>Confections</td><td>Schoggi Schokolade</td></tr>",
                            "<tr><td>Confections</td><td>Zaanse koeken</td></tr>",
                            "<tr><td>Confections</td><td>Chocolade</td></tr>",
                            "<tr><td>Confections</td><td>Maxilaku</td></tr>",
                            "<tr><td>Confections</td><td>Valkoinen suklaa</td></tr>",
                            "<tr><td>Confections</td><td>Tarte au sucre</td></tr>",
                            "<tr><td>Confections</td><td>Scottish Longbreads</td></tr>",
                            "<tr><td>Dairy Products</td><td>Queso Cabrales</td></tr>",
                            "<tr><td>Dairy Products</td><td>Queso Manchego La Pastora</td></tr>",
                            "<tr><td>Dairy Products</td><td>Gorgonzola Telino</td></tr>",
                            "<tr><td>Dairy Products</td><td>Mascarpone Fabioli</td></tr>",
                            "<tr><td>Dairy Products</td><td>Geitost</td></tr>",
                            "<tr><td>Dairy Products</td><td>Raclette Courdavault</td></tr>",
                            "<tr><td>Dairy Products</td><td>Camembert Pierrot</td></tr>",
                            "<tr><td>Dairy Products</td><td>Gudbrandsdalsost</td></tr>",
                            "<tr><td>Dairy Products</td><td>Flotemysost</td></tr>",
                            "<tr><td>Dairy Products</td><td>Mozzarella di Giovanni</td></tr>",
                            "<tr><td>Grains/Cereals</td><td>Gustaf&#39;s Knäckebröd</td></tr>",
                            "<tr><td>Grains/Cereals</td><td>Tunnbröd</td></tr>",
                            "<tr><td>Grains/Cereals</td><td>Singaporean Hokkien Fried Mee</td></tr>",
                            "<tr><td>Grains/Cereals</td><td>Filo Mix</td></tr>",
                            "<tr><td>Grains/Cereals</td><td>Gnocchi di nonna Alice</td></tr>",
                            "<tr><td>Grains/Cereals</td><td>Ravioli Angelo</td></tr>",
                            "<tr><td>Grains/Cereals</td><td>Wimmers gute Semmelknödel</td></tr>",
                            "<tr><td>Meat/Poultry</td><td>Mishi Kobe Niku</td></tr>",
                            "<tr><td>Meat/Poultry</td><td>Alice Mutton</td></tr>",
                            "<tr><td>Meat/Poultry</td><td>Thüringer Rostbratwurst</td></tr>",
                            "<tr><td>Meat/Poultry</td><td>Perth Pasties</td></tr>",
                            "<tr><td>Meat/Poultry</td><td>Tourtière</td></tr>",
                            "<tr><td>Meat/Poultry</td><td>Pâté chinois</td></tr>",
                            "<tr><td>Produce</td><td>Uncle Bob&#39;s Organic Dried Pears</td></tr>",
                            "<tr><td>Produce</td><td>Tofu</td></tr>",
                            "<tr><td>Produce</td><td>Rössle Sauerkraut</td></tr>",
                            "<tr><td>Produce</td><td>Manjimup Dried Apples</td></tr>",
                            "<tr><td>Produce</td><td>Longlife Tofu</td></tr>",
                            "<tr><td>Seafood</td><td>Ikura</td></tr>",
                            "<tr><td>Seafood</td><td>Konbu</td></tr>",
                            "<tr><td>Seafood</td><td>Carnarvon Tigers</td></tr>",
                            "<tr><td>Seafood</td><td>Nord-Ost Matjeshering</td></tr>",
                            "<tr><td>Seafood</td><td>Inlagd Sill</td></tr>",
                            "<tr><td>Seafood</td><td>Gravad lax</td></tr>",
                            "<tr><td>Seafood</td><td>Boston Crab Meat</td></tr>",
                            "<tr><td>Seafood</td><td>Jack&#39;s New England Clam Chowder</td></tr>",
                            "<tr><td>Seafood</td><td>Rogede sild</td></tr>",
                            "<tr><td>Seafood</td><td>Spegesild</td></tr>",
                            "<tr><td>Seafood</td><td>Escargots de Bourgogne</td></tr>",
                            "<tr><td>Seafood</td><td>Röd Kaviar</td></tr>",
                            "</table>"
                        ]
                    }
                }
            ],
            "execution_count": 7
        },
        {
            "cell_type": "markdown",
            "source": [
                "### ✍️ Ejercicio 5\n",
                "\n",
                "Muestra el nombre de los empleados y el nombre de su jefe inmediato.\n",
                "\n",
                "* * *"
            ],
            "metadata": {
                "azdata_cell_guid": "ab79caa2-92ca-4891-957a-1c3b59bbcadf"
            }
        },
        {
            "cell_type": "code",
            "source": [
                "SELECT e1.FirstName AS Employee, e2.FirstName AS Supervisor\n",
                "FROM Employees AS e1\n",
                "INNER JOIN Employees AS e2 ON e1.ReportsTO = e2.EmployeeID;"
            ],
            "metadata": {
                "SqlCellData": {
                    "data_source_name": "Northwind@localhost",
                    "variableName$1": "df_sql5"
                },
                "azdata_cell_guid": "abd5e419-16dc-4001-a753-27d577cf24dc",
                "language": "sql"
            },
            "outputs": [
                {
                    "output_type": "display_data",
                    "data": {
                        "text/html": "(8 rows affected)"
                    },
                    "metadata": {}
                },
                {
                    "output_type": "display_data",
                    "data": {
                        "text/html": "Total execution time: 00:00:00.034"
                    },
                    "metadata": {}
                },
                {
                    "output_type": "execute_result",
                    "metadata": {},
                    "execution_count": 8,
                    "data": {
                        "application/vnd.dataresource+json": {
                            "schema": {
                                "fields": [
                                    {
                                        "name": "Employee"
                                    },
                                    {
                                        "name": "Supervisor"
                                    }
                                ]
                            },
                            "data": [
                                {
                                    "Employee": "Nancy",
                                    "Supervisor": "Andrew"
                                },
                                {
                                    "Employee": "Janet",
                                    "Supervisor": "Andrew"
                                },
                                {
                                    "Employee": "Margaret",
                                    "Supervisor": "Andrew"
                                },
                                {
                                    "Employee": "Steven",
                                    "Supervisor": "Andrew"
                                },
                                {
                                    "Employee": "Michael",
                                    "Supervisor": "Steven"
                                },
                                {
                                    "Employee": "Robert",
                                    "Supervisor": "Steven"
                                },
                                {
                                    "Employee": "Laura",
                                    "Supervisor": "Andrew"
                                },
                                {
                                    "Employee": "Anne",
                                    "Supervisor": "Steven"
                                }
                            ]
                        },
                        "text/html": [
                            "<table>",
                            "<tr><th>Employee</th><th>Supervisor</th></tr>",
                            "<tr><td>Nancy</td><td>Andrew</td></tr>",
                            "<tr><td>Janet</td><td>Andrew</td></tr>",
                            "<tr><td>Margaret</td><td>Andrew</td></tr>",
                            "<tr><td>Steven</td><td>Andrew</td></tr>",
                            "<tr><td>Michael</td><td>Steven</td></tr>",
                            "<tr><td>Robert</td><td>Steven</td></tr>",
                            "<tr><td>Laura</td><td>Andrew</td></tr>",
                            "<tr><td>Anne</td><td>Steven</td></tr>",
                            "</table>"
                        ]
                    }
                }
            ],
            "execution_count": 8
        },
        {
            "cell_type": "markdown",
            "source": [
                "### ✍️ Ejercicio 6\n",
                "\n",
                "Realiza un `CROSS JOIN` entre las tablas `Shippers` y `Employees` para obtener todas las combinaciones posibles de empleados con transportistas.\n",
                "\n",
                "* * *"
            ],
            "metadata": {
                "azdata_cell_guid": "b3ea2d56-53c6-459f-b6c7-be905a88ed73"
            }
        },
        {
            "cell_type": "code",
            "source": [
                "%%sql\n",
                ""
            ],
            "metadata": {
                "SqlCellData": {
                    "variableName$1": "df_sql6"
                },
                "azdata_cell_guid": "a0d9a988-c777-4279-b5b3-04cc98bd28fd",
                "language": "sql"
            },
            "outputs": [],
            "execution_count": null
        },
        {
            "cell_type": "markdown",
            "source": [
                "### ✍️ Ejercicio 7\n",
                "\n",
                "Crea una consulta que muestre todos los clientes y todos los pedidos, **aunque no coincidan** entre sí.\n",
                "\n",
                "* * *"
            ],
            "metadata": {
                "azdata_cell_guid": "30a0e78c-766c-438e-bf14-3a56d01d7351"
            }
        },
        {
            "cell_type": "code",
            "source": [
                "%%sql\n",
                ""
            ],
            "metadata": {
                "SqlCellData": {
                    "variableName$1": "df_sql7"
                },
                "azdata_cell_guid": "9691f39d-f2c2-428f-b4ef-0b09bcbdcebd",
                "language": "sql"
            },
            "outputs": [],
            "execution_count": null
        }
    ]
}